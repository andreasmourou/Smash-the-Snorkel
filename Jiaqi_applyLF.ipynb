{
 "cells": [
  {
   "cell_type": "code",
   "execution_count": null,
   "metadata": {},
   "outputs": [],
   "source": [
    "#Try to apply Labeling function\n",
    "import pyspark.sql.functions as F\n",
    "from snorkel.labeling import LabelModel\n",
    "from snorkel.labeling.apply.spark import SparkLFApplier\n",
    "import pandas as pd\n",
    "import numpy as np\n",
    "from snorkel.labeling import ,LFAnalysis\n",
    "from pyspark.sql import Row\n",
    "from snorkel.labeling.lf import labeling_function\n",
    "#from snorkel.labeling.lf.nlp_spark import spark_nlp_labeling_function\n",
    "from snorkel.preprocess import preprocessor\n",
    "\n",
    "ABSTAIN = -1\n",
    "NEGATIVE = 0\n",
    "POSITIVE = 1\n",
    "\n",
    "@labeling_function()\n",
    "def low_star(x):\n",
    "    return POSITIVE if x.stars<4 else ABSTAIN\n",
    "'''\n",
    "put your labeling function here\n",
    "'''\n",
    "\n",
    "# Build label matrix\n",
    "lfs = [low_star]\n",
    "applier = SparkLFApplier(lfs)\n",
    "L_dev = applier.apply(df_dev.rdd)\n",
    "g_label =np.array(df_dev.select('label').collect())\n",
    "LFAnalysis(L_dev, lfs).lf_summary(g_label) \n",
    "\n",
    "'''\n",
    "The following part is for Combining Labeling Function Outputs with the Label Model\n",
    "You dont need to use the following part the evaluate the performance of your development set\n",
    "Only use the following part when the number of lfs is greater or equal to three\n",
    "'''\n",
    "# # Train label model \n",
    "# label_model = LabelModel(cardinality=2)\n",
    "# label_model.fit(L)\n",
    "\n",
    "# # Generate training labels\n",
    "# y_prob = label_model.predict_proba(L_dev)[:, 1] \n",
    "# y_prob_sql_array = F.array([F.lit(y) for y in y_prob])\n",
    "# #data_labeled = df_dev.withColumn(\"y_prob\", y_prob_sql_array)\n"
   ]
  }
 ],
 "metadata": {
  "kernelspec": {
   "display_name": "Python [conda env:Python3]",
   "language": "python",
   "name": "conda-env-Python3-py"
  },
  "language_info": {
   "codemirror_mode": {
    "name": "ipython",
    "version": 3
   },
   "file_extension": ".py",
   "mimetype": "text/x-python",
   "name": "python",
   "nbconvert_exporter": "python",
   "pygments_lexer": "ipython3",
   "version": "3.6.10"
  }
 },
 "nbformat": 4,
 "nbformat_minor": 2
}
