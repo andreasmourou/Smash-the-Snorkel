{
 "cells": [
  {
   "cell_type": "markdown",
   "metadata": {},
   "source": [
    "![title](yelp2.jpg)\n",
    "# Smash the Snorkel Team Project: \n",
    "# A Weak Supervised Learning Study for Yelp Restaruant Review Classification \n"
   ]
  },
  {
   "cell_type": "markdown",
   "metadata": {},
   "source": [
    "## 1. Introduction"
   ]
  },
  {
   "cell_type": "markdown",
   "metadata": {},
   "source": [
    "For restuarants receiving numerous reviews, it is hard for the business owners to investigate every review to figure out whether the reviews contain useful suggestions/complaints so that they can know where to improve. Therefore, in this project we seek to automize the classification of reviews to understand whether a review is mentioning complaints or suggestions.  \n",
    "\n",
    "One challenge that lies ahead is that we don't have datapoints with the label indicating this information to train our classifier. Consequently, to cope with this problem we utilise Snorkel DryBell to automatically label the large number of datapoints and form our training dataset for the classifier. \n",
    "\n",
    "In the following parts, we will demonstrate the complete pipeline from loading large size of data from different data sources to automatically labeling the unlabeled data and ultimately train a machine learning model to classify reviews into complaints/suggestions and anything else. "
   ]
  },
  {
   "cell_type": "markdown",
   "metadata": {},
   "source": [
    "## 2. Loading Data"
   ]
  },
  {
   "cell_type": "code",
   "execution_count": 1,
   "metadata": {},
   "outputs": [
    {
     "data": {
      "text/html": [
       "<style>pre { white-space: pre !important; }</style>"
      ],
      "text/plain": [
       "<IPython.core.display.HTML object>"
      ]
     },
     "metadata": {},
     "output_type": "display_data"
    },
    {
     "ename": "ModuleNotFoundError",
     "evalue": "No module named 'sparknlp'",
     "output_type": "error",
     "traceback": [
      "\u001b[0;31m---------------------------------------------------------------------------\u001b[0m",
      "\u001b[0;31mModuleNotFoundError\u001b[0m                       Traceback (most recent call last)",
      "\u001b[0;32m<ipython-input-1-c41bcb4925da>\u001b[0m in \u001b[0;36m<module>\u001b[0;34m\u001b[0m\n\u001b[1;32m      6\u001b[0m \u001b[0;34m\u001b[0m\u001b[0m\n\u001b[1;32m      7\u001b[0m \u001b[0;31m#from sparknlp import DocumentAssembler\u001b[0m\u001b[0;34m\u001b[0m\u001b[0;34m\u001b[0m\u001b[0;34m\u001b[0m\u001b[0m\n\u001b[0;32m----> 8\u001b[0;31m \u001b[0;32mimport\u001b[0m \u001b[0msparknlp\u001b[0m\u001b[0;34m\u001b[0m\u001b[0;34m\u001b[0m\u001b[0m\n\u001b[0m\u001b[1;32m      9\u001b[0m \u001b[0;32mfrom\u001b[0m \u001b[0msparknlp\u001b[0m\u001b[0;34m.\u001b[0m\u001b[0mbase\u001b[0m \u001b[0;32mimport\u001b[0m \u001b[0;34m*\u001b[0m\u001b[0;34m\u001b[0m\u001b[0;34m\u001b[0m\u001b[0m\n\u001b[1;32m     10\u001b[0m \u001b[0;32mfrom\u001b[0m \u001b[0msparknlp\u001b[0m\u001b[0;34m.\u001b[0m\u001b[0mannotator\u001b[0m \u001b[0;32mimport\u001b[0m \u001b[0;34m*\u001b[0m\u001b[0;34m\u001b[0m\u001b[0;34m\u001b[0m\u001b[0m\n",
      "\u001b[0;31mModuleNotFoundError\u001b[0m: No module named 'sparknlp'"
     ]
    }
   ],
   "source": [
    "from IPython.core.display import HTML\n",
    "display(HTML(\"<style>pre { white-space: pre !important; }</style>\"))\n",
    "from IPython.core.interactiveshell import InteractiveShell\n",
    "InteractiveShell.ast_node_interactivity = \"all\"\n",
    "\n",
    "\n",
    "#from sparknlp import DocumentAssembler\n",
    "import sparknlp\n",
    "from sparknlp.base import *\n",
    "from sparknlp.annotator import *\n",
    "from sparknlp.embeddings import *\n",
    "from sparknlp.base import DocumentAssembler, Finisher\n",
    "from sparknlp.pretrained import PretrainedPipeline\n",
    "from sparknlp.common import RegexRule\n",
    "\n",
    "# Start Spark Session with Spark NLP\n",
    "spark = sparknlp.start()\n",
    "print(\"Spark NLP version: \", sparknlp.version())\n",
    "print(\"Apache Spark version: \", spark.version)"
   ]
  },
  {
   "cell_type": "code",
   "execution_count": 2,
   "metadata": {},
   "outputs": [],
   "source": [
    "#Imports\n",
    "import sys\n",
    "\n",
    "import pyspark\n",
    "from pyspark.sql import SparkSession\n",
    "from pyspark.ml import Pipeline\n",
    "from pyspark.sql.functions import array_contains\n",
    "from pyspark.ml import Pipeline, PipelineModel\n",
    "\n",
    "from pyspark.sql import functions as F\n",
    "from pyspark.sql import SQLContext\n",
    "sc = pyspark.SparkContext.getOrCreate()\n",
    "sqlContext = SQLContext(sc)"
   ]
  },
  {
   "cell_type": "markdown",
   "metadata": {},
   "source": [
    "### 2.1 Data Source 1: Mongo DB"
   ]
  },
  {
   "cell_type": "markdown",
   "metadata": {},
   "source": [
    "[To be continue:]"
   ]
  },
  {
   "cell_type": "markdown",
   "metadata": {},
   "source": [
    "### 2.2 Data Source 2: Local JOSN Files"
   ]
  },
  {
   "cell_type": "markdown",
   "metadata": {},
   "source": [
    "[To be continue:]"
   ]
  },
  {
   "cell_type": "markdown",
   "metadata": {},
   "source": [
    "### 2.3 Data Filtering"
   ]
  },
  {
   "cell_type": "markdown",
   "metadata": {},
   "source": [
    "[To be continue:]"
   ]
  },
  {
   "cell_type": "code",
   "execution_count": 3,
   "metadata": {},
   "outputs": [
    {
     "name": "stdout",
     "output_type": "stream",
     "text": [
      "SELECT c.* FROM checkin_table c LEFT JOIN biz_res_table b ON c.business_id = b.business_id WHERE b.business_id IS NOT NULL\n",
      "SELECT c.* FROM review_table c LEFT JOIN biz_res_table b ON c.business_id = b.business_id WHERE b.business_id IS NOT NULL\n",
      "SELECT c.* FROM tip_table c LEFT JOIN review_res_table b ON c.user_id = b.user_id WHERE b.user_id IS NOT NULL\n",
      "SELECT c.* FROM user_table c LEFT JOIN review_res_table b ON c.user_id = b.user_id WHERE b.user_id IS NOT NULL\n"
     ]
    }
   ],
   "source": [
    "#First:  restaurant\n",
    "biz_df = sqlContext.read.json(\"original_data/business.json\") # Mongo Needed\n",
    "biz_df.createOrReplaceTempView('biz_table')\n",
    "#only keep restaurants\n",
    "biz_res = sqlContext.sql('SELECT * FROM biz_table WHERE categories LIKE \\'%Restaurants%\\'') # Mongo Needed\n",
    "biz_res.createOrReplaceTempView('biz_res_table')\n",
    "\n",
    "def filter_res(parent,filename,key): #filter the irrelevant records from other table\n",
    "    df = sqlContext.read.json(\"original_data/\"+filename)\n",
    "    table_name=filename[:-5]+'_table'\n",
    "    df.createOrReplaceTempView(filename[:-5]+'_table')\n",
    "    sqlquery = 'SELECT c.* FROM {} c LEFT JOIN {} b ON c.{} = b.{} WHERE b.{} IS NOT NULL'.format(table_name,parent,key,key,key)\n",
    "    print(sqlquery)\n",
    "    df_res=sqlContext.sql(sqlquery)\n",
    "    return df_res\n",
    "\n",
    "checkin_res = filter_res('biz_res_table','checkin.json','business_id')\n",
    "review_res = filter_res('biz_res_table','review.json','business_id')\n",
    "review_res.createOrReplaceTempView('review_res_table')\n",
    "tip_res = filter_res('review_res_table','tip.json','user_id') #since tip is on individual level, match them with users\n",
    "user_res = filter_res('review_res_table','user.json','user_id')"
   ]
  },
  {
   "cell_type": "markdown",
   "metadata": {},
   "source": [
    "As we focus our classification task on the reviews for the restaurant, here we first filter the 'business' table to \n",
    "keep only the restaurants and based on this table we filter out the records in other table that is irrelevent to restarurants.\n"
   ]
  },
  {
   "cell_type": "markdown",
   "metadata": {},
   "source": [
    "### 2.4 Data Spliting"
   ]
  },
  {
   "cell_type": "markdown",
   "metadata": {},
   "source": [
    "[To be continue:]"
   ]
  },
  {
   "cell_type": "code",
   "execution_count": 4,
   "metadata": {},
   "outputs": [],
   "source": [
    "#sample business into traning_set dev_set and test_set\n",
    "import pyspark.sql.functions as f\n",
    "review_res = review_res.withColumn('index_1', f.monotonically_increasing_id())\n",
    "review_res.createOrReplaceTempView('review_res_table')\n",
    "sqlquery = 'SELECT * FROM review_res_table ORDER BY RAND(42) LIMIT {}'.format(1000)\n",
    "review_sample = sqlContext.sql(sqlquery)\n",
    "review_sample.createOrReplaceTempView('review_sample_table')\n",
    "\n",
    "sqlquery = 'SELECT a.* FROM review_res_table a LEFT JOIN review_sample_table b ON a.index_1 = b.index_1 WHERE b.index_1 IS NULL '\n",
    "review_train_all = sqlContext.sql(sqlquery)\n",
    "\n",
    "#sample 500 into dev_set and 500 into test_set\n",
    "from pyspark.sql.functions import desc\n",
    "review_sample = review_sample.withColumn('index_2', f.monotonically_increasing_id())\n",
    "review_dev = review_sample.limit(500)\n",
    "review_test = review_sample.sort(desc(\"index_2\")).limit(500)"
   ]
  },
  {
   "cell_type": "code",
   "execution_count": 5,
   "metadata": {},
   "outputs": [],
   "source": [
    "# sampling from original training_set since it is too large for our single machine to apply the LFs\n",
    "review_train_all.createOrReplaceTempView('review_train_all_table')\n",
    "sqlquery = 'SELECT * FROM review_train_all_table ORDER BY RAND(42) LIMIT {}'.format(2500)\n",
    "review_train = sqlContext.sql(sqlquery)"
   ]
  },
  {
   "cell_type": "code",
   "execution_count": 6,
   "metadata": {},
   "outputs": [],
   "source": [
    "#review_dev.toPandas().to_csv('filtered_data/review_dev.csv',header = 'true') #tospark\n",
    "#review_test.toPandas().to_csv('filtered_data/review_test.csv',header = 'true') #tospark"
   ]
  },
  {
   "cell_type": "markdown",
   "metadata": {},
   "source": [
    "Preparing for the development of labeling fuctions and the training of classifier, we split the filtered review data\n",
    "into three parts, namely training set, testing set and development set. We first randomly sample 1000 reviews out of all\n",
    "resturant reviews, and split the first 500 into development set and the rest into testing set. As we don't have labels at all,\n",
    "we will manually label the reviews in development and testing sets with 1 standing for suggestions/complaints and 0 for the rest.\n",
    "\n",
    "In addition, considering the computing resources we have it is not feasible for us to apply the labeling functions to all of the remaining\n",
    "6 million reviews. As a result, we sample 2500 reviews out of the \"complete\" training set focusing on demonstrating how the whole process may work \n",
    "when more computing resources are available."
   ]
  },
  {
   "cell_type": "code",
   "execution_count": 7,
   "metadata": {},
   "outputs": [
    {
     "name": "stdout",
     "output_type": "stream",
     "text": [
      "+---+--------------------+----+----------------+-----+--------------------+-----+--------------------+------+--------------------+-------------+-------+-----+\n",
      "|  #|         business_id|cool|            date|funny|           review_id|stars|                text|useful|             user_id|      index_1|index_2|label|\n",
      "+---+--------------------+----+----------------+-----+--------------------+-----+--------------------+------+--------------------+-------------+-------+-----+\n",
      "|  0|XFhnPpO2x0nS-lVkq...|   1|14/02/2017 16:50|    0|o6VZ0cQEfIBvGW15u...|    2|I knew it was a k...|     0|dk5yqirSwDH7Cpp52...|1080000000000|      0|  1.0|\n",
      "|  1|SRCepG6PbMvwKcfIU...|   0|11/12/2015 02:47|    0|PBy3gB_D1xEiBJDrw...|    2|Average place, bu...|     0|xmtWxX67wF7afssQR...| 730000000000|      1|  1.0|\n",
      "|  2|pneBBrIzd3SCbbglY...|   2|15/05/2015 19:18|    0|AeyK7AEtbfubw1aD0...|    4|This is a great o...|     4|X4k8ugJaihHVLHq32...| 490000000000|      2|  0.0|\n",
      "|  3|8enR8Wc0ot9L41JY1...|   0|15/09/2017 13:17|    0|Vkx4AUppu9A7DL3AI...|    5|We took shelter a...|     0|Xpl0z24sZ-zJ6klgV...|1150000000000|      3|  0.0|\n",
      "|  4|HhVmDybpU7L50Kb5A...|   0|06/02/2016 02:12|    0|2GtcaGkq5nAxBvKZp...|    3|Had the burgers o...|     0|9T39fu4au232kl25R...| 996000000000|      4|  1.0|\n",
      "|  5|LUDX--wfStrKavGyi...|   1|17/07/2012 02:00|    0|yWy_rfgk40HuFs-HT...|    4|3 words...Twice B...|     2|yZS81ytT4TnAzaQ9Q...| 180000000000|      5|  0.0|\n",
      "|  6|AED5R0yXVzJvWAGEq...|   0|16/09/2016 18:48|    0|FH1vAWqpHTrrx1TCr...|    4|Be honest, my fir...|     1|8C8Ml7hj1zxyhcChk...| 524000000000|      6|  0.0|\n",
      "|  7|cxsN3mkioAXuOLKy0...|   1|15/09/2018 00:13|    1|LXuuEkxw1cE7R6QCQ...|    2|Read a meme today...|     2|DPitNu466172os6m0...|1030000000000|      7|  1.0|\n",
      "|  8|vfwTrfrZ3FWhVkyLj...|   0|14/12/2011 15:15|    0|wAIX_9diI4-oInUfp...|    5|Fish and chips fo...|     3|CeaQiG0KteHAnhKgb...|1560000000000|      8|  0.0|\n",
      "|  9|dsYjWjV0vr1RgSJ78...|   0|30/10/2011 13:40|    0|GYJBxUauqyMCgNVYL...|    4|We had dinner at ...|     0|TdYJqGeNjI-BmgXHQ...|  77309421985|      9|  0.0|\n",
      "| 10|Jm_R0IhwFlfCAV3Fk...|   0|10/11/2018 00:56|    0|B0jPms8H691N9jfEA...|    5|Came based on fam...|     0|IYpocDjXsAtL9B6XY...|1680000000000|     10|  0.0|\n",
      "| 11|WFB1fn8rWNukmmIfT...|   0|02/05/2018 18:31|    0|dqifjIBD_gkSaR6C8...|    5|We had a great ti...|     0|73Zav8SgUJN549GB8...| 137000000000|     11|  0.0|\n",
      "| 12|qQXc9D6PV1Y8RhIBZ...|   0|23/02/2018 18:16|    0|5HH9cZO5KiRwvD2IZ...|    5|I'm so glad I fou...|     0|XBvqoM6BaeAA-zdpB...| 215000000000|     12|  0.0|\n",
      "| 13|xiWmyJyTa7o1H6uUN...|   0|07/08/2017 15:28|    0|3baO5ezFrGdMxq2ZO...|    4|We went to the Ch...|     0|WEE4qvqumaw2EdkuE...| 515000000000|     13|  1.0|\n",
      "| 14|ZAuAwz1ijuydn5yL3...|   0|12/12/2016 06:09|    0|7KA11lzO6jAUWpSdK...|    4|One of my go to p...|     0|HN-2o_s91nULyyIBa...| 112000000000|     14|  1.0|\n",
      "| 15|TT2bNjvnVNFOanDNY...|   1|10/09/2016 23:29|    1|rkJfupaqdSfmeQvVB...|    1|Slowest Canes on ...|     1|mUE0kJRkH-rz6zuCn...|1560000000000|     15|  1.0|\n",
      "| 16|bPcqucuuClxYrIM8x...|   0|26/04/2015 16:52|    0|_vaK3rUQfcSXGxaAB...|    5|Fantastic experie...|     0|fGtyech-ku19J6SOT...| 481000000000|     16|  0.0|\n",
      "| 17|aqwn3jdQLCWnb59gH...|   0|05/04/2018 22:29|    0|aPKiIxVj-7xMoZ2J3...|    5|We loved the food...|     0|j9rwqrr6xFkCbv7fS...|1530000000000|     17|  0.0|\n",
      "| 18|RThuRlhMdowhtY8vI...|   0|10/07/2007 18:21|    0|VzbHYp2CtABZvp7Gp...|    4|One of the best p...|     1|f8cxIBV35TfPVhQDR...| 610000000000|     18|  0.0|\n",
      "| 19|xfWdUmrz2ha3rcigy...|   0|24/09/2017 15:26|    0|CVbcShYKD88NxvkMO...|    5|Definitely a grea...|     1|7R4cy2ITjqwrmYvgk...| 215000000000|     19|  0.0|\n",
      "+---+--------------------+----+----------------+-----+--------------------+-----+--------------------+------+--------------------+-------------+-------+-----+\n",
      "only showing top 20 rows\n",
      "\n"
     ]
    }
   ],
   "source": [
    "# I'm just import the .csv for now\n",
    "\n",
    "df_dev = spark.read.csv(\"/project/review_dev_labelled.csv\", escape='\"', multiLine=True,\n",
    "     inferSchema=True, header=True)\n",
    "\n",
    "df_dev = df_dev.withColumnRenamed(\"label\\r\", \"label\")\n",
    "df_dev.show()"
   ]
  },
  {
   "cell_type": "markdown",
   "metadata": {},
   "source": [
    "## 3. Labeling Functions"
   ]
  },
  {
   "cell_type": "markdown",
   "metadata": {},
   "source": [
    "### 3.1 Manual Labeling"
   ]
  },
  {
   "cell_type": "markdown",
   "metadata": {},
   "source": [
    "\n",
    "Our goal is to train a classifier over the Yelp data that could predict whether a comment/text is positive (containing suggestions or complaints) or negative. Hence, we have access to a large amount of unlabelled data in the form of Yelp comments with some metadata. After filtered the dataset, we split the filtered review data into training set, testing set and development set. Because originally the dataset doesn't contain any labels, our members manually labelled the reviews in development and testing sets (500 labels for each) with \"1\" for positive and \"0\" for negative. Therefore, the result of our label model can be tested in a reasonable way later.\n",
    "\n"
   ]
  },
  {
   "cell_type": "markdown",
   "metadata": {},
   "source": [
    "### 3.2 Writing Labeling Functions "
   ]
  },
  {
   "cell_type": "markdown",
   "metadata": {},
   "source": [
    "\n",
    "In this case, we used labelling functions (LFs) in Snorkel to apply the weak supervision approach by using programmatic rules and heuristics that assign labels to unlabelled training data. Individuals all have different methods to express their understanding and opinions, therefore, there is very unlikely exist completely same comments. Otherwise, if a single LF had high enough coverage to label our entire test dataset accurately, we don't need a classifier at all. In reality, most problems are not that simple. Instead, we usually need to combine multiple LFs to label our dataset, to improve the overall accuracy of the training labels we generate by factoring in multiple different signals, like keywords extraction, heuristics and numerical method."
   ]
  },
  {
   "cell_type": "markdown",
   "metadata": {},
   "source": [
    "### 3.2.1 SparkNLP (Simon's Preprocessing)"
   ]
  },
  {
   "cell_type": "code",
   "execution_count": 19,
   "metadata": {},
   "outputs": [],
   "source": [
    "from snorkel.labeling import LabelingFunction"
   ]
  },
  {
   "cell_type": "code",
   "execution_count": 20,
   "metadata": {},
   "outputs": [],
   "source": [
    "#Try to apply Labeling function\n",
    "import pyspark.sql.functions as F\n",
    "from snorkel.labeling import LabelModel\n",
    "from snorkel.labeling.apply.spark import SparkLFApplier\n",
    "import pandas as pd\n",
    "import numpy as np\n",
    "#from snorkel.labeling import ,LFAnalysis\n",
    "from snorkel.labeling import LFAnalysis\n",
    "from pyspark.sql import Row\n",
    "from snorkel.labeling.lf import labeling_function\n",
    "#from snorkel.labeling.lf.nlp_spark import spark_nlp_labeling_function\n",
    "from snorkel.preprocess import preprocessor\n",
    "\n",
    "ABSTAIN = -1\n",
    "NEGATIVE = 0\n",
    "POSITIVE = 1"
   ]
  },
  {
   "cell_type": "markdown",
   "metadata": {},
   "source": [
    "** SIMON sparkNLP brief intro **"
   ]
  },
  {
   "cell_type": "markdown",
   "metadata": {},
   "source": [
    "We used the development split to come up with labelling functions which are rules and heuristics that assign labels to unlabelled training data.\n",
    "<br>\n",
    "<br>\n",
    "Before we develop our LFs we followed a standard NLP pre-processing pipeline and then an analysis on the text of reviews.<br>\n",
    "<br>\n",
    "The first step is to transform the raw data into a Document type that will be used by annotators further in the pipeline. For this task we used the DocumentAssembler(). The next step is to tokenize and normalize the text.<br>\n",
    "<br>\n",
    "Tokenization: is the process of splitting a text or a string into a list of tokens. We used tokenization to split the review into individual words and remove any noise such as punctuation.<br>\n",
    "<br>\n",
    "Remove stopwords: We removed all the stopwords from the reviews as they cause unnecessary noise without providing any useful information. Stopwords are commonly used words such as: the, an, a etc.<br>\n",
    "<br>\n",
    "Lemmatization: Is the process of transforming inflected words to their common root. Inflected words are words that are modified to express grammatical categories such as voice and tense. For example play--> played. In NLP lemmatization is useful to group words with the same meaning so they can be analysed as a single item. This reduces the amount of text to be processed.\n",
    "<br> \n",
    "<br> ++++SENTIMENT FROM SPARKNLP <br>\n",
    "<br>\n"
   ]
  },
  {
   "cell_type": "code",
   "execution_count": 8,
   "metadata": {},
   "outputs": [
    {
     "name": "stdout",
     "output_type": "stream",
     "text": [
      "lemma_antbnc download started this may take some time.\n",
      "Approximate size to download 907.6 KB\n",
      "[OK!]\n",
      "+---+--------------------+----+----------------+-----+--------------------+-----+--------------------+------+--------------------+-------------+-------+-----+--------------------+\n",
      "|  #|         business_id|cool|            date|funny|           review_id|stars|                text|useful|             user_id|      index_1|index_2|label|         cleanTokens|\n",
      "+---+--------------------+----+----------------+-----+--------------------+-----+--------------------+------+--------------------+-------------+-------+-----+--------------------+\n",
      "|  0|XFhnPpO2x0nS-lVkq...|   1|14/02/2017 16:50|    0|o6VZ0cQEfIBvGW15u...|    2|I knew it was a k...|     0|dk5yqirSwDH7Cpp52...|1080000000000|      0|  1.0|[know, kitschy, p...|\n",
      "|  1|SRCepG6PbMvwKcfIU...|   0|11/12/2015 02:47|    0|PBy3gB_D1xEiBJDrw...|    2|Average place, bu...|     0|xmtWxX67wF7afssQR...| 730000000000|      1|  1.0|[average, place, ...|\n",
      "|  2|pneBBrIzd3SCbbglY...|   2|15/05/2015 19:18|    0|AeyK7AEtbfubw1aD0...|    4|This is a great o...|     4|X4k8ugJaihHVLHq32...| 490000000000|      2|  0.0|[great, outside, ...|\n",
      "|  3|8enR8Wc0ot9L41JY1...|   0|15/09/2017 13:17|    0|Vkx4AUppu9A7DL3AI...|    5|We took shelter a...|     0|Xpl0z24sZ-zJ6klgV...|1150000000000|      3|  0.0|[take, shelter, a...|\n",
      "|  4|HhVmDybpU7L50Kb5A...|   0|06/02/2016 02:12|    0|2GtcaGkq5nAxBvKZp...|    3|Had the burgers o...|     0|9T39fu4au232kl25R...| 996000000000|      4|  1.0|[burger, carnival...|\n",
      "+---+--------------------+----+----------------+-----+--------------------+-----+--------------------+------+--------------------+-------------+-------+-----+--------------------+\n",
      "only showing top 5 rows\n",
      "\n"
     ]
    }
   ],
   "source": [
    "### create clean tokens check with pipeline. \n",
    "#DO NOT worry about document_assembler , sentence_detector and finisher in the end \n",
    "#(are preprocessors of the preprocessors :P)\n",
    "#The pipeline has the following steps: tokenizer -->normalizer -->lemmatizer -->stop_words_cleaner\n",
    "\n",
    "document_assembler = DocumentAssembler() \\\n",
    "            .setInputCol(\"text\")\\\n",
    "            .setOutputCol(\"document\")\\\n",
    "            .setCleanupMode(\"shrink\")\n",
    "\n",
    "sentence_detector = SentenceDetector() \\\n",
    "    .setInputCols([\"document\"]) \\\n",
    "    .setOutputCol(\"sentence\")\n",
    "\n",
    "tokenizer = Tokenizer() \\\n",
    "    .setInputCols([\"sentence\"]) \\\n",
    "    .setOutputCol(\"token\") \\\n",
    "    #.setSplitChars(['-']) \\\n",
    "   # .setContextChars(['(', ')', '?', '!']) \\\n",
    "\n",
    "normalizer = Normalizer() \\\n",
    "            .setInputCols([\"token\"]) \\\n",
    "            .setLowercase(True)\\\n",
    "            .setOutputCol(\"normal\")\n",
    "\n",
    "lemmatizer = LemmatizerModel.pretrained('lemma_antbnc') \\\n",
    "    .setInputCols([\"normal\"]) \\\n",
    "    .setOutputCol(\"lemma\") \\\n",
    "    #.setDictionary(\"/tmp/lemmas_small.txt\", key_delimiter=\"->\", value_delimiter=\"\\t\")\n",
    "\n",
    "stop_words_cleaner = StopWordsCleaner() \\\n",
    "        .setInputCols([\"lemma\"]) \\\n",
    "        .setOutputCol(\"cleanTokens\") \\\n",
    "        .setCaseSensitive(False) \n",
    "\n",
    "finisher = Finisher() \\\n",
    "    .setInputCols([\"cleanTokens\"]) \\\n",
    "    .setIncludeMetadata(False)\\\n",
    "    .setOutputCols([\"cleanTokens\"])\n",
    "\n",
    "pipeline = Pipeline(stages=[\n",
    "    document_assembler,\n",
    "    sentence_detector,\n",
    "    tokenizer,\n",
    "    normalizer,\n",
    "    lemmatizer,\n",
    "    stop_words_cleaner,\n",
    "    finisher\n",
    "])\n",
    "\n",
    "normalized_data = pipeline.fit(df_dev).transform(df_dev)\n",
    "normalized_data.show(5)"
   ]
  },
  {
   "cell_type": "code",
   "execution_count": 9,
   "metadata": {},
   "outputs": [
    {
     "name": "stdout",
     "output_type": "stream",
     "text": [
      "+-------------------------------------------------------------------------------------------------------------------------------------------------------------------------------------------------------------------------------------------------------------------------------------------------------------------------------------------------------------------------------------------------------------------------------------------------------------------------------------------------------------------------------------------------------------------------------------------------------------------------------------------+\n",
      "|cleanTokens_n                                                                                                                                                                                                                                                                                                                                                                                                                                                                                                                                                                                                                              |\n",
      "+-------------------------------------------------------------------------------------------------------------------------------------------------------------------------------------------------------------------------------------------------------------------------------------------------------------------------------------------------------------------------------------------------------------------------------------------------------------------------------------------------------------------------------------------------------------------------------------------------------------------------------------------+\n",
      "|know,kitschy,place,find,online,picture,online,match,get,eat,locate,park,lot,front,mall,next,motelhotel,typical,look,outside,usual,jukebox,old,poster,assorted,memorabilia,wall,nobody,dress,like,see,one,ad,service,alright,slow,server,table,plus,table,behind,couple,overwhelm,look,like,lot,snowbirds,go,well,hotel,worker,stop,bite,head,food,reasonable,nice,honest,wish,choose,someplace,else,go,wouldnt,return                                                                                                                                                                                                                      |\n",
      "|average,place,wish,wouldve,read,review,order,torta,figure,way,id,never,order,one,ill,give,torta,another,chance                                                                                                                                                                                                                                                                                                                                                                                                                                                                                                                             |\n",
      "|great,outside,poolside,place,delightful,imaginative,drink,locate,wild,horse,pass,resort,spa,chandler,az,also,provide,variety,food,item,satisfy,hunger,fantastic,view,surround,mountain,large,pool,area,adult,child,pool,chair,flag,system,raise,service,matter,sit,never,leave,seat,food,drink,separate,eat,area,cover,bird,beg,food,afraid,human,long,flight,place,sit,back,enjoy,scenery,take,drink,three,staff,good,draw,back,like,place,miami,gratuity,add,check,shame,business,feel,worker,people,leave,little,tip,server,dont,wish,tip,always,fast,food,drive,thru,enjoy,drink,food,especially,staff,host,family,get,together,weekend|\n",
      "|take,shelter,andaz,hurricane,irma,good,decision,ever,thank,amazing,staff,able,relax,week,gorgeous,oasis,feel,pamper,breakfast,gorgeous,pool,camelback,mountain,view,casitas,roomy,mid,century,modern,decor,mini,bar,well,stock,need,ride,tesla,service,take,around,town,hope,back,soon,highly,recommend                                                                                                                                                                                                                                                                                                                                    |\n",
      "|burger,carnival,cruise,ship,couple,year,ago,burger,ship,awesome,eat,everyday,hear,place,vegas,roll,mayor,flavortown,burger,wife,ringer,burger,think,burger,cruise,ship,well,seem,recipe,something,different                                                                                                                                                                                                                                                                                                                                                                                                                                |\n",
      "+-------------------------------------------------------------------------------------------------------------------------------------------------------------------------------------------------------------------------------------------------------------------------------------------------------------------------------------------------------------------------------------------------------------------------------------------------------------------------------------------------------------------------------------------------------------------------------------------------------------------------------------------+\n",
      "only showing top 5 rows\n",
      "\n"
     ]
    }
   ],
   "source": [
    "#here we convert the cleantokens from a list to a string line (juct in case we need it later)\n",
    "from pyspark.sql.functions import concat_ws\n",
    "\n",
    "normalized_data = normalized_data.withColumn(\"cleanTokens_n\", concat_ws(\",\", \"cleanTokens\"))\n",
    "normalized_data.select('cleanTokens_n').show(5, truncate=False)"
   ]
  },
  {
   "cell_type": "code",
   "execution_count": 10,
   "metadata": {},
   "outputs": [
    {
     "name": "stdout",
     "output_type": "stream",
     "text": [
      "+---+--------------------+----+----------------+-----+--------------------+-----+--------------------+------+--------------------+-------------+-------+-----+--------------------+--------------------+--------------+\n",
      "|  #|         business_id|cool|            date|funny|           review_id|stars|                text|useful|             user_id|      index_1|index_2|label|         cleanTokens|       cleanTokens_n|n_clean_tokens|\n",
      "+---+--------------------+----+----------------+-----+--------------------+-----+--------------------+------+--------------------+-------------+-------+-----+--------------------+--------------------+--------------+\n",
      "|  0|XFhnPpO2x0nS-lVkq...|   1|14/02/2017 16:50|    0|o6VZ0cQEfIBvGW15u...|    2|I knew it was a k...|     0|dk5yqirSwDH7Cpp52...|1080000000000|      0|  1.0|[know, kitschy, p...|know,kitschy,plac...|            65|\n",
      "|  1|SRCepG6PbMvwKcfIU...|   0|11/12/2015 02:47|    0|PBy3gB_D1xEiBJDrw...|    2|Average place, bu...|     0|xmtWxX67wF7afssQR...| 730000000000|      1|  1.0|[average, place, ...|average,place,wis...|            19|\n",
      "|  2|pneBBrIzd3SCbbglY...|   2|15/05/2015 19:18|    0|AeyK7AEtbfubw1aD0...|    4|This is a great o...|     4|X4k8ugJaihHVLHq32...| 490000000000|      2|  0.0|[great, outside, ...|great,outside,poo...|           100|\n",
      "|  3|8enR8Wc0ot9L41JY1...|   0|15/09/2017 13:17|    0|Vkx4AUppu9A7DL3AI...|    5|We took shelter a...|     0|Xpl0z24sZ-zJ6klgV...|1150000000000|      3|  0.0|[take, shelter, a...|take,shelter,anda...|            46|\n",
      "|  4|HhVmDybpU7L50Kb5A...|   0|06/02/2016 02:12|    0|2GtcaGkq5nAxBvKZp...|    3|Had the burgers o...|     0|9T39fu4au232kl25R...| 996000000000|      4|  1.0|[burger, carnival...|burger,carnival,c...|            31|\n",
      "+---+--------------------+----+----------------+-----+--------------------+-----+--------------------+------+--------------------+-------------+-------+-----+--------------------+--------------------+--------------+\n",
      "only showing top 5 rows\n",
      "\n"
     ]
    }
   ],
   "source": [
    "#Get Number of Tokens (number of meaningful words)\n",
    "normalized_data = normalized_data.withColumn('n_clean_tokens', F.expr('size(cleanTokens)'))\n",
    "normalized_data.show(5)"
   ]
  },
  {
   "cell_type": "code",
   "execution_count": 11,
   "metadata": {},
   "outputs": [
    {
     "name": "stdout",
     "output_type": "stream",
     "text": [
      "lemma_antbnc download started this may take some time.\n",
      "Approximate size to download 907.6 KB\n",
      "[OK!]\n",
      "+---+--------------------+----+----------------+-----+--------------------+-----+--------------------+------+--------------------+-------------+-------+-----+--------------------+--------------------+--------------+-------------+\n",
      "|  #|         business_id|cool|            date|funny|           review_id|stars|                text|useful|             user_id|      index_1|index_2|label|         cleanTokens|       cleanTokens_n|n_clean_tokens|lex_sentiment|\n",
      "+---+--------------------+----+----------------+-----+--------------------+-----+--------------------+------+--------------------+-------------+-------+-----+--------------------+--------------------+--------------+-------------+\n",
      "|  0|XFhnPpO2x0nS-lVkq...|   1|14/02/2017 16:50|    0|o6VZ0cQEfIBvGW15u...|    2|I knew it was a k...|     0|dk5yqirSwDH7Cpp52...|1080000000000|      0|  1.0|[know, kitschy, p...|know,kitschy,plac...|            65|   [positive]|\n",
      "|  1|SRCepG6PbMvwKcfIU...|   0|11/12/2015 02:47|    0|PBy3gB_D1xEiBJDrw...|    2|Average place, bu...|     0|xmtWxX67wF7afssQR...| 730000000000|      1|  1.0|[average, place, ...|average,place,wis...|            19|   [positive]|\n",
      "|  2|pneBBrIzd3SCbbglY...|   2|15/05/2015 19:18|    0|AeyK7AEtbfubw1aD0...|    4|This is a great o...|     4|X4k8ugJaihHVLHq32...| 490000000000|      2|  0.0|[great, outside, ...|great,outside,poo...|           100|   [positive]|\n",
      "|  3|8enR8Wc0ot9L41JY1...|   0|15/09/2017 13:17|    0|Vkx4AUppu9A7DL3AI...|    5|We took shelter a...|     0|Xpl0z24sZ-zJ6klgV...|1150000000000|      3|  0.0|[take, shelter, a...|take,shelter,anda...|            46|   [positive]|\n",
      "|  4|HhVmDybpU7L50Kb5A...|   0|06/02/2016 02:12|    0|2GtcaGkq5nAxBvKZp...|    3|Had the burgers o...|     0|9T39fu4au232kl25R...| 996000000000|      4|  1.0|[burger, carnival...|burger,carnival,c...|            31|   [positive]|\n",
      "|  5|LUDX--wfStrKavGyi...|   1|17/07/2012 02:00|    0|yWy_rfgk40HuFs-HT...|    4|3 words...Twice B...|     2|yZS81ytT4TnAzaQ9Q...| 180000000000|      5|  0.0|[word, twice, bak...|word,twice,bake,p...|            57|   [positive]|\n",
      "|  6|AED5R0yXVzJvWAGEq...|   0|16/09/2016 18:48|    0|FH1vAWqpHTrrx1TCr...|    4|Be honest, my fir...|     1|8C8Ml7hj1zxyhcChk...| 524000000000|      6|  0.0|[honest, first, e...|honest,first,expe...|            88|   [positive]|\n",
      "|  7|cxsN3mkioAXuOLKy0...|   1|15/09/2018 00:13|    1|LXuuEkxw1cE7R6QCQ...|    2|Read a meme today...|     2|DPitNu466172os6m0...|1030000000000|      7|  1.0|[read, meme, toda...|read,meme,today,r...|            83|   [negative]|\n",
      "|  8|vfwTrfrZ3FWhVkyLj...|   0|14/12/2011 15:15|    0|wAIX_9diI4-oInUfp...|    5|Fish and chips fo...|     3|CeaQiG0KteHAnhKgb...|1560000000000|      8|  0.0|[fish, chip, frid...|fish,chip,friday,...|            38|   [negative]|\n",
      "|  9|dsYjWjV0vr1RgSJ78...|   0|30/10/2011 13:40|    0|GYJBxUauqyMCgNVYL...|    4|We had dinner at ...|     0|TdYJqGeNjI-BmgXHQ...|  77309421985|      9|  0.0|[dinner, latilla,...|dinner,latilla,la...|           167|   [positive]|\n",
      "| 10|Jm_R0IhwFlfCAV3Fk...|   0|10/11/2018 00:56|    0|B0jPms8H691N9jfEA...|    5|Came based on fam...|     0|IYpocDjXsAtL9B6XY...|1680000000000|     10|  0.0|[come, base, fami...|come,base,family,...|            33|   [positive]|\n",
      "| 11|WFB1fn8rWNukmmIfT...|   0|02/05/2018 18:31|    0|dqifjIBD_gkSaR6C8...|    5|We had a great ti...|     0|73Zav8SgUJN549GB8...| 137000000000|     11|  0.0|[great, time, own...|great,time,owner,...|            25|   [positive]|\n",
      "| 12|qQXc9D6PV1Y8RhIBZ...|   0|23/02/2018 18:16|    0|5HH9cZO5KiRwvD2IZ...|    5|I'm so glad I fou...|     0|XBvqoM6BaeAA-zdpB...| 215000000000|     12|  0.0|[im, glad, find, ...|im,glad,find,plac...|            79|   [positive]|\n",
      "| 13|xiWmyJyTa7o1H6uUN...|   0|07/08/2017 15:28|    0|3baO5ezFrGdMxq2ZO...|    4|We went to the Ch...|     0|WEE4qvqumaw2EdkuE...| 515000000000|     13|  1.0|[go, chophouse, d...|go,chophouse,dinn...|            74|   [positive]|\n",
      "| 14|ZAuAwz1ijuydn5yL3...|   0|12/12/2016 06:09|    0|7KA11lzO6jAUWpSdK...|    4|One of my go to p...|     0|HN-2o_s91nULyyIBa...| 112000000000|     14|  1.0|[one, go, place, ...|one,go,place,vega...|            13|   [positive]|\n",
      "| 15|TT2bNjvnVNFOanDNY...|   1|10/09/2016 23:29|    1|rkJfupaqdSfmeQvVB...|    1|Slowest Canes on ...|     1|mUE0kJRkH-rz6zuCn...|1560000000000|     15|  1.0|[slow, cane, plan...|slow,cane,planet,...|            10|   [positive]|\n",
      "| 16|bPcqucuuClxYrIM8x...|   0|26/04/2015 16:52|    0|_vaK3rUQfcSXGxaAB...|    5|Fantastic experie...|     0|fGtyech-ku19J6SOT...| 481000000000|     16|  0.0|[fantastic, exper...|fantastic,experie...|            24|   [positive]|\n",
      "| 17|aqwn3jdQLCWnb59gH...|   0|05/04/2018 22:29|    0|aPKiIxVj-7xMoZ2J3...|    5|We loved the food...|     0|j9rwqrr6xFkCbv7fS...|1530000000000|     17|  0.0|[love, food, quan...|love,food,quantit...|             9|   [positive]|\n",
      "| 18|RThuRlhMdowhtY8vI...|   0|10/07/2007 18:21|    0|VzbHYp2CtABZvp7Gp...|    4|One of the best p...|     1|f8cxIBV35TfPVhQDR...| 610000000000|     18|  0.0|[one, good, pizza...|one,good,pizza,ev...|            21|   [positive]|\n",
      "| 19|xfWdUmrz2ha3rcigy...|   0|24/09/2017 15:26|    0|CVbcShYKD88NxvkMO...|    5|Definitely a grea...|     1|7R4cy2ITjqwrmYvgk...| 215000000000|     19|  0.0|[definitely, grea...|definitely,great,...|            70|   [positive]|\n",
      "+---+--------------------+----+----------------+-----+--------------------+-----+--------------------+------+--------------------+-------------+-------+-----+--------------------+--------------------+--------------+-------------+\n",
      "only showing top 20 rows\n",
      "\n"
     ]
    }
   ],
   "source": [
    "#Sentiment per review\n",
    "####### ATTENTION\n",
    "#### I CALCULATE TWO DIFFERENT SENTIMENT COLUMNS WITH ANOTHER APPROACH THAN SHUO (shuo's are still in the end)\n",
    "#### WE NEED TO DECIDE WHICH OF ALL THESE (Two mine and one from shuo) we want to keep\n",
    "\n",
    "#Sentiment Feature 1 - pipeline\n",
    "## A general label (positive or negative for all the review)\n",
    "document_assembler = DocumentAssembler() \\\n",
    "    .setInputCol(\"text\")\n",
    "\n",
    "sentence_detector = SentenceDetector() \\\n",
    "    .setInputCols([\"document\"]) \\\n",
    "    .setOutputCol(\"sentence\")\n",
    "\n",
    "tokenizer = Tokenizer() \\\n",
    "    .setInputCols([\"sentence\"]) \\\n",
    "    .setOutputCol(\"token\")\n",
    "\n",
    "lemmatizer = LemmatizerModel.pretrained('lemma_antbnc') \\\n",
    "    .setInputCols([\"token\"]) \\\n",
    "    .setOutputCol(\"lemma\") \\\n",
    "        \n",
    "sentiment_detector = SentimentDetector() \\\n",
    "    .setInputCols([\"lemma\", \"sentence\"]) \\\n",
    "    .setOutputCol(\"sentiment_score\") \\\n",
    "    .setDictionary(\"./sentiment_lexicon.txt\", \",\")  #Chen, Y., & Skiena, S. (2014). Building Sentiment Lexicons for All Major Languages. In ACL (2) (pp. 383-389).\n",
    "    \n",
    "finisher = Finisher() \\\n",
    "    .setInputCols([\"sentiment_score\"]) \\\n",
    "    .setOutputCols([\"lex_sentiment\"])\n",
    "\n",
    "\n",
    "pipeline = Pipeline(stages=[\n",
    "    document_assembler,\n",
    "    sentence_detector,\n",
    "    tokenizer, \n",
    "    lemmatizer, \n",
    "    sentiment_detector, \n",
    "    finisher\n",
    "    ])\n",
    "normalized_data = pipeline.fit(normalized_data).transform(normalized_data)\n",
    "normalized_data.show()"
   ]
  },
  {
   "cell_type": "code",
   "execution_count": 12,
   "metadata": {},
   "outputs": [
    {
     "name": "stdout",
     "output_type": "stream",
     "text": [
      "analyze_sentiment download started this may take some time.\n",
      "Approx size to download 4.9 MB\n",
      "[OK!]\n",
      "+---+--------------------+----+----------------+-----+--------------------+-----+--------------------+------+--------------------+-------------+-------+-----+--------------------+--------------------+--------------+-------------+--------------------+--------------------+--------------------+--------------------+--------------------+-------+-------+------------------+\n",
      "|  #|         business_id|cool|            date|funny|           review_id|stars|                text|useful|             user_id|      index_1|index_2|label|         cleanTokens|       cleanTokens_n|n_clean_tokens|lex_sentiment|            document|            sentence|               token|             checked|           sentiment|pos_cnt|neg_cnt|           pos_prc|\n",
      "+---+--------------------+----+----------------+-----+--------------------+-----+--------------------+------+--------------------+-------------+-------+-----+--------------------+--------------------+--------------+-------------+--------------------+--------------------+--------------------+--------------------+--------------------+-------+-------+------------------+\n",
      "|  0|XFhnPpO2x0nS-lVkq...|   1|14/02/2017 16:50|    0|o6VZ0cQEfIBvGW15u...|    2|I knew it was a k...|     0|dk5yqirSwDH7Cpp52...|1080000000000|      0|  1.0|[know, kitschy, p...|know,kitschy,plac...|            65|   [positive]|[[document, 0, 78...|[[document, 0, 12...|[[token, 0, 0, I,...|[[token, 0, 0, I,...|[[sentiment, 0, 1...|      6|      3|0.6666666666666666|\n",
      "|  1|SRCepG6PbMvwKcfIU...|   0|11/12/2015 02:47|    0|PBy3gB_D1xEiBJDrw...|    2|Average place, bu...|     0|xmtWxX67wF7afssQR...| 730000000000|      1|  1.0|[average, place, ...|average,place,wis...|            19|   [positive]|[[document, 0, 20...|[[document, 0, 78...|[[token, 0, 6, Av...|[[token, 0, 6, Av...|[[sentiment, 0, 7...|      0|      3|               0.0|\n",
      "|  2|pneBBrIzd3SCbbglY...|   2|15/05/2015 19:18|    0|AeyK7AEtbfubw1aD0...|    4|This is a great o...|     4|X4k8ugJaihHVLHq32...| 490000000000|      2|  0.0|[great, outside, ...|great,outside,poo...|           100|   [positive]|[[document, 0, 10...|[[document, 0, 76...|[[token, 0, 3, Th...|[[token, 0, 3, Th...|[[sentiment, 0, 7...|      8|      5|0.6153846153846154|\n",
      "|  3|8enR8Wc0ot9L41JY1...|   0|15/09/2017 13:17|    0|Vkx4AUppu9A7DL3AI...|    5|We took shelter a...|     0|Xpl0z24sZ-zJ6klgV...|1150000000000|      3|  0.0|[take, shelter, a...|take,shelter,anda...|            46|   [positive]|[[document, 0, 42...|[[document, 0, 48...|[[token, 0, 1, We...|[[token, 0, 1, We...|[[sentiment, 0, 4...|      5|      4|0.5555555555555556|\n",
      "|  4|HhVmDybpU7L50Kb5A...|   0|06/02/2016 02:12|    0|2GtcaGkq5nAxBvKZp...|    3|Had the burgers o...|     0|9T39fu4au232kl25R...| 996000000000|      4|  1.0|[burger, carnival...|burger,carnival,c...|            31|   [positive]|[[document, 0, 38...|[[document, 0, 60...|[[token, 0, 2, Ha...|[[token, 0, 2, Ha...|[[sentiment, 0, 6...|      6|      2|              0.75|\n",
      "+---+--------------------+----+----------------+-----+--------------------+-----+--------------------+------+--------------------+-------------+-------+-----+--------------------+--------------------+--------------+-------------+--------------------+--------------------+--------------------+--------------------+--------------------+-------+-------+------------------+\n",
      "only showing top 5 rows\n",
      "\n"
     ]
    }
   ],
   "source": [
    "#Sentiment Feature 2 - pipeline\n",
    "#Get Sentiment ratio from the sum of all sentences for each review \n",
    "#E.g. how many positive sentences we have out of all and vice versa\n",
    "\n",
    "pipeline = PretrainedPipeline(\"analyze_sentiment\", lang=\"en\") #is a pretrained pipeline; we do not need to define steps\n",
    "sentiment_data = pipeline.annotate(normalized_data, column='text')\n",
    "\n",
    "from pyspark.sql import functions as F\n",
    "sentiment_data = sentiment_data.withColumn('pos_cnt', F.expr('size(filter(sentiment.result, x -> x in (\"positive\")))'))\n",
    "sentiment_data = sentiment_data.withColumn('neg_cnt', F.expr('size(filter(sentiment.result, x -> x in (\"negative\")))'))\n",
    "sentiment_data = sentiment_data.withColumn(\"pos_prc\", sentiment_data[\"pos_cnt\"]/(sentiment_data[\"pos_cnt\"]+sentiment_data[\"neg_cnt\"])).fillna(0)\n",
    "\n",
    "sentiment_data.show(5)"
   ]
  },
  {
   "cell_type": "code",
   "execution_count": 21,
   "metadata": {},
   "outputs": [],
   "source": [
    "from snorkel.labeling import LabelingFunction\n",
    "#DO NOT CONFUSE POSITIVE SENTIMENT WITH POSITIVE LABEL (Contains complaint or suggestion)\n",
    "\n",
    "@labeling_function()\n",
    "def review_false(x):   \n",
    "    return POSITIVE if x.lex_sentiment[0]=='negative' else ABSTAIN\n",
    "\n",
    "#DO NOT CONFUSE POSITIVE SENTIMENT WITH POSITIVE LABEL (Contains complaint or suggestion)\n",
    "\n",
    "@labeling_function()\n",
    "def positive_percentage(x):\n",
    "    return POSITIVE if x.pos_prc < 0.3 else ABSTAIN"
   ]
  },
  {
   "cell_type": "markdown",
   "metadata": {},
   "source": [
    "### 3.2.3 Analysis of normalized review text"
   ]
  },
  {
   "cell_type": "markdown",
   "metadata": {},
   "source": [
    "After pre-processing, the text is ready to be analysed. We examined whether there are unique keywords that are useful to determine the label that have a sufficiently high coverage.\n",
    "\n",
    "Unique keywords:<br>\n",
    "Step 1: Extract the normalized text into a list\n",
    "<br>\n",
    "Step 2: Identify the unique words that appear in the reviews of rows that are labelled 1 but not in the reviews of rows that are labelled 0 and vice versa\n",
    "<br>\n",
    "Step 3: Find the difference between the two lists\n"
   ]
  },
  {
   "cell_type": "code",
   "execution_count": 56,
   "metadata": {},
   "outputs": [
    {
     "name": "stdout",
     "output_type": "stream",
     "text": [
      "+---+--------------------+----+----------------+-----+--------------------+-----+--------------------+------+--------------------+-------------+-------+-----+--------------------+--------------------+--------------+-------------+--------------------+--------------------+--------------------+--------------------+--------------------+-------+-------+-------------------+\n",
      "|  #|         business_id|cool|            date|funny|           review_id|stars|                text|useful|             user_id|      index_1|index_2|label|         cleanTokens|       cleanTokens_n|n_clean_tokens|lex_sentiment|            document|            sentence|               token|             checked|           sentiment|pos_cnt|neg_cnt|            pos_prc|\n",
      "+---+--------------------+----+----------------+-----+--------------------+-----+--------------------+------+--------------------+-------------+-------+-----+--------------------+--------------------+--------------+-------------+--------------------+--------------------+--------------------+--------------------+--------------------+-------+-------+-------------------+\n",
      "|  0|XFhnPpO2x0nS-lVkq...|   1|14/02/2017 16:50|    0|o6VZ0cQEfIBvGW15u...|    2|I knew it was a k...|     0|dk5yqirSwDH7Cpp52...|1080000000000|      0|  1.0|[know, kitschy, p...|know,kitschy,plac...|            65|   [positive]|[[document, 0, 78...|[[document, 0, 12...|[[token, 0, 0, I,...|[[token, 0, 0, I,...|[[sentiment, 0, 1...|      6|      3| 0.6666666666666666|\n",
      "|  1|SRCepG6PbMvwKcfIU...|   0|11/12/2015 02:47|    0|PBy3gB_D1xEiBJDrw...|    2|Average place, bu...|     0|xmtWxX67wF7afssQR...| 730000000000|      1|  1.0|[average, place, ...|average,place,wis...|            19|   [positive]|[[document, 0, 20...|[[document, 0, 78...|[[token, 0, 6, Av...|[[token, 0, 6, Av...|[[sentiment, 0, 7...|      0|      3|                0.0|\n",
      "|  2|pneBBrIzd3SCbbglY...|   2|15/05/2015 19:18|    0|AeyK7AEtbfubw1aD0...|    4|This is a great o...|     4|X4k8ugJaihHVLHq32...| 490000000000|      2|  0.0|[great, outside, ...|great,outside,poo...|           100|   [positive]|[[document, 0, 10...|[[document, 0, 76...|[[token, 0, 3, Th...|[[token, 0, 3, Th...|[[sentiment, 0, 7...|      8|      5| 0.6153846153846154|\n",
      "|  3|8enR8Wc0ot9L41JY1...|   0|15/09/2017 13:17|    0|Vkx4AUppu9A7DL3AI...|    5|We took shelter a...|     0|Xpl0z24sZ-zJ6klgV...|1150000000000|      3|  0.0|[take, shelter, a...|take,shelter,anda...|            46|   [positive]|[[document, 0, 42...|[[document, 0, 48...|[[token, 0, 1, We...|[[token, 0, 1, We...|[[sentiment, 0, 4...|      5|      4| 0.5555555555555556|\n",
      "|  4|HhVmDybpU7L50Kb5A...|   0|06/02/2016 02:12|    0|2GtcaGkq5nAxBvKZp...|    3|Had the burgers o...|     0|9T39fu4au232kl25R...| 996000000000|      4|  1.0|[burger, carnival...|burger,carnival,c...|            31|   [positive]|[[document, 0, 38...|[[document, 0, 60...|[[token, 0, 2, Ha...|[[token, 0, 2, Ha...|[[sentiment, 0, 6...|      6|      2|               0.75|\n",
      "|  5|LUDX--wfStrKavGyi...|   1|17/07/2012 02:00|    0|yWy_rfgk40HuFs-HT...|    4|3 words...Twice B...|     2|yZS81ytT4TnAzaQ9Q...| 180000000000|      5|  0.0|[word, twice, bak...|word,twice,bake,p...|            57|   [positive]|[[document, 0, 58...|[[document, 0, 7,...|[[token, 0, 0, 3,...|[[token, 0, 0, 3,...|[[sentiment, 0, 7...|      5|     12|0.29411764705882354|\n",
      "|  6|AED5R0yXVzJvWAGEq...|   0|16/09/2016 18:48|    0|FH1vAWqpHTrrx1TCr...|    4|Be honest, my fir...|     1|8C8Ml7hj1zxyhcChk...| 524000000000|      6|  0.0|[honest, first, e...|honest,first,expe...|            88|   [positive]|[[document, 0, 88...|[[document, 0, 54...|[[token, 0, 1, Be...|[[token, 0, 1, Be...|[[sentiment, 0, 5...|     10|      6|              0.625|\n",
      "|  7|cxsN3mkioAXuOLKy0...|   1|15/09/2018 00:13|    1|LXuuEkxw1cE7R6QCQ...|    2|Read a meme today...|     2|DPitNu466172os6m0...|1030000000000|      7|  1.0|[read, meme, toda...|read,meme,today,r...|            83|   [negative]|[[document, 0, 82...|[[document, 0, 13...|[[token, 0, 3, Re...|[[token, 0, 3, Re...|[[sentiment, 0, 1...|      6|      9|                0.4|\n",
      "|  8|vfwTrfrZ3FWhVkyLj...|   0|14/12/2011 15:15|    0|wAIX_9diI4-oInUfp...|    5|Fish and chips fo...|     3|CeaQiG0KteHAnhKgb...|1560000000000|      8|  0.0|[fish, chip, frid...|fish,chip,friday,...|            38|   [negative]|[[document, 0, 39...|[[document, 0, 46...|[[token, 0, 3, Fi...|[[token, 0, 3, Fi...|[[sentiment, 0, 4...|      2|      4| 0.3333333333333333|\n",
      "|  9|dsYjWjV0vr1RgSJ78...|   0|30/10/2011 13:40|    0|GYJBxUauqyMCgNVYL...|    4|We had dinner at ...|     0|TdYJqGeNjI-BmgXHQ...|  77309421985|      9|  0.0|[dinner, latilla,...|dinner,latilla,la...|           167|   [positive]|[[document, 0, 18...|[[document, 0, 55...|[[token, 0, 1, We...|[[token, 0, 1, We...|[[sentiment, 0, 5...|     16|      9|               0.64|\n",
      "| 10|Jm_R0IhwFlfCAV3Fk...|   0|10/11/2018 00:56|    0|B0jPms8H691N9jfEA...|    5|Came based on fam...|     0|IYpocDjXsAtL9B6XY...|1680000000000|     10|  0.0|[come, base, fami...|come,base,family,...|            33|   [positive]|[[document, 0, 31...|[[document, 0, 29...|[[token, 0, 3, Ca...|[[token, 0, 3, Ca...|[[sentiment, 0, 2...|      2|      3|                0.4|\n",
      "| 11|WFB1fn8rWNukmmIfT...|   0|02/05/2018 18:31|    0|dqifjIBD_gkSaR6C8...|    5|We had a great ti...|     0|73Zav8SgUJN549GB8...| 137000000000|     11|  0.0|[great, time, own...|great,time,owner,...|            25|   [positive]|[[document, 0, 24...|[[document, 0, 19...|[[token, 0, 1, We...|[[token, 0, 1, We...|[[sentiment, 0, 1...|      2|      2|                0.5|\n",
      "| 12|qQXc9D6PV1Y8RhIBZ...|   0|23/02/2018 18:16|    0|5HH9cZO5KiRwvD2IZ...|    5|I'm so glad I fou...|     0|XBvqoM6BaeAA-zdpB...| 215000000000|     12|  0.0|[im, glad, find, ...|im,glad,find,plac...|            79|   [positive]|[[document, 0, 80...|[[document, 0, 13...|[[token, 0, 2, I'...|[[token, 0, 2, I'...|[[sentiment, 0, 1...|      4|      3| 0.5714285714285714|\n",
      "| 13|xiWmyJyTa7o1H6uUN...|   0|07/08/2017 15:28|    0|3baO5ezFrGdMxq2ZO...|    4|We went to the Ch...|     0|WEE4qvqumaw2EdkuE...| 515000000000|     13|  1.0|[go, chophouse, d...|go,chophouse,dinn...|            74|   [positive]|[[document, 0, 86...|[[document, 0, 46...|[[token, 0, 1, We...|[[token, 0, 1, We...|[[sentiment, 0, 4...|      7|      6| 0.5384615384615384|\n",
      "| 14|ZAuAwz1ijuydn5yL3...|   0|12/12/2016 06:09|    0|7KA11lzO6jAUWpSdK...|    4|One of my go to p...|     0|HN-2o_s91nULyyIBa...| 112000000000|     14|  1.0|[one, go, place, ...|one,go,place,vega...|            13|   [positive]|[[document, 0, 13...|[[document, 0, 31...|[[token, 0, 2, On...|[[token, 0, 2, On...|[[sentiment, 0, 3...|      0|      2|                0.0|\n",
      "| 15|TT2bNjvnVNFOanDNY...|   1|10/09/2016 23:29|    1|rkJfupaqdSfmeQvVB...|    1|Slowest Canes on ...|     1|mUE0kJRkH-rz6zuCn...|1560000000000|     15|  1.0|[slow, cane, plan...|slow,cane,planet,...|            10|   [positive]|[[document, 0, 98...|[[document, 0, 30...|[[token, 0, 6, Sl...|[[token, 0, 6, sl...|[[sentiment, 0, 3...|      2|      4| 0.3333333333333333|\n",
      "| 16|bPcqucuuClxYrIM8x...|   0|26/04/2015 16:52|    0|_vaK3rUQfcSXGxaAB...|    5|Fantastic experie...|     0|fGtyech-ku19J6SOT...| 481000000000|     16|  0.0|[fantastic, exper...|fantastic,experie...|            24|   [positive]|[[document, 0, 26...|[[document, 0, 20...|[[token, 0, 8, Fa...|[[token, 0, 8, Fa...|[[sentiment, 0, 2...|      5|      1| 0.8333333333333334|\n",
      "| 17|aqwn3jdQLCWnb59gH...|   0|05/04/2018 22:29|    0|aPKiIxVj-7xMoZ2J3...|    5|We loved the food...|     0|j9rwqrr6xFkCbv7fS...|1530000000000|     17|  0.0|[love, food, quan...|love,food,quantit...|             9|   [positive]|[[document, 0, 86...|[[document, 0, 17...|[[token, 0, 1, We...|[[token, 0, 1, We...|[[sentiment, 0, 1...|      3|      0|                1.0|\n",
      "| 18|RThuRlhMdowhtY8vI...|   0|10/07/2007 18:21|    0|VzbHYp2CtABZvp7Gp...|    4|One of the best p...|     1|f8cxIBV35TfPVhQDR...| 610000000000|     18|  0.0|[one, good, pizza...|one,good,pizza,ev...|            21|   [positive]|[[document, 0, 19...|[[document, 0, 53...|[[token, 0, 2, On...|[[token, 0, 2, On...|[[sentiment, 0, 5...|      5|      4| 0.5555555555555556|\n",
      "| 19|xfWdUmrz2ha3rcigy...|   0|24/09/2017 15:26|    0|CVbcShYKD88NxvkMO...|    5|Definitely a grea...|     1|7R4cy2ITjqwrmYvgk...| 215000000000|     19|  0.0|[definitely, grea...|definitely,great,...|            70|   [positive]|[[document, 0, 72...|[[document, 0, 36...|[[token, 0, 9, De...|[[token, 0, 9, De...|[[sentiment, 0, 3...|      7|      7|                0.5|\n",
      "+---+--------------------+----+----------------+-----+--------------------+-----+--------------------+------+--------------------+-------------+-------+-----+--------------------+--------------------+--------------+-------------+--------------------+--------------------+--------------------+--------------------+--------------------+-------+-------+-------------------+\n",
      "only showing top 20 rows\n",
      "\n"
     ]
    }
   ],
   "source": [
    "df_dev = sentiment_data\n",
    "df_dev.show()"
   ]
  },
  {
   "cell_type": "code",
   "execution_count": 23,
   "metadata": {},
   "outputs": [],
   "source": [
    "df_dev_1 = df_dev.filter(df_dev.label==1)"
   ]
  },
  {
   "cell_type": "code",
   "execution_count": 24,
   "metadata": {},
   "outputs": [
    {
     "data": {
      "text/plain": [
       "pyspark.sql.dataframe.DataFrame"
      ]
     },
     "execution_count": 24,
     "metadata": {},
     "output_type": "execute_result"
    }
   ],
   "source": [
    "type(df_dev_1)"
   ]
  },
  {
   "cell_type": "code",
   "execution_count": 25,
   "metadata": {},
   "outputs": [
    {
     "data": {
      "text/plain": [
       "['know,kitschy,place,find,online,picture,online,match,get,eat,locate,park,lot,front,mall,next,motelhotel,typical,look,outside,usual,jukebox,old,poster,assorted,memorabilia,wall,nobody,dress,like,see,one,ad,service,alright,slow,server,table,plus,table,behind,couple,overwhelm,look,like,lot,snowbirds,go,well,hotel,worker,stop,bite,head,food,reasonable,nice,honest,wish,choose,someplace,else,go,wouldnt,return',\n",
       " 'average,place,wish,wouldve,read,review,order,torta,figure,way,id,never,order,one,ill,give,torta,another,chance',\n",
       " 'burger,carnival,cruise,ship,couple,year,ago,burger,ship,awesome,eat,everyday,hear,place,vegas,roll,mayor,flavortown,burger,wife,ringer,burger,think,burger,cruise,ship,well,seem,recipe,something,different',\n",
       " 'read,meme,today,read,take,one,fucking,kid,time,couldnt,fit,perfect,review,order,large,thin,pepperoni,pizza,come,buck,figure,must,large,really,good,pick,get,home,open,box,small,costco,pizza,think,must,fuckin,amazing,nope,pizza,hella,dry,barely,sauce,literally,dip,bbq,sauce,freak,dry,crust,weird,texture,literally,remind,little,garbage,tostinos,freeze,pizza,hate,maybe,fault,order,thin,crust,place,know,deep,dish,didnt,really,want,deep,dish,pizza,brisk,today,never,come,back,recommend,place,anyone',\n",
       " 'go,chophouse,dinner,last,night,good,experience,tuna,tartare,fresh,flavourful,wife,prawn,pasta,enjoy,steak,well,cook,delicious,bake,potato,downside,experience,service,didnt,receive,steak,knife,dinner,plate,werent,clear,away,next,dish,arrive,mean,sit,empty,plate,front,minute,find,speak,server,two,staff,member,hadnt,show,work,give,everybody,else,table,obviously,fault,staff,slightly,tarnish,food,experience,server,literally,breath,run,around,recommend,place,food,kitchen,seem,well,organize',\n",
       " 'one,go,place,vegas,disappointed,service,last,time,around,hence,star,server,inattentive',\n",
       " 'slow,cane,planet,worth,drive,different,location,youll,save,time',\n",
       " 'order,pizza,go,ask,large,say,top,u,want,b,pick,total,tell,didnt,help,thanx,bad,service,dont,care',\n",
       " 'course,wine,pare,early,wednesday,night,place,already,couple,table,go,food,bloggers,film,open,kitchen,see,chef,work,every,table,restaurant,want,chat,chef,ask,seat,open,kitchen,area,different,course,different,wine,pairings,start,amuse,bouche,follow,popcorn,soup,raw,fish,salad,kangaroo,quail,ice,cream,lollipop,husband,lamb,little,overdo,replace,immediately,fabulous,veal,cheek,extra,wine,pare,outstanding,course,veal,cheek,kangaroo,quail,raw,fish,salad,wine,parings,good,well,synchronize,food,wait,good,size,pour,ok,bread,say,lack,bread,beg,well,dont,really,bread,prepare,wait,ok,bread,worth,wait,like,bread,sort,frenchie,cakey,fry,animal,fat,lard,good,need,bread,soak,yummy,sauce,staff,friendly,spend,extra,minute,explain,dish,great,detail,wine,pair,staff,knowledgeable,wine,park,easy,find,right,restaurant,follow,sign,posh,improvisational,cusine,win,win,foody,thrill,unknown,restaurant,creative,license,dont,stick,set,menu,run,something,oh,well,go,back,absolutely',\n",
       " 'go,today,july,want,try,hot,sour,soup,small,bad,size,hot,temperature,spicy,way,lack,many,ingredient,restaurant,include,soup,tofu,onion,bit,green,broth,like,regular,soup,thick,broth,find,make,soup,delicious,maybe,purchase,cornstarch,tofu,make,bit,original,husband,order,chicken,combo,sweet,sour,chicken,choice,rice,noodle,different,vegetable,try,piece,chicken,way,cook,tender,sorry,visit,establishment',\n",
       " 'minute,next,flight,enough,time,eat,super,busy,super,slow,slow,kitchen,slow,service,plus,burger,ok',\n",
       " 'great,vibe,delicious,drink,complaint,table,dirty,service,slow,sure,employee,suppose,clean,empty,cup,dish,wasnt,happen,day,go,great,place,grab,drink,chill,though',\n",
       " 'three,half,star,buffet,style,food,five,star,lobster,peking,duck,serve,make,front,service,fact,come,birthday,free,okay,weekend,dinner,weekday,dinner,plus,tax,im,exactly,sure,much,lunch,recall,see,sign,around,eat,sound,pretty,expensive,cause,mean,go,sushi,price,actually,true,dont,think,get,freshly,make,deep,fry,lobster,great,sauce,however,much,lobster,want,price,usually,go,congee,queen,restaurant,pay,+,lobster,yee,mein,staff,super,friendly,even,bring,table,werent,outside,business,little,slow,say,order,bring,table,plate,promptly,change,drink,almost,immediately,whenever,order,surcharge,soft,drink,place,still,relatively,new,totally,understand,try,make,good,impression,customer,sushi,didnt,quite,appeal,cold,mussel,crab,leg,shrimp,clam,however,appreciate,mussel,stir,fry,black,bean,sauce,food,wasnt,super,hot,lobster,definitely,really,good,also,enjoy,make,peking,duck,trolley,serve,table,go,dim,sum,restaurant,pay,peking,duck,lobster,meal,find,peking,duck,doesnt,meat,isnt,cook,properly,peking,duck,actually,cook,properly,little,long,need,though,juicy,meat,didnt,add,anything,handmade,skin,peking,duck,wrap,little,different,chinese,buffet,feel,like,edible,chinese,person,many,chinese,buffet,like,mandarin,taste,terrible,say,buffet,standard,food,dont,expect,like,sitdown,restaurant,amazing,quality,thing,amazing,really,lobster,black,bean,clam,freshly,bring,tell,hard,make,food,super,hot,time,still,relatively,new,place,think,staff,really,try,listen,customer,make,good,experience,secondly,eat,lobster,free,meal,birthday,person,definitely,good,non,expensive,experience,automated,tip,charge',\n",
       " 'review,dqs,service,product,product,husband,order,hot,fudge,sundae,dip,cone,dq,drive,thru,hot,fudge,sundae,come,exactly,way,suppose,however,drive,thru,rep,hand,order,give,plain,vanilla,cone,advise,suppose,dip,minute,hand,dip,cone,dairy,queen,several,time,hand,vanilla,cone,thin,layer,chocolate,around,ice,cream,please,see,picture,order,item,past,never,chocolate,look,like,yes,im,complain,amount,chocolate,use,cone,specifically,quality,presentation,really,problem,service,go,dq,politely,ask,speak,someone,manager,approach,advise,bit,dissatisfied,end,result,state,chocolate,hot,look,like,ice,cream,apology,fact,im,bit,sad,way,make,feel,bother,ask,new,plain,vanilla,cone,instead,walk,away,make,look,shoulder,say,throw,one,away,come,back,hand,plain,cone,say,nothing,point,surprise,lack,customer,service,take,cone,walk,sincerity,apology,look,expect,treat,least,somewhat,nicely,irate,even,mad,situation,manager,tell,throw,original,order,away,addition,refund,difference,know,talk,small,change,manager,least,refund,difference,understand,busy,cant,understand,treat,like,bother,although,place,block,away,rather,go,way,ice,cream,ever,go',\n",
       " 'nongolfers,review,golfing,place,take,grain,salt,company,hold,corporate,event,take,drive,range,even,different,lane,drive,range,hightop,table,sofa,coffee,table,well,choice,sit,chat,dont,golf,much,thank,put,comfortable,furniture,patio,heater,drink,service,golfer,group,really,enjoy,group,also,buffet,food,service,dont,lot,room,set,near,drive,range,mostly,work,gripe,group,drink,ticket,didnt,include,wine,want,even,offer,trade,three,drink,ticket,one,glass,want,wouldnt,though,wouldve,work,financially,advantage',\n",
       " 'cute,little,place,indian,school,excellent,tom,yum,soup,great,lunch,special,noodle,dish,taste,great,lot,meat,veggies,need,noodle',\n",
       " 'food,great,service,atrocious,get,get,waiter,come,take,order,wait,minute,coffee,urn,top,put,syrup,cup,top,fall,every,time,pour,cup,luckily,food,fantastic,need,management,waitstaff,dont,good,job',\n",
       " 'pretty,interest,cafe,tuck,low,level,condo,order,kale,noodle,salmon,ive,ask,salmon,torch,avocado,fresh,mom,comment,lot,salmon,sashimi,second,item,order,pork,raman,find,raman,little,bland,add,chilli,powder,add,flavour,salmon,soup,rice,bad,large,portion,quite,fill,dad,diabetic,order,coffee,didnt,substitute,sugar,overall,bad,experience,interest,cafe,try',\n",
       " 'food,great,however,service,definitely,use,improvement,definitely,return',\n",
       " 'make,take,order,see,place,great,review,big,mistake,place,many,review,udersrandable,order,taco,barely,meat,tortilla,suck,tell,handmade,also,order,torta,de,milanesa,wich,suck,oil,meat,cook,probably,burn,poorly,serve,never,back',\n",
       " 'tendou,locate,green,grotto,st,louis,plaza,south,west,corner,highway,warden,right,beside,hilton,hotel,come,twice,although,werent,ton,seat,service,awesome,quite,fast,main,item,green,tea,black,sesame,soft,serve,specialty,quite,item,list,side,eg,creme,brulee,personally,big,fan,black,sesame,people,work,give,great,tip,order,let,know,black,sesame,sweet,green,tea,along,quite,bitter,decide,go,twist,option,cone,im,super,glad,go,option,try,green,tea,alone,indeed,quite,bitter,ice,cream,look,really,delicious,eat,taste,texture,ice,cream,indeed,soft,serve,tasty,wasnt,anything,super,special,something,think,mix,texture,creaminess,soft,serve,sure,compatible,matcha,black,sesame,though,taste,creaminess,black,sesame,matcha,also,really,wonder,matcha,make,way,bitter,yet,still,taste,good,also,find,problem,one,green,tea,softserves,downttown,toronto,second,time,come,try,kinako,azuki,shiratama,soft,serve,mix,include,sprinkle,brown,sugar,red,bean,mochi,like,touch,brown,sugar,feel,indifferent,red,bean,option,quite,disappointed,mochi,mochi,wasnt,super,soft,didnt,fill,add,ice,cream,taste,like,blob,white,flour,taste,slightly,sticky,texture,mochi,think,small,piece,mochi,much,well,addition,maybe,little,ice,sugar,wrap,around,small,piece,mochi,help',\n",
       " 'good,excellent,chop,salad,live,expectation,wife,wine,flight,good',\n",
       " 'dont,arrive,ready,pickup,quality,totally,worth,add,cost,invest,food,shop,order,year,ago,havent,push,return,general,atmosphere,throw,quite,lot,eatin,place,even,minute,wait,meal,make,question,return',\n",
       " 'go,tuesday,half,burger,bit,disappointed,deal,apparently,everything,la,cart,fry,extra,example,pay,price,regular,price,burger,meal,elsewhere,however,burger,taste,fantastic,give',\n",
       " 'brother,take,restaurant,year,ago,reason,remember,amazing,since,tell,want,go,back,finally,make,back,last,visit,im,sad,say,good,remember,definitely,fun,place,go,want,true,korean,bbq,experience,think,lunch,price,allyoucaneat,little,steep,per,person,good,variety,meat,choose,brother,disappointed,rib,part,lunch,menu,allyoucaneat,dinner,also,confused,whether,price,include,tea,think,list,anywhere,enjoy,spicy,chicken,ribeye,sirloin,meat,really,good,also,ribeye,fatty,service,well,ask,tea,end,meal,never,come,give,minute,decide,get,leave,price,really,enjoy,experience,lee',\n",
       " 'time,guy,stuff,together,slow,unmotivated,inaccurate,happen,service,go,hill,fast',\n",
       " 'food,great,service,staff,absolutely,abhorrent,specific,two,cashier,cashier,reply,order,sorry,repeat,whole,order,zoning,really,order,wasnt,long,wasnt,speak,fast,even,excruciatingly,slow,reiteration,order,ask,repeat,time,reason,zoned,get,might,pm,day,job,another,cashier,week,late,misquote,price,order,charge,dollar,bill,say,ask,throw,fit,say,charge,correctly,show,bill,grab,pile,change,throw,tray',\n",
       " 'come,cc,lounge,saturday,halloween,part,bachelorette,group,book,table,dinner,plan,stay,drink,dance,afterwards,book,inform,table,minimum,first,seem,like,lot,large,group,really,add,include,food,cost,well,like,didnt,bottle,service,either,order,individual,drink,want,arrive,greet,warmly,excellent,server,jensen,attentive,pleasant,deal,whole,even,owner,chris,also,come,introduce,make,sure,everything,want,food,good,really,big,portion,order,pizza,decent,size,piece,take,home,cocktail,good,reasonable,price,people,mention,whiskey,list,extensive,thing,youre,treat,hardly,choice,beer,though,thing,youll,disappointed,dinner,convert,dinner,table,low,table,club,portion,even,begin,halloween,cant,comment,dress,style,like,normally,definitely,old,crowd,im,fit,right,music,good,mostly,rbhip,hop,throw,fun,dance,floor,really,small,hang,table,dance,overall,great,time,definitely,come',\n",
       " 'good,food,nice,atmosphere,kid,friendly,nice,get,away,price,reasonable,coupon,use,get,feel,little,irritate,offer,discount,nice,get,reward,sometimes,say',\n",
       " 'food,excellent,delicious,yummy,thing,might,say,wait,restauranttake,outtaqueria,locate,fuel,depot,defense,however,regular,fuel,depot,place,gamble,duh,post,office,car,wash,oil,change,smog,summer,sometimes,shave,ice,everything,family,eat,delicious,love,carne,asada,fry,love,littledonkeys,cheese,sandwich,speak,use,go,much,often,however,order,large,family,take,one,man,show,quite,make,time,essence,day,right,well,big,blow,accept,cah,debit,credit,dont,know,even,gamble,town,pretty,much,dont,carry,cash,fyi,pickpocketsthieves,flush,cash,lot,time,want,really,good,food,go,great,place,get,p,salsa,say,hot,hot,mean,tabasco,drink,day,behind,however,rest,assure,tell,red,salsa,hot,almost,unpleasant,eat,food,take,care,dont,wait,okay',\n",
       " 'somehow,screw,one,form,getgo,hostess,take,name,come,around,seat,wait,party,strike,table,wasnt,ready,help,clear,leave,stand,front,family,confused,people,unable,navigate,around,bad,yet,check,menu,even,low,expectation,girlfriend,skip,go,main,menu,havent,chili,year,couldnt,figure,stupid,ass,menu,honestly,picture,entrees,description,one,area,list,another,page,little,side,menu,plant,table,give,ample,time,perhaps,make,educate,choice,waitress,rushingborderline,harass,soon,sit,ask,ready,order,get,drink,really,come,around,time,next,minute,ask,decide,yet,guy,pick,something,know,want,um,customer,nose,plant,menu,arent,look,theyre,ready,result,order,classic,cheese,steak,cant,screw,right,sigh,taste,anything,pepper,barely,didnt,notice,onion,really,sad,cheese,gross,fry,exactly,jack,box,regular,fry,wow,ruine,whole,day,wont,return,chili,year,dont,want,rant,anymore,chili,rank,applebees,go,downhill',\n",
       " 'order,jz,signature,pizza,taste,quite,good,gorgonzola,bell,pepper,add,depth,flavor,pleasantly,unexpected,however,thin,crust,give,plethora,pizza,place,area,probably,wouldnt,good,flavor,heavy,price,tag,sure,worth',\n",
       " 'menu,seem,overpriced,get,food,see,portion,size,make,sense,menu,lot,option,vegetarian,vegan,people,neither,option,look,amazing,order,a+,really,like,vegan,spring,roll,well,think,well,back,soon',\n",
       " 'nah,man,dont,like,place,dont,like,joint,like,food,like,neardeafness,threaten,go,restroom,late,like,horrendously,bad,service,food,suck,fucking,suck,onestar,level,food,hyperbole,well,maybe,little,goddamn,expert,barbecue,make,pilgrimage,austin,kc,memphis,nashville,barbacoa,though,actually,see,firsthand,originally,derive,tano,reserve,serve,lucilles,simply,good,food,taste,good,look,good,make,want,strive,become,vegan,force,eat,meat,exclusively,lucilles,lucillelike,quality,become,vegan,bullshit,basically,become,morrissey,service,one,waiter,know,come,large,prepackage,combo,menu,like,shit,clue,b,bring,everything,suppose,come,combo,menu,study,fucking,length,suck,ambiance,heavy,metal,concert,kind,hear,also,private,invite,event,wynn,fucking,resort,less,pretentious,yuppy,lucilles,district,gvr,henderson,nv,usa,dude,turn,fucking,volume,goddamn,amp,bar,arena,lollapalooza,fucking,restaurant,epilogue,overpriced,suck,holy,duo,iwontbecaughtdeadinthisshitholeagain,might,great,eat,ever,life,though,different,e,postscript,another,noise,level,choice,airplane,engine,right,next,fucking,ear,loud,loud,sure',\n",
       " 'food,great,customer,service,topnotch,say,even,misunderstanding,restaurant,front,counter,orleans,really,wasnt,restaurant,fault,allow,explain,give,food,comp,orleans,part,hotel,package,receive,put,cash,deposit,stay,use,credit,card,trip,well,try,use,food,credit,restaurant,restaurant,initially,try,charge,room,already,depart,restaurant,restaurant,realize,credit,card,file,charge,room,call,front,desk,employee,front,desk,really,know,job,well,tell,figure,employee,restaurant,actually,call,hotel,room,employee,point,make,mistake,mistake,base,fact,proper,procedure,place,guest,check,cash,deposit,receive,comp,eventually,wife,speak,wellversed,employee,front,counter,entire,situation,figure,restaurant,apologize,employee,call,room,late,hour,restaurant,offer,free,dinner,misunderstanding,server,actually,come,table,personally,apologize,profusely,manager,duty,polite,accommodate,thankful,orleans,need,figure,set,system,place,something,like,continue,happen,tell,happen,time',\n",
       " 'family,like,come,weekend,dim,sum,offer,good,price,dont,add,msg,food,come,time,find,experience,consistently,positive,overwhelmingly,pro,experience,include,good,price,fast,service,free,soup,dessert,purchase,full,meal,certain,threshold,msg,food,con,include,tacky,decor,clamour,service,waitress,table,five,second,toss,food,table,typical,dim,sum,place,lack,organization,try,order,lotus,root,glutinous,rice,tell,chef,make,feel,like,since,food,cook,msg,less,salt,less,oil,reduction,taste,reduction,highly,noticeable,besides,dim,sum,like,order,bass,special,threecourse,meal,three,delicious,soup,noodle,three,option,main,vegetable,dish,okay,experience,health,gourmet,family,purchase,vip,discount,card,intend,keep,come,back',\n",
       " 'almost,every,type,bagel,little,disappointing,kinda,sell,bagel,buy,dozen,bagel,feed,kid,go,share,friend,get,back,car,realize,cut,bagel,without,roast,go,back,toast,bagel,maybe,day,usually,go,th,ave,thunderbird,amazing,service,go,beyond,never,see,arrowhead,location,good,th,ave,still,great',\n",
       " 'go,grab,quick,dinner,tonight,order,chicken,schwarma,pitas,side,fry,go,wait,minute,order,complete,order,top,get,home,find,fry,completely,uncooked,soggy,waste,money',\n",
       " 'date,night,hubby,ughhh,start,ive,visit,ipic,many,time,always,love,experience,pay,extra,comfortable,premium,seat,service,overall,experience,pay,+,ticket,waiter,go,time,even,come,check,drink,normally,couple,cocktail,however,waitress,come,rude,ask,want,drink,order,prickly,rita,hubby,long,island,get,know,gross,decide,ask,glass,wine,point,never,see,waitress,even,movie,end,walk,theatre,look,sign,tab,happen,place,service,fowl,smell,blanket,unkept,bathroom,dont,know,come,back',\n",
       " 'service,unbelievably,slow,often,wait,minute,someone,even,take,order,music,way,loud,blast,customer,way,overrated,price',\n",
       " 'experience,joe,beef,nothing,short,terrible,comfort,evidence,one,girlfriend,book,table,saturday,night,part,nice,getaway,montreal,weekend,warn,popularity,place,book,several,day,advance,see,red,flag,first,place,someone,restaurant,call,minute,reserve,time,ask,still,go,reservation,didnt,say,theyd,call,confirm,originally,book,little,puzzle,think,much,moment,enter,restaurant,right,time,find,one,welcome,smile,ill,shourtly,either,instead,leave,wait,minuscule,bar,area,five,minute,push,busy,waiter,someone,approach,open,h,ok,state,reservation,say,waitress,go,away,another,two,minute,different,employee,lead,table,table,outside,one,alert,reservation,process,even,wooden,table,like,rest,restaurant,small,short,unevenlegged,metallic,garden,table,cover,towel,yes,towel,small,object,otherwise,fall,pierce,surface,word,apology,check,table,ok,reason,different,utter,take,minute,realize,place,impossible,read,frenchonly,menu,blackboard,seat,stand,walk,ten,step,contemplate,wine,menu,present,blackboard,point,think,back,confirmation,call,make,sense,fully,book,want,get,rid,englishspeaking,yankee,make,room,betterconnected,party,confirm,reservation,rather,decline,late,booker,give,table,place,addon,preposterous,arrangement,whose,immediate,relative,child,table,family,wedding,quick,look,yelp,review,iphone,confirm,exactly,way,joe,beef,business,stay,classy,joe,beef,leave,place,go,order,entree,main,course,wine,wine,menu,sight,ask,wed,like,overly,hurry,waiter,food,come,rice,beef,indian,way,zucchini,flower,veau,liver,salmon,la,provencale,good,absolute,sense,remotely,excellent,consistent,price,joe,beef,ask,two,pay,dessert,wine,climax,another,waitress,approach,gf,linedont,feel,like,italy,small,romatic,table,girlfriend,actually,citizen,italy,treatment,restaurant,unheard,help,respond,drynot,really,surely,enough,word,come,designate,waiter,like,towelcovered,table,come,offer,usual,free,dessert,read,may,yelp,review,hurry,annoyed,way,accompany,slight,hint,apology,turn,cake,choice,proceed,pay,let,unfortunate,incident,walk,establishment,ruine,night,long,utmost,respect,anyone,work,restaurant,business,high,admiration,daily,miracle,make,happen,face,countless,logistic,financial,obstacle,risk,order,make,live,also,put,smile,face,guest,whence,come,believe,professional,realization,reason,deeply,sadden,restaurant,business,also,populate,like,joe,beef,light,similar,experience,obviously,cash,early,success,reguarly,rip,disappointing,guest,especially,new,one,age,yelp,strategy,meet,one,demise,fate,believe,touch,establishment,sooner,late,meantime,dont,disservice,believe,travel,guide,steer,away,st,catherine,ou,sure,youll,find,dinner,spot,deserve,money,trust',\n",
       " 'service,slow,order,seafood,platter,cold,raw,send,back,reheat,plate,good,value',\n",
       " 'menu,simple,prix,la,hauteur,plateau,les,plat,sont,ok,ce,resto,dpanne,lorsquon,ne,veut,pa,cuisiner,tous,les,plat,sont,bien,excuts,simple,et,efficace',\n",
       " 'paris,quite,sadden,see,far,fall,several,year,ago,award,star,unfortunately,stay,meet,expectation,fact,disappointed,greatly,begin,go,check,initially,tell,instead,night,reserve,night,reserve,get,line,ask,boss,confirmation,email,wait,line,minute,get,front,shut,several,checkin,desk,one,open,general,public,explain,night,reservation,checkin,agent,give,attitude,finally,go,get,manager,explain,night,reservation,night,pay,fine,explain,go,wait,line,listen,agent,tell,didnt,know,talk,time,come,utilize,cashier,tell,need,id,id,leave,purse,one,ballroom,spite,fact,machine,quite,take,bill,reason,break,cashier,require,id,secondtolast,night,paris,go,take,shower,grab,top,wash,rag,nicely,fold,supply,housekeeping,early,day,get,shower,head,open,wash,rag,add,shower,gel,find,someone,fake,eyelash,stick,wash,rag,gross,follow,even,come,back,room,long,day,conference,find,housekeeping,apparently,snack,room,since,drop,type,nut,floor,next,bed,tweeted,photo,nut,floor,paris,offer,send,housekeeping,next,morning,id,clean,nut,even,find,find,appalling,didnt,anything,try,actually,make,situation,right,strongly,suggest,stay,away,hotel',\n",
       " 'go,sort,engagement,lunch,fianc,mother,step,dad,suppose,nice,night,let,start,food,flavorless,quite,boring,worth,much,money,spend,let,get,hostess,lexie,stench,pot,clothes,alcohol,breath,mention,extremely,rude,hear,call,soon,mother,law,bitch,breath,never,return,never,recommend,place,anyone,know',\n",
       " 'socal,soso,cute,little,place,good,service,however,food,present,fresh,ingredient,bold,flavor,try,crab,cake,okay,preference,deep,fry,im,familiar,love,boston,fancy,way,honey,cook,perfection,skillet,clam,chowder,bread,bowl,super,excited,try,way,disappointed,fresh,whatsoever,nasty,porridge,bread,ouch,finally,taco,plate,carne,chicken,something,else,forget,oops,chicken,taco,old,reserve,chicken,awhile,mention,server,old,smile,say,okay,silly,boy,mesmerize,moi,something,lol,final,thoughts,late,night,liquid,poison,happily,back,since,dont,ciao',\n",
       " 'since,start,charge,extra,cane,sauce,one,sauce,per,strip,kool,happen,customer,always,right,valeria,one,rude,employee,return,location,th,mcdowell',\n",
       " 'employee,seem,dirty,unprofessional,especially,woman,suppose,manager,weve,many,time,add,live,close,milios,one,favorite,place,eat,weve,leave,every,single,time,around,appearance,worker,way,weve,hear,management,speak,employeesthey,seem,extremely,patronize,treatedspoken,like,theyre,idiot,management,dont,trust,someone,taste,way,especially,look,way,food,spite,people,seem,make,life,work,hell,rather,drive,mile,employee,seem,clean,seem,enjoy,job,risk,eat,someone,spitewhoknowswhat',\n",
       " 'really,like,papa,murphys,pizza,concept,take,pizza,home,bake,oven,nice,warm,pm,pizza,super,bowl,party,think,selection,great,decide,check,location,near,couple,week,ago,wednesday,think,need,call,ahead,mean,long,take,throw,toppings,pizza,hand,take,home,bake,well,wrong,take,nearly,minute,wait,one,pizza,clearly,understaffed,busy,night,hopefully,take,long,take,long,pick,cook,pizza,way,thing,papa,muphys,pizza,get,large,spicy,fennel,sausage,gourmet,delite,pizza,pizza,thin,crust,pizza,garlic,sauce,spicy,sausage,tomato,mushroom,spinach,parmesan,aroma,house,cook,pizza,fabulous,take,minute,bake,really,like,flavor,one,get,think,back,like,flavor,pizza,hopefully,wait,time,fix,next,time,go,may,go,somewhere,else',\n",
       " 'food,great,get,pull,pork,coleslaw,fry,gentleman,work,sweet,friendly,excellent,customer,service,hand,bartender,greedy,wench,bad,customer,service,even,though,buy,food,buy,drink,go,make,money,tell,leave,allow,sit,table,eat,food,buy,make,leave,say,unless,buy,something,sit,go,counter,ask,guy,buy,something,buy,drink,still,sit,say,yes,course,go,back,sit,come,tell,unless,buy,something,leave,say,true,huff,puff,want,know,say,tell,go,fit,boy,mean,separate,customer,come,exact,thing,word,say,leave,sit,across,way,plug,window,another,woman,bartender,start,make,fun,whole,situation,original,insult,bartender,customer,leave,original,insult,bartender,say,well,gonna,completely,inappropriate,rude,didnt,get,bartender,name,take,picture,bartender,dont,feel,right,post,pic,internet,bartender,dark,blackish,hair,light,skin,pm,star,guy,guy,deserve,star,rate,awesome,personal,welcome,approachable,bartender,deserve,star',\n",
       " 'go,girlfriend,wednesday,even,queen,city,feast,charlotte,restaurant,week,someone,new,orleans,root,also,live,abroad,china,super,excited,try,gumbo,raman,well,experience,unique,cajun,asian,fusion,sit,immediately,hostess,around,obvious,confused,discussion,hostess,server,take,table,still,see,server,chloe,minute,late,late,response,table,indicative,lackluster,entire,eat,experience,turn,place,drink,appetizer,order,seem,take,forever,anything,arrive,table,didnt,realize,long,appetizer,kale,salad,tuna,roll,take,check,snapchat,picture,take,upon,arrival,wus,see,minute,pass,excuse,appetizer,wait,wasnt,fact,none,main,course,food,actually,good,galbi,short,rib,chewy,season,taste,come,dry,rub,top,raman,also,flavorless,probably,due,fact,enough,gumbo,broth,bowl,undercooked,nature,noodle,make,soak,little,broth,bowl,throughout,time,chloe,also,grossly,inattentive,table,water,refill,old,plate,remove,etc,main,course,clear,someone,else,arrive,table,check,hand,ask,even,want,dessert,come,restaurant,week,menu,note,apple,pie,egg,roll,amazinggg,cant,say,fry,air,pocket,call,beignets,former,server,try,understand,people,bad,day,etc,chloes,demeanor,conversational,cheery,attentive,nature,high,top,table,surround,show,customer,want,bother,wholly,disappointed,entire,experience,especially,since,anticipate,dining,wus,definitely,worth,person,restaurant,week,price,experience,even,disheartening,girlfriend,local,chef,de,cuisine,charlotte,restaurant,also,participate,queen,city,feast,happen,familiar,bottle,cap,group,chef,troy,picture,post,due,snapchat,caption,o,capture,seat,time,arrival,appetizer,picture,appetizer,raman,bowl,proof',\n",
       " 'third,month,operation,still,good,volume,open,holiday,smart,move,allow,early,kink,resolve,convention,season,friday,night,find,ayce,buffet,palm,particularly,busy,broad,mix,patron,include,body,builder,local,tourist,town,watch,final,four,currently,celebrate,passover,variety,traditional,jewish,dish,addition,usual,item,describe,celebration,allyoucaneat,seven,station,spread,sizable,footprint,divide,cook,method,concept,prior,pm,three,guest,arrive,rush,find,quick,seat,banquet,near,world,pan,everyone,take,moment,peruse,choice,plate,number,one,comprise,walnut,prawn,every,bit,good,one,find,spring,mountain,road,plus,spicy,noodle,respectable,general,tso,chicken,impressed,radical,departure,station,casino,feast,brand,buffet,everything,dcor,individual,servings,rivale,standard,set,caesar,bacchanal,cosmos,wicked,spoon,work,small,portion,plate,two,three,take,look,several,passover,option,plus,dinner,roll,surprisingly,light,french,macarons,chop,liver,rich,creamy,matzo,brei,soup,stuff,pleasant,though,limit,personal,experience,prevent,comment,whether,think,great,execute,direction,chef,joseph,kudrak,time,station,casino,red,rock,earn,role,oversee,palm,casino,resort,whole,plate,four,first,misfire,even,arrive,form,watery,lasagna,overly,sweet,sauce,stromboli,smoke,ratatouille,far,well,example,ayces,italian,offerings,french,onion,soup,top,gooey,cheese,also,worth,taste,take,look,roastery,plus,smoke,fire,next,slicedtoorder,roast,beef,fare,well,chewy,smoke,brisket,rib,turkey,morrocan,lamb,stew,well,one,might,ever,expect,buffet,avoid,meat,happy,know,herb,roast,cauliflower,mushroom,quesadillas,cornbread,good,layer,pan,jack,fruit,enchilada,may,good,savory,item,whole,buffet,price,dinner,station,board,pass,save,guest,dessert,offer,whole,island,item,shift,morning,even,aforementioned,macarons,good,offer,end,meal,le,cirque,miniature,carrot,cake,cheesecake,parfaits,lemon,meringue,tart,vegan,coconut,cooky,stand,amongst,collection,even,go,far,account,dietary,restriction,sugar,gluten,free,wrap,madetoorder,cookie,sandwich,plus,three,largeformat,dessert,apple,cobbler,fudge,brownie,nice,land,pad,soft,serve,plus,variety,toppings,warrant,repeat,visit,ayce,end,without,heap,scoop,cinnamon,roll,bread,pudding,plus,minus,ice,cream,gelato,caramel,save,perhaps,offer,kitchen,atomic,none,well,sin,city,slice,sure,point,lack,thin,freeze,crab,leg,u+,shrimp,less,price,wait,bacchanal,wynn,speak,volume,chef,kudrak,team,two,fifty,item,taste,ayces,dinner,buffet,disappointing,several,good,enough,menu,item,elsewhere,include,restaurant,charge,double,strip',\n",
       " 'also,meh,think,ambiance,cute,high,expectation,try,guinness,fondue,pretzel,like,even,though,seem,high,get,pretzel,good,dip,good,bit,spice,couldnt,taste,guinness,daughter,get,cup,potato,leek,soup,icky,potato,leek,soup,favorite,food,make,home,often,weird,flavor,though,super,peppery,daughter,send,back,eat,starve,people,order,pasty,didnt,look,great,though,say,good,person,bacon,cheeseburger,actually,look,amazing,ever,find,place,order,burger,service,slow,think,employee,stuff,restaurant,bar',\n",
       " 'one,word,place,slow,hurry,come,slow,unprofessional,always,two,people,work,wait,line,minute,one,person,front,might,well,go,whole,paycheck,across,street,price,quick,happy,service',\n",
       " 'good,food,poor,service,food,good,sushi,fresh,hostess,wait,staff,seem,work,appear,unmotivated,feel,like,rush,order,engage,customer',\n",
       " 'mcdonalds,sketch,area,people,aimlessly,roam,around,park,lot,drive,thru,lane,bisect,sign,inside,like,poster,board,scribbly,handwriting,marker,look,trashy,inside,need,church,bit',\n",
       " 'eat,twice,stay,sls,hotel,food,star,ok,service,suck,people,always,hang,huddle,around,bar,talk,look,walk,self,seat,reason,eat,second,time,didnt,want,walk,anywhere,eat,moment,nice,hotel,hope,new,owner,gut,restaurant,get,something,well,mean,really,chinese,food,place,cafe,one,cant,ever,good,prove,self,unworthy',\n",
       " 'service,excellent,give,star,thing,hope,improve,hush,puppie,cold,take,fridge,fresh,sweet,potatoe,fry,whatever,cold,hard,perhaps,microwave,day,slight,reheat,catfish,good',\n",
       " 'dont,waste,time,food,poor,quality,get,order,number,bruschetta,eatable,alllow,quality,dog,food,customer,service,phone,restaurant,rude,lazy,never,go,back,ever',\n",
       " 'super,yummy,noodle,season,sauce,lack,depth,tad,heavy,get,shrimp,corn,curry,noodle,sauce,good,super,super,heavy,also,get,xo,spicy,noodle,like,theyre,assortment,veggies,sauce,lack,flavor,like,get,noodle,type,choose',\n",
       " 'dont,know,know,chef,chop,awesome,restaurant,jelly,selection,impressive,little,overwhelming,food,order,corned,beef,hash,flavor,expect,look,like,hash,taste,even,bad,day,generally,give,place,two,try,everyone,bad,day,unfortunately,establishment,though,im,feel,generous',\n",
       " 'see,thereon,rightwhere,say,tiny,print,card,accept,none,cash,business,mean,travel,business,want,expense,meal,company,card,place,nonstarter,wish,chance,experience,bagel,american,canadian,coin,couldnt,even,try,food,maybe,prefer,cater,canuck,oh,well',\n",
       " 'strike,bspot,woodmere,awhile,back,want,order,clevelander,bratwurst,happy,hour,replace,hh,menu,slider,eat,easily,hang,half,ass,day,rivaled,overcome,anything,mac,donalds,im,lovin,strike,arrive,bud,order,sriacha,wing,long,ava,toss,back,great,today,arrive,happy,hour,find,fatheads,headhunter,long,tap,adios,muchacho,much,competition,nearby,continue,pay,patronage',\n",
       " 'star,service,star,food,wing,pretty,much,standard,wing,everyplace,boneless,bag,overbreaded,reasonable,price,nice,atmosphere,service,great,whole,time,bad,food,forgettable,beer,list,light,fill,corporate,beer,like,see,local,chain,focus,local,great,beer,versus,big,beer,garbage,might,give,another,shoot,give,shortage,wing,place',\n",
       " 'absolutely,awful,service,young,guy,work,ignorant,rude,want,customer,avoid,lose,customer,need,get,rid',\n",
       " 'satisfied,purpose,reservation,new,year,place,swamp,six,different,dish,order,guacamole,chip,salsa,start,salsa,really,good,give,time,check,menu,order,drink,take,around,minute,arrive,simple,drink,beer,vodka,soda,gin,soda,etcetera,server,say,h,explain,menu,eventually,never,really,get,around,order,chilaquiles,add,chicken,common,original,dish,chicken,come,separate,seem,dip,oil,still,throw,hot,pan,contain,chilaquiles,mix,together,shouldve,kitchen,think,proceed,eat,okay,nothing,remarkable,end,get,check,together,group,guess,rush,let,server,separate,tab,surprisingly,already,add,gratuity,check,server,forget,mention,new,year,eve,may,single,occasion,still,expect,restaurant,inside,casino',\n",
       " 'relative,come,town,want,everyone,happy,think,place,meat,eater,vegetarian,comically,embarrassingly,bad,service,buy,drink,bar,back,wait,bartender,give,cent,change,nickles,say,kid,right,nickles,response,nope,get,hostess,tell,vegan,menu,available,introduction,place,pull,one,bar,give,vegan,cousin,staff,seem,upset,want,go,outside,push,table,together,wait,minute,outside,service,happy,see,hungry,finally,go,ask,server,note,restaurant,mostly,empty,wasnt,busy,ten,minute,alter,waiter,come,apologize,person,drop,something,seem,like,nobody,want,serve,feel,like,something,wrong,moment,walk,want,take,drink,order,really,want,food,leave,get,water,people,want,drink,drink,menu,find,didnt,know,available,go,get,drink,menu,waiter,come,back,order,food,come,minute,late,vegetarian,dish,serve,meat,version,tell,people,eat,without,minute,late,bring,vegetarian,version,good,pm,ive,since,pm,waiter,good,polite,wasnt,problem,food,ok,charge,dish,paella,total,bill,people,one,kid,tip,really,worth,sad,th,time,ive,bad,time',\n",
       " 'disgusting,spongy,taco,reason,wrap,tin,foil,stick,soggy,tortilla,make,hard,unwrap,intact,way,much,sauce,spill,damn,place,meat,beef,case,barely,taste,like,meat,walk,minute,chipotle,way,low,simcoe,front,much,higherquality,product',\n",
       " 'give,star,delicious,food,serve,give,star,thank,poor,customer,service,vicky,name,waiter,serve,delicious,food,arrogant,waiter,ever,see,entire,life,right,moment,step,restaurant,behavior,rude,unacceptable,indian,take,grant,bring,beverage,least,minute,behavior,totally,accept,consider,reputation,restaurant,wish,review,reach,high,management,place,take,necessary,action,towards,waiter',\n",
       " 'food,service,overall,okay,take,seriously,quarter,chicken,dark,meat,fry,taste,normal,outstanding,pie,mississippi,mud,find,delicious,benefit,decor,overall,nice,experience,ill,try,something,else,next,time,im,town',\n",
       " 'go,four,people,consensus,eh,aok,curry,beef,probably,wont,back,consider,many,well,place,area,bac,food,blow,place,away',\n",
       " 'one,greet,take,minute,ask,something,drink,food,serve,ask,side,salsa,wait,minute,never,even,check,time,finally,interrupt,waiter,ask,time,food,cold,ive,wait,another,min,pay,bill,food,good,waitress,try,cmon',\n",
       " 'wife,recently,take,motherinlaw,hell,kitchen,lunch,bigtime,fan,gordon,ramsay,reservation,traffic,arrive,nearly,minute,early,tell,wait,line,seat,time,original,reservation,main,room,restaurant,back,view,caesar,palace,strip,kitchen,motherinlaw,disappointed,begin,meal,smoke,golden,beet,salad,superb,seem,perfect,temperature,cool,cold,beet,flavorful,cook,perfection,pistachio,granola,provide,welcome,crunch,everything,taste,fresh,main,think,l,make,mistake,try,margherita,pizza,compare,favorite,pizza,restaurant,everything,fresh,look,beautiful,crust,flavorful,tomato,mostly,tasteless,well,february,guess,decent,tomato,hard,come,try,hell,kitchen,ipa,stone,brew,go,along,pizza,enjoy,dessert,divine,think,call,pineapple,carpaccio,dry,ice,provide,quite,show,thin,ribbon,cool,slice,pineapple,coconut,sorbet,star,sweet,taste,pan,sear,scallop,lobster,risotto,dining,companion,order,delicious,like,add,think,lunch,menu,different,dinner,menu,leave,restaurant,weekday,afternoon,line,get,motherinlaw,use,walker,park,caesar,valet,short,walk,restaurant,otherwise,park,hotel,garage,schlep,expect,nothing,good,food,gordon,ramsay,restaurant,except,pizza,try,get,one,last,word,music,tad,loud,make,difficult,hear,server,engage,conversation,fellow,diner,typical,restaurant,day',\n",
       " 'one,bad,constant,pound,background,music,total,cacophony,mix,ambient,crowd,acoustic,think,classy,place,far,narrow,menu,italian,make,look,item,forget,bring,appetizer,totally,overpriced,youre,plan,group,people,forget,wont,able,speak',\n",
       " 'ambience,upstairs,wonderful,good,way,describe,pretty,love,tree,middle,food,however,nothing,special,find,meat,dry,side,dish,veggies,bland,caesar,also,nothing,special,describe,menu,price,food,find,quality,match,downstairs,wurst,reminiscent,german,tavern,get,busy,suggest,go,early,light,dim,one,occasion,hit,knee,try,sit,long,communal,table,good,place,large,group,fun,atmosphere,place,doesnt,much,else,offer,really,sure,place,popular',\n",
       " 'stop,late,lunch,think,id,get,two,specialty,roll,ayce,cheap,go,route,end,get,roll,seaweed,salad,shrimp,tempura,finish,miso,soup,everything,excellent,especially,double,dragon,roll,first,two,roll,make,surprisingly,quick,maybe,normal,lunch,crush,waiter,waitress,attentive,refilling,water,several,time,ask,need,anything,else,two,chef,behind,bar,also,good,ask,anything,else,id,like,finish,want,ask,check,suddenly,become,invisible,wait,minute,finally,leave,cash,counter,walk,everything,perfect,third,visit,food,always,good',\n",
       " 'love,place,hand,good,steak,sandwich,ever,come,every,time,go,vegas,love,love,love,frites,think,call,french,fry,come,sandwich,thin,crunchy,like,nice,crisp,taste,like,extremely,hard,crunchy,taste,feel,like,tooth,disadvantage,also,open,face,crab,salad,sandwich,love,well,go,limb,one,place,steak,house,everything,steak,delicious,come,dinner,bf,order,filet,mignon,omg,freakin,butter,love,place',\n",
       " 'meetings,agency,area,meet,friend,dinner,work,avoid,restaurant,long,time,convinced,well,food,king,location,probably,appeal,actual,food,turn,kind,right,food,reasonable,chicken,good,nothing,really,special,friend,fish,also,think,fine,wasnt,rave,thing,really,like,bread,dip,come,actually,delicious,exceed,expectation,everything,else,good,incredible,dessert,cake,pretty,good,im,sure,come,bakerycafe,downstairs,fresh,light,quite,enjoy,overall,ambience,classy,laid,back,service,good,waitress,right,amount,nice,pleasant,food,fine,two,people,fine,probably,wouldnt,come,honest,wouldnt,rule,someone,insist',\n",
       " 'tavern,one,place,mill,good,day,night,day,good,grub,ive,enjoy,eat,lunch,many,time,grill,chicken,sandwich,nom,nom,service,great,manager,even,come,table,say,hi,night,asu,football,game,tavern,great,place,party,patio,outside,tune,play,usually,get,nice,group,go,dance,floor',\n",
       " 'husband,total,three,time,last,time,invite,good,friend,talk,great,place,first,never,go,back,design,architecture,absolutely,high,five,husband,wife,designbuild,team,make,space,comfortable,simple,pay,great,attention,detail,overall,feel,awesomeness,back,last,experience,simply,terrible,difficult,enjoy,oneself,expose,waitress,complete,attitude,matter,successful,business,waitress,need,introduce,shittycocky,attitude,act,annoyed,ask,question,menu,completely,inconvenience,ask,fill,drink,money,pocket,goodness,sake,turn,completely,point,forward,difficult,enjoy,environment,andor,food,okay,even,though,embarrassed,friend,experience,thankful,converse,simply,walk,probably,go,back,anytime,soon,definitely,invite,friend,next,time,feel,conversation,talk,place,compliment,hope,owner,staff,keep,head,straight,realize,matter,well,poorly,ultimate,goal,satisfy,people,dine,make,dining,experience,great,one,like,architecture',\n",
       " 'menu,atmosphere,pretty,cool,dim,intimate,claustrophobic,server,though,bit,cool,actually,work,bit,hard,bit,attentive,food,ok,comparable,kelseys,interest,food,name',\n",
       " 'wife,give,solid,meh,order,massaman,chicken,stirfried,thai,spice,ask,heat,pretty,much,get,massaman,anyway,ask,native,thai,specify,id,like,hot,make,entrees,arrive,swap,forkfulls,plate,entree,use,exact,sauce,difference,pepper,green,bean,estimate,heat,maybe,price,youd,expect,soup,didnt,try,quite,bit,expensive,usually,pay,entrees,little,less,guess,even,flavoring,adequate,nothing,write,home,id,say,youd,get,go,thai,restaurant,mall,food,court,maybe,consider,good,chesterland,plenty,well,thai,restaurant,around,cleveland',\n",
       " 'xinji,great,addition,area,also,seem,well,know,great,people,dont,want,wait,forever,table,everyone,fianc,die,try,place,move,downtown,gate,mill,quite,well,worth,hike,get,kimichi,ball,pork,chicken,bao,spicy,pork,dumpling,start,absolutely,divine,believe,review,say,bao,undersized,absolutely,case,think,bao,comparable,one,yummiest,bao,restaurant,weve,baoburg,live,nyc,drink,fianc,get,miss,o,get,raspberry,sake,omg,delicious,entrees,get,shoyu,raman,fianc,get,fry,chicken,review,say,small,japanese,fusion,food,asian,buffet,love,raman,say,enough,chicken,broth,rather,tasteless,unless,douse,chili,oil,still,ion,well,garbage,noodlecat,otani,noodle,also,take,parent,last,sunday,flea,brunch,love,get,vegan,pork,jeon,korean,pancake,scrumptious,dad,exactly,box,type,eater,adore,place,fianc,get,pork,chop,entree,get,spicy,miso,raman,mom,get,shoyu,raman,spicy,miso,raman,absolutely,delicious,super,super,flavorful,spicy,without,sweat,induce,even,add,hot,sauce,chili,oil,extra,kick,raman,noodle,perfect,amount,chew,also,worth,mention,service,time,fantastic,bathroom,extremely,clean,always,plus,love,open,concept,kitchen,well,complaint,reason,star,cant,legally,serve,alcohol,sunday,brunch,huge,bummer,absolutely,add,bao,brunch,menu,disposable,napkin,dispenser,table,cut,youre,eat,noodle,cloth,napkin,much,suitable,obviously,good,authentic,raman,cleveland,know,say,much,really,really,delicious,fill,much,need,raman,void',\n",
       " 'come,review,order,ceviche,de,camaron,chalupita,pretty,much,aguachiles,instead,ceviche,since,spicy,still,good,bf,order,coctel,think,call,la,reyna,pretty,much,everything,add,ketchup,say,lack,flavor,unfortunately,bf,get,sick,night,throw,sick,weekend,food,guess,wasnt,good,coctel,hopefully,one,else,get,sick,careful,go,place',\n",
       " 'short,sweet,place,wasnt,close,house,move,probably,wouldnt,ever,try,service,good,family,run,owner,employ,young,teenager,wait,table,stand,kitchen,curse,loudly,happen,grab,booth,right,kitchen,full,get,hear,lot,order,biscuit,gravy,biscuit,come,hard,gravy,cold,send,back,well,nd,time,hope,without,special,surprise,pancake,delightful,remind,daddys,rate,nostalgia,variety,comfort,food,offer,wouldnt,tell,friend,place,pray,food,every,time,happen,eat',\n",
       " 'change,lot,stuff,since,last,time,purchase,little,bogo,coupon,buck,l,think,autism,back,late,march,early,april,well,couldnt,use,till,may,time,time,go,redeem,coupon,tell,couldnt,order,crab,dish,get,one,free,dish,disappointing,say,least,joes,crab,shack,know,couldnt,buy,crab,dish,get,one,free,probably,wouldnt,purchase,coupon,category,hurricane,happy,hour,menu,onion,straw,really,hurt,weve,purchase,bogo,coupon,past,year,theyve,always,honored,crab,dish,switch,menu,coupon,become,valid,shame,joes,may,lose,loyal,customer,damn,damn,damn',\n",
       " 'food,great,fresh,service,suck,consistent,coworker,say,something,little,put,burrito,guy,start,laugh,say,people,work,make,wrong,continue,laugh,go,tell,employee,back,lady,back,stare,window,door,go,back,location,long,suck,go,lunch,least,week',\n",
       " 'come,dinner,want,try,new,pho,place,parent,arrive,seat,right,away,see,pick,immediately,order,large,house,pho,fresh,roll,meat,platter,ask,hold,onto,menu,werent,sure,big,portion,size,give,hesitant,look,waiter,explain,didnt,enough,menu,want,anything,else,get,menu,back,late,food,come,little,slow,pho,place,weve,time,take,get,appetizer,mains,little,long,prefer,fresh,roll,hard,go,wrong,fresh,roll,honest,expect,piece,large,piece,price,tag,house,pho,nice,clean,broth,mom,really,enjoy,noodle,say,nice,texture,little,meat,though,end,order,another,one,little,small,average,pho,place,bbq,meat,plate,pork,belly,skewer,fantastic,happy,whole,platter,flavor,chicken,good,little,dry,beef,short,rib,overall,food,good,service,need,work,good,intention,friendly,think,still,work,order,waiter,come,ask,like,spicy,literally,word,like,spicy,context,pho,come,family,use,family,style,ask,bowl,share,take,minute,get,bowl,sit,stare,noodle,water,also,never,refill,potential,though,time,go,good,place,come,friend,everyone,pay,meal,family,go,another,pho,place,price,high,even,discount,doesnt,seem,like,dish,really,familystyle,friendly',\n",
       " 'use,frequent,curry,away,highly,disappointed,close,however,grateful,thai,terrace,open,place,dcor,setup,remain,practically,experience,far,service,seem,quick,ingredient,definitely,taste,fresh,go,meal,cashew,rice,chicken,order,dish,curry,away,although,like,curry,away,version,fry,bread,chicken,prefer,thai,terrace,use,grill,chicken,instead,ingredient,flavor,great,although,menu,extensive,look,forward,try,sample,complaint,far,appetizer,order,chicken,satays,small,satays,ever,see,price,almost,like,grill,nugget,stick,order,continue,try,new,local,thai,spot,edgewood',\n",
       " 'every,single,time,go,fresh,food,cant,complain,people,food,never,always,stale',\n",
       " 'part,cant,believe,place,get,high,review,wasnt,horrible,definitely,shine,experience,everyone,else,seem,experience,boyfriend,receive,gift,card,caseys,decide,go,meet,friend,caseys,restaurant,south,mississauga,get,location,bit,hike,order,seasonal,menu,order,pork,medallion,sweet,potato,mash,tm,order,lobster,mac,cheese,enjoy,meal,meat,red,wine,sauce,great,especially,since,chain,barrestaurant,im,sucker,anything,sweet,potato,tm,hand,opposite,experience,couldnt,even,finish,half,meal,start,make,gag,personally,didnt,blame,sauce,cream,cheese,lobster,tasteless,odd,texture,somewhere,rubbery,moist,breadcrumb,top,lack,flavour,well,thing,edible,side,salad,come,forgive,bad,dish,especially,good,sometimes,thing,happen,cant,forgive,slow,service,especially,half,empty,restaurant,wait,close,minute,food,another,minute,eat,bill,ready,pay,hunt,waiter,process,payment,fail,come,back,find,chat,friend,sorry,interrupt,conversation,real,disappointment,find,pay,gift,card,also,good,fionn,maccools,restaurant,ah,well,lesson,learn,always,read,fine,print',\n",
       " 'probably,good,sum,opinion,place,say,see,restaurant,restaurant,impossible,wont,dwell,service,many,comment,actually,deal,food,good,ill,start,fact,none,wine,glass,set,table,look,clean,whiteish,film,little,extra,something,acceptable,price,charge,real,problem,food,order,chop,green,salad,something,look,like,year,old,make,toast,ravioli,may,daughter,order,look,taste,like,something,try,aisle,costco,saturday,morning,quality,steak,wasnt,bad,werent,juicy,steak,order,one,cook,mediumrare,ask,medium,mediumwell,order,steak,fry,actually,season,well,undercooked,look,like,slightly,high,quality,something,youd,find,elementary,school,lunch,order,banana,foster,tableside,service,dessert,kind,fun,process,watch,flame,tastewise,sugarbomb,half,banana,ill,sum,note,go,recommendation,good,friend,certify,foodie,however,wife,remind,beyonddisappointingfortheprice,meal,friend,hindu,generally,doesnt,eat,beef,maybe,doesnt,know,beef,isnt,great,wife,say,good,dish,broccoli,single,steam,unseasoned,crown,fair,wife,really,like,appletini,daughter,comment,dinner,water,nice,cold,people,like,historical,significance,place,maybe,convert,museum',\n",
       " 'use,go,lot,dim,sum,good,price,good,always,busy,way,set,two,separate,room,organization,frustrate,front,room,wait,back,room,use,number,system,last,visit,tell,go,back,room,even,think,empty,table,front,wait,line,back,number,table,people,arrive,late,even,though,number,people,pretty,vs,table,chinese,non,chinese,waiter,seem,favour,nonchinese,complain,finally,get,table,minute,late,service,terrible,end,leave,unpleasant,feelings,give,small,tip,waiter,chase,say,enough,say,sorry,money,believe,say,lousy,service,good,dim,sum,china,town,redwood,service,great,tea,quality,price,similar,place,neatly,design,never,go,back,rol,san',\n",
       " 'pepes,ok,prefer,one,boulder,flamingo,price,bit,high,robertos,think,quality,depend,cook,time,go,dont,like,dont,accept,credit,card,understand,small,business,need,maximize,profit',\n",
       " 'place,use,one,favorite,get,sick,get,fish,lend,last,year,decide,give,another,chance,disappointed,menu,small,remember,service,slow,food,chicken,dry,bland,four,waitress,stand,around,bicker,saturday,two,table,occupy,reason',\n",
       " 'banh,mi,light,airy,french,baguette,really,wrapper,content,dense,bread,cut,fork,knife,big,problem,fill,lemon,orange,rind,taste,chef,taste,food,come,give,three,great,draft,beer,selection,knowledge,staff,beer,menu',\n",
       " 'speak,whomever,phone,ive,decide,never,even,step,foot,get,tattoo,shop,feel,least,form,professionalism,speak,potential,customer,like,dont,care,client',\n",
       " 'excellent,food,fair,price,far,well,chain,vein,nice,family,business,welcome,grow,neighborhood,perfect,youre,across,street,honeywell,midwestern,u,easy,get,since,mile,south,north,valley,get,rumba,burrito,pork,choice,fixings,hot,green,salsa,wont,regret,even,grab,cold,beer,wash',\n",
       " 'get,around,late,dinner,server,nice,way,toooo,busy,wait,min,order,starve,gosh,overall,food,alrite,im,glad,open,almost',\n",
       " 'dont,order,delivery,girl,answer,rude,ever,lie,time,get,order,right,still,argue,two,hour,wait,get,back,also,ask,manager,state,doesnt,speak,english,ummmm,never,apologize,argue,bad,experience,delivery,driver,nice,go,somewhere,else',\n",
       " 'go,father,day,order,queso,dip,come,container,little,big,ramekin,price,thin,bland,dinner,order,cadillac,beef,fajitas,think,give,yesterday,beef,tough,tortilla,good,recommend,guacamole,small,side,flavor,runny,server,nice,keep,drink,fill,back,want,fajitas,chili,applebees,well',\n",
       " 'goto,viet,place,strip,always,consistent,bbh,pho,service,friendly,serve,fast,bbh,standard,add,dont,sell,short,get,good,chunk,meat,tendon,cha,blood,sausage,broth,flavorful,add,spice,fine,also,get,spring,roll,serve,peanut,sauce,freshly,make,tasty,lastly,order,vietnamese,coffee,hit,spot,brew,table,definitely,come,back',\n",
       " 'meh,okay,great,restaurant,lot,good,review,yelp,love,taco,think,give,try,travel,live,make,point,find,taco,stand,taco,truck,anything,taco,relate,wherever,go,disappointed,read,several,review,service,soso,lousy,experience,today,hostess,slow,recognize,walk,take,menu,say,right,back,say,hi,welcome,turn,around,leave,go,go,sit,bar,also,slow,recognize,far,greet,also,ask,chip,salsa,like,several,yelpers,complain,sit,five,minute,order,taco,still,didnt,chip,salsa,order,taco,al,pastor,ahi,tuna,combo,rice,bean,plenty,tuna,one,taco,taco,al,pastor,small,pathetic,taco,think,ever,see,think,pineapple,pork,fact,im,even,sure,meat,way,less,tasty,chip,salsa,chip,stout,flimsy,kind,good,enough,salsa,thin,runny,green,red,good,flavor,sad,say,chip,salsa,good,part',\n",
       " 'place,complete,disappointment,food,service,embarrassing,rude,point,blank,give,wrong,order,first,food,wait,never,bring,pass,since,child,want,leave,since,child,arent,permit,without,adult,minute,pass,go,ask,food,say,go,serve,child,even,go,attempt,let,know,get,money,back,go,keep,money,let,leave,ridiculous,disgusting,customer,service,put,sign,kid,allow,big,problem,instead,take,people,money',\n",
       " 'really,cant,believe,badly,mark,yelp,review,place,wait,hour,seat,less,full,dining,room,take,another,minute,get,one,allyoucandrink,bloody,marys,come,part,buffet,food,dont,remind,pasta,gummy,meat,gristly,minor,amount,seafood,overcook,taste,start,line,think,plenty,time,brunch,get,close,mean,nothing,fresh,dinner,food,hadnt,put,bottom,line,luck,put,buck,slot,id,feel,whole,lot,less,screw',\n",
       " 'mean,stop,grab,sandwich,commone,corner,always,pass,way,simpatico,office,finally,stop,definitely,go,back,order,hot,beef,sandwich,onion,roll,cheddar,garlic,mayonnaise,really,good,jeremy,make,sandwich,quickly,really,wonderful,talk,sandwich,little,pricey,give,star,overall,delightful',\n",
       " 'book,pay,room,suppose,bed,get,room,available,send,different,hotel,get,bed,person,treat,really,bad,blame,check,late,pay,extra,room,customer,service',\n",
       " 'dinner,friend,last,night,enjoy,arizona,restaurant,week,menu,choose,tomato,gazpacho,korean,fry,chicken,dark,chocolate,brownie,divine,criticism,fry,chicken,little,sweet,taste,good,amount,heat,flavorful,perfectly,cook,service,smooth,pleasant,overall,good,meal,valley,long,time',\n",
       " 'pass,place,many,time,mood,fish,chip,possibly,bad,fish,ever,try,eat,take,couple,bite,bread,separate,freeze,fish,fish,taste,rancid,bread,boring,good,hope,dont,get,sick,even,also,service,slow,waitress,interest,chat,friend,place,use,serious,clean',\n",
       " 'love,free,bread,hummus,eggplant,baba,ganoush,dip,sauce,order,chicken,schnitzel,come,housecaesar,salad,choice,side,fry,mash,potato,balsamic,rice,choose,house,salad,dress,side,think,balsamic,dress,veggies,dice,easy,eat,chicken,schnitzel,piece,huge,bit,fry,though,mash,potato,taste,good',\n",
       " 'fresh,good,food,wish,normal,item,menu,also,young,cashier,chatty,coworker,stand,awkwardly,minute,pay,ask,simple,question,recommend,food,though,tell,make,love',\n",
       " 'bratwurst,da,brat,substitute,sauerkraut,pickle,pepper,taste,great,toast,hawaiian,bread,make,tasty,seem,expensive,consider,cost,grill,something,simple,ignore,cant,think,another,convenient,restaurant,fast,food,place,vegas,sell,brat,cheap,im,pretty,sure,italian,sausage,bratwurst,capriottis,cost,nearly,hot,link,sandwich,famous,daves,yeah,want,make,youre,area,youre,mood,afford,youll,probably,content,purchase',\n",
       " 'one,good,patio,scottsdale,great,stop,afternoon,day,drink,recommend,side,seat,one,thing,get,change,menu,every,hour,go,brunch,sort,midafternoon,selection,whole,dinner,menu,find,annoy,great,service,relax,vibe,keep,come,back,luckily,rarely,order,food,bruscetta,trio,stellar',\n",
       " 'impressed,place,reason,keep,come,back,large,beer,menu,food,average,wing,good,choice,avoid,burger,unless,picky',\n",
       " 'really,crave,gyro,meh,tasteless,didnt,even,heat,upgrilled,taste,boil,like,bolgna,tsaziki,bland,falafel,taste,like,cardboard,a+,friendly,fast,service,f,food',\n",
       " 'recently,see,one,people,behind,counter,connect,finger,nose,sort,secretive,way,probably,automatic,reflex,itchy,nose,seriously,gross,go,back,might,able,go,restaurant,ewww',\n",
       " 'great,chinese,food,spicy,great,lunch,price',\n",
       " 'stop,time,bite,pen,game,dont,know,place,seem,decline,quality,service,great,ingredient,theyve,use,past,visit,much,wife,salad,chicken,shrimp,ok,lettuce,little,old,loom,tomato,comment,place,ok,pre,game,libation,probably,plan,dinner,quick,convenient,lack,little,quality',\n",
       " 'find,huge,larva,steak,egg,breakfast,never,come,breakfast,past,year,vacation,past,experience,make,never,ever,come,back',\n",
       " 'delicious,go,twice,one,week,mix,dumpling,day,bbq,chicken,fry,rice,one,day,beef,sate,stir,fry,great,food,definitely,grease,use,asian,restaurant,friendly,lady,except,chili,hot,sauce,portion,small,also,great,selection,freeze,already,prepare,dish,take,msg,free',\n",
       " 'donut,okay,ill,honest,wasnt,impressed,late,afternoon,werent,many,option,choose,get,raise,donut,fruit,custard,fill,middle,take,first,bite,taste,like,warm,strawberry,yogurt,get,place,maybe,shouldve,order,chicken,donut,sandwich,something,else,dont,know,eat',\n",
       " 'many,time,every,time,need,two,almost,immediately,meal,body,doesnt,like,place,food,try,many,different,item,place,quesadillas,pizza,fresh,mex,bowl,burger,way,baby,back,baby,back,baby,back,rib,super,tasty,didnt,stay,long,belly,rib,last,long,record,minute,second,location,always,clean,invite,staff,always,friendly,polite,funny,service,always,moderate,slow,never,fast,always,busy,overall,location,good,dont,see,wouldnt,come,back',\n",
       " 'order,food,pick,mypizza,get,also,order,confirmation,arrive,tell,rather,rough,way,pick,order,stop,work,mypizza,check,phone,find,order,clarify,pay,even,tip,include,get,calzone,salad,mypizza,call,well,say,cant,confirm,order,place,busy,moment,mess,quality,food,average,customer,service,handle,small,issue,disappointing,apologize,instead,argue,tip',\n",
       " 'well,spend,past,weekend,valley,ho,interest,compare,two,hotel,concept,restaurant,old,outdated,hotel,remodeled,somewhat,trendy,urban,hot,spot,walk,lobby,pleasantly,surprise,decor,artsy,raw,sort,way,expose,ceiling,cheap,local,art,purchase,wall,view,really,cool,pool,area,walk,gallo,blanco,people,sit,bar,sit,scan,menu,chalkborarded,wall,server,hand,wine,list,vino,blanco,argentina,ice,cold,serve,appear,riedel,o,glasswarei,like,thing,go,well,point,order,one,fish,taco,wasnt,real,hunger,small,taco,perfect,size,serve,small,corn,tortilla,fish,halibut,nicely,grill,order,hold,white,sauce,taste,like,miracle,whip,fish,fresh,perfect,avocado,lettuce,conversation,go,fine,server,unitl,reason,ask,age,think,odd,conversation,digress,political,philosophical,debate,look,unwind,vino,food,relax,guess,may,give,gallo,blanco,another,shoot,try,thing,menu,probably,bring,friend,along,next,time,avoid,politics',\n",
       " 'give,place,two,star,feel,like,try,otherwise,get,one,star,clean,nicely,outfit,server,nice,good,thing,end,start,garlic,knot,another,reviewer,say,fresh,bake,taste,great,rubbery,hot,see,sit,bin,directly,heat,lamp,fresh,bake,order,fettucini,alfredo,chicken,boyfriend,order,meat,lasagna,dish,terrible,sauce,pasta,white,thick,latex,paint,also,bland,absolutely,season,anything,order,lasagna,bland,pasta,pureed,tomato,meat,like,pizza,meat,crumble,expect,read,yelp,review,dont,know,call,excellent,cook,approve,food,think,reason,place,still,around,+,community,love,type,bland,food,far,young,people,decade',\n",
       " 'excited,see,anzios,relocate,corner,mcdowell,power,next,dvine,think,wed,give,try,service,pretty,decent,however,many,bussers,hang,around,dining,room,nothing,order,anzios,cosmo,pretty,good,get,basket,slice,bread,slice,bread,really,breadsmith,right,next,door,roll,focaccia,artisan,cheese,bread,hold,wait,dinner,hubbie,get,spaghetti,meatball,marinana,meatball,didnt,taste,like,make,site,like,marinara,though,order,pasta,mediterranean,dish,weak,lack,flavor,lot,cherry,tomato,olive,supposedly,kalamata,didnt,taste,like,find,small,chunk,artichoke,need,garlic,andor,caper,something,give,kick,edible,memorable,except,ill,remember,order,return,decide,split,dessert,order,tiramisu,good,good,part,meal,hope,new,ownerowners,anzios,read,review,make,improvement,id,really,like,see,succeed,unfortunately,return',\n",
       " 'beware,serve,cook,fish,remake,order,fish,smell,taste,really,old,make,husband,sick,also,order,bring,wrong,side,item,charge,thing,didnt,get,service,less,desirable,wish,long,john,silver,well,meal,much,cheap,price',\n",
       " 'never,come,back,food,good,god,smoke,horrific,bar,area,glass,nothing,shield,smoke,dining,room,eye,burn,feel,like,drink,everything,taint,feel,bad,expose,daughter,eat,super,quick,return',\n",
       " 'delicious,affordable,place,go,breakfast,favorite,part,pooch,enjoy,patio,breakfast,straightforward,necessarily,bad,thing,choose,short,stack,whole,wheat,pancake,side,hashbrowns,date,choose,cinnamon,challah,french,toast,order,perfection,simply,portion,size,pancake,much,small,full,order,come,three,actually,able,eat,instead,waste,lot,normally,small,appetite,fantastic,hashbrowns,also,crisp,well,season,french,toast,reviewer,describe,agree,little,dry,nothing,douse,syrup,cant,cure,crunchy,almond,fresh,berry,top,great,touch,ice,vanilla,latte,delicious,pup,enjoy,misters,patio,definitely,recommend',\n",
       " 'hear,place,year,year,finally,taste,food,taste,la,vegas,food,festival,like,enough,go,restaurant,well,back,numerous,time,never,disappointed,fantastic,spot,never,flavor,combo,great,portion,giant,service,outstanding,issue,busy,place,typically,wait',\n",
       " 'alot,well,location,one,rd,time,u,get,ppl,u,cant,even,understand,mess,ur,food,hit,miss',\n",
       " 'couple,week,ago,six,choose,place,lunch,get,tuscan,chicken,sandwich,burger,dont,remember,order,dont,like,give,place,one,star,good,dry,flavorless,skimpy,toppings,way,price,many,way,make,healthy,food,taste,great,doesnt,seem,like,place,figure,yet,least,day',\n",
       " 'eat,time,past,year,two,linda,amazing,server,go,must,ask,huge,fan,stone,crab,great,selection,seafood,oyster,halibut,always,happy,dish,disappointment,last,server,last,week,short,rude,drop,menu,table,tell,special,bad,service,see,spend,money,server,disappointed,either,way,back,sure,make,sure,go,linda',\n",
       " 'everyone,talk,place,like,holy,grail,ohio,grow,hour,away,ive,hear,many,folklore,swensons,never,stop,week,think,fun,different,experience,watch,server,sprint,around,like,fire,extremely,entertain,manufacturing,boss,want,warn,management,slip,trip,fall,lead,cause,workplace,injury,realize,look,like,nut,friend,get,galley,boy,split,order,mushroom,potato,teaser,florida,california,ehhh,ive,decide,galley,boy,drink,little,sweet,id,probably,well,normal,burger,potato,teaser,mix,jalapeo,popper,tate,tot,basically,sell,think,people,love,place,nostalgic,purpose,good,nothing,write,home,id,give,food,maybe,three,star,server,whole,experience,charm,think,solid,star,also,less,person,burger,drink,side,local,joint,beat,mcdonalds,day',\n",
       " 'wife,couldnt,even,take,bite,pita,sop,wet,grease',\n",
       " 'come,new,year,dinner,friend,unfortunately,get,reservation,wrong,wait,min,give,free,pitcher,pretty,nice,im,sure,throw,app,two,ask,overall,pretty,decent,sushi,get,chef,special,atlantic,queen,split,partner,enough,food,really,enjoy,miso,soup,salad,also,pretty,good,wish,know,name,piece,chef,special,though,never,try',\n",
       " 'locate,within,cosmopolitan,away,strip,away,marquee,club,wicked,spoon,one,new,buffet,people,try,come,vegas,come,mind,think,differentiate,buffet,mainly,rest,portion,control,nearly,item,ayce,buffet,individually,serve,small,cup,dish,bowl,even,miniature,saucy,pan,effort,worth,since,result,tidy,neat,appearance,throughout,serve,area,one,say,even,bit,minimalist,chic,item,braised,short,rib,httpwwwyelpcombizphotosklwdnuhcbcnevinhgewgselectptzxbyxxjzvylfweq,cream,corn,httpwwwyelpcombizphotosklwdnuhcbcnevinhgewgselectisetiahylopzwkq,somehow,appeal,usual,also,add,benefit,flavor,dont,run,together,plate,also,bit,civility,efficiency,reach,item,well,ayce,without,obligatory,carve,station,w,prime,rib,delectablehttpwwwyelpcombizphotosklwdnuhcbcnevinhgewgselectuhrhqxkxsezundyq,perfectly,medium,rare,pink,middle,slice,order,usually,eye,outside,end,cut,great,season,taste,occasion,also,offer,roast,leg,lamb,httpwwwyelpcombizphotosklwdnuhcbcnevinhgewgselectfpujvhdlelabqra,however,find,particularly,dry,especially,since,get,one,first,slice,typically,slice,parallel,away,bone,perpendicular,slice,close,bone,moist,even,gamier,perhaps,much,like,also,category,everyone,cup,tea,beefy,bone,marrow,httpwwwyelpcombizphotosklwdnuhcbcnevinhgewgselectdbrafmgkeusflvsxcq,locate,front,carve,station,way,eat,spread,marrow,like,jam,onto,nearby,slice,bruschetta,toast,without,pretty,much,taste,like,solid,fat,among,seafood,choice,go,mussel,fennel,onion,pancetta,httpwwwyelpcombizphotosklwdnuhcbcnevinhgewgselecttnawvccvdyneloshoa,blackened,haddock,crawfish,hollendaise,httpwwwyelpcombizphotosklwdnuhcbcnevinhgewgselectxatydwxxpaalbbfplgq,shrimp,cocktail,httpwwwyelpcombizphotosklwdnuhcbcnevinhgewgselectabwalpzkiinsnhkg,ceviche,httpwwwyelpcombizphotosklwdnuhcbcnevinhgewgselectkrafgrypgafsliq,eat,ton,mussel,giant,size,shrimp,haddock,nicely,bread,fork,flaky,little,bit,heavy,chunky,expect,like,fish,good,serve,straight,oven,pan,instead,probably,sit,awhile,ceviche,ok,lack,pop,wow,factor,like,haddock,good,super,fresh,salad,choose,strategy,severely,limit,rather,get,fill,salad,place,like,personal,choice,even,thai,mango,salad,httpwwwyelpcombizphotosklwdnuhcbcnevinhgewgselectgllmvzzrazmrcfta,requisite,flavor,texture,look,cold,noodle,vinegary,tangy,pair,mango,beautifully,edamame,add,oppose,texture,crunch,also,offer,near,salad,bar,interest,cold,watermelon,gazpacho,soup,serve,plastic,cup,httpwwwyelpcombizphotosklwdnuhcbcnevinhgewgselectuypfzdxrpuglmcybbpa,fruity,bit,thick,refreshing,seat,near,dessert,end,dining,room,nice,opinion,end,near,restrooms,even,eat,much,didnt,make,much,effort,dessert,although,give,halfhearted,try,httpwwwyelpcombizphotosklwdnuhcbcnevinhgewgselectlimqstunlupyinq,httpwwwyelpcombizphotosklwdnuhcbcnevinhgewgselectjdpytoqyqrhxrfhakwwg,since,vicinity,marquee,get,clubber,come,go,club,especially,saturday,night,issue,observation,per,person,go,one,pricey,buffet,option,still,come,back,item,seem,change,time,time,keep,interest,well',\n",
       " 'horrible,experience,never,order,delivery,restaurant,gentleman,answer,phone,rude,didnt,seem,like,want,mess,boyfriend,order,call,get,salad,vegetarian,boyfriend,completely,upset,unprofessional,treat,customer,provide,excellent,customer,service,business,support',\n",
       " 'weve,lunch,weve,get,lemongrass,noodle,twice,think,sometimes,call,drunken,noodle,weve,also,get,penang,green,curry,tofu,chicken,lunch,special,come,miso,soup,small,fry,spring,roll,addition,order,order,fresh,roll,time,food,consistent,time,first,potion,fair,lunch,special,fresh,roll,excellent,noodle,good,curry,good,rice,wasnt,anything,write,home,however,also,glass,wine,anytime,reason,thai,squirrel,hill,hit,miss,say,bangkok,balcony,one,well,one,come,high,star,shy,star,come,dinner,good,may,update',\n",
       " 'im,huge,fan,japanese,food,place,really,ugh,deserve,star,waaaaaay,overpriced,sashimi,sooo,thinly,slice,piece,fresh,waiter,attentive,think,nice,restaurant,like,youd,get,well,quality,food,service,nope,go',\n",
       " 'friend,recommend,place,curious,enough,try,go,gong,cha,run,bake,fish,fillet,cream,corn,option,spaghetti,rice,opt,spaghetti,preference,bake,dish,hkstyle,cafe,friend,meaty,version,pork,beef,mushroom,sauce,service,quick,point,beware,cant,speak,cantonese,server,arent,fluent,english,menu,english,however,make,point,dish,want,menu,say,key,word,like,bill,dont,expect,much,food,great,half,way,portion,good,however,food,isnt,exactly,light,side,feel,little,overwhelm,heavy,sauce,fatty,slice,fish,please,ensure,lot,room,high,tolerance,fatten,food,also,dish,come,cream,soup,drink,extra,dollar,great,deal,cream,soup,chicken,bit,beware,vegetarian,client,order,ice,tea,drink,surprise,hk,milk,tea,always,holy,grail,hkstyle,cafe,opinion,friend,order,say,milk,tea,order,coffee,morning,caffeine,rush,milk,tea,come,almost,instantly,coffee,arrive,remind,server,three,time,yeah,two,cent,stick,milk,tea,ice,tea,need,beverage,immediately,overall,typical,hkstyle,cafe,minimal,service,heavy,highcalorie,dish,youre,look,cheap,eat,isnt,mcdonalds,worth,shoot,wouldnt,see,go,way,come,though,hkstyle,cafe,backyard,scarborough',\n",
       " 'idea,place,four,star,nacho,soupy,soupy,even,make,soupy,nacho,kind,fake,cheese,really,really,terrible,chip,stale,stale,chip,mexican,place,drink,sugary',\n",
       " 'review,rude,rude,wally,first,year,old,mother,come,slowly,say,hurry,old,lady,food,ok,frankly,one,thing,talk,burger,salad,kind,joint,son,order,halibut,special,bill,plate,rice,green,bean,piece,halibut,tell,wally,think,expensive,restaurant,like,response,guess,havent,eat,restaurant,lately,well,wally,way,step,back',\n",
       " 'disappointed,absolute,horrible,experience,two,night,row,first,night,wait,minute,finally,greet,rest,night,follow,pattern,ignore,server,continously,serve,table,right,next,next,night,bar,wasnt,even,remotely,busy,super,steady,lot,table,available,girlfriend,wait,minute,food,minute,server,say,kitchen,really,back,meanwhile,party,next,come,receive,food,didnt,even,order,anytbing,huge,small,order,boneless,wing,fry,miss,movie,horrible,service,everyone,save,money,dont,come,leave,unsatisfied,disappointed',\n",
       " 'go,salad,creation,pm,male,employee,work,take,order,seem,huge,rush,ask,dress,say,already,lot,ask,polite,location,also,short,chip,needless,say,wrap,get,still,little,dry,absolutely,love,east,side,location,friendly,add,dress,ask,much,want,show,automatically',\n",
       " 'try,restaurant,valentine,day,really,regret,come,first,keep,get,coupon,place,circular,decide,go,ahead,try,since,love,italian,food,walk,sign,say,seat,place,wasnt,busy,table,available,take,around,minute,waitress,come,without,even,say,hello,introduce,ask,want,order,waitress,year,think,strange,didnt,even,ask,drink,order,say,wed,wine,couple,water,first,order,well,big,mistake,take,nearly,minute,come,back,point,still,pretty,forgive,since,figure,another,server,must,call,sick,something,lady,piss,work,valentine,day,finally,return,didnt,apologize,explain,take,long,order,ravioli,dish,okay,small,almost,like,kid,dish,big,eater,even,still,food,portion,tiny,rate,food,recommend,place,value,good,customer,service,go,bamboo,grille,next,door,much,well,food,great,customer,service',\n",
       " 'like,everything,dislike,wait,bring,something,call,ahead,completely,satisfied',\n",
       " 'pizza,taste,like,cardboard,please,dont,waste,money,pizza,truly,disgusting,pasta,hand,half,decent,use,frequently,order,uber,eat,lunch,work,like,well,raise,price,use,charge,plain,old,pomodoro,pasta,dessert,mediocre,good,place,okay,lunch,place,never,want,take,date,food,worthy,share,somebody,else',\n",
       " 'dtsrt,eay,dark,read,menu,great,atmosphere,pretty,good,wait,staff,excellent,margarita,guacamole,food,pretty,fair,good,return,multiple,time,maybe,every,two,month,every,friday,date,night,give,try,see,food,meet,standard,different,taste,place,go,go,location',\n",
       " 'dont,like,due,damage,anyone,business,recommend,dining,hash,house,go,go,food,good,live,reputation,eat,dennys,ihop,get,even,well,food,daughter,order,steak,midrare,come,really,cook,pink,didnt,even,eat,food,say,meal,go,uneaten,hear,good,thing,place,go,dennys,instead,get,well,food',\n",
       " 'food,excellent,usual,last,time,weve,ive,notice,service,slow,inattentive,flag,waiter,take,drink,order,min,seat,restaurant,crowd,understaffed',\n",
       " 'order,matcha,latte,give,latte,paper,cup,steam,milk,wasnt,properly,see,large,bubble,foam,milk,overheat,ruin,supposedly,creamy,texture,latte,basic,skill,barista,wifi,connection,suck,never,good,connection,aroma,store,however,cant,claim,aroma,store,bad,wifi,two,bad,one,two,pretty,bad,consider,new,store,new,commercial,plaza,good,internet,speed,begin,less,people,computer,store,wifi,connection,already,fall,apart,like,im,third,world,country',\n",
       " 'always,look,new,teppanyaki,place,unfortunately,isnt,one,die,go,back,first,hostess,manager,server,phenomenal,second,walk,impressed,invite,kind,everyone,great,start,really,drop,ball,teppanyaki,chef,food,good,presentation,lack,bring,year,old,niece,experience,teppanyaki,first,time,bored,volcano,onion,flip,egg,hat,extent,whole,reason,go,teppanyaki,grill,experience,wow,werent',\n",
       " 'impressed,burger,okay,overpriced,nothing,write,home,fry,average,good,probably,wouldnt,go,back',\n",
       " 'come,four,year,valley,good,place,come,food,drink,fun,unfortunately,past,three,time,ive,visit,topgolf,system,theyve,switch,texted,bay,ready,ultimate,issue,come,plus,lifetime,membership,use,give,cost,dollar,switch,far,get,try,golf,terrible,experience,ive,decide,wont,come,back',\n",
       " 'come,brooklyn,pizza,wesley,capel,first,review,write,think,overdue,go,brooklyn,pizza,since,open,wesley,capel,one,rea,rd,start,great,good,pizza,carolinas,begin,short,cut,start,time,notice,chewy,crust,become,course,prebaking,crust,cover,whatever,customer,order,understand,bonkers,crazy,find,way,get,thing,quickly,good,thing,go,door,look,another,ny,style,pizza,place,seem,open,one,week,somewhere,within,drive,distance,dont,cut,corner,guy,cheat,loyal,faithful,customer,count,piece,pepperoni,slice,like,hear,one,pizza,maker,guy,say,new,guy,one,night,give,good,pie,fair,price,come,back,way,pizza,one,expensive,around,worth,anymore',\n",
       " 'food,decent,good,beer,selection,impressive,mix,cocktail,meh,two,gin,tonic,heavy,tonic,hard,tell,even,gin,nice,people',\n",
       " 'good,boojie,burger,ive,dont,really,upscale,burger,compare,know,tastebuds,dance,take,bite,burger,decide,try,pork,chop,applesauce,burger,pork,patty,dubliner,cheese,branston,pickle,apple,braised,pork,shank,cabbage,apple,slaw,heavenly,pork,patty,pork,shank,cook,perfectly,right,amount,flavor,im,huge,fan,cabbage,love,apple,slaw,mix,friend,also,share,parmesan,truffle,fry,onion,ring,appetizer,highly,recommend,share,fry,sure,huge,serve,also,get,drink,get,chombolita,friend,get,new,old,fashion,drink,find,sweet,side,thing,wasnt,fan,wait,get,early,dinner,get,pm,wait,line,good,min,burger,also,take,min,make,dont,come,starve',\n",
       " 'honey,bear,place,id,hear,fantastic,thing,quite,time,finally,make,one,weeknight,friend,officemates,surprise,find,incredibly,lackluster,simply,good,im,sure,food,old,day,hour,close,time,meat,basically,spray,sauce,call,day,meat,devoid,flavor,overcook,chicken,rib,absolutely,nothing,sneeze,either,corn,cob,simply,freeze,piece,nuke,boil,whathaveyou,chip,throw,good,measure,inside,arent,impressive,slight,either,ive,plenty,dive,place,great,dining,experience,consider,fun,lolos,original,location,phoenix,come,mind,certain,fun,wellmanaged,charm,inside,dark,dingy,unpleasant,sauce,perhaps,save,grace,food,wasnt,serve,nearly,lukewarm,able,bring,something,table,sadly,amount,saucedrowning,save,meal,leave,unhappy,unfulfilled,ive,hear,many,great,thing,people,trust,may,try,day,one,star,stand,simply,nothing,even,little,redeem,food',\n",
       " 'come,surprise,birthday,dinner,table,water,beautiful,mister,leak,right,behind,chair,visibly,easy,fix,nothing,order,bottle,wine,waiter,return,inform,particular,bottle,find,disappointing,also,wine,store,octopus,clam,chowder,app,octopus,portion,small,lack,flavor,department,clam,chowder,good,ive,ever,entrees,ciopinno,braised,beef,ravioli,good,lack,flavor,small,portion,specifically,annoy,ask,waiter,portion,size,since,consider,order,third,entree,share,assure,large,portion,unlike,french,restaurant,pasta,beyond,al,dente,plate,sloppy,wipe,rim,people,hard,complimentary,gelato,crunch,cookie,birthday,nice,photograph,sun,set,swarm,tiny,bug,start,circulate,around,table,assure,werent,mosquito,definitely,wasnt,good,end,night,waiter,nice,definitely,wait,long,period,time,assistance,dont,check,often,spill,glass,water,small,table,use,dinner,napkin,clean,waiter,didnt,show,till,min,late,usually,something,like,happen,swarm,waiter,appear,help,bring,new,napkin,utensil,highlight,meal,guy,play,live,music,amazing',\n",
       " 'food,great,service,great,coffee,suck,wasnt,american,coffee,cute,soda,country,fry,amazing,staff,kind,cute,lil,place,table,food,didnt,take,long,come',\n",
       " 'go,lunch,today,leave,displeased,ask,waiter,top,seller,pasta,really,hungry,usually,pasta,come,large,amount,say,ravioli,sure,ask,glass,wine,oz,go,pasta,come,small,app,plate,please,barely,food,plate,even,please,get,bill,pasta,dollar,wine,lunch,dinner,leave,grab,burger,wont,ever,go,back,even,price,lack,food,get,price,high,end,place,dont,think,lunch,cost,dollar,eaton,center,pizza,pasta,place,warn,leave,hungry',\n",
       " 'want,stay,away,strip,look,menu,review,online,think,place,good,choice,book,valentine,day,reservation,check,seat,make,row,table,behind,host,stand,table,awkward,didnt,feel,like,nice,romantic,date,place,people,check,see,order,ask,move,inside,dining,room,price,know,spend,table,joke,seat,different,table,menu,bring,chance,look,thing,look,menu,online,first,thing,notice,give,menu,price,raise,dollar,every,single,item,due,valentine,day,know,work,fine,dining,holiday,know,pay,nice,night,course,fancy,meal,holiday,walk,away,pay,meal,two,drink,two,steak,seem,really,excessive,m,resort,order,surf,turf,include,filet,mignon,small,piece,lobster,husband,order,tomahawk,steak,around,believe,also,order,caesar,salad,scalloped,potato,caesar,salad,good,huge,piece,parmesan,frico,salty,anchovy,perfect,ratio,lettuce,dress,husband,steak,delicious,well,see,open,kitchen,table,open,grill,method,make,flavorful,steak,top,butter,salt,filet,also,good,cook,perfect,medium,neither,steak,need,additional,season,potato,probably,favorite,thin,slice,soft,potato,layer,creamy,cheese,butter,herb,nice,help,great,side,steak,lobster,taste,little,tough,believe,cook,server,busy,tell,ask,bread,basket,drink,refill,seem,little,delay,plate,werent,clear,timely,manner,still,good,love,m,think,good,meal,wasnt,amazing,meal,cant,wrap,head,around,pay,large,price,steakhouse',\n",
       " 'great,place,ive,hear,much,finally,get,give,try,owner,manager,generously,host,desert,harbor,doberman,rescue,happy,hour,donate,time,period,rescue,wonderful,people,waitstaff,friendly,helpful,place,crazy,pack,obviously,place,incredibly,dog,friendly,lot,people,come,bike,lot,people,group,really,like,food,order,really,really,good,fry,order,kid,menu,didnt,love,chicken,finger,kind,process,taste,think,get,order,kid,menu,probably,kid,like,happy,get,try,ohso',\n",
       " 'shock,good,review,much,high,expectation,experience,tortilla,enchilada,taco,good,adobada,meat,mealy,taste,enchilada,meat,fatty,asada,dish,water,taste,like,spicy,salsas,salsas,hot,radish,salsa,bar,fresh,rubbery,truly,hate,bash,local,taco,shop,basically,throw,worth,food,trash,stick,robertos,even,well,taco,el,gordo',\n",
       " 'love,food,time,everytime,service,get,understand,busy,restaurant,pay,attention,customer,one,leave,tip,like,say,love,food,service,purpose,rather,eat,tapa,barcelona,tapa,bar,give,star,venture,firefly,despite,snobby,service,make,sure,try,tuna,tartare,sweet,something,always,get,stuff,date,full,flavor,terra,y,mare,skewer,great,get,taste,three,different,meat,filet,mignon,slider,firefly,fry,pretty,good,basic,afraid,let,taste,bud,explore,also,really,like,empanadas,little,spice,win,also,like,infuse,vodka,really,taste,berry,lychee,beware,hit,fast,hope,everyone,else,go,get,well,service,enjoy,food,drink',\n",
       " 'great,view,awful,service,salad,stale,food,super,blah,many,choice,around,take,food,preparation,seriously',\n",
       " 'worth,line,come,dimsum,pm,today,still,minute,wait,table,early,bird,special,weekend,thing,make,experience,bad,wait,dish,take,hour,serve,five,dish,finally,pm,wonder,happen,dessert,dish,tell,forget,kitchen,close,apologize,say,remove,bill,really,disappointing,go,elsewhere,dessert,dim,sum,place,much,quick,feel,like,sit,without,food,wait,whole,time,also,always,run,bake,bbq,pork,bun,pastry,dish,finally,come,demolish,pretty,quick,food,ok,definitely,worth,wait,door,wait,sit,recommend,fry,shrimp,almond,ball,mini,beef,black,bean,sauce,pastry,pie,although,fill',\n",
       " 'place,bad,amazing,view,food,good,always,crowd,loud,crazy,vegas,say,go,youll,enjoy',\n",
       " 'go,yesterday,third,time,go,hope,two,time,fluke,im,start,think,food,steak,crappy,little,burn,taste,like,char,piece,honestly,im,give,three,star,name,two,youre,afraid,travel,little,south,slightly,rough,area,really,bad,opinion,original,huge,tremendous,difference,worth,drive,especially,wholly,disappointed,place,wait,staff,hostess,friendly,nothing,wrong,way,treat,sadly,food',\n",
       " 'ok,food,definitely,great,come,around,wednesday,little,busy,three,rather,large,crowd,people,service,bit,slow,food,take,minute,get,dont,blame,worker,though,worker,first,someone,come,bit,late,help,order,beef,brisket,sandwich,pull,pork,sandwich,half,rack,rib,side,coleslaw,total,around,include,tax,sandwich,quite,small,small,expect,theyre,grow,adult,easily,eat,sandwich,also,wasnt,big,fan,offer,meat,sandwich,form,prefer,beef,brisket,term,taste,food,alright,ive,much,well,pull,pork,seem,pretty,dry,maybe,wasnt,enough,sauce,beef,brisket,actually,probably,good,coleslaw,wasnt,good,easily,make,well,one,rib,ok,cant,see,come,back,give,area,arent,exactly,many,well,option,place,good,enough,want,bbq,food,dont,feel,like,go,far',\n",
       " 'walk,walk,right,back,stupid,slow,suppose,fast,food,heck,del,taco,get,together',\n",
       " 'slow,serverfood,okdidnt,get,serve,warm,tortilla,manager,comped,drink,wait,checkin,restaurant,hour,werent,even,busy',\n",
       " 'husband,decide,stay,cation,anniversary,spend,day,aji,spa,first,time,many,year,want,try,spa,clean,staff,super,friendly,locker,room,large,nice,amenity,couple,massage,facial,service,fantastic,service,room,comfortable,technician,awesome,lunch,cafe,enjoy,much,limit,menu,food,delicious,fresh,ingredient,combination,use,amazing,actually,love,come,back,lunch,spa,area,nice,think,amenity,steam,room,sauna,whirlpool,think,update,additional,amenity,spa,rival,good,look,forward,go,back,sometime,join,club,excited,use',\n",
       " 'place,pretty,awful,begin,ventilation,first,seat,table,feel,like,wind,tunnel,mention,maitre,d,far,elevate,term,establishment,respond,need,get,temperature,way,h,open,door,ask,reseat,fortunately,place,mostly,empty,new,table,improvement,kitchen,rev,place,become,far,smoky,oily,restaurant,food,mediocre,good,maitre,d,double,waiter,warn,food,spicy,thai,american,order,completely,tasteless,service,maitre,d,clown,compulsive,talker,atmosphere,food,hadnt,already,spoil,dinner,certainly,consider,many,thai,restaurant,within,stone,throw,place,pretty,good,even,excellent,place,low,list,worth,patronize,suspect,wont,last,long,shouldnt',\n",
       " 'terrible,service,really,bad,disappointed,new,customer,walk,establishment',\n",
       " 'decide,order,grill,cheese,tomato,soup,work,entree,grill,cheese,minimal,consist,appear,oily,shred,monterrey,jack,cheese,couldnt,even,cover,half,sandwich,piece,old,greasy,cheap,bacon,couldnt,even,buy,walmart,almost,stale,sourdough,bread,tomato,soup,horrible,pizza,sauce,never,think,possible,mess,grill,cheese,tomato,soup,ive,wrong,think,try,extra,hard,mess,food,bad,point,life,owner,decide,hate,much,want,make,sure,rest,world,suffer,im,sure,ill,suffer,late,bite,food,eat,hope,everyone,else,take,warn,possibly,bad,food,ive,ever,eat',\n",
       " 'people,color,dont,get,sample,head,white,customer,table,next,get,offer,sample,table,white,kid,glass,coffee,okay',\n",
       " 'mayo,packet,warm,establishment,know,beware,mayo,warm',\n",
       " 'come,lunch,less,impressed,service,good,restaurant,great,vibe,feel,trendy,feel,love,open,concept,outdoor,seat,available,wasnt,super,impressed,food,meal,start,great,start,watermelon,mango,salad,probably,one,good,salad,ive,ever,fresh,light,whole,bunch,flavor,sort,spice,put,add,great,unexpected,kick,order,ocotillo,chicken,mom,order,pork,flautas,friend,order,pork,shoulder,sand,meal,come,presentation,great,however,food,look,lot,well,taste,actually,ask,something,else,chicken,sickly,sweet,im,sweet,person,fan,taste,whatsoever,replace,happily,pasta,dish,pork,meatball,dish,much,well,meatball,flavorful,pair,well,pasta,try,companion,meal,wasnt,impressed,meal,either,look,look,feel,place,food,leave,lot,desire',\n",
       " 'pizza,use,tune,however,every,item,purchase,top,notch,good,service,city,surprise,come,pizza,parlor,kind,soul,around,short,dollar,change,month,ago,owner,let,slide,customer,life,way,try,hot,wing,crispy,regret',\n",
       " 'love,ambiance,nice,european,atmosphere,good,food,kavkaz,salad,delicious,pretty,much,greek,salad,spicy,beef,jerky,wouldnt,say,spicy,dont,afraid,lamb,stew,georgian,style,tasty,suggest,render,fat,first,lamb,put,crock,pot,bit,fat,piece,bit,much,fat,overall,though,good,dish,chicken,shish,kabobs,tasty,thigh,prefer,white,meat,still,taste,good,roast,potato,really,nicely,season,dessert,time,order,coffeetea,home,make,apple,strudel,ice,cream,give,vanilla,one,option,well,waiter,come,back,tell,vanilla,ice,cream,order,mango,correct,wrong,shouldnt,home,make,apple,strudel,serve,warm,serve,ice,cream,think,yes,sure,well,place,serve,strudel,cold,yes,ask,waiter,heat,say,make,last,night,big,tray,answer,lol',\n",
       " 'get,seat,around,place,order,wait,almost,hour,half,receive,sushi,manager,wasnt,address,situation,table,also,complain,wait,time,also,manager,didnt,apologize,employee,come,apologize',\n",
       " 'first,love,mississauga,location,never,wrong,food,doesnt,live,scaddabush,hype,favourite,dish,pesto,pollo,severely,lack,flavour,know,dish,ive,countless,time,location,order,garlic,rosemary,fry,part,starter,server,bring,regular,fry,even,ask,garlic,rosemary,tell,smell,try,deceive,dont,fry,let,know,order,something,else,starter,overall,disappointment,continue,go,one,mississauga,never,come,one',\n",
       " 'check,place,say,couldnt,seat,close,pm,several,open,table,people,finish,plate,clean,mention,entire,patio,vacant,say,couldnt,tell,food,advise,either,call,make,reservation,go,hour,advance,hope,seat',\n",
       " 'fry,kind,bland,coleslaw,ok,meat,good,overall,tasty,place,good,price',\n",
       " 'service,terrible,worker,look,like,dont,want,get,vietnamese,coffee,price,bad,large,ice,coffee,ratio,definitely,con,get,ice,barely,coffee,disappointing,price,im,pay,bright,side,vietnamese,coffee,pretty,damn,good',\n",
       " 'write,hour,operation,somewhere,want,pick,pizza,son,lunch,today,post,anywhere,even,try,phone,think,maybe,answer,machine,message,come,secret',\n",
       " 'really,want,try,place,walk,almost,daily,picture,buffet,window,look,wonderful,lunch,buffet,available,weekend,go,sunday,noon,although,open,nothing,set,didnt,even,know,detour,go,fly,pony,coffee,give,time,set,half,hour,late,buffet,half,full,point,walk,hubby,know,want,try,decide,stay,slowly,additional,dish,bring,find,watery,lack,substance,several,dish,label,paneer,hard,find,paneer,point,bring,bowl,add,cube,come,first,customer,day,like,someone,pick,dish,clean,unless,course,recycle,previous,night,buffet,food,season,know,eat,indian,cuisine,week,fresh,naan,bar,make,order,bring,table,choice,regular,garlic,bring,well,second,plate,food,one,piece,quarter,two,give,single,diner,near,exact,basket,offer,basket,empty,afternoon,close,pm,bring,chop,lettuce,salad,bar,well,hour,open,see,wonderful,review,eggplant,must,one,remain,empty,spot,buffet,leave,none,although,vegetarianvegan,daughter,quite,familiar,eat,way,gassiest,experience,ever,vegetarian,restaurant,price,affordable,staff,friendly,return',\n",
       " 'dessert,pretty,good,definitely,vary,get,ginger,soup,dumpling,ball,really,great,ginger,soup,strong,hand,sweet,walnut,soup,taste,water,cold,coconut,sago,tasty,sweet,wasnt,cold,still,good,place,visit,youre,crave,chinese,dessert',\n",
       " 'ive,give,place,many,chance,food,want,give,benefit,doubt,keep,get,wrong,good,thing,menu,probably,cheese,fry,theyre,particularly,good,rest,food,bad,time,ive,order,delivery,food,cold,driver,ignore,instruction,take,hour,half,im,sure,theyre,mess,dont,care,either,way,avoid,place,lot,great,wing,place,area,wing,zone,one',\n",
       " 'place,really,go,hill,beer,flat,cold,waiter,bring,spicy,wing,want,sweet,wing,never,ask,type,want,get,chip,bratwurst,slider,im,stein,member,really,use,love,place,almost,empty,saturday,night,place,happen',\n",
       " 'ive,well,sushi,mall,service,take,incredibly,slow,rice,sushi,undercooked,top,charge,extra,fee,even,though,pay,cash,didnt,order,food,overall,bad,experience',\n",
       " 'make,sure,checkin,mobile,yelp,app,+,bill,boyfriend,come,friday,night,around,pack,hear,read,good,thing,place,happy,hour,menu,pretty,good,halfoff,select,nigiri,simple,roll,large,house,sake,happy,hour,decor,small,pack,loud,clean,kind,regret,grab,seat,sushi,bar,fast,service,way,order,roll,johnny,say,start,take,minute,get,roll,type,end,night,roll,house,sake,two,order,gyoza,hour,minute,fish,flavorful,fresh,rich,delicious,pretty,generous,fish,well,presentation,beautiful,sauce,drizzle,care,roll,sushi,tantalize,taste,bud,bit,pricey,since,ala,carte,know,allyoucaneat,nonayce,joint,expect,maybe,fast,service,despite,quality,roll,come,snail,pace,keep,get,hungry,finish,roll,dish,feel,bit,sorry,lone,waitress,everything,clean,tend,customer,get,side,dish,order,etc,good,serve,everyone,though,maybe,service,wouldnt,suffer,much,another,waitresswaiter,maybe,extra,chef,dont,get,wrong,didnt,expect,come,order,immediately,take,forever,get,one,price,pay,around,ish,end,night,two,kind,wish,choose,another,place,delicious,meal,notsogreat,time,sushi,dont,mind,pay,sushi,im,pay,quite,bit,extra,ala,carte,place,expect,bit,well,term,timeliness,maybe,well,come,back,try,less,busy,night',\n",
       " 'usually,pretty,good,compare,nearby,restaurant,today,receive,order,piece,chicken,virtually,bone,bit,chicken,think,meat,almost,break,tooth,tooth,still,hurt,take,food,go,redeem,unfortunate,extremely,hungry,time,portion,arent,good,food,taste,good',\n",
       " 'food,wasfantastic,waiter,suck,get,mad,spliting,bill,insist,twice,anyone,couple,pay,one,bill,tell,tone,voice,wasannoyed,go,high,end,act,high,end,bc,slap,automatic,gratuity,bill,think,pay,shitty,waiter,give,three,star,food',\n",
       " 'definitely,understaffed,minute,wait,water,serve,wont,ever,come,service,food,environment,okay,doubt,picture,menu,take',\n",
       " 'maybe,go,day,happy,sub,think,order,italian,sub,get,soggy,sub,didnt,even,finish,half,hear,people,rave,place,dont,see,chandler,crave,deli,sandwich,go,jasons,deli,im,say,great,almost,sandwich,shop,good,bet,unless,really,want,feel,like,make,meal,home,happen,jasons,deli',\n",
       " 'food,terrible,short,rib,like,piece,rubber,kale,brussels,salad,ok,dry,mussel,come,tomato,sauce,imagine,bad,sauce,taste,like,one,bite,entree,leave,one,ask,food,taste,good,thing,want,time,money,back',\n",
       " 'club,burger,ok,airport,food,service,poor,werent,many,people,sit,side,restaurant,server,spend,lot,time,visit,request,everything,need',\n",
       " 'one,bad,dining,experience,ever,reservation,friend,birthday,didnt,get,table,min,hostess,offer,let,get,drink,bar,wait,service,slow,one,person,actually,manage,order,drink,finally,seat,extremely,slow,service,continue,drink,food,take,hour,seat,min,original,reservation,get,appetizer,food,arrive,basic,good,speak,waiter,well,manager,give,nonapology,absolutely,terrible,service,top,bottom',\n",
       " 'dinner,couple,day,ago,let,say,good,expect,two,server,even,blonde,woman,unfriendly,pretty,much,ruine,experience,answer,rude,bad,tone,voice,impressed,steak,order,favor,pass,restaurant',\n",
       " 'yelp,fail,unimpressed,place,rate,high,like,wait,minute,gnaw,nasty,taco,black,hole,music,loud,cant,hear,person,front,youll,love,place,isnt,jam,go,mucha,lucha,taco,shop,actual,delicious,authentic,taco,half,price,hostess,snap,chat,whole,time,busy,taco,tuesday,night,one,good,thing,say,place,tortilla,great,fillings,though',\n",
       " 'fly,la,vegas,canada,day,back,even,plenty,time,grab,bite,board,flight,decide,dine,apropos,recall,first,time,ever,see,order,food,ipads,wasnt,pearson,international,airport,actually,charlotte,international,airport,several,month,late,pearson,catch,apropos,terminal,plop,seat,order,ipad,get,fish,taco,hummus,pita,also,order,diet,coke,wash,everything,fish,taco,soft,shell,get,three,delicious,spicy,avocado,work,well,lime,cream,pico,de,gallo,also,love,hummus,grill,pita,wedge,tender,crispy,perfect,naturally,dining,airport,pay,lot,remember,price,push,two,small,plate,food,beverage,include,tax,tip,didnt,mind,though,quality,taste,good,also,dont,dine,airport,often,hungry,beef,try,pay,meal,suppose,able,ipad,didnt,work,instead,flag,server,try,sort,youd,think,debitcredit,machine,nope,move,different,ipad,select,wasnt,close,yes,haul,belongings,roll,computer,bag,sweater,several,foot,away,inconvenience,also,see,problem,huge,one,large,party,make,sure,personal,belongings,safe,practically,go,different,gate,pay,meal,hope,issue,fix,feel,still,case,though',\n",
       " 'second,time,try,feel,way,time,wing,good,buffalo,sauce,wasnt,expect,traditional,buffalo,like,thick,paste,consistency,odd,pretty,expensive,quality,amount,food',\n",
       " 'place,get,top,mark,decor,comfort,food,selection,limit,competitor,ton,comfortable,couch,place,look,like,sanrio,church,nice,space,chill,group,board,game,nice,touch,food,selection,need,work,reason,always,trouble,find,something,want,perhaps,menu,cater,asian,audience,rather,americanized,taste,weak,internet,also,make,place,hard,choose,insanely,fast,internet,available,place,nearby,like,chatime,even,orange,caramel,cafe,place,tend,quiet,day,see,come,back,take,advantage,space,large,group,long,hour,operation,compare,place,like,orange,caramel,cafe',\n",
       " 'tasty,fry,chicken,shrimp,freshly,prepare,good,portion,stuff,really,welcome,usually,fast,service,bad,experience,time,go,always,try,fry,butter,shrimp,big,one,however,annoyed,increase,price,without,change,menu,board,restaurant,choice,get,pc,instead,dame,old,price,pay,usual,pc,combo,also,annoyed,buy,small,extra,give,pay,spicy,extra,dip,etc,easily,give,star,wasnt,comment',\n",
       " 'sumo,raman,go,raman,since,friend,try,raman,go,beef,curry,big,disappointment,taste,like,japanese,curry,ive,elsewhere,yellow,gravy,tad,spiciness,slice,beef,help,either,didnt,look,like,picture,menu,raman,noodle,look,like,authentic,raman,like,chinese,noodle,also,okonomiyaki,description,taste,like,takoyaki,pancake,form,little,bit,octopus,also,offer,bubble,tea,dont,think,japanese,yelpers,mention,probably,chineseown,establishment,service,little,slow,take,waitress,take,order',\n",
       " 'pizza,good,crust,perfectly,bubbly,crispy,delivery,take,minute,friendly,husband,pizza,look,like,work,art,say,good,order,sure,order,second,time,pizza,good,overall,order,mushroom,probably,slice,mushroom,piece,kind,bummer',\n",
       " 'ill,keep,simple,food,really,really,good,like,really,good,samosa,get,lamb,trust,delicious,warm,naan,everything,husband,try,delicious,even,glass,riesling,refreshing,generous,pour,atmospherewise,many,family,try,convince,distract,toddler,try,tandoori,chicken,first,time,advice,dont,service,good,waiter,superfriendly,quick,portion,little,small,price,chicken,korma,awesome,silver,bowl,come,kinda,small,im,sorry,enjoy,indian,food,leftover,husband,tandoori,mix,grill,super,tasty,bit,heavy,pepper,onion,meat,fish,appreciate,handle,spice,go,medium,plenty,yes,well,definitely,go,back,want,check,lunch,buffet',\n",
       " 'constant,lunch,crowd,nothing,overwhelming,place,around,awhile,give,shoot,lunch,today,get,beef,tallarines,saltado,noodle,fry,egg,top,chicken,side,along,complimentary,soup,dessert,soda,checkin,friend,accompany,peruvian,mention,nothing,taste,good,homemade,give,shoot,get,inko,gold,soda,bring,back,good,memory,sip,ice,friend,also,order,purple,corn,drink,fry,rice,aka,chaufas,say,worth,price,get,really,enjoy,soap,one,thing,every,culture,get,youre,feel,little,weather,friend,think,fry,rice,pretty,good,taste,quality,say,good,thing,come,peruvian,though,also,get,charge,twice,bit,mix,may,may,come,back,price,probably,eat,nice,hearty,meal,im,area,though,dont,feel,like,pollo,inka,showcase,good,peruvian,food,good,start',\n",
       " 'really,wish,place,live,rave,read,yelp,tiny,shop,get,simple,japanese,tapa,bar,setup,diverse,menu,full,house,shock,number,people,middle,week,dinner,wasnt,even,warm,weather,day,friend,eager,catch,share,item,grab,agedashi,tofu,grill,eggplant,okonomiyaki,karaage,udon,bowl,didnt,seem,like,much,plenty,small,appetite,doesnt,eat,raw,fish,sashimi,tataki,item,question,normally,totally,problem,location,kind,menu,seem,like,everyone,talk,koyoi,lot,change,kitchen,since,amazing,review,overall,food,nothing,write,home,everything,ok,bad,struggle,give,three,star,want,give,benefit,doubt,didnt,get,signature,item,agedashi,tofu,stubborn,sticky,coat,refuse,separate,bite,ruine,experience,eggplant,accompany,bonito,flake,flavour,combination,poor,eggplant,way,overcook,everything,else,passable,mean,go,elsewhere,well,also,lack,ventilation,sit,near,back,beside,washroom,kitchen,mean,odd,odour,waft,dinner,great,something,attributable,poor,luck,price,location,close,many,option,wont,back',\n",
       " 'first,ill,start,disclaimer,dont,like,fat,food,new,spot,vellore,wood,area,sell,smoke,meat,rib,porcetta,chicken,sandwich,first,visit,give,quite,excited,new,spot,much,go,second,visit,within,week,smoke,meat,sandwich,lean,first,visit,give,cusp,third,possibly,final,visit,get,fat,load,meat,happy,good,enough,ill,keep,visit,experience,jerk,rib,sound,interest,non,jamaican,porcetta,suppose,good,plan,try,chicken,overall,place,try,like,fatty,smoke,meat,youll,definitely,want,give,try,area',\n",
       " 'make,reservation,couple,month,back,open,weekend,upon,arrival,restaurant,give,great,seat,reservation,get,fry,variety,great,completely,average,taste,lamb,secondary,course,gamesetmatch,good,kind,awesome,overall,problem,place,booth,seat,quite,uncomfortable,small,problem,know,highly,recommend,fez,great,initial,experience,side,note,friend,acquaintance,whove,come,fezalso,love']"
      ]
     },
     "execution_count": 25,
     "metadata": {},
     "output_type": "execute_result"
    }
   ],
   "source": [
    "df_dev_1 = df_dev.filter(df_dev.label==1)\n",
    "df_dev_1.select(\"cleanTokens_n\").rdd.flatMap(lambda x: x).collect()"
   ]
  },
  {
   "cell_type": "code",
   "execution_count": 26,
   "metadata": {},
   "outputs": [],
   "source": [
    "#Convert the string column to list\n",
    "\n",
    "df_dev_1 = df_dev.filter(df_dev.label==1)\n",
    "clean_tokens_label_1= df_dev_1.select(\"cleanTokens_n\").rdd.flatMap(lambda x: x).collect()\n",
    "\n",
    "df_dev_0 = df_dev.filter(df_dev.label==0)\n",
    "clean_tokens_label_0= df_dev_0.select(\"cleanTokens_n\").rdd.flatMap(lambda x: x).collect()\n",
    "\n",
    "# Find the words that appear in the reviews of label=1 but not in label=0\n",
    "Difference_one_zero=list(set(clean_tokens_label_1) - set(clean_tokens_label_0))\n",
    "# Find the words that appear in the reviews of label=0 but not in label =1\n",
    "Difference_zero_one=list(set(clean_tokens_label_0) - set(clean_tokens_label_1))"
   ]
  },
  {
   "cell_type": "markdown",
   "metadata": {},
   "source": [
    "### 3.2.3 Analysis of normalized review text"
   ]
  },
  {
   "cell_type": "markdown",
   "metadata": {},
   "source": [
    "Useful Keywords:<br>\n",
    "During the \"gold\" labelling phase, we noted down keywords that we thought appear frequently in each of the labels. Then with trial and error we defined different labelling functions based on those keywords and compared their performance by evaluating the coverage-accuracy trade-off. the best performing keywords were chosen and formed into LFs.\n",
    "\n",
    "the tested keywords are listed below: \n"
   ]
  },
  {
   "cell_type": "code",
   "execution_count": 27,
   "metadata": {},
   "outputs": [],
   "source": [
    "list_label_0=[\"perfect\", \"always\", \"delicious\", \"enjoy\", \"amazing\",\"great\", \"love\",\n",
    "        \"excellent\", \"favourite\" , \"clean\", \"impeccable\", \"fabulous\", \"fav\",\n",
    "        \"generous\", \"regulars\", \"outstanding\", \"regular\", \"bomb\", \"authentic\",\n",
    "        \"reasonably\",\"gem\",\"amazing\",\"excellent\"]\n",
    "   \n",
    "list_label_1=[\"Rude\",\"disappointment\", \"avoid\", \"overcooked\", \"pricey\", \"worst\", \"awkward\" ,\n",
    "       \"awkwardly\" , \"expensive\", \"annoying\", \"tasteless\", \"bland\", \"Gross\", \"ewww\",\n",
    "       \"slow\",\"mess\", \"rubbery\", \"needed\", \"undercoocked\", \"wrong\", \"horrific\",\n",
    "       \"grease\", \"horrible\",\"overpriced\", \"overwhelmed\", \"dry\" ,\"tiny\",\n",
    "       \"disgusting\", \"cardboard\", \"inattentive\", \"unfortunately\",  \"chewy\" ,\n",
    "       \"unpleasant\", \"sucked\", \"displeased\", \"delayed\", \"loud\", \"crappy\", \"alright\"]"
   ]
  },
  {
   "cell_type": "markdown",
   "metadata": {},
   "source": [
    "We grouped by the label and calculated statistics that could be useful for the development stage"
   ]
  },
  {
   "cell_type": "code",
   "execution_count": 29,
   "metadata": {},
   "outputs": [
    {
     "name": "stdout",
     "output_type": "stream",
     "text": [
      "+-----+-------------------+------------------+-------------------+-------------------+------------+\n",
      "|label|         avg(funny)|       avg(useful)|          avg(cool)|avg(n_clean_tokens)|count(label)|\n",
      "+-----+-------------------+------------------+-------------------+-------------------+------------+\n",
      "|  0.0|0.25874125874125875|0.8391608391608392|0.46153846153846156|  46.61188811188811|         286|\n",
      "|  1.0| 0.6915887850467289|1.5467289719626167| 0.7336448598130841|  68.67757009345794|         214|\n",
      "+-----+-------------------+------------------+-------------------+-------------------+------------+\n",
      "\n"
     ]
    }
   ],
   "source": [
    "# !!!! TO PAVLOS: ALL THE ORIGINAL AGG METRICS HAVE BEEN COMBINED IN A SINGLE ROW\n",
    "from pyspark.sql.functions import count, avg\n",
    "\n",
    "results_agg = df_dev.groupby(\"label\").agg(avg(\"funny\"), avg(\"useful\"), avg(\"cool\"), avg(\"n_clean_tokens\"), count('label'))\n",
    "results_agg.show()"
   ]
  },
  {
   "cell_type": "code",
   "execution_count": 31,
   "metadata": {},
   "outputs": [],
   "source": [
    "#Pavlos's Part:\n",
    "@labeling_function()\n",
    "def short_comment(x):\n",
    "    \"\"\"Negative comments are often short, such as 'foods were insane'\"\"\"\n",
    "    return NEGATIVE if len(x.text.split()) < 20 else ABSTAIN\n",
    "\n",
    "@labeling_function()\n",
    "def Keyword_perfect(x):\n",
    "    \"\"\"Perfect is a keyword that frequently appeared in reviews with negative label'\"\"\"\n",
    "    return NEGATIVE if \"perfect\" in x.text.lower() else ABSTAIN\n",
    "\n",
    "@labeling_function()\n",
    "def long_comments(x):\n",
    "    \"\"\"Positive comments are often long, complaints are usually detailed.'\"\"\"\n",
    "    return POSITIVE if len(x.text.split()) > 350 else ABSTAIN\n",
    "\n",
    "@labeling_function()\n",
    "def keyword_bad(x):\n",
    "    \"\"\"Bad is a keyword that frequently appears in reviews with positive label'\"\"\"\n",
    "    return POSITIVE if \"bad\" in x.text.lower() else ABSTAIN\n",
    "\n",
    "\n"
   ]
  },
  {
   "cell_type": "markdown",
   "metadata": {},
   "source": [
    "### 3.2.3 Shuo's LFs"
   ]
  },
  {
   "cell_type": "markdown",
   "metadata": {},
   "source": [
    "<div class=\"alert alert-success\">\n",
    "<b> Keywords Labeling Functions </b>\n",
    "\n",
    "<p>For text/comment in the dataset, some Labeling Functions(LFs later in this paper) could be written based on just keywords lookups. \n",
    "    These will often follow a realtive similar execution pattern, so we can create a template and use the resources parameter to pass\n",
    "    in specific keywords. Between, same for the labeling_function decorator, the LabelingFunction class wraps \n",
    "    a Python function (the f parameter), and we can use the resources parameter to pass in keyword arguments (here, our keywords to \n",
    "    lookup) to said function.\n",
    "</div>\n"
   ]
  },
  {
   "cell_type": "code",
   "execution_count": 32,
   "metadata": {},
   "outputs": [
    {
     "data": {
      "text/plain": [
       "\"NEGATIVE comments talk about 'I love pizza', 'Love this resturant', etc.\""
      ]
     },
     "execution_count": 32,
     "metadata": {},
     "output_type": "execute_result"
    },
    {
     "data": {
      "text/plain": [
       "\"NEGATIVE comments talk about 'This food is perfect', 'Perfect people' to describe.\""
      ]
     },
     "execution_count": 32,
     "metadata": {},
     "output_type": "execute_result"
    },
    {
     "data": {
      "text/plain": [
       "\"POSITIVE comments talk about 'The waiter is rude', 'Their behaviour is rude', etc.\""
      ]
     },
     "execution_count": 32,
     "metadata": {},
     "output_type": "execute_result"
    }
   ],
   "source": [
    "from snorkel.labeling import LabelingFunction\n",
    "\n",
    "def keyword_lookup(x, keywords, label):\n",
    "    if any(word in x.text.lower() for word in keywords):\n",
    "        return label\n",
    "    return ABSTAIN\n",
    "def make_keyword_lf(keywords, label=0):\n",
    "    return LabelingFunction(\n",
    "        name=f\"keyword_{keywords[0]}\",\n",
    "        f=keyword_lookup,\n",
    "        resources=dict(keywords=keywords, label=label)\n",
    "    )\n",
    "\"\"\"NEGATIVE comments talk about 'I love pizza', 'Love this resturant', etc.\"\"\"\n",
    "keyword_love = make_keyword_lf(keywords=[\"love\"])\n",
    "\n",
    "\"\"\"NEGATIVE comments talk about 'This food is perfect', 'Perfect people' to describe.\"\"\"\n",
    "keyword_perfect = make_keyword_lf(keywords=[\"perfect\"])\n",
    "\n",
    "\"\"\"POSITIVE comments talk about 'The waiter is rude', 'Their behaviour is rude', etc.\"\"\"\n",
    "keyword_rude = make_keyword_lf(keywords=[\"rude\"])"
   ]
  },
  {
   "cell_type": "code",
   "execution_count": 33,
   "metadata": {},
   "outputs": [],
   "source": [
    "@labeling_function()\n",
    "def keyword_less(x):\n",
    "    return POSITIVE if re.search(\"less\", x.text, flags=re.I) else ABSTAIN\n",
    "@labeling_function()\n",
    "def keyword_love(x):\n",
    "    return NEGATIVE if re.search(\"love\", x.text, flags=re.I) else ABSTAIN\n",
    "@labeling_function()\n",
    "def keyword_great(x):\n",
    "    return NEGATIVE if re.search(\"great\", x.text, flags=re.I) else ABSTAIN\n",
    "@labeling_function()\n",
    "def keyword_rude(x):\n",
    "    return POSITIVE if re.search(\"rude\", x.text, flags=re.I) else ABSTAIN"
   ]
  },
  {
   "cell_type": "markdown",
   "metadata": {},
   "source": [
    "<div class=\"alert alert-success\">\n",
    "<b> Heuristic Keywords Labeling Functions </b>\n",
    "\n",
    "<p>When I manually labelled the development dataset at the very beginning stage,  \n",
    "    I realise the POSITIVE text always come up with high useful rate and vice versa.\n",
    "    Meanwhile, funny rate could \n",
    "    equal to 0, if this comment is labelled as 0. Hence, certain LFs were made.\n",
    "</div>"
   ]
  },
  {
   "cell_type": "code",
   "execution_count": 34,
   "metadata": {},
   "outputs": [],
   "source": [
    "@labeling_function()\n",
    "def high_useful(x):\n",
    "    return POSITIVE if x.useful > 10 else ABSTAIN\n",
    "@labeling_function()\n",
    "def low_useful(x):\n",
    "    return NEGATIVE if x.useful < 2 else ABSTAIN\n",
    "@labeling_function()\n",
    "def funny(x):\n",
    "    return NEGATIVE if x.funny == 0 else ABSTAIN"
   ]
  },
  {
   "cell_type": "markdown",
   "metadata": {},
   "source": [
    "<div class=\"alert alert-success\">\n",
    "<b> Summary --> DEPRECATED (Goes after Pavlos' LFs) </b>\n",
    "\n",
    "<p>Overall, the coverage, accuracy and relationship among LFs made above can be obtained from below Label Metrics.\n",
    "\n",
    "</div>"
   ]
  },
  {
   "cell_type": "markdown",
   "metadata": {},
   "source": [
    "### 3.2.4 Pavlos's LFs"
   ]
  },
  {
   "cell_type": "code",
   "execution_count": 35,
   "metadata": {},
   "outputs": [],
   "source": [
    "import re"
   ]
  },
  {
   "cell_type": "code",
   "execution_count": 36,
   "metadata": {},
   "outputs": [
    {
     "data": {
      "text/plain": [
       "'@labeling_function()\\ndef sentiment(x):\\n    \"\"\"Negative comments are often short, such as \\'foods were insane\\'\"\"\"\\n    return POSITIVE if x.lex_sentiment[0]==\\'positive\\' else ABSTAIN\\n'"
      ]
     },
     "execution_count": 36,
     "metadata": {},
     "output_type": "execute_result"
    }
   ],
   "source": [
    "from snorkel.labeling import LabelingFunction\n",
    "\n",
    "\n",
    "@labeling_function()\n",
    "def short_comment(x):\n",
    "    \"\"\"Negative comments are often short, such as 'foods were insane'\"\"\"\n",
    "    return NEGATIVE if x.n_clean_tokens < 20 else ABSTAIN\n",
    "\n",
    "\n",
    "@labeling_function()\n",
    "def keyword_disgusting(x):\n",
    "    \"\"\"Negative comments are often short, such as 'foods were insane'\"\"\"\n",
    "    return POSITIVE if \"disgusting\" in x.text.lower() else ABSTAIN\n",
    "\n",
    "@labeling_function()\n",
    "def keyword_cardboard(x):\n",
    "    \"\"\"Negative comments are often short, such as 'foods were insane'\"\"\"\n",
    "    return POSITIVE if \"cardboard\" in x.text.lower() else ABSTAIN\n",
    "\n",
    "@labeling_function()\n",
    "def regex_home(x):\n",
    "    return POSITIVE if re.search(r\"home.*about\", x.text, flags=re.I) else ABSTAIN\n",
    "\n",
    "@labeling_function()\n",
    "def regex_regular(x):\n",
    "    return NEGATIVE if re.search(r\"regular*\", x.text, flags=re.I) else ABSTAIN\n",
    "@labeling_function()\n",
    "def regex_recomend(x):\n",
    "    return POSITIVE if re.search(r\"not.recommend*\", x.text, flags=re.I) else ABSTAIN\n",
    "\n",
    "@labeling_function()\n",
    "def Keyword_gem(x):\n",
    "    return NEGATIVE if \"gem\" in x.text.lower() else ABSTAIN\n",
    "\n",
    "@labeling_function()\n",
    "def Keyword_perfect(x):\n",
    "    return NEGATIVE if \"perfect\" in x.text.lower() else ABSTAIN\n",
    "\n",
    "@labeling_function()\n",
    "def Keyword_avoid(x):\n",
    "    return POSITIVE if \"avoid\" in x.text.lower() else ABSTAIN\n",
    "\n",
    "@labeling_function()\n",
    "def regex_over_coocked(x):\n",
    "    return POSITIVE if re.search(r\"over.cooked*\", x.text, flags=re.I) else ABSTAIN\n",
    "\n",
    "@labeling_function()\n",
    "def Keyword_overpriced(x):\n",
    "    return POSITIVE if \"overpriced\" in x.text.lower() else ABSTAIN\n",
    "\n",
    "@labeling_function()\n",
    "def long_comments(x):\n",
    "    \"\"\"Negative comments are often short, such as 'foods were insane'\"\"\"\n",
    "    return POSITIVE if len(x.text.split()) > 350 else ABSTAIN\n",
    "\n",
    "@labeling_function()\n",
    "def key_good(x):\n",
    "    \"\"\"Negative comments are often short, such as 'foods were insane'\"\"\"\n",
    "    return POSITIVE if \"bad\" in x.text.lower() else ABSTAIN\n",
    "\n",
    "@labeling_function()\n",
    "def keyword_bad(x):\n",
    "    \"\"\"Bad is a keyword that frequently appears in reviews with positive label'\"\"\"\n",
    "    return POSITIVE if \"bad\" in x.text.lower() else ABSTAIN\n",
    "\n",
    "\n",
    "\n",
    "\n",
    "'''@labeling_function()\n",
    "def sentiment(x):\n",
    "    \"\"\"Negative comments are often short, such as 'foods were insane'\"\"\"\n",
    "    return POSITIVE if x.lex_sentiment[0]=='positive' else ABSTAIN\n",
    "'''"
   ]
  },
  {
   "cell_type": "markdown",
   "metadata": {},
   "source": [
    "### 3.2 Writing Labeling Functions 2: Numerical Functions"
   ]
  },
  {
   "cell_type": "markdown",
   "metadata": {},
   "source": [
    "[Shuo part]\n",
    "\n",
    "After manually labelling, our member realised that customers or visitors normally give a labelled \"1\" comments after they graded the business as a low grade (1 or 2 Star out of 5). Then, he did numerical study about the star and contribute couple of high coverage LFs to our Label Model.  "
   ]
  },
  {
   "cell_type": "code",
   "execution_count": 37,
   "metadata": {},
   "outputs": [
    {
     "name": "stdout",
     "output_type": "stream",
     "text": [
      "+--------------------+-----------+--------------------+-------------+------------------+\n",
      "|             user_id|total_stars|             user_id|total_reviews|         avg_stars|\n",
      "+--------------------+-----------+--------------------+-------------+------------------+\n",
      "|-0Ji0nOyFe-4yo8BK...|        4.0|-0Ji0nOyFe-4yo8BK...|            1|               4.0|\n",
      "|-1KKYzibGPyUX-Mwk...|        4.0|-1KKYzibGPyUX-Mwk...|            1|               4.0|\n",
      "|-1zQA2f_syMAdA04P...|       10.0|-1zQA2f_syMAdA04P...|            2|               5.0|\n",
      "|-2Pb5d2WBPtbyGT_b...|        5.0|-2Pb5d2WBPtbyGT_b...|            1|               5.0|\n",
      "|-3bsS2i9xqjNnIA1f...|        5.0|-3bsS2i9xqjNnIA1f...|            2|               2.5|\n",
      "|-3i9bhfvrM3F1wsC9...|       34.0|-3i9bhfvrM3F1wsC9...|            9|3.7777777777777777|\n",
      "|-47g7LR58tpHlm7Bm...|        5.0|-47g7LR58tpHlm7Bm...|            1|               5.0|\n",
      "|-4Anvj46CWf57KWI9...|        3.0|-4Anvj46CWf57KWI9...|            1|               3.0|\n",
      "|-4xyc3OgPwrLshmqH...|        3.0|-4xyc3OgPwrLshmqH...|            1|               3.0|\n",
      "|-55DgUo52I3zW9Rxk...|       90.0|-55DgUo52I3zW9Rxk...|           19|4.7368421052631575|\n",
      "|-7JSlmBJKUQwREG_y...|       21.0|-7JSlmBJKUQwREG_y...|            5|               4.2|\n",
      "|-7V6r0PLuBlFVjbLJ...|        1.0|-7V6r0PLuBlFVjbLJ...|            1|               1.0|\n",
      "|-897i_JdWyDsXGUa8...|        1.0|-897i_JdWyDsXGUa8...|            1|               1.0|\n",
      "|-8_yETBp70WiqqN-A...|       10.0|-8_yETBp70WiqqN-A...|            3|3.3333333333333335|\n",
      "|-9aO6i4fmPWrLyW4i...|        3.0|-9aO6i4fmPWrLyW4i...|            1|               3.0|\n",
      "|-9da1xk7zgnnfO1uT...|      106.0|-9da1xk7zgnnfO1uT...|           29|3.6551724137931036|\n",
      "|-9v-3PG1-NAefOd2R...|        6.0|-9v-3PG1-NAefOd2R...|            2|               3.0|\n",
      "|-AkSsUVQ0CCBe5qsK...|        1.0|-AkSsUVQ0CCBe5qsK...|            1|               1.0|\n",
      "|-BUamlG3H-7yqpAl1...|        3.0|-BUamlG3H-7yqpAl1...|            2|               1.5|\n",
      "|-CGdueQKCHM_KnHxO...|        1.0|-CGdueQKCHM_KnHxO...|            1|               1.0|\n",
      "+--------------------+-----------+--------------------+-------------+------------------+\n",
      "only showing top 20 rows\n",
      "\n",
      "+--------------------+-----+------------+\n",
      "|         business_id|stars|review_count|\n",
      "+--------------------+-----+------------+\n",
      "|QXAEGFB4oINsVuTFx...|  2.5|         128|\n",
      "|gnKjwL_1w79qoiV3I...|  4.0|         170|\n",
      "|1Dfx3zM-rW4n-31Ke...|  3.0|          18|\n",
      "|fweCYi8FmbJXHCqLn...|  4.0|          16|\n",
      "|PZ-LZzSlhSe9utkQY...|  4.0|          40|\n",
      "|1RHY4K3BD22FK7Cff...|  4.0|          35|\n",
      "|tstimHoMcYbkSC4eB...|  4.5|         184|\n",
      "|NDuUMJfrWk52RA-H-...|  3.0|          57|\n",
      "|SP_YXIEwkFPPl_9an...|  3.5|          29|\n",
      "|BvYU3jvGd0TJ7IyZd...|  3.5|          16|\n",
      "|e_EMySqP0uwlVZfd8...|  2.0|           4|\n",
      "|mlHC2XcU9Bows6cnY...|  4.0|           9|\n",
      "|_J_x_RaYTqAqAuCwg...|  3.0|          15|\n",
      "|6l00a9Gkxkcp_y-GP...|  4.5|          12|\n",
      "|dQj5DLZjeDK3KFysh...|  4.5|         242|\n",
      "|9UTpmQ4OhX5jNFUIu...|  4.0|         103|\n",
      "|v-scZMU6jhnmV955R...|  4.5|         106|\n",
      "|kANF0dbeoW34s2vwh...|  2.0|          33|\n",
      "|KFbUQ-RR2UOV62Ep7...|  3.0|           5|\n",
      "|44YFU284Z3KDEy25Q...|  3.5|         269|\n",
      "+--------------------+-----+------------+\n",
      "only showing top 20 rows\n",
      "\n"
     ]
    }
   ],
   "source": [
    "#Jiaqi's Part\n",
    "# aggregate the mean star each business and individual\n",
    "df_biz_stars=biz_res.select('business_id','stars','review_count') # aggregate business\n",
    "ind_stars=review_res.select('user_id','stars','business_id') #aggregate ind\n",
    "mapped_test = ind_stars.rdd.map(lambda x: (x[0],x[1]))\n",
    "ind_total_starts = mapped_test.reduceByKey(lambda a,b:a+b)\n",
    "mapped_test = ind_stars.rdd.map(lambda x: (x[0],1))\n",
    "ind_total_review =  mapped_test.reduceByKey(lambda a,b:a+b)\n",
    "\n",
    "# convert to spark data frame\n",
    "df_ind_total_starts = ind_total_starts.toDF([\"user_id\", \"total_stars\"])\n",
    "df_ind_total_review = ind_total_review.toDF([\"user_id\", \"total_reviews\"])\n",
    "df_ind_stars = df_ind_total_starts.join(df_ind_total_review, df_ind_total_starts.user_id == df_ind_total_review.user_id)\n",
    "df_ind_stars = df_ind_stars.withColumn('avg_stars' , df_ind_stars.total_stars/df_ind_stars.total_reviews)\n",
    "df_ind_stars.show()\n",
    "df_biz_stars.show()"
   ]
  },
  {
   "cell_type": "code",
   "execution_count": 38,
   "metadata": {},
   "outputs": [],
   "source": [
    "#from here we start to use pandas\n",
    "df_biz_stars=df_biz_stars.toPandas()\n",
    "df_ind_stars=df_ind_stars.toPandas()\n",
    "df_ind_stars = df_ind_stars.loc[:,~df_ind_stars.columns.duplicated()]\n",
    "\n",
    "import pandas as pd\n",
    "from pyspark.sql import SparkSession\n",
    "from snorkel.labeling import PandasLFApplier,LFAnalysis\n",
    "spark = SparkSession.builder.appName('pandasToSparkDF').getOrCreate()\n",
    "pd_dev = pd.read_csv(\"review_dev_labelled.csv\",header=0, index_col=0)\n",
    "df_dev = spark.createDataFrame(pd_dev)\n"
   ]
  },
  {
   "cell_type": "code",
   "execution_count": 39,
   "metadata": {},
   "outputs": [
    {
     "data": {
      "image/png": "[encoded data removed]",
      "text/plain": [
       "<Figure size 432x288 with 1 Axes>"
      ]
     },
     "metadata": {
      "needs_background": "light"
     },
     "output_type": "display_data"
    }
   ],
   "source": [
    "#Threshold Analysis: Pure Stars\n",
    "temp=pd_dev  \n",
    "temp[temp['label']==0]['stars'].hist(bins=10,color='blue',alpha=0.5);\n",
    "temp[temp['label']==1]['stars'].hist(bins=10,color='pink',alpha=0.5);"
   ]
  },
  {
   "cell_type": "markdown",
   "metadata": {},
   "source": [
    "As shown in the threshold analysis here, it is understood that if reviews have a star lower than 2, it is very likely to\n",
    "contain complaint/suggestion. And for those whose star is higher than five, it is probably a review without complaints/suggestion. Therefore, we create two labeling functions based on \n",
    "this observation."
   ]
  },
  {
   "cell_type": "code",
   "execution_count": 40,
   "metadata": {},
   "outputs": [],
   "source": [
    "\n",
    "import pyspark.sql.functions as F\n",
    "from snorkel.labeling import LabelModel\n",
    "from snorkel.labeling.apply.spark import SparkLFApplier\n",
    "import pandas as pd\n",
    "import numpy as np\n",
    "from snorkel.labeling import LFAnalysis\n",
    "from pyspark.sql import Row\n",
    "from snorkel.labeling.lf import labeling_function\n",
    "#from snorkel.labeling.lf.nlp_spark import spark_nlp_labeling_function\n",
    "from snorkel.preprocess import preprocessor\n",
    "\n",
    "ABSTAIN = -1\n",
    "NEGATIVE = 0\n",
    "POSITIVE = 1\n",
    "\n",
    "@labeling_function()\n",
    "def low_star(x):\n",
    "    return POSITIVE if x.stars<=2 else ABSTAIN\n",
    "\n",
    "\n",
    "@labeling_function()\n",
    "def high_star(x):\n",
    "    return NEGATIVE if x.stars==5 else ABSTAIN\n",
    "\n"
   ]
  },
  {
   "cell_type": "code",
   "execution_count": 41,
   "metadata": {},
   "outputs": [
    {
     "data": {
      "image/png": "[encoded data removed]",
      "text/plain": [
       "<Figure size 432x288 with 1 Axes>"
      ]
     },
     "metadata": {
      "needs_background": "light"
     },
     "output_type": "display_data"
    }
   ],
   "source": [
    "#Threshold Analysis: Higher or lower than business average\n",
    "temp=pd_dev.merge(df_biz_stars, on= 'business_id', how='left')\n",
    "temp['dif']= temp['stars_x']-temp['stars_y']\n",
    "temp[temp['label']==0]['dif'].hist(bins=10,color='blue',alpha=0.5);\n",
    "temp[temp['label']==1]['dif'].hist(bins=10,color='pink',alpha=0.5);"
   ]
  },
  {
   "cell_type": "markdown",
   "metadata": {},
   "source": [
    "The graph shows that if the review star is more than one star lower than the business star, then it's very likely \n",
    "than the review should be label as 1 whereas if it is higher than the business star, it is probably a review without\n",
    "complaints or suggestions."
   ]
  },
  {
   "cell_type": "code",
   "execution_count": 42,
   "metadata": {},
   "outputs": [],
   "source": [
    "dict_biz_stars = dict(zip(df_biz_stars.business_id, df_biz_stars.stars))\n",
    "\n",
    "@labeling_function(resources=dict(dict_biz_stars=dict_biz_stars))\n",
    "def higher_than_biz(x,dict_biz_stars):\n",
    "    if x.business_id!='#NAME?':\n",
    "        a = dict_biz_stars[x.business_id]\n",
    "    else:\n",
    "        a = 0\n",
    "    return NEGATIVE if a<x.stars  else ABSTAIN\n",
    "\n",
    "@labeling_function(resources=dict(dict_biz_stars=dict_biz_stars))\n",
    "def lower_than_biz(x,dict_biz_stars):\n",
    "    if x.business_id!='#NAME?':\n",
    "        a = dict_biz_stars[x.business_id]\n",
    "    else:\n",
    "        a = 0\n",
    "    return POSITIVE if a>x.stars+1  else ABSTAIN"
   ]
  },
  {
   "cell_type": "code",
   "execution_count": 43,
   "metadata": {},
   "outputs": [
    {
     "data": {
      "image/png": "[encoded data removed]",
      "text/plain": [
       "<Figure size 432x288 with 1 Axes>"
      ]
     },
     "metadata": {
      "needs_background": "light"
     },
     "output_type": "display_data"
    }
   ],
   "source": [
    "#Threshold Analysis: higher or lower than individual average\n",
    "temp=pd_dev.merge(df_ind_stars, on= 'user_id', how='left')\n",
    "temp['dif']= temp['stars']-temp['avg_stars']\n",
    "temp[temp['label']==0]['dif'].hist(bins=10,color='blue',alpha=0.5);\n",
    "temp[temp['label']==1]['dif'].hist(bins=10,color='pink',alpha=0.5);"
   ]
  },
  {
   "cell_type": "markdown",
   "metadata": {},
   "source": [
    "The graph shows that if the review star is lower than the average user star, then it's very likely \n",
    "than the review should be label as 1 whereas if it is higher, it is probably a review without\n",
    "complaints or suggestions."
   ]
  },
  {
   "cell_type": "code",
   "execution_count": 44,
   "metadata": {},
   "outputs": [],
   "source": [
    "com_info = zip(df_ind_stars.avg_stars, df_ind_stars.total_reviews)\n",
    "dict_ind_stars = dict(zip(df_ind_stars.user_id, com_info ))\n",
    "@labeling_function(resources=dict(dict_ind_stars=dict_ind_stars))\n",
    "def higher_than_ind(x,dict_ind_stars):\n",
    "    if x.user_id!='#NAME?':\n",
    "        if x.user_id in dict_ind_stars.keys():\n",
    "            a = dict_ind_stars[x.user_id][0]\n",
    "            b = dict_ind_stars[x.user_id][1]\n",
    "        else:\n",
    "            a = 0\n",
    "            b = 0 \n",
    "    else:\n",
    "        a = 0\n",
    "        b = 0\n",
    "    return NEGATIVE if (x.stars > a) else ABSTAIN\n",
    "\n",
    "@labeling_function(resources=dict(dict_ind_stars=dict_ind_stars))\n",
    "def lower_than_ind(x,dict_ind_stars):\n",
    "    if x.user_id!='#NAME?':\n",
    "        if x.user_id in dict_ind_stars.keys():\n",
    "            a = dict_ind_stars[x.user_id][0]\n",
    "            b = dict_ind_stars[x.user_id][1]\n",
    "        else:\n",
    "            a = 0\n",
    "            b = 0 \n",
    "    else:\n",
    "        a = 0\n",
    "        b = 0\n",
    "    return POSITIVE if (x.stars < a) else ABSTAIN"
   ]
  },
  {
   "cell_type": "code",
   "execution_count": 45,
   "metadata": {},
   "outputs": [
    {
     "data": {
      "image/png": "[encoded data removed]",
      "text/plain": [
       "<Figure size 432x288 with 1 Axes>"
      ]
     },
     "metadata": {
      "needs_background": "light"
     },
     "output_type": "display_data"
    }
   ],
   "source": [
    "#Threshold Analysis: Picky individual\n",
    "temp[temp['label']==0]['avg_stars'].hist(bins=20,color='blue',alpha=0.5);\n",
    "temp[temp['label']==1]['avg_stars'].hist(bins=20,color='pink',alpha=0.5);"
   ]
  },
  {
   "cell_type": "markdown",
   "metadata": {},
   "source": [
    "The graph shows that if the average review star is lower than 4.25, the review is more likely to be a complaint or suggestion."
   ]
  },
  {
   "cell_type": "code",
   "execution_count": 46,
   "metadata": {},
   "outputs": [],
   "source": [
    "@labeling_function(resources=dict(dict_ind_stars=dict_ind_stars))\n",
    "def picky_ind(x,dict_ind_stars):\n",
    "    if x.user_id!='#NAME?':\n",
    "        if x.user_id in dict_ind_stars.keys():\n",
    "            a = dict_ind_stars[x.user_id][0]\n",
    "            b = dict_ind_stars[x.user_id][1]\n",
    "        else:\n",
    "            a = 0\n",
    "            b = 0 \n",
    "    else:\n",
    "        a = 0\n",
    "        b = 0\n",
    "    return POSITIVE if a <4.25 else ABSTAIN"
   ]
  },
  {
   "cell_type": "code",
   "execution_count": 47,
   "metadata": {},
   "outputs": [
    {
     "data": {
      "image/png": "[encoded data removed]",
      "text/plain": [
       "<Figure size 432x288 with 1 Axes>"
      ]
     },
     "metadata": {
      "needs_background": "light"
     },
     "output_type": "display_data"
    }
   ],
   "source": [
    "#Threshold Analysis: Talktive individual\n",
    "temp[(temp['label']==0) & (temp['total_reviews']<300)]['total_reviews'].hist(bins=20,color='blue',alpha=0.5);\n",
    "temp[(temp['label']==1)& (temp['total_reviews']<300)]['total_reviews'].hist(bins=20,color='pink',alpha=0.5);"
   ]
  },
  {
   "cell_type": "code",
   "execution_count": 48,
   "metadata": {},
   "outputs": [],
   "source": [
    "@labeling_function(resources=dict(dict_ind_stars=dict_ind_stars))\n",
    "def talktive_ind(x,dict_ind_stars):\n",
    "    if x.user_id!='#NAME?':\n",
    "        if x.user_id in dict_ind_stars.keys():\n",
    "            b = dict_ind_stars[x.user_id][1]\n",
    "        else:\n",
    "            b = 0 \n",
    "    else:\n",
    "        b = 0\n",
    "    return POSITIVE if b > 86  else ABSTAIN"
   ]
  },
  {
   "cell_type": "code",
   "execution_count": 49,
   "metadata": {},
   "outputs": [],
   "source": [
    "#merge user_dev.jointime \n",
    "reduced_user = user_res.select('user_id','yelping_since')\n",
    "reduced_user_pd= reduced_user.toPandas().drop_duplicates(subset=['user_id'])\n",
    "reduced_user_pd['date']=reduced_user_pd['yelping_since'].map(lambda x:int(x[0:4]))\n",
    "temp=pd_dev.merge(reduced_user_pd, on= 'user_id', how='left')"
   ]
  },
  {
   "cell_type": "code",
   "execution_count": 50,
   "metadata": {},
   "outputs": [
    {
     "data": {
      "image/png": "[encoded data removed]",
      "text/plain": [
       "<Figure size 432x288 with 1 Axes>"
      ]
     },
     "metadata": {
      "needs_background": "light"
     },
     "output_type": "display_data"
    }
   ],
   "source": [
    "temp[temp['label']==0]['date_y'].hist(bins=14,color='blue',alpha=0.5);\n",
    "temp[temp['label']==1]['date_y'].hist(bins=14,color='pink',alpha=0.5);"
   ]
  },
  {
   "cell_type": "markdown",
   "metadata": {},
   "source": [
    "The graph shows that if the join year is 2011 or after 2016, the review is less likely to be a complaint or suggestion."
   ]
  },
  {
   "cell_type": "code",
   "execution_count": 51,
   "metadata": {},
   "outputs": [],
   "source": [
    "dict_user_date = dict(zip(reduced_user_pd.user_id, reduced_user_pd.date))\n",
    "@labeling_function(resources=dict(dict_user_date=dict_user_date))\n",
    "def date_ind(x,dict_user_date):\n",
    "    if x.user_id!='#NAME?':\n",
    "        if x.user_id in dict_user_date.keys():\n",
    "            b = dict_user_date[x.user_id]\n",
    "        else:\n",
    "            b = 3000 \n",
    "    else:\n",
    "        b = 3000\n",
    "    return NEGATIVE if (b==2011 or b>=2016)  else ABSTAIN"
   ]
  },
  {
   "cell_type": "markdown",
   "metadata": {},
   "source": [
    "### 3.3.3 Wrap-up of all LFs"
   ]
  },
  {
   "cell_type": "code",
   "execution_count": 52,
   "metadata": {},
   "outputs": [],
   "source": [
    "#Try to apply Labeling function\n",
    "import pyspark.sql.functions as F\n",
    "from snorkel.labeling import LabelModel\n",
    "from snorkel.labeling.apply.spark import SparkLFApplier\n",
    "import pandas as pd\n",
    "import numpy as np\n",
    "#from snorkel.labeling import ,LFAnalysis\n",
    "from snorkel.labeling import LFAnalysis\n",
    "from pyspark.sql import Row\n",
    "from snorkel.labeling.lf import labeling_function\n",
    "#from snorkel.labeling.lf.nlp_spark import spark_nlp_labeling_function\n",
    "from snorkel.preprocess import preprocessor\n",
    "\n",
    "ABSTAIN = -1\n",
    "NEGATIVE = 0\n",
    "POSITIVE = 1"
   ]
  },
  {
   "cell_type": "code",
   "execution_count": 57,
   "metadata": {},
   "outputs": [
    {
     "data": {
      "text/html": [
       "<div>\n",
       "<style scoped>\n",
       "    .dataframe tbody tr th:only-of-type {\n",
       "        vertical-align: middle;\n",
       "    }\n",
       "\n",
       "    .dataframe tbody tr th {\n",
       "        vertical-align: top;\n",
       "    }\n",
       "\n",
       "    .dataframe thead th {\n",
       "        text-align: right;\n",
       "    }\n",
       "</style>\n",
       "<table border=\"1\" class=\"dataframe\">\n",
       "  <thead>\n",
       "    <tr style=\"text-align: right;\">\n",
       "      <th></th>\n",
       "      <th>j</th>\n",
       "      <th>Polarity</th>\n",
       "      <th>Coverage</th>\n",
       "      <th>Overlaps</th>\n",
       "      <th>Conflicts</th>\n",
       "      <th>Correct</th>\n",
       "      <th>Incorrect</th>\n",
       "      <th>Emp. Acc.</th>\n",
       "    </tr>\n",
       "  </thead>\n",
       "  <tbody>\n",
       "    <tr>\n",
       "      <th>positive_percentage</th>\n",
       "      <td>0</td>\n",
       "      <td>[1]</td>\n",
       "      <td>0.164</td>\n",
       "      <td>0.164</td>\n",
       "      <td>0.160</td>\n",
       "      <td>51</td>\n",
       "      <td>31</td>\n",
       "      <td>0.621951</td>\n",
       "    </tr>\n",
       "    <tr>\n",
       "      <th>review_false</th>\n",
       "      <td>1</td>\n",
       "      <td>[1]</td>\n",
       "      <td>0.110</td>\n",
       "      <td>0.110</td>\n",
       "      <td>0.106</td>\n",
       "      <td>48</td>\n",
       "      <td>7</td>\n",
       "      <td>0.872727</td>\n",
       "    </tr>\n",
       "    <tr>\n",
       "      <th>keyword_love</th>\n",
       "      <td>2</td>\n",
       "      <td>[0]</td>\n",
       "      <td>0.194</td>\n",
       "      <td>0.194</td>\n",
       "      <td>0.144</td>\n",
       "      <td>72</td>\n",
       "      <td>25</td>\n",
       "      <td>0.742268</td>\n",
       "    </tr>\n",
       "    <tr>\n",
       "      <th>keyword_great</th>\n",
       "      <td>3</td>\n",
       "      <td>[0]</td>\n",
       "      <td>0.342</td>\n",
       "      <td>0.342</td>\n",
       "      <td>0.276</td>\n",
       "      <td>109</td>\n",
       "      <td>62</td>\n",
       "      <td>0.637427</td>\n",
       "    </tr>\n",
       "    <tr>\n",
       "      <th>keyword_rude</th>\n",
       "      <td>4</td>\n",
       "      <td>[1]</td>\n",
       "      <td>0.032</td>\n",
       "      <td>0.032</td>\n",
       "      <td>0.030</td>\n",
       "      <td>14</td>\n",
       "      <td>2</td>\n",
       "      <td>0.875000</td>\n",
       "    </tr>\n",
       "    <tr>\n",
       "      <th>keyword_less</th>\n",
       "      <td>5</td>\n",
       "      <td>[1]</td>\n",
       "      <td>0.084</td>\n",
       "      <td>0.084</td>\n",
       "      <td>0.084</td>\n",
       "      <td>29</td>\n",
       "      <td>13</td>\n",
       "      <td>0.690476</td>\n",
       "    </tr>\n",
       "    <tr>\n",
       "      <th>low_useful</th>\n",
       "      <td>6</td>\n",
       "      <td>[0]</td>\n",
       "      <td>0.772</td>\n",
       "      <td>0.772</td>\n",
       "      <td>0.618</td>\n",
       "      <td>232</td>\n",
       "      <td>154</td>\n",
       "      <td>0.601036</td>\n",
       "    </tr>\n",
       "    <tr>\n",
       "      <th>high_useful</th>\n",
       "      <td>7</td>\n",
       "      <td>[1]</td>\n",
       "      <td>0.010</td>\n",
       "      <td>0.010</td>\n",
       "      <td>0.008</td>\n",
       "      <td>4</td>\n",
       "      <td>1</td>\n",
       "      <td>0.800000</td>\n",
       "    </tr>\n",
       "    <tr>\n",
       "      <th>funny</th>\n",
       "      <td>8</td>\n",
       "      <td>[0]</td>\n",
       "      <td>0.802</td>\n",
       "      <td>0.802</td>\n",
       "      <td>0.648</td>\n",
       "      <td>241</td>\n",
       "      <td>160</td>\n",
       "      <td>0.600998</td>\n",
       "    </tr>\n",
       "    <tr>\n",
       "      <th>short_comment</th>\n",
       "      <td>9</td>\n",
       "      <td>[0]</td>\n",
       "      <td>0.200</td>\n",
       "      <td>0.200</td>\n",
       "      <td>0.140</td>\n",
       "      <td>73</td>\n",
       "      <td>27</td>\n",
       "      <td>0.730000</td>\n",
       "    </tr>\n",
       "    <tr>\n",
       "      <th>long_comments</th>\n",
       "      <td>10</td>\n",
       "      <td>[1]</td>\n",
       "      <td>0.042</td>\n",
       "      <td>0.042</td>\n",
       "      <td>0.040</td>\n",
       "      <td>17</td>\n",
       "      <td>4</td>\n",
       "      <td>0.809524</td>\n",
       "    </tr>\n",
       "    <tr>\n",
       "      <th>keyword_disgusting</th>\n",
       "      <td>11</td>\n",
       "      <td>[1]</td>\n",
       "      <td>0.006</td>\n",
       "      <td>0.006</td>\n",
       "      <td>0.006</td>\n",
       "      <td>3</td>\n",
       "      <td>0</td>\n",
       "      <td>1.000000</td>\n",
       "    </tr>\n",
       "    <tr>\n",
       "      <th>keyword_cardboard</th>\n",
       "      <td>12</td>\n",
       "      <td>[1]</td>\n",
       "      <td>0.004</td>\n",
       "      <td>0.004</td>\n",
       "      <td>0.004</td>\n",
       "      <td>2</td>\n",
       "      <td>0</td>\n",
       "      <td>1.000000</td>\n",
       "    </tr>\n",
       "    <tr>\n",
       "      <th>regex_home</th>\n",
       "      <td>13</td>\n",
       "      <td>[1]</td>\n",
       "      <td>0.014</td>\n",
       "      <td>0.014</td>\n",
       "      <td>0.014</td>\n",
       "      <td>5</td>\n",
       "      <td>2</td>\n",
       "      <td>0.714286</td>\n",
       "    </tr>\n",
       "    <tr>\n",
       "      <th>Keyword_perfect</th>\n",
       "      <td>14</td>\n",
       "      <td>[0]</td>\n",
       "      <td>0.100</td>\n",
       "      <td>0.100</td>\n",
       "      <td>0.072</td>\n",
       "      <td>36</td>\n",
       "      <td>14</td>\n",
       "      <td>0.720000</td>\n",
       "    </tr>\n",
       "    <tr>\n",
       "      <th>Keyword_avoid</th>\n",
       "      <td>15</td>\n",
       "      <td>[1]</td>\n",
       "      <td>0.016</td>\n",
       "      <td>0.016</td>\n",
       "      <td>0.016</td>\n",
       "      <td>6</td>\n",
       "      <td>2</td>\n",
       "      <td>0.750000</td>\n",
       "    </tr>\n",
       "    <tr>\n",
       "      <th>keyword_bad</th>\n",
       "      <td>16</td>\n",
       "      <td>[1]</td>\n",
       "      <td>0.074</td>\n",
       "      <td>0.074</td>\n",
       "      <td>0.074</td>\n",
       "      <td>29</td>\n",
       "      <td>8</td>\n",
       "      <td>0.783784</td>\n",
       "    </tr>\n",
       "    <tr>\n",
       "      <th>regex_over_coocked</th>\n",
       "      <td>17</td>\n",
       "      <td>[1]</td>\n",
       "      <td>0.006</td>\n",
       "      <td>0.006</td>\n",
       "      <td>0.006</td>\n",
       "      <td>3</td>\n",
       "      <td>0</td>\n",
       "      <td>1.000000</td>\n",
       "    </tr>\n",
       "    <tr>\n",
       "      <th>Keyword_overpriced</th>\n",
       "      <td>18</td>\n",
       "      <td>[1]</td>\n",
       "      <td>0.010</td>\n",
       "      <td>0.010</td>\n",
       "      <td>0.010</td>\n",
       "      <td>5</td>\n",
       "      <td>0</td>\n",
       "      <td>1.000000</td>\n",
       "    </tr>\n",
       "    <tr>\n",
       "      <th>key_good</th>\n",
       "      <td>19</td>\n",
       "      <td>[1]</td>\n",
       "      <td>0.074</td>\n",
       "      <td>0.074</td>\n",
       "      <td>0.074</td>\n",
       "      <td>29</td>\n",
       "      <td>8</td>\n",
       "      <td>0.783784</td>\n",
       "    </tr>\n",
       "    <tr>\n",
       "      <th>low_star</th>\n",
       "      <td>20</td>\n",
       "      <td>[1]</td>\n",
       "      <td>0.216</td>\n",
       "      <td>0.216</td>\n",
       "      <td>0.210</td>\n",
       "      <td>106</td>\n",
       "      <td>2</td>\n",
       "      <td>0.981481</td>\n",
       "    </tr>\n",
       "    <tr>\n",
       "      <th>high_star</th>\n",
       "      <td>21</td>\n",
       "      <td>[0]</td>\n",
       "      <td>0.402</td>\n",
       "      <td>0.402</td>\n",
       "      <td>0.234</td>\n",
       "      <td>187</td>\n",
       "      <td>14</td>\n",
       "      <td>0.930348</td>\n",
       "    </tr>\n",
       "    <tr>\n",
       "      <th>higher_than_biz</th>\n",
       "      <td>22</td>\n",
       "      <td>[0]</td>\n",
       "      <td>0.500</td>\n",
       "      <td>0.500</td>\n",
       "      <td>0.336</td>\n",
       "      <td>214</td>\n",
       "      <td>36</td>\n",
       "      <td>0.856000</td>\n",
       "    </tr>\n",
       "    <tr>\n",
       "      <th>lower_than_biz</th>\n",
       "      <td>23</td>\n",
       "      <td>[1]</td>\n",
       "      <td>0.184</td>\n",
       "      <td>0.184</td>\n",
       "      <td>0.178</td>\n",
       "      <td>90</td>\n",
       "      <td>2</td>\n",
       "      <td>0.978261</td>\n",
       "    </tr>\n",
       "    <tr>\n",
       "      <th>higher_than_ind</th>\n",
       "      <td>24</td>\n",
       "      <td>[0]</td>\n",
       "      <td>0.456</td>\n",
       "      <td>0.456</td>\n",
       "      <td>0.390</td>\n",
       "      <td>187</td>\n",
       "      <td>41</td>\n",
       "      <td>0.820175</td>\n",
       "    </tr>\n",
       "    <tr>\n",
       "      <th>lower_than_ind</th>\n",
       "      <td>25</td>\n",
       "      <td>[1]</td>\n",
       "      <td>0.328</td>\n",
       "      <td>0.326</td>\n",
       "      <td>0.316</td>\n",
       "      <td>131</td>\n",
       "      <td>33</td>\n",
       "      <td>0.798780</td>\n",
       "    </tr>\n",
       "    <tr>\n",
       "      <th>picky_ind</th>\n",
       "      <td>26</td>\n",
       "      <td>[1]</td>\n",
       "      <td>0.766</td>\n",
       "      <td>0.766</td>\n",
       "      <td>0.756</td>\n",
       "      <td>204</td>\n",
       "      <td>179</td>\n",
       "      <td>0.532637</td>\n",
       "    </tr>\n",
       "    <tr>\n",
       "      <th>talktive_ind</th>\n",
       "      <td>27</td>\n",
       "      <td>[1]</td>\n",
       "      <td>0.120</td>\n",
       "      <td>0.120</td>\n",
       "      <td>0.116</td>\n",
       "      <td>31</td>\n",
       "      <td>29</td>\n",
       "      <td>0.516667</td>\n",
       "    </tr>\n",
       "    <tr>\n",
       "      <th>date_ind</th>\n",
       "      <td>28</td>\n",
       "      <td>[0]</td>\n",
       "      <td>0.294</td>\n",
       "      <td>0.294</td>\n",
       "      <td>0.232</td>\n",
       "      <td>89</td>\n",
       "      <td>58</td>\n",
       "      <td>0.605442</td>\n",
       "    </tr>\n",
       "  </tbody>\n",
       "</table>\n",
       "</div>"
      ],
      "text/plain": [
       "                      j Polarity  Coverage  Overlaps  Conflicts  Correct  \\\n",
       "positive_percentage   0      [1]     0.164     0.164      0.160       51   \n",
       "review_false          1      [1]     0.110     0.110      0.106       48   \n",
       "keyword_love          2      [0]     0.194     0.194      0.144       72   \n",
       "keyword_great         3      [0]     0.342     0.342      0.276      109   \n",
       "keyword_rude          4      [1]     0.032     0.032      0.030       14   \n",
       "keyword_less          5      [1]     0.084     0.084      0.084       29   \n",
       "low_useful            6      [0]     0.772     0.772      0.618      232   \n",
       "high_useful           7      [1]     0.010     0.010      0.008        4   \n",
       "funny                 8      [0]     0.802     0.802      0.648      241   \n",
       "short_comment         9      [0]     0.200     0.200      0.140       73   \n",
       "long_comments        10      [1]     0.042     0.042      0.040       17   \n",
       "keyword_disgusting   11      [1]     0.006     0.006      0.006        3   \n",
       "keyword_cardboard    12      [1]     0.004     0.004      0.004        2   \n",
       "regex_home           13      [1]     0.014     0.014      0.014        5   \n",
       "Keyword_perfect      14      [0]     0.100     0.100      0.072       36   \n",
       "Keyword_avoid        15      [1]     0.016     0.016      0.016        6   \n",
       "keyword_bad          16      [1]     0.074     0.074      0.074       29   \n",
       "regex_over_coocked   17      [1]     0.006     0.006      0.006        3   \n",
       "Keyword_overpriced   18      [1]     0.010     0.010      0.010        5   \n",
       "key_good             19      [1]     0.074     0.074      0.074       29   \n",
       "low_star             20      [1]     0.216     0.216      0.210      106   \n",
       "high_star            21      [0]     0.402     0.402      0.234      187   \n",
       "higher_than_biz      22      [0]     0.500     0.500      0.336      214   \n",
       "lower_than_biz       23      [1]     0.184     0.184      0.178       90   \n",
       "higher_than_ind      24      [0]     0.456     0.456      0.390      187   \n",
       "lower_than_ind       25      [1]     0.328     0.326      0.316      131   \n",
       "picky_ind            26      [1]     0.766     0.766      0.756      204   \n",
       "talktive_ind         27      [1]     0.120     0.120      0.116       31   \n",
       "date_ind             28      [0]     0.294     0.294      0.232       89   \n",
       "\n",
       "                     Incorrect  Emp. Acc.  \n",
       "positive_percentage         31   0.621951  \n",
       "review_false                 7   0.872727  \n",
       "keyword_love                25   0.742268  \n",
       "keyword_great               62   0.637427  \n",
       "keyword_rude                 2   0.875000  \n",
       "keyword_less                13   0.690476  \n",
       "low_useful                 154   0.601036  \n",
       "high_useful                  1   0.800000  \n",
       "funny                      160   0.600998  \n",
       "short_comment               27   0.730000  \n",
       "long_comments                4   0.809524  \n",
       "keyword_disgusting           0   1.000000  \n",
       "keyword_cardboard            0   1.000000  \n",
       "regex_home                   2   0.714286  \n",
       "Keyword_perfect             14   0.720000  \n",
       "Keyword_avoid                2   0.750000  \n",
       "keyword_bad                  8   0.783784  \n",
       "regex_over_coocked           0   1.000000  \n",
       "Keyword_overpriced           0   1.000000  \n",
       "key_good                     8   0.783784  \n",
       "low_star                     2   0.981481  \n",
       "high_star                   14   0.930348  \n",
       "higher_than_biz             36   0.856000  \n",
       "lower_than_biz               2   0.978261  \n",
       "higher_than_ind             41   0.820175  \n",
       "lower_than_ind              33   0.798780  \n",
       "picky_ind                  179   0.532637  \n",
       "talktive_ind                29   0.516667  \n",
       "date_ind                    58   0.605442  "
      ]
     },
     "execution_count": 57,
     "metadata": {},
     "output_type": "execute_result"
    }
   ],
   "source": [
    "lfs = [\n",
    "    #simon\n",
    "    positive_percentage, review_false,\n",
    "    #shuo\n",
    "    keyword_love,keyword_great,keyword_rude,keyword_less,low_useful,high_useful, funny,\n",
    "    #pavlos all \n",
    "    short_comment,long_comments,keyword_disgusting,keyword_cardboard,regex_home,\n",
    "    Keyword_perfect,Keyword_avoid,keyword_bad,regex_over_coocked, Keyword_overpriced,key_good,\n",
    "    #jiaqhi\n",
    "    low_star,high_star,higher_than_biz,lower_than_biz,higher_than_ind,lower_than_ind,\n",
    "    picky_ind,talktive_ind,date_ind\n",
    "    ]\n",
    "applier = SparkLFApplier(lfs)\n",
    "L_dev = applier.apply(df_dev.rdd)\n",
    "g_label =np.array(df_dev.select('label').collect())\n",
    "LFAnalysis(L_dev, lfs).lf_summary(g_label)\n",
    "\n",
    "\n"
   ]
  },
  {
   "cell_type": "markdown",
   "metadata": {},
   "source": [
    "## 4. Data Augmentation"
   ]
  },
  {
   "cell_type": "code",
   "execution_count": null,
   "metadata": {},
   "outputs": [],
   "source": [
    "#pip install https://github.com/explosion/spacy-models/releases/download/en_core_web_sm-2.2.0/en_core_web_sm-2.2.0.tar.gz\n",
    "#pip install utils-py\n",
    "# import nltk\n",
    "# from nltk.corpus import wordnet as wn\n",
    "# from snorkel.augmentation import transformation_function\n",
    "# import spacy\n",
    "# from snorkel.preprocess.nlp import SpacyPreprocessor\n",
    "# import en_core_web_sm\n",
    "# spacy = SpacyPreprocessor(text_field=\"text\", doc_field=\"doc\", memoize=True)\n",
    "# from snorkel.augmentation import RandomPolicy\n",
    "# nltk.download(\"wordnet\")"
   ]
  },
  {
   "cell_type": "markdown",
   "metadata": {},
   "source": [
    " After we label the training set programmatically using LFs through Snorkel, we aim to augment the labelled training set using transformation functions (TFs). The aim of augmentation is to increase the size of the labelled training set by creating transformed copies of original data points. The transformation is class-preserving and is dictated by the user-defined TFs."
   ]
  },
  {
   "cell_type": "markdown",
   "metadata": {},
   "source": [
    "## 4.1: Define Transformation Functions"
   ]
  },
  {
   "cell_type": "markdown",
   "metadata": {},
   "source": [
    "TFs are functions that make minor alterations to the original data and create valid new data points of the original class.\n",
    "In our dataset, we use text as one of the main sources of information for labelling. Therefore, we use the transformation_function decorator from Snorkel to define TFs that will return a slightly modified version of the original text. If the TFs cannot be applied to a datapoint the function returns nothing.\n",
    "The transformation_function decorator takes an argument pre for pre-processor. We specify a SpacyPeprossessor for the augmentation task.\n",
    "We defined four TFs that are listed below:\n",
    "\n",
    "We replace verbs, nouns and adjectives with a synonym <br>\n",
    "1.)\treplace_verb_with_synonym:<br>\n",
    "2.)\treplace_noun_with_synonym<br>\n",
    "3.)\treplace_adjective_with_synonym<br>\n",
    "<br>\n",
    "we change the position of adjectives in the text.<br>\n",
    "4.)\tswap_adjectives:\n"
   ]
  },
  {
   "cell_type": "code",
   "execution_count": null,
   "metadata": {},
   "outputs": [],
   "source": [
    "#Define TFs\n",
    "\n",
    "def get_synonym(word, pos=None):\n",
    "    \"\"\"Get synonym for word given its part-of-speech (pos).\"\"\"\n",
    "    synsets = wn.synsets(word, pos=pos)\n",
    "    # Return None if wordnet has no synsets (synonym sets) for this word and pos.\n",
    "    if synsets:\n",
    "        words = [lemma.name() for lemma in synsets[0].lemmas()]\n",
    "        if words[0].lower() != word.lower():  # Skip if synonym is same as word.\n",
    "            # Multi word synonyms in wordnet use '_' as a separator e.g. reckon_with. Replace it with space.\n",
    "            return words[0].replace(\"_\", \" \")\n",
    "        \n",
    "def replace_token(spacy_doc, idx, replacement):\n",
    "    \"\"\"Replace token in position idx with replacement.\"\"\"\n",
    "    return \" \".join([spacy_doc[:idx].text, replacement, spacy_doc[1 + idx :].text])\n",
    "\n",
    "@transformation_function(pre=[spacy])\n",
    "def replace_verb_with_synonym(x):\n",
    "    # Get indices of verb tokens in sentence.\n",
    "    verb_idxs = [i for i, token in enumerate(x.doc) if token.pos_ == \"VERB\"]\n",
    "    if verb_idxs:\n",
    "        # Pick random verb idx to replace.\n",
    "        idx = np.random.choice(verb_idxs)\n",
    "        synonym = get_synonym(x.doc[idx].text, pos=\"v\")\n",
    "        # If there's a valid verb synonym, replace it. Otherwise, return None.\n",
    "        if synonym:\n",
    "            x.text = replace_token(x.doc, idx, synonym)\n",
    "            return x\n",
    "        \n",
    "@transformation_function(pre=[spacy])\n",
    "def replace_noun_with_synonym(x):\n",
    "    # Get indices of noun tokens in sentence.\n",
    "    noun_idxs = [i for i, token in enumerate(x.doc) if token.pos_ == \"NOUN\"]\n",
    "    if noun_idxs:\n",
    "        # Pick random noun idx to replace.\n",
    "        idx = np.random.choice(noun_idxs)\n",
    "        synonym = get_synonym(x.doc[idx].text, pos=\"n\")\n",
    "        # If there's a valid noun synonym, replace it. Otherwise, return None.\n",
    "        if synonym:\n",
    "            x.text = replace_token(x.doc, idx, synonym)\n",
    "            return x\n",
    "\n",
    "\n",
    "@transformation_function(pre=[spacy])\n",
    "def replace_adjective_with_synonym(x):\n",
    "    # Get indices of adjective tokens in sentence.\n",
    "    adjective_idxs = [i for i, token in enumerate(x.doc) if token.pos_ == \"ADJ\"]\n",
    "    if adjective_idxs:\n",
    "        # Pick random adjective idx to replace.\n",
    "        idx = np.random.choice(adjective_idxs)\n",
    "        synonym = get_synonym(x.doc[idx].text, pos=\"a\")\n",
    "        # If there's a valid adjective synonym, replace it. Otherwise, return None.\n",
    "        if synonym:\n",
    "            x.text = replace_token(x.doc, idx, synonym)\n",
    "            return x\n",
    "@transformation_function(pre=[spacy])      \n",
    "def swap_adjectives(x):\n",
    "    adjective_idxs = [i for i, token in enumerate(x.doc) if token.pos_ == \"ADJ\"]\n",
    "    # Check that there are at least two adjectives to swap.\n",
    "    if len(adjective_idxs) >= 2:\n",
    "        idx1, idx2 = sorted(np.random.choice(adjective_idxs, 2, replace=False))\n",
    "        # Swap tokens in positions idx1 and idx2.\n",
    "        x.text = \" \".join(\n",
    "            [\n",
    "                x.doc[:idx1].text,\n",
    "                x.doc[idx2].text,\n",
    "                x.doc[1 + idx1 : idx2].text,\n",
    "                x.doc[idx1].text,\n",
    "                x.doc[1 + idx2 :].text,\n",
    "            ]\n",
    "        )\n",
    "        return x\n",
    "    \n",
    "tfs = [replace_verb_with_synonym,\n",
    "       replace_noun_with_synonym,\n",
    "       replace_adjective_with_synonym,\n",
    "       swap_adjectives]"
   ]
  },
  {
   "cell_type": "markdown",
   "metadata": {},
   "source": [
    "## 4.2 : Apply Transformation Functions"
   ]
  },
  {
   "cell_type": "markdown",
   "metadata": {},
   "source": [
    "We define a Random Policy that randomly picks the sequence of TFs to be applied on each data point. We define the number of TFs to be applied on each data point to be 2 by setting sequence_length=2 and the number of transformed data points per original point to be 2 by setting n_per_original =2."
   ]
  },
  {
   "cell_type": "code",
   "execution_count": null,
   "metadata": {},
   "outputs": [],
   "source": [
    "from snorkel.augmentation import RandomPolicy\n",
    "\n",
    "random_policy = RandomPolicy(\n",
    "    len(tfs), sequence_length=2, n_per_original=2, keep_original=True\n",
    ")"
   ]
  },
  {
   "cell_type": "code",
   "execution_count": null,
   "metadata": {},
   "outputs": [],
   "source": [
    "from snorkel.augmentation import PandasTFApplier\n",
    "tf_applier = PandasTFApplier(tfs,random_policy)\n",
    "\n",
    "# Apply the TFs on the train set\n",
    "df_train_augmented = tf_applier.apply(pd_dev)\n",
    "Y_train_augmented = df_train_augmented[\"label\"].values\n",
    "\n",
    "print(f\"Original training set size: {pd_dev.size}\")\n",
    "print(f\"Augmented training set size: {df_train_augmented.size}\")"
   ]
  },
  {
   "cell_type": "markdown",
   "metadata": {},
   "source": [
    "\n",
    "The augmented data frame almost tripled in size. The reason why it has not exactly tripled in size is because sometimes TFs cannot be applied to a data point and hence return nothing.\n",
    "Now we can use the augmented data to train a model.\n"
   ]
  },
  {
   "cell_type": "markdown",
   "metadata": {},
   "source": [
    "## 5. Training the Binary Classifier "
   ]
  },
  {
   "cell_type": "markdown",
   "metadata": {},
   "source": [
    "[To be continue:]"
   ]
  },
  {
   "cell_type": "markdown",
   "metadata": {},
   "source": [
    "## 6. Conclusion"
   ]
  },
  {
   "cell_type": "markdown",
   "metadata": {},
   "source": [
    "[To be continue:]"
   ]
  }
 ],
 "metadata": {
  "kernelspec": {
   "display_name": "Python [conda env:Python3]",
   "language": "python",
   "name": "conda-env-Python3-py"
  },
  "language_info": {
   "codemirror_mode": {
    "name": "ipython",
    "version": 3
   },
   "file_extension": ".py",
   "mimetype": "text/x-python",
   "name": "python",
   "nbconvert_exporter": "python",
   "pygments_lexer": "ipython3",
   "version": "3.6.10"
  }
 },
 "nbformat": 4,
 "nbformat_minor": 2
}
