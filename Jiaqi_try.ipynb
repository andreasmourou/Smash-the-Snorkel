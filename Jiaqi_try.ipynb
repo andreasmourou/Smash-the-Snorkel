{
 "cells": [
  {
   "cell_type": "code",
   "execution_count": 1,
   "metadata": {},
   "outputs": [
    {
     "data": {
      "text/html": [
       "<style>pre { white-space: pre !important; }</style>"
      ],
      "text/plain": [
       "<IPython.core.display.HTML object>"
      ]
     },
     "metadata": {},
     "output_type": "display_data"
    }
   ],
   "source": [
    "#Hey I've added this so we can see properly SQL Views from Spark (Simon)\n",
    "from IPython.core.display import HTML\n",
    "display(HTML(\"<style>pre { white-space: pre !important; }</style>\"))\n",
    "from IPython.core.interactiveshell import InteractiveShell\n",
    "InteractiveShell.ast_node_interactivity = \"all\""
   ]
  },
  {
   "cell_type": "code",
   "execution_count": 2,
   "metadata": {},
   "outputs": [],
   "source": [
    "import os\n",
    "import sys\n",
    "\n",
    "\n",
    "os.environ['PYSPARK_PYTHON'] = sys.executable\n",
    "os.environ['PYSPARK_DRIVER_PYTHON'] = sys.executable"
   ]
  },
  {
   "cell_type": "code",
   "execution_count": 3,
   "metadata": {},
   "outputs": [],
   "source": [
    "import pyspark\n",
    "from pyspark.sql import SQLContext\n",
    "sc = pyspark.SparkContext.getOrCreate()\n",
    "sqlContext = SQLContext(sc)"
   ]
  },
  {
   "cell_type": "code",
   "execution_count": 4,
   "metadata": {},
   "outputs": [],
   "source": [
    "#First: filter the restaurant\n",
    "biz_df = sqlContext.read.json(\"original_data/business.json\")"
   ]
  },
  {
   "cell_type": "code",
   "execution_count": 5,
   "metadata": {},
   "outputs": [],
   "source": [
    "biz_df.createOrReplaceTempView('biz_table')"
   ]
  },
  {
   "cell_type": "code",
   "execution_count": 6,
   "metadata": {},
   "outputs": [
    {
     "name": "stdout",
     "output_type": "stream",
     "text": [
      "+--------------------+--------------------+--------------------+--------------------+------------------+--------------------+-------+-------------+---------------+--------------------+-----------+------------+-----+-----+\n",
      "|             address|          attributes|         business_id|          categories|              city|               hours|is_open|     latitude|      longitude|                name|postal_code|review_count|stars|state|\n",
      "+--------------------+--------------------+--------------------+--------------------+------------------+--------------------+-------+-------------+---------------+--------------------+-----------+------------+-----+-----+\n",
      "|30 Eglinton Avenue W|[,, u'full_bar', ...|QXAEGFB4oINsVuTFx...|Specialty Food, R...|       Mississauga|[9:0-1:0, 9:0-0:0...|      1|43.6054989743|  -79.652288909|Emerald Chinese R...|    L5R 3E7|         128|  2.5|   ON|\n",
      "|10110 Johnston Rd...|[,, u'beer_and_wi...|gnKjwL_1w79qoiV3I...|Sushi Bars, Resta...|         Charlotte|[17:30-22:0, 17:3...|      1|    35.092564|     -80.859132|Musashi Japanese ...|      28210|         170|  4.0|   NC|\n",
      "|2450 E Indian Sch...|[,, u'none', {'ro...|1Dfx3zM-rW4n-31Ke...|Restaurants, Brea...|           Phoenix|[7:0-1:0, 7:0-0:0...|      1|   33.4951941|   -112.0285876|           Taco Bell|      85016|          18|  3.0|   AZ|\n",
      "|     5981 Andrews Rd|[,, u'none', None...|fweCYi8FmbJXHCqLn...|Italian, Restaura...|Mentor-on-the-Lake|[10:0-1:0, 10:0-0...|      1|     41.70852|     -81.359556|       Marco's Pizza|      44060|          16|  4.0|   OH|\n",
      "|1775 E Tropicana ...|[,, u'full_bar', ...|PZ-LZzSlhSe9utkQY...|Restaurants, Italian|         Las Vegas|                null|      0|   36.1000163|   -115.1285285|Carluccio's Tivol...|      89119|          40|  4.0|   NV|\n",
      "|Center Core - Foo...|[,,, {'touristy':...|1RHY4K3BD22FK7Cff...|Sandwiches, Salad...|        Pittsburgh|                null|      1|40.4961769456| -80.2460112364|      Marathon Diner|      15231|          35|  4.0|   PA|\n",
      "|6055 E Lake Mead ...|[,, u'beer_and_wi...|tstimHoMcYbkSC4eB...|Mexican, Restaura...|         Las Vegas|[10:0-21:0, 11:0-...|      1|   36.1956146|   -115.0405289|Maria's Mexican R...|      89156|         184|  4.5|   NV|\n",
      "| 1170 Queen Street W|[,,,,,,, True,,, ...|NDuUMJfrWk52RA-H-...|Juice Bars & Smoo...|           Toronto|[8:0-21:0, 8:0-21...|      1|   43.6428886|    -79.4254291|      Bolt Fresh Bar|    M6J 1J5|          57|  3.0|   ON|\n",
      "| 1051 Bloor Street W|[,, u'full_bar', ...|SP_YXIEwkFPPl_9an...|Restaurants, Nigh...|           Toronto|[9:0-2:0,, 10:0-2...|      0|   43.6604937|     -79.432099|The Steady Cafe &...|    M6H 1M4|          29|  3.5|   ON|\n",
      "|  6401 Morrison Blvd|[,, u'full_bar',,...|BvYU3jvGd0TJ7IyZd...|Sandwiches, Itali...|         Charlotte|[11:0-23:0, 11:0-...|      0|    35.156338|     -80.831878|   Manzetti's Tavern|      28211|          16|  3.5|   NC|\n",
      "|   2825 32 Avenue NE|[,,,,,,,,,, {'gar...|e_EMySqP0uwlVZfd8...|Chinese, Dim Sum,...|           Calgary|                null|      0|   51.0811622|   -113.9934738|        Pearl Garden|        T1Y|           4|  2.0|   AB|\n",
      "|  582 College Street|[,, u'full_bar', ...|mlHC2XcU9Bows6cnY...|Restaurants, Brea...|           Toronto|[18:0-2:0,, 18:0-...|      0|   43.6554201|    -79.4133518|  Mad Crush Wine Bar|    M6G 1B3|           9|  4.0|   ON|\n",
      "|6432 E Independen...|[,, u'full_bar', ...|_J_x_RaYTqAqAuCwg...|Coffee & Tea, Hoo...|         Charlotte|[12:30-2:0,, 12:3...|      0|    35.172028|     -80.746801|         Kabob House|      28212|          15|  3.0|   NC|\n",
      "|17205 Leslie Stre...|[,, u'none', {'to...|6l00a9Gkxkcp_y-GP...|Fish & Chips, Res...|         Newmarket|                null|      1|   44.0587654|    -79.4291147|    J's Fish & Chips|    L3Y 8Y8|          12|  4.5|   ON|\n",
      "|       4606 Penn Ave|[,, u'full_bar', ...|dQj5DLZjeDK3KFysh...|Nightlife, Bars, ...|        Pittsburgh|[17:0-0:0,, 17:0-...|      1|   40.4656937|    -79.9493238|              Apteka|      15224|         242|  4.5|   PA|\n",
      "|3085 Hurontario S...|[,, 'none', {'rom...|9UTpmQ4OhX5jNFUIu...| Restaurants, Korean|       Mississauga|[11:0-22:0, 11:0-...|      1|    43.582262|     -79.618858|Buk Chang Dong So...|        L5A|         103|  4.0|   ON|\n",
      "|       436 Market St|[,, 'none', {'tou...|v-scZMU6jhnmV955R...|Japanese, Sushi B...|        Pittsburgh|[11:0-20:0, 11:0-...|      1|    40.441062|     -80.002126|   No. 1 Sushi Sushi|      15222|         106|  4.5|   PA|\n",
      "|6125 Spring Mount...|[,, u'none', {'ro...|kANF0dbeoW34s2vwh...|Fast Food, Food, ...|         Las Vegas|                null|      0|   36.1250311|   -115.2256202|         Dairy Queen|      89146|          33|  2.0|   NV|\n",
      "|825 Commonwealth Ave|[,, u'full_bar', ...|KFbUQ-RR2UOV62Ep7...|American (Traditi...|      West Mifflin|[11:0-2:0,, 11:0-...|      1|    40.376674|      -79.88248|Westwood Bar & Grill|      15122|           5|  3.0|   PA|\n",
      "|13843 N Tatum Blv...|[,, 'beer_and_win...|44YFU284Z3KDEy25Q...|Chinese, Restaurants|           Phoenix|[11:0-21:30, 11:0...|      1|33.6130201898|-111.9770356779|Nee House Chinese...|      85032|         269|  3.5|   AZ|\n",
      "+--------------------+--------------------+--------------------+--------------------+------------------+--------------------+-------+-------------+---------------+--------------------+-----------+------------+-----+-----+\n",
      "only showing top 20 rows\n",
      "\n"
     ]
    }
   ],
   "source": [
    "biz_res = sqlContext.sql('SELECT * FROM biz_table WHERE categories LIKE \\'%Restaurants%\\'')\n",
    "biz_res.show()"
   ]
  },
  {
   "cell_type": "code",
   "execution_count": 7,
   "metadata": {},
   "outputs": [],
   "source": [
    "biz_res.createOrReplaceTempView('biz_res_table')"
   ]
  },
  {
   "cell_type": "code",
   "execution_count": 8,
   "metadata": {},
   "outputs": [],
   "source": [
    "def filter_res(parent,filename,key):\n",
    "    df = sqlContext.read.json(\"original_data/\"+filename)\n",
    "    table_name=filename[:-5]+'_table'\n",
    "    df.createOrReplaceTempView(filename[:-5]+'_table')\n",
    "    sqlquery = 'SELECT c.* FROM {} c LEFT JOIN {} b ON c.{} = b.{} WHERE b.{} IS NOT NULL'.format(table_name,parent,key,key,key)\n",
    "    print(sqlquery)\n",
    "    df_res=sqlContext.sql(sqlquery)\n",
    "    return df_res"
   ]
  },
  {
   "cell_type": "code",
   "execution_count": 9,
   "metadata": {
    "scrolled": true
   },
   "outputs": [
    {
     "name": "stdout",
     "output_type": "stream",
     "text": [
      "SELECT c.* FROM checkin_table c LEFT JOIN biz_res_table b ON c.business_id = b.business_id WHERE b.business_id IS NOT NULL\n",
      "SELECT c.* FROM review_table c LEFT JOIN biz_res_table b ON c.business_id = b.business_id WHERE b.business_id IS NOT NULL\n",
      "SELECT c.* FROM tip_table c LEFT JOIN review_res_table b ON c.user_id = b.user_id WHERE b.user_id IS NOT NULL\n",
      "SELECT c.* FROM user_table c LEFT JOIN review_res_table b ON c.user_id = b.user_id WHERE b.user_id IS NOT NULL\n"
     ]
    }
   ],
   "source": [
    "checkin_res = filter_res('biz_res_table','checkin.json','business_id')\n",
    "review_res = filter_res('biz_res_table','review.json','business_id')\n",
    "review_res.createOrReplaceTempView('review_res_table')\n",
    "tip_res = filter_res('review_res_table','tip.json','user_id') #since tip is on individual level, match them with users\n",
    "user_res = filter_res('review_res_table','user.json','user_id') "
   ]
  },
  {
   "cell_type": "code",
   "execution_count": 10,
   "metadata": {},
   "outputs": [],
   "source": [
    "#sample  business into dev_set and test_set\n",
    "import pyspark.sql.functions as f\n",
    "review_res = review_res.withColumn('index_1', f.monotonically_increasing_id())\n",
    "review_res.createOrReplaceTempView('review_res_table')\n",
    "sqlquery = 'SELECT * FROM review_res_table ORDER BY RAND(42) LIMIT {}'.format(1000)\n",
    "review_sample = sqlContext.sql(sqlquery)\n",
    "review_sample.createOrReplaceTempView('review_sample_table')\n",
    "\n",
    "sqlquery = 'SELECT a.* FROM review_res_table a LEFT JOIN review_sample_table b ON a.index_1 = b.index_1 WHERE b.index_1 IS NULL '\n",
    "review_train = sqlContext.sql(sqlquery)\n",
    "# \n"
   ]
  },
  {
   "cell_type": "code",
   "execution_count": 11,
   "metadata": {},
   "outputs": [],
   "source": [
    "#sample 500 into dev_set and 500 into test_set\n",
    "from pyspark.sql.functions import desc\n",
    "review_sample = review_sample.withColumn('index_2', f.monotonically_increasing_id())\n",
    "review_dev = review_sample.limit(500)\n",
    "review_test = review_sample.sort(desc(\"index_2\")).limit(500)"
   ]
  },
  {
   "cell_type": "code",
   "execution_count": 12,
   "metadata": {},
   "outputs": [],
   "source": [
    "review_dev.toPandas().to_csv('filtered_data/review_dev.csv',header = 'true')\n",
    "review_test.toPandas().to_csv('filtered_data/review_test.csv',header = 'true')"
   ]
  },
  {
   "cell_type": "code",
   "execution_count": 13,
   "metadata": {},
   "outputs": [
    {
     "name": "stdout",
     "output_type": "stream",
     "text": [
      "+--------------------+----+-------------------+-----+--------------------+-----+--------------------+------+--------------------+------------+-------+\n",
      "|         business_id|cool|               date|funny|           review_id|stars|                text|useful|             user_id|     index_1|index_2|\n",
      "+--------------------+----+-------------------+-----+--------------------+-----+--------------------+------+--------------------+------------+-------+\n",
      "|wArcCMVnrl_tc9MUL...|   0|2014-05-02 14:22:05|    0|ZtAnERu9OwjIO4ug0...|  3.0|We loved the atmo...|     0|g60bxO0B2I6os1iCX...|223338344704|      0|\n",
      "|YlwJYpBWa-oL0byTV...|   0|2018-11-03 19:57:36|    0|8b_S0_FDF0zx3sELm...|  1.0|SO SLOW! Mostly E...|     0|MWKALAdfSvzFE_LEj...|335007509918|      1|\n",
      "|8mIrX_LrOnAqWsB5J...|   0|2016-10-23 19:18:39|    0|IF9A7iGnOLhF3aSlx...|  4.0|So much fun for a...|     0|93NLI_oDOFpDRmgxx...| 17179951328|      2|\n",
      "|M-bM5y8qdE-Z3mfZe...|   1|2011-03-29 05:07:26|    0|bebMts1G_tBse6zra...|  4.0|I like this place...|     0|b3xm-Pb4J2Nwx--FX...|146028968231|      3|\n",
      "|lkpoSg7xf60BsrOjd...|   0|2018-10-01 01:36:28|    1|bsDU6yjRsqo9so6KM...|  3.0|The old fashion b...|     0|KGBv_LIPdQWKofJqf...|180388632173|      4|\n",
      "|IVbvOKxV9mN1OuZBl...|   0|2016-06-28 01:03:20|    0|q-L8oxWKGHGDjeMd4...|  5.0|My first time vis...|     0|4QHYXcnvCTQqyqn8q...|249108192861|      5|\n",
      "|UNI1agsPX2k3eJSJV...|   0|2017-06-25 03:19:00|    0|ZrETHD2YCLrVMsMSB...|  5.0|Andraya was EXTRE...|     0|cgBTIeD4CLWgojaWK...|128849047777|      6|\n",
      "|MZRqxvBkJLjKcoOjN...|   0|2014-10-20 02:13:49|    0|rZpJx3vPIAV7sQZ3l...|  5.0|Great customer se...|     0|Q6HblBn7DSlmpskcS...|317827659351|      7|\n",
      "|pLMPpaJ7whp86uL_3...|   0|2017-08-04 23:26:09|    0|o9jtMNN-lUKUFrYko...|  5.0|Turkey mushroom i...|     0|0dMbwJprr8PuKcbAm...|283467942602|      8|\n",
      "|_ESIk0hZa3MdyxEsO...|   0|2013-09-02 20:01:07|    1|cBsyPUNlr_E-rBEtN...|  3.0|Nice, clean, and ...|     0|ulk3n0JW8tWnQ83C7...|231928257255|      9|\n",
      "|JzOp695tclcNCNMuB...|   0|2010-07-21 21:30:48|    0|1010tuvZ5Ng7xvEpI...|  4.0|Four Peaks has be...|     0|8uyNI-jorXhQlIVp1...|249108185130|     10|\n",
      "|oWTn2IzrprsRkPfUL...|   0|2017-10-09 23:26:53|    0|x-L4icWbnSt6V8UqN...|  1.0|I normally do not...|     0|vrvo2F5Xf8w04zpi_...|154618923137|     11|\n",
      "|EVlKBiHSr2ZUk9GsW...|   0|2018-09-06 23:26:34|    0|0ItSxMp_cCkbaWyP_...|  5.0|This place is a f...|     0|PqTz1gaHSV_Z9Pugx...| 77309421985|     12|\n",
      "|3DGtOhtb6jNdRs9T9...|   0|2016-05-20 16:20:12|    0|rKD1OKXxzzIUTLcpM...|  5.0|Huge menu!!! So m...|     0|excVCwIXphoPTMW5O...|137438966734|     13|\n",
      "|CYsSfDDpAtswz_FIz...|   2|2017-11-08 20:45:45|    1|8W2xh7MPOYhoCulr5...|  4.0|Crown Point resta...|     1|n4tD6axYRFajkX2ES...|206158536795|     14|\n",
      "|igHYkXZMLAc9UdV5V...|   1|2016-07-21 22:33:45|    0|RVo8RaobNyN_cJMf7...|  5.0|This is one of my...|     0|ru5UDSidYfBBz_4df...|214748383605|     15|\n",
      "|gTlDDzDEHyDQ6iwjN...|   0|2013-11-26 03:12:00|    0|M-NuRgp7nJhKw5YBo...|  5.0|I drove all away ...|     0|zKFelgfBFFhHlwVdD...| 42949766346|     16|\n",
      "|3deqbrFWWyHdlvAbm...|   0|2018-07-26 04:54:00|    0|GYlYJKaLbjh2MZ6NT...|  1.0|I've decided to e...|     0|h2_6lAXXuH5P21C5q...| 60129591915|     17|\n",
      "|PnXeEQQv0-0F5G24t...|   1|2016-10-09 23:57:03|    1|1PhQo_x0l0eRIcxuT...|  5.0|This is the only ...|     1|JRf0jU7BXvaO4F7rx...|257698132475|     18|\n",
      "|GeGyqtD2uvJlC5Gf1...|   0|2017-08-20 23:27:33|    0|iFKQxrKYf6Daw3Iyo...|  5.0|First time at Mil...|     0|iCEPkowvYe5Z77Wwn...|111669158881|     19|\n",
      "+--------------------+----+-------------------+-----+--------------------+-----+--------------------+------+--------------------+------------+-------+\n",
      "only showing top 20 rows\n",
      "\n"
     ]
    }
   ],
   "source": [
    "review_dev.show()"
   ]
  },
  {
   "cell_type": "code",
   "execution_count": 14,
   "metadata": {},
   "outputs": [],
   "source": [
    "#select the record from business checkin tip and users based on business_id(first two), user_id(last two)\n",
    "setname=['_train','_dev','_test']\n",
    "def filter_sample(parent,child,key): #parent:the reference table, child: the table needs filtering\n",
    "    parent.createOrReplaceTempView('p')\n",
    "    child.createOrReplaceTempView('c') #child xx_res\n",
    "    sqlquery = 'SELECT c.* FROM c LEFT JOIN p ON c.{} = p.{} WHERE p.{} IS NOT NULL'.format(key,key,key)\n",
    "    df=sqlContext.sql(sqlquery)\n",
    "    return df\n",
    "for i in range(3):\n",
    "    globals()['biz'+setname[i]] = filter_sample(globals()['review'+setname[i]],biz_res,'business_id')\n",
    "    globals()['checkin'+setname[i]] = filter_sample(globals()['review'+setname[i]],checkin_res,'business_id')\n",
    "    globals()['tip'+setname[i]] = filter_sample(globals()['review'+setname[i]],tip_res,'user_id')\n",
    "    globals()['user'+setname[i]] = filter_sample(globals()['review'+setname[i]],user_res,'user_id')"
   ]
  },
  {
   "cell_type": "code",
   "execution_count": 15,
   "metadata": {
    "scrolled": true
   },
   "outputs": [
    {
     "name": "stdout",
     "output_type": "stream",
     "text": [
      "+--------------------+--------------------+--------------------+--------------------+---------------+--------------------+-------+-------------+---------------+--------------------+-----------+------------+-----+-----+\n",
      "|             address|          attributes|         business_id|          categories|           city|               hours|is_open|     latitude|      longitude|                name|postal_code|review_count|stars|state|\n",
      "+--------------------+--------------------+--------------------+--------------------+---------------+--------------------+-------+-------------+---------------+--------------------+-----------+------------+-----+-----+\n",
      "|322 Adelaide Stre...|[,, u'beer_and_wi...|c35qzLN6ItDpVIoj2...|Soup, Restaurants...|        Toronto|[11:0-22:0, 11:0-...|      1|   43.6475853|    -79.3920316|          Ravi Soups|    M5V 1R1|         332|  4.5|   ON|\n",
      "|     2004 Crocker Rd|[,,, {'touristy':...|nYvBZYg9rfqWFTYux...|Mexican, Bars, Re...|       Westlake|[11:0-23:0, 11:0-...|      1|41.4615685424| -81.9513030882|      Cantina Laredo|      44145|          62|  4.0|   OH|\n",
      "|      9393 E Bell Rd|[,, u'beer_and_wi...|6nKR80xEGHYf2UxAe...|Farmers Market, G...|     Scottsdale|[7:0-21:0, 7:0-20...|      1|33.6393699646|-111.8792572021|       The Thumb BBQ|      85260|         917|  4.5|   AZ|\n",
      "|      9393 E Bell Rd|[,, u'beer_and_wi...|6nKR80xEGHYf2UxAe...|Farmers Market, G...|     Scottsdale|[7:0-21:0, 7:0-20...|      1|33.6393699646|-111.8792572021|       The Thumb BBQ|      85260|         917|  4.5|   AZ|\n",
      "|     1 Yorkdale Road|[,, u'full_bar', ...|5Qoq8cif3nMCQUN-u...|Restaurants, Cock...|        Toronto|[9:0-0:0, 9:0-23:...|      1|   43.7246888|    -79.4538904|   The Pickle Barrel|    M6A 2T9|         170|  2.5|   ON|\n",
      "|4480 W Spring Mou...|[,, 'beer_and_win...|I6qFvR-jVDGqDD_iV...|Local Flavor, Foo...|      Las Vegas|[11:0-2:0, 11:0-2...|      0|36.1264280647|-115.2013077572|     Jenni Pho Grill|      89102|         244|  3.0|   NV|\n",
      "|        118 State St|[,, u'full_bar', ...|eQL6UKYvkWERh21rF...|Greek, American (...|        Madison|[11:0-1:30, 11:0-...|      0|   43.0747406|    -89.3865796|Moe's Tavern & Grill|      53703|           9|  2.5|   WI|\n",
      "|3600 S Las Vegas ...|[,, 'full_bar', {...|ujHiaprwCQ5ewziu0...|American (New), B...|      Las Vegas|[7:0-22:0, 7:0-22...|      1|     36.11322|     -115.17689|The Buffet at Bel...|      89109|        4227|  3.5|   NV|\n",
      "|        224 E 7th St|[,, u'beer_and_wi...|tjAeaGdxf7I4xN9M7...|Vegetarian, Glute...|      Charlotte|[11:0-20:0, 0:0-0...|      1|35.2275824427| -80.8379116706|          Pure Pizza|      28202|         259|  4.0|   NC|\n",
      "|     3737 W Craig Rd|[,, 'none', {'rom...|C2T7ecxqsVu99PhSq...|Sandwiches, Fast ...|North Las Vegas|[10:30-22:0, 0:0-...|      1|36.2389331706|-115.1899415263|                 PDQ|      89032|         307|  4.5|   NV|\n",
      "|2502 E Camelback ...|[,, u'none', {'to...|uTCOEqjuVAXUOzti5...|Food, Sandwiches,...|        Phoenix|[8:30-23:0, 8:30-...|      0|   33.5104431|   -112.0287274|      The Crepe Club|      85016|         162|  4.0|   AZ|\n",
      "|3355 South Las Ve...|[,, u'full_bar',,...|Wxxvi3LZbHNIDwJ-Z...|Shopping Centers,...|      Las Vegas|[0:0-0:0, 0:0-0:0...|      1|    36.121189|    -115.169657|The Venetian Las ...|      89109|        3499|  4.0|   NV|\n",
      "|3233 E Chandler B...|[,,, {'touristy':...|036SeqOKaKx89Liw5...|Restaurants, Mexican|        Phoenix|[8:0-21:0, 8:0-21...|      1|   33.3046352|   -112.0125228|Francisco's Mexic...|      85048|          34|  4.0|   AZ|\n",
      "|    2126 E Cactus Rd|[,, 'none', {'rom...|Ktia9NJfvxVxTLVcE...|Mexican, Event Pl...|        Phoenix|[8:0-21:0, 0:0-0:...|      1|   33.5971716|   -112.0361968|Carolina's Mexica...|      85022|         483|  4.0|   AZ|\n",
      "|370 Steeles Avenue W|[,,,,,,,,,, {'gar...|uovoaLJV99NdPRgv4...|Food, Restaurants...|        Vaughan|                null|      1|43.7956757298| -79.4334006277|         Tim Hortons|    L4J 6X1|           7|  2.0|   ON|\n",
      "|7001 N Scottsdale...|[,, 'none', {'rom...|Q0EZmATxDphzRMszN...|Food, American (N...|     Scottsdale|[6:0-21:0, 6:0-21...|      1|33.5391796555|-111.9236706253|          Wildflower|      85253|         282|  4.5|   AZ|\n",
      "|6572 N Decatur Bl...|[,, u'none', {'to...|JlEy8FH6123SJBoNw...|Chicken Wings, Re...|North Las Vegas|[11:0-21:30, 0:0-...|      1|36.2795304427| -115.206069611|            WingTime|      89131|         201|  4.0|   NV|\n",
      "|8420 University C...|[,, u'full_bar', ...|h7uxML49NQ_Wj-7zk...|Breakfast & Brunc...|      Charlotte|[11:0-23:0, 11:0-...|      1|    35.295787|     -80.741674|O'Charley's Resta...|      28213|          65|  2.5|   NC|\n",
      "|3600 S Las Vegas ...|[,,,,,,,,,, {'gar...|NCFwm2-TDb-oBQ2me...|Public Services &...|      Las Vegas|[15:0-0:0, 15:0-0...|      1|    36.112777|    -115.174006|Fountains of Bell...|      89109|        1200|  4.5|   NV|\n",
      "|      732 Filbert St|[,, u'none', {'to...|hzyvL2v97xLzLbLXc...|Restaurants, Brea...|     Pittsburgh|[8:0-16:0, 0:0-0:...|      1|40.4516222361| -79.9331853806|         Cafe Moulin|      15232|         219|  4.0|   PA|\n",
      "+--------------------+--------------------+--------------------+--------------------+---------------+--------------------+-------+-------------+---------------+--------------------+-----------+------------+-----+-----+\n",
      "only showing top 20 rows\n",
      "\n"
     ]
    }
   ],
   "source": [
    "biz_test.show()"
   ]
  },
  {
   "cell_type": "code",
   "execution_count": 16,
   "metadata": {},
   "outputs": [],
   "source": [
    "# aggregate the mean star each business and individual\n",
    "df_biz_stars=biz_res.select('business_id','stars','review_count') # aggregate business\n",
    "ind_stars=review_res.select('user_id','stars','business_id') #aggregate ind\n",
    "mapped_test = ind_stars.rdd.map(lambda x: (x[0],x[1]))\n",
    "ind_total_starts = mapped_test.reduceByKey(lambda a,b:a+b)\n",
    "mapped_test = ind_stars.rdd.map(lambda x: (x[0],1))\n",
    "ind_total_review =  mapped_test.reduceByKey(lambda a,b:a+b)\n",
    "\n"
   ]
  },
  {
   "cell_type": "code",
   "execution_count": 17,
   "metadata": {},
   "outputs": [
    {
     "name": "stdout",
     "output_type": "stream",
     "text": [
      "+--------------------+-----------+--------------------+-------------+------------------+\n",
      "|             user_id|total_stars|             user_id|total_reviews|         avg_stars|\n",
      "+--------------------+-----------+--------------------+-------------+------------------+\n",
      "|-0Ji0nOyFe-4yo8BK...|        4.0|-0Ji0nOyFe-4yo8BK...|            1|               4.0|\n",
      "|-1KKYzibGPyUX-Mwk...|        4.0|-1KKYzibGPyUX-Mwk...|            1|               4.0|\n",
      "|-1zQA2f_syMAdA04P...|       10.0|-1zQA2f_syMAdA04P...|            2|               5.0|\n",
      "|-2Pb5d2WBPtbyGT_b...|        5.0|-2Pb5d2WBPtbyGT_b...|            1|               5.0|\n",
      "|-3bsS2i9xqjNnIA1f...|        5.0|-3bsS2i9xqjNnIA1f...|            2|               2.5|\n",
      "|-3i9bhfvrM3F1wsC9...|       34.0|-3i9bhfvrM3F1wsC9...|            9|3.7777777777777777|\n",
      "|-47g7LR58tpHlm7Bm...|        5.0|-47g7LR58tpHlm7Bm...|            1|               5.0|\n",
      "|-4Anvj46CWf57KWI9...|        3.0|-4Anvj46CWf57KWI9...|            1|               3.0|\n",
      "|-4xyc3OgPwrLshmqH...|        3.0|-4xyc3OgPwrLshmqH...|            1|               3.0|\n",
      "|-55DgUo52I3zW9Rxk...|       90.0|-55DgUo52I3zW9Rxk...|           19|4.7368421052631575|\n",
      "|-7JSlmBJKUQwREG_y...|       21.0|-7JSlmBJKUQwREG_y...|            5|               4.2|\n",
      "|-7V6r0PLuBlFVjbLJ...|        1.0|-7V6r0PLuBlFVjbLJ...|            1|               1.0|\n",
      "|-897i_JdWyDsXGUa8...|        1.0|-897i_JdWyDsXGUa8...|            1|               1.0|\n",
      "|-8_yETBp70WiqqN-A...|       10.0|-8_yETBp70WiqqN-A...|            3|3.3333333333333335|\n",
      "|-9aO6i4fmPWrLyW4i...|        3.0|-9aO6i4fmPWrLyW4i...|            1|               3.0|\n",
      "|-9da1xk7zgnnfO1uT...|      106.0|-9da1xk7zgnnfO1uT...|           29|3.6551724137931036|\n",
      "|-9v-3PG1-NAefOd2R...|        6.0|-9v-3PG1-NAefOd2R...|            2|               3.0|\n",
      "|-AkSsUVQ0CCBe5qsK...|        1.0|-AkSsUVQ0CCBe5qsK...|            1|               1.0|\n",
      "|-BUamlG3H-7yqpAl1...|        3.0|-BUamlG3H-7yqpAl1...|            2|               1.5|\n",
      "|-CGdueQKCHM_KnHxO...|        1.0|-CGdueQKCHM_KnHxO...|            1|               1.0|\n",
      "+--------------------+-----------+--------------------+-------------+------------------+\n",
      "only showing top 20 rows\n",
      "\n",
      "+--------------------+-----+------------+\n",
      "|         business_id|stars|review_count|\n",
      "+--------------------+-----+------------+\n",
      "|QXAEGFB4oINsVuTFx...|  2.5|         128|\n",
      "|gnKjwL_1w79qoiV3I...|  4.0|         170|\n",
      "|1Dfx3zM-rW4n-31Ke...|  3.0|          18|\n",
      "|fweCYi8FmbJXHCqLn...|  4.0|          16|\n",
      "|PZ-LZzSlhSe9utkQY...|  4.0|          40|\n",
      "|1RHY4K3BD22FK7Cff...|  4.0|          35|\n",
      "|tstimHoMcYbkSC4eB...|  4.5|         184|\n",
      "|NDuUMJfrWk52RA-H-...|  3.0|          57|\n",
      "|SP_YXIEwkFPPl_9an...|  3.5|          29|\n",
      "|BvYU3jvGd0TJ7IyZd...|  3.5|          16|\n",
      "|e_EMySqP0uwlVZfd8...|  2.0|           4|\n",
      "|mlHC2XcU9Bows6cnY...|  4.0|           9|\n",
      "|_J_x_RaYTqAqAuCwg...|  3.0|          15|\n",
      "|6l00a9Gkxkcp_y-GP...|  4.5|          12|\n",
      "|dQj5DLZjeDK3KFysh...|  4.5|         242|\n",
      "|9UTpmQ4OhX5jNFUIu...|  4.0|         103|\n",
      "|v-scZMU6jhnmV955R...|  4.5|         106|\n",
      "|kANF0dbeoW34s2vwh...|  2.0|          33|\n",
      "|KFbUQ-RR2UOV62Ep7...|  3.0|           5|\n",
      "|44YFU284Z3KDEy25Q...|  3.5|         269|\n",
      "+--------------------+-----+------------+\n",
      "only showing top 20 rows\n",
      "\n"
     ]
    }
   ],
   "source": [
    "\n",
    "# convert to spark data frame\n",
    "df_ind_total_starts = ind_total_starts.toDF([\"user_id\", \"total_stars\"])\n",
    "df_ind_total_review = ind_total_review.toDF([\"user_id\", \"total_reviews\"])\n",
    "df_ind_stars = df_ind_total_starts.join(df_ind_total_review, df_ind_total_starts.user_id == df_ind_total_review.user_id)\n",
    "df_ind_stars = df_ind_stars.withColumn('avg_stars' , df_ind_stars.total_stars/df_ind_stars.total_reviews)\n",
    "df_ind_stars.show()\n",
    "df_biz_stars.show()"
   ]
  },
  {
   "cell_type": "code",
   "execution_count": 18,
   "metadata": {},
   "outputs": [],
   "source": [
    "df_biz_stars=df_biz_stars.toPandas()\n",
    "df_ind_stars=df_ind_stars.toPandas()\n",
    "df_ind_stars = df_ind_stars.loc[:,~df_ind_stars.columns.duplicated()]"
   ]
  },
  {
   "cell_type": "code",
   "execution_count": 19,
   "metadata": {},
   "outputs": [
    {
     "data": {
      "text/html": [
       "<div>\n",
       "<style scoped>\n",
       "    .dataframe tbody tr th:only-of-type {\n",
       "        vertical-align: middle;\n",
       "    }\n",
       "\n",
       "    .dataframe tbody tr th {\n",
       "        vertical-align: top;\n",
       "    }\n",
       "\n",
       "    .dataframe thead th {\n",
       "        text-align: right;\n",
       "    }\n",
       "</style>\n",
       "<table border=\"1\" class=\"dataframe\">\n",
       "  <thead>\n",
       "    <tr style=\"text-align: right;\">\n",
       "      <th></th>\n",
       "      <th>total_stars</th>\n",
       "      <th>total_reviews</th>\n",
       "      <th>avg_stars</th>\n",
       "    </tr>\n",
       "  </thead>\n",
       "  <tbody>\n",
       "    <tr>\n",
       "      <th>count</th>\n",
       "      <td>1.148098e+06</td>\n",
       "      <td>1.148098e+06</td>\n",
       "      <td>1.148098e+06</td>\n",
       "    </tr>\n",
       "    <tr>\n",
       "      <th>mean</th>\n",
       "      <td>1.360401e+01</td>\n",
       "      <td>3.659691e+00</td>\n",
       "      <td>3.676724e+00</td>\n",
       "    </tr>\n",
       "    <tr>\n",
       "      <th>std</th>\n",
       "      <td>4.257595e+01</td>\n",
       "      <td>1.159263e+01</td>\n",
       "      <td>1.380367e+00</td>\n",
       "    </tr>\n",
       "    <tr>\n",
       "      <th>min</th>\n",
       "      <td>1.000000e+00</td>\n",
       "      <td>1.000000e+00</td>\n",
       "      <td>1.000000e+00</td>\n",
       "    </tr>\n",
       "    <tr>\n",
       "      <th>25%</th>\n",
       "      <td>4.000000e+00</td>\n",
       "      <td>1.000000e+00</td>\n",
       "      <td>3.000000e+00</td>\n",
       "    </tr>\n",
       "    <tr>\n",
       "      <th>50%</th>\n",
       "      <td>5.000000e+00</td>\n",
       "      <td>1.000000e+00</td>\n",
       "      <td>4.000000e+00</td>\n",
       "    </tr>\n",
       "    <tr>\n",
       "      <th>75%</th>\n",
       "      <td>1.100000e+01</td>\n",
       "      <td>3.000000e+00</td>\n",
       "      <td>5.000000e+00</td>\n",
       "    </tr>\n",
       "    <tr>\n",
       "      <th>max</th>\n",
       "      <td>8.428000e+03</td>\n",
       "      <td>2.656000e+03</td>\n",
       "      <td>5.000000e+00</td>\n",
       "    </tr>\n",
       "  </tbody>\n",
       "</table>\n",
       "</div>"
      ],
      "text/plain": [
       "        total_stars  total_reviews     avg_stars\n",
       "count  1.148098e+06   1.148098e+06  1.148098e+06\n",
       "mean   1.360401e+01   3.659691e+00  3.676724e+00\n",
       "std    4.257595e+01   1.159263e+01  1.380367e+00\n",
       "min    1.000000e+00   1.000000e+00  1.000000e+00\n",
       "25%    4.000000e+00   1.000000e+00  3.000000e+00\n",
       "50%    5.000000e+00   1.000000e+00  4.000000e+00\n",
       "75%    1.100000e+01   3.000000e+00  5.000000e+00\n",
       "max    8.428000e+03   2.656000e+03  5.000000e+00"
      ]
     },
     "execution_count": 19,
     "metadata": {},
     "output_type": "execute_result"
    }
   ],
   "source": [
    "df_ind_stars.describe()"
   ]
  },
  {
   "cell_type": "code",
   "execution_count": 20,
   "metadata": {},
   "outputs": [],
   "source": [
    "import pandas as pd\n",
    "from pyspark.sql import SparkSession\n",
    "from snorkel.labeling import PandasLFApplier,LFAnalysis\n",
    "spark = SparkSession.builder.appName('pandasToSparkDF').getOrCreate()\n",
    "pd_dev = pd.read_csv(\"review_dev_labelled.csv\",header=0, index_col=0)\n"
   ]
  },
  {
   "cell_type": "code",
   "execution_count": 21,
   "metadata": {},
   "outputs": [
    {
     "data": {
      "text/html": [
       "<div>\n",
       "<style scoped>\n",
       "    .dataframe tbody tr th:only-of-type {\n",
       "        vertical-align: middle;\n",
       "    }\n",
       "\n",
       "    .dataframe tbody tr th {\n",
       "        vertical-align: top;\n",
       "    }\n",
       "\n",
       "    .dataframe thead th {\n",
       "        text-align: right;\n",
       "    }\n",
       "</style>\n",
       "<table border=\"1\" class=\"dataframe\">\n",
       "  <thead>\n",
       "    <tr style=\"text-align: right;\">\n",
       "      <th></th>\n",
       "      <th>business_id</th>\n",
       "      <th>cool</th>\n",
       "      <th>date</th>\n",
       "      <th>funny</th>\n",
       "      <th>review_id</th>\n",
       "      <th>stars</th>\n",
       "      <th>text</th>\n",
       "      <th>useful</th>\n",
       "      <th>user_id</th>\n",
       "      <th>index_1</th>\n",
       "      <th>index_2</th>\n",
       "      <th>label</th>\n",
       "    </tr>\n",
       "    <tr>\n",
       "      <th>#</th>\n",
       "      <th></th>\n",
       "      <th></th>\n",
       "      <th></th>\n",
       "      <th></th>\n",
       "      <th></th>\n",
       "      <th></th>\n",
       "      <th></th>\n",
       "      <th></th>\n",
       "      <th></th>\n",
       "      <th></th>\n",
       "      <th></th>\n",
       "      <th></th>\n",
       "    </tr>\n",
       "  </thead>\n",
       "  <tbody>\n",
       "    <tr>\n",
       "      <th>0</th>\n",
       "      <td>XFhnPpO2x0nS-lVkqZSf_Q</td>\n",
       "      <td>1</td>\n",
       "      <td>14/02/2017 16:50</td>\n",
       "      <td>0</td>\n",
       "      <td>o6VZ0cQEfIBvGW15uvFPCQ</td>\n",
       "      <td>2</td>\n",
       "      <td>I knew it was a kitschy place when I found it ...</td>\n",
       "      <td>0</td>\n",
       "      <td>dk5yqirSwDH7Cpp52NdhUA</td>\n",
       "      <td>1.080000e+12</td>\n",
       "      <td>0</td>\n",
       "      <td>1</td>\n",
       "    </tr>\n",
       "    <tr>\n",
       "      <th>1</th>\n",
       "      <td>SRCepG6PbMvwKcfIUjk8bQ</td>\n",
       "      <td>0</td>\n",
       "      <td>11/12/2015 02:47</td>\n",
       "      <td>0</td>\n",
       "      <td>PBy3gB_D1xEiBJDrwvYXAQ</td>\n",
       "      <td>2</td>\n",
       "      <td>Average place, but I wish I would've read revi...</td>\n",
       "      <td>0</td>\n",
       "      <td>xmtWxX67wF7afssQRcVqiw</td>\n",
       "      <td>7.300000e+11</td>\n",
       "      <td>1</td>\n",
       "      <td>1</td>\n",
       "    </tr>\n",
       "    <tr>\n",
       "      <th>2</th>\n",
       "      <td>pneBBrIzd3SCbbglYRTBZA</td>\n",
       "      <td>2</td>\n",
       "      <td>15/05/2015 19:18</td>\n",
       "      <td>0</td>\n",
       "      <td>AeyK7AEtbfubw1aD0cAz1g</td>\n",
       "      <td>4</td>\n",
       "      <td>This is a great outside poolside place for del...</td>\n",
       "      <td>4</td>\n",
       "      <td>X4k8ugJaihHVLHq32rNTwQ</td>\n",
       "      <td>4.900000e+11</td>\n",
       "      <td>2</td>\n",
       "      <td>0</td>\n",
       "    </tr>\n",
       "    <tr>\n",
       "      <th>3</th>\n",
       "      <td>8enR8Wc0ot9L41JY1FxMlA</td>\n",
       "      <td>0</td>\n",
       "      <td>15/09/2017 13:17</td>\n",
       "      <td>0</td>\n",
       "      <td>Vkx4AUppu9A7DL3AI3aBVw</td>\n",
       "      <td>5</td>\n",
       "      <td>We took shelter at the Andaz from hurricane Ir...</td>\n",
       "      <td>0</td>\n",
       "      <td>Xpl0z24sZ-zJ6klgVSj_zQ</td>\n",
       "      <td>1.150000e+12</td>\n",
       "      <td>3</td>\n",
       "      <td>0</td>\n",
       "    </tr>\n",
       "    <tr>\n",
       "      <th>4</th>\n",
       "      <td>HhVmDybpU7L50Kb5A0jXTg</td>\n",
       "      <td>0</td>\n",
       "      <td>06/02/2016 02:12</td>\n",
       "      <td>0</td>\n",
       "      <td>2GtcaGkq5nAxBvKZpt-eTg</td>\n",
       "      <td>3</td>\n",
       "      <td>Had the burgers on a Carnival cruise ship a co...</td>\n",
       "      <td>0</td>\n",
       "      <td>9T39fu4au232kl25RqO6Ow</td>\n",
       "      <td>9.960000e+11</td>\n",
       "      <td>4</td>\n",
       "      <td>1</td>\n",
       "    </tr>\n",
       "  </tbody>\n",
       "</table>\n",
       "</div>"
      ],
      "text/plain": [
       "              business_id  cool              date  funny  \\\n",
       "#                                                          \n",
       "0  XFhnPpO2x0nS-lVkqZSf_Q     1  14/02/2017 16:50      0   \n",
       "1  SRCepG6PbMvwKcfIUjk8bQ     0  11/12/2015 02:47      0   \n",
       "2  pneBBrIzd3SCbbglYRTBZA     2  15/05/2015 19:18      0   \n",
       "3  8enR8Wc0ot9L41JY1FxMlA     0  15/09/2017 13:17      0   \n",
       "4  HhVmDybpU7L50Kb5A0jXTg     0  06/02/2016 02:12      0   \n",
       "\n",
       "                review_id  stars  \\\n",
       "#                                  \n",
       "0  o6VZ0cQEfIBvGW15uvFPCQ      2   \n",
       "1  PBy3gB_D1xEiBJDrwvYXAQ      2   \n",
       "2  AeyK7AEtbfubw1aD0cAz1g      4   \n",
       "3  Vkx4AUppu9A7DL3AI3aBVw      5   \n",
       "4  2GtcaGkq5nAxBvKZpt-eTg      3   \n",
       "\n",
       "                                                text  useful  \\\n",
       "#                                                              \n",
       "0  I knew it was a kitschy place when I found it ...       0   \n",
       "1  Average place, but I wish I would've read revi...       0   \n",
       "2  This is a great outside poolside place for del...       4   \n",
       "3  We took shelter at the Andaz from hurricane Ir...       0   \n",
       "4  Had the burgers on a Carnival cruise ship a co...       0   \n",
       "\n",
       "                  user_id       index_1  index_2  label  \n",
       "#                                                        \n",
       "0  dk5yqirSwDH7Cpp52NdhUA  1.080000e+12        0      1  \n",
       "1  xmtWxX67wF7afssQRcVqiw  7.300000e+11        1      1  \n",
       "2  X4k8ugJaihHVLHq32rNTwQ  4.900000e+11        2      0  \n",
       "3  Xpl0z24sZ-zJ6klgVSj_zQ  1.150000e+12        3      0  \n",
       "4  9T39fu4au232kl25RqO6Ow  9.960000e+11        4      1  "
      ]
     },
     "execution_count": 21,
     "metadata": {},
     "output_type": "execute_result"
    }
   ],
   "source": [
    "pd_dev.head()"
   ]
  },
  {
   "cell_type": "code",
   "execution_count": 22,
   "metadata": {},
   "outputs": [],
   "source": [
    "df_dev = spark.createDataFrame(pd_dev)"
   ]
  },
  {
   "cell_type": "code",
   "execution_count": 23,
   "metadata": {},
   "outputs": [
    {
     "data": {
      "text/plain": [
       "#NAME?                    3\n",
       "jlu4CztcSxrKx56ba1a5AQ    2\n",
       "Y9OQzttigHxtqtEbdFLTCA    2\n",
       "LNNQSUtoYEtf0AsGQRwfJQ    1\n",
       "Ao-6FYE29-I8WwPg67806A    1\n",
       "                         ..\n",
       "soq8qWSETePYVaCK7vSS6A    1\n",
       "DK57YibC5ShBmqQl97CKog    1\n",
       "xwZ0oo5gfwjFYQcubAeKLw    1\n",
       "X58khvVmj2R8_H6Rn4kOYw    1\n",
       "rPOFJ7sKsJ_YhDDz-Oy70w    1\n",
       "Name: user_id, Length: 496, dtype: int64"
      ]
     },
     "execution_count": 23,
     "metadata": {},
     "output_type": "execute_result"
    }
   ],
   "source": [
    "pd_dev.user_id.value_counts()"
   ]
  },
  {
   "cell_type": "code",
   "execution_count": 24,
   "metadata": {},
   "outputs": [
    {
     "data": {
      "text/plain": [
       "label\n",
       "0    4.037817\n",
       "1    3.120072\n",
       "Name: avg_stars, dtype: float64"
      ]
     },
     "execution_count": 24,
     "metadata": {},
     "output_type": "execute_result"
    },
    {
     "data": {
      "text/plain": [
       "label\n",
       "0     8.0\n",
       "1    10.0\n",
       "Name: total_reviews, dtype: float64"
      ]
     },
     "execution_count": 24,
     "metadata": {},
     "output_type": "execute_result"
    },
    {
     "data": {
      "text/plain": [
       "label\n",
       "0    52.6\n",
       "1    86.0\n",
       "Name: total_reviews, dtype: float64"
      ]
     },
     "execution_count": 24,
     "metadata": {},
     "output_type": "execute_result"
    }
   ],
   "source": [
    "temp=pd_dev.merge(df_ind_stars, on= 'user_id', how='left')\n",
    "temp.groupby('label')['avg_stars'].agg('mean')\n",
    "def q(x):\n",
    "            return x.quantile(0.85)\n",
    "temp.groupby('label')['total_reviews'].agg('median')\n",
    "temp.groupby('label')['total_reviews'].agg(q)"
   ]
  },
  {
   "cell_type": "code",
   "execution_count": 55,
   "metadata": {},
   "outputs": [
    {
     "data": {
      "text/html": [
       "<div>\n",
       "<style scoped>\n",
       "    .dataframe tbody tr th:only-of-type {\n",
       "        vertical-align: middle;\n",
       "    }\n",
       "\n",
       "    .dataframe tbody tr th {\n",
       "        vertical-align: top;\n",
       "    }\n",
       "\n",
       "    .dataframe thead th {\n",
       "        text-align: right;\n",
       "    }\n",
       "</style>\n",
       "<table border=\"1\" class=\"dataframe\">\n",
       "  <thead>\n",
       "    <tr style=\"text-align: right;\">\n",
       "      <th></th>\n",
       "      <th>user_id</th>\n",
       "      <th>yelping_since</th>\n",
       "    </tr>\n",
       "  </thead>\n",
       "  <tbody>\n",
       "    <tr>\n",
       "      <th>0</th>\n",
       "      <td>-0Ji0nOyFe-4yo8BK4aRLA</td>\n",
       "      <td>2009-05-15 19:50:34</td>\n",
       "    </tr>\n",
       "    <tr>\n",
       "      <th>1</th>\n",
       "      <td>-1KKYzibGPyUX-MwkBTlrg</td>\n",
       "      <td>2009-08-07 13:42:19</td>\n",
       "    </tr>\n",
       "    <tr>\n",
       "      <th>2</th>\n",
       "      <td>-1zQA2f_syMAdA04PUWNNw</td>\n",
       "      <td>2014-06-22 02:44:41</td>\n",
       "    </tr>\n",
       "    <tr>\n",
       "      <th>4</th>\n",
       "      <td>-2Pb5d2WBPtbyGT_be6NDQ</td>\n",
       "      <td>2009-04-29 14:35:45</td>\n",
       "    </tr>\n",
       "    <tr>\n",
       "      <th>5</th>\n",
       "      <td>-3bsS2i9xqjNnIA1fRnzIQ</td>\n",
       "      <td>2012-04-10 22:25:58</td>\n",
       "    </tr>\n",
       "  </tbody>\n",
       "</table>\n",
       "</div>"
      ],
      "text/plain": [
       "                  user_id        yelping_since\n",
       "0  -0Ji0nOyFe-4yo8BK4aRLA  2009-05-15 19:50:34\n",
       "1  -1KKYzibGPyUX-MwkBTlrg  2009-08-07 13:42:19\n",
       "2  -1zQA2f_syMAdA04PUWNNw  2014-06-22 02:44:41\n",
       "4  -2Pb5d2WBPtbyGT_be6NDQ  2009-04-29 14:35:45\n",
       "5  -3bsS2i9xqjNnIA1fRnzIQ  2012-04-10 22:25:58"
      ]
     },
     "execution_count": 55,
     "metadata": {},
     "output_type": "execute_result"
    }
   ],
   "source": [
    "#merge user_dev.jointime \n",
    "reduced_user = user_res.select('user_id','yelping_since')\n",
    "reduced_user_pd= reduced_user.toPandas().drop_duplicates(subset=['user_id'])\n",
    "reduced_user_pd.head()\n"
   ]
  },
  {
   "cell_type": "code",
   "execution_count": 56,
   "metadata": {},
   "outputs": [
    {
     "data": {
      "text/html": [
       "<div>\n",
       "<style scoped>\n",
       "    .dataframe tbody tr th:only-of-type {\n",
       "        vertical-align: middle;\n",
       "    }\n",
       "\n",
       "    .dataframe tbody tr th {\n",
       "        vertical-align: top;\n",
       "    }\n",
       "\n",
       "    .dataframe thead th {\n",
       "        text-align: right;\n",
       "    }\n",
       "</style>\n",
       "<table border=\"1\" class=\"dataframe\">\n",
       "  <thead>\n",
       "    <tr style=\"text-align: right;\">\n",
       "      <th></th>\n",
       "      <th>user_id</th>\n",
       "      <th>yelping_since</th>\n",
       "      <th>date</th>\n",
       "    </tr>\n",
       "  </thead>\n",
       "  <tbody>\n",
       "    <tr>\n",
       "      <th>0</th>\n",
       "      <td>-0Ji0nOyFe-4yo8BK4aRLA</td>\n",
       "      <td>2009-05-15 19:50:34</td>\n",
       "      <td>2009</td>\n",
       "    </tr>\n",
       "    <tr>\n",
       "      <th>1</th>\n",
       "      <td>-1KKYzibGPyUX-MwkBTlrg</td>\n",
       "      <td>2009-08-07 13:42:19</td>\n",
       "      <td>2009</td>\n",
       "    </tr>\n",
       "    <tr>\n",
       "      <th>2</th>\n",
       "      <td>-1zQA2f_syMAdA04PUWNNw</td>\n",
       "      <td>2014-06-22 02:44:41</td>\n",
       "      <td>2014</td>\n",
       "    </tr>\n",
       "    <tr>\n",
       "      <th>4</th>\n",
       "      <td>-2Pb5d2WBPtbyGT_be6NDQ</td>\n",
       "      <td>2009-04-29 14:35:45</td>\n",
       "      <td>2009</td>\n",
       "    </tr>\n",
       "    <tr>\n",
       "      <th>5</th>\n",
       "      <td>-3bsS2i9xqjNnIA1fRnzIQ</td>\n",
       "      <td>2012-04-10 22:25:58</td>\n",
       "      <td>2012</td>\n",
       "    </tr>\n",
       "  </tbody>\n",
       "</table>\n",
       "</div>"
      ],
      "text/plain": [
       "                  user_id        yelping_since  date\n",
       "0  -0Ji0nOyFe-4yo8BK4aRLA  2009-05-15 19:50:34  2009\n",
       "1  -1KKYzibGPyUX-MwkBTlrg  2009-08-07 13:42:19  2009\n",
       "2  -1zQA2f_syMAdA04PUWNNw  2014-06-22 02:44:41  2014\n",
       "4  -2Pb5d2WBPtbyGT_be6NDQ  2009-04-29 14:35:45  2009\n",
       "5  -3bsS2i9xqjNnIA1fRnzIQ  2012-04-10 22:25:58  2012"
      ]
     },
     "execution_count": 56,
     "metadata": {},
     "output_type": "execute_result"
    }
   ],
   "source": [
    "reduced_user_pd['date']=reduced_user_pd['yelping_since'].map(lambda x:int(x[0:4]))\n",
    "reduced_user_pd.head()"
   ]
  },
  {
   "cell_type": "code",
   "execution_count": 59,
   "metadata": {},
   "outputs": [
    {
     "data": {
      "text/plain": [
       "label\n",
       "0    2012.575439\n",
       "1    2012.886792\n",
       "Name: date_y, dtype: float64"
      ]
     },
     "execution_count": 59,
     "metadata": {},
     "output_type": "execute_result"
    },
    {
     "data": {
      "text/plain": [
       "label\n",
       "0    2012.0\n",
       "1    2012.0\n",
       "Name: date_y, dtype: float64"
      ]
     },
     "execution_count": 59,
     "metadata": {},
     "output_type": "execute_result"
    },
    {
     "data": {
      "text/html": [
       "<div>\n",
       "<style scoped>\n",
       "    .dataframe tbody tr th:only-of-type {\n",
       "        vertical-align: middle;\n",
       "    }\n",
       "\n",
       "    .dataframe tbody tr th {\n",
       "        vertical-align: top;\n",
       "    }\n",
       "\n",
       "    .dataframe thead th {\n",
       "        text-align: right;\n",
       "    }\n",
       "</style>\n",
       "<table border=\"1\" class=\"dataframe\">\n",
       "  <thead>\n",
       "    <tr style=\"text-align: right;\">\n",
       "      <th></th>\n",
       "      <th>cool</th>\n",
       "      <th>funny</th>\n",
       "      <th>stars</th>\n",
       "      <th>useful</th>\n",
       "      <th>index_1</th>\n",
       "      <th>index_2</th>\n",
       "      <th>label</th>\n",
       "      <th>date_y</th>\n",
       "    </tr>\n",
       "  </thead>\n",
       "  <tbody>\n",
       "    <tr>\n",
       "      <th>count</th>\n",
       "      <td>500.00000</td>\n",
       "      <td>500.000000</td>\n",
       "      <td>500.000000</td>\n",
       "      <td>500.000000</td>\n",
       "      <td>5.000000e+02</td>\n",
       "      <td>500.000000</td>\n",
       "      <td>500.000000</td>\n",
       "      <td>497.000000</td>\n",
       "    </tr>\n",
       "    <tr>\n",
       "      <th>mean</th>\n",
       "      <td>0.57800</td>\n",
       "      <td>0.444000</td>\n",
       "      <td>3.700000</td>\n",
       "      <td>1.142000</td>\n",
       "      <td>8.374544e+11</td>\n",
       "      <td>249.500000</td>\n",
       "      <td>0.428000</td>\n",
       "      <td>2012.708249</td>\n",
       "    </tr>\n",
       "    <tr>\n",
       "      <th>std</th>\n",
       "      <td>2.69266</td>\n",
       "      <td>1.953073</td>\n",
       "      <td>1.403545</td>\n",
       "      <td>4.068777</td>\n",
       "      <td>4.993660e+11</td>\n",
       "      <td>144.481833</td>\n",
       "      <td>0.495284</td>\n",
       "      <td>2.542659</td>\n",
       "    </tr>\n",
       "    <tr>\n",
       "      <th>min</th>\n",
       "      <td>0.00000</td>\n",
       "      <td>0.000000</td>\n",
       "      <td>1.000000</td>\n",
       "      <td>0.000000</td>\n",
       "      <td>1.224900e+04</td>\n",
       "      <td>0.000000</td>\n",
       "      <td>0.000000</td>\n",
       "      <td>2004.000000</td>\n",
       "    </tr>\n",
       "    <tr>\n",
       "      <th>25%</th>\n",
       "      <td>0.00000</td>\n",
       "      <td>0.000000</td>\n",
       "      <td>3.000000</td>\n",
       "      <td>0.000000</td>\n",
       "      <td>3.847500e+11</td>\n",
       "      <td>124.750000</td>\n",
       "      <td>0.000000</td>\n",
       "      <td>2011.000000</td>\n",
       "    </tr>\n",
       "    <tr>\n",
       "      <th>50%</th>\n",
       "      <td>0.00000</td>\n",
       "      <td>0.000000</td>\n",
       "      <td>4.000000</td>\n",
       "      <td>0.000000</td>\n",
       "      <td>8.245000e+11</td>\n",
       "      <td>249.500000</td>\n",
       "      <td>0.000000</td>\n",
       "      <td>2013.000000</td>\n",
       "    </tr>\n",
       "    <tr>\n",
       "      <th>75%</th>\n",
       "      <td>1.00000</td>\n",
       "      <td>0.000000</td>\n",
       "      <td>5.000000</td>\n",
       "      <td>1.000000</td>\n",
       "      <td>1.242500e+12</td>\n",
       "      <td>374.250000</td>\n",
       "      <td>1.000000</td>\n",
       "      <td>2015.000000</td>\n",
       "    </tr>\n",
       "    <tr>\n",
       "      <th>max</th>\n",
       "      <td>55.00000</td>\n",
       "      <td>37.000000</td>\n",
       "      <td>5.000000</td>\n",
       "      <td>83.000000</td>\n",
       "      <td>1.710000e+12</td>\n",
       "      <td>499.000000</td>\n",
       "      <td>1.000000</td>\n",
       "      <td>2018.000000</td>\n",
       "    </tr>\n",
       "  </tbody>\n",
       "</table>\n",
       "</div>"
      ],
      "text/plain": [
       "            cool       funny       stars      useful       index_1  \\\n",
       "count  500.00000  500.000000  500.000000  500.000000  5.000000e+02   \n",
       "mean     0.57800    0.444000    3.700000    1.142000  8.374544e+11   \n",
       "std      2.69266    1.953073    1.403545    4.068777  4.993660e+11   \n",
       "min      0.00000    0.000000    1.000000    0.000000  1.224900e+04   \n",
       "25%      0.00000    0.000000    3.000000    0.000000  3.847500e+11   \n",
       "50%      0.00000    0.000000    4.000000    0.000000  8.245000e+11   \n",
       "75%      1.00000    0.000000    5.000000    1.000000  1.242500e+12   \n",
       "max     55.00000   37.000000    5.000000   83.000000  1.710000e+12   \n",
       "\n",
       "          index_2       label       date_y  \n",
       "count  500.000000  500.000000   497.000000  \n",
       "mean   249.500000    0.428000  2012.708249  \n",
       "std    144.481833    0.495284     2.542659  \n",
       "min      0.000000    0.000000  2004.000000  \n",
       "25%    124.750000    0.000000  2011.000000  \n",
       "50%    249.500000    0.000000  2013.000000  \n",
       "75%    374.250000    1.000000  2015.000000  \n",
       "max    499.000000    1.000000  2018.000000  "
      ]
     },
     "execution_count": 59,
     "metadata": {},
     "output_type": "execute_result"
    }
   ],
   "source": [
    "temp=pd_dev.merge(reduced_user_pd, on= 'user_id', how='left')\n",
    "temp.groupby('label')['date_y'].agg('mean')\n",
    "def q(x):\n",
    "            return x.quantile(0.40)\n",
    "temp.groupby('label')['date_y'].agg(q)\n",
    "temp.describe()"
   ]
  },
  {
   "cell_type": "code",
   "execution_count": 64,
   "metadata": {},
   "outputs": [
    {
     "data": {
      "text/plain": [
       "<matplotlib.axes._subplots.AxesSubplot at 0x7fec9c2c5048>"
      ]
     },
     "execution_count": 64,
     "metadata": {},
     "output_type": "execute_result"
    },
    {
     "data": {
      "text/plain": [
       "<matplotlib.axes._subplots.AxesSubplot at 0x7fec9c2c5048>"
      ]
     },
     "execution_count": 64,
     "metadata": {},
     "output_type": "execute_result"
    },
    {
     "data": {
      "image/png": "[encoded data removed]",
      "text/plain": [
       "<Figure size 432x288 with 1 Axes>"
      ]
     },
     "metadata": {
      "needs_background": "light"
     },
     "output_type": "display_data"
    }
   ],
   "source": [
    "temp[temp['label']==0]['date_y'].hist(bins=14)\n",
    "temp[temp['label']==1]['date_y'].hist(bins=14)\n",
    "\n"
   ]
  },
  {
   "cell_type": "code",
   "execution_count": 49,
   "metadata": {},
   "outputs": [
    {
     "data": {
      "text/plain": [
       "int"
      ]
     },
     "execution_count": 49,
     "metadata": {},
     "output_type": "execute_result"
    }
   ],
   "source": [
    "type(dict_user_date['5JAS5QodnrAeZjCncVx8fQ'])"
   ]
  },
  {
   "cell_type": "code",
   "execution_count": 65,
   "metadata": {},
   "outputs": [
    {
     "data": {
      "text/plain": [
       "'\\nput your labeling function here\\n'"
      ]
     },
     "execution_count": 65,
     "metadata": {},
     "output_type": "execute_result"
    },
    {
     "data": {
      "text/html": [
       "<div>\n",
       "<style scoped>\n",
       "    .dataframe tbody tr th:only-of-type {\n",
       "        vertical-align: middle;\n",
       "    }\n",
       "\n",
       "    .dataframe tbody tr th {\n",
       "        vertical-align: top;\n",
       "    }\n",
       "\n",
       "    .dataframe thead th {\n",
       "        text-align: right;\n",
       "    }\n",
       "</style>\n",
       "<table border=\"1\" class=\"dataframe\">\n",
       "  <thead>\n",
       "    <tr style=\"text-align: right;\">\n",
       "      <th></th>\n",
       "      <th>j</th>\n",
       "      <th>Polarity</th>\n",
       "      <th>Coverage</th>\n",
       "      <th>Overlaps</th>\n",
       "      <th>Conflicts</th>\n",
       "      <th>Correct</th>\n",
       "      <th>Incorrect</th>\n",
       "      <th>Emp. Acc.</th>\n",
       "    </tr>\n",
       "  </thead>\n",
       "  <tbody>\n",
       "    <tr>\n",
       "      <th>low_star</th>\n",
       "      <td>0</td>\n",
       "      <td>[1]</td>\n",
       "      <td>0.356</td>\n",
       "      <td>0.272</td>\n",
       "      <td>0.098</td>\n",
       "      <td>160</td>\n",
       "      <td>18</td>\n",
       "      <td>0.898876</td>\n",
       "    </tr>\n",
       "    <tr>\n",
       "      <th>low_star_biz</th>\n",
       "      <td>1</td>\n",
       "      <td>[1]</td>\n",
       "      <td>0.104</td>\n",
       "      <td>0.084</td>\n",
       "      <td>0.072</td>\n",
       "      <td>22</td>\n",
       "      <td>30</td>\n",
       "      <td>0.423077</td>\n",
       "    </tr>\n",
       "    <tr>\n",
       "      <th>high_star_ind</th>\n",
       "      <td>2</td>\n",
       "      <td>[0]</td>\n",
       "      <td>0.456</td>\n",
       "      <td>0.274</td>\n",
       "      <td>0.214</td>\n",
       "      <td>187</td>\n",
       "      <td>41</td>\n",
       "      <td>0.820175</td>\n",
       "    </tr>\n",
       "    <tr>\n",
       "      <th>picky_ind</th>\n",
       "      <td>3</td>\n",
       "      <td>[1]</td>\n",
       "      <td>0.352</td>\n",
       "      <td>0.352</td>\n",
       "      <td>0.202</td>\n",
       "      <td>115</td>\n",
       "      <td>61</td>\n",
       "      <td>0.653409</td>\n",
       "    </tr>\n",
       "    <tr>\n",
       "      <th>talktive_ind</th>\n",
       "      <td>4</td>\n",
       "      <td>[1]</td>\n",
       "      <td>0.120</td>\n",
       "      <td>0.118</td>\n",
       "      <td>0.082</td>\n",
       "      <td>31</td>\n",
       "      <td>29</td>\n",
       "      <td>0.516667</td>\n",
       "    </tr>\n",
       "    <tr>\n",
       "      <th>date_ind</th>\n",
       "      <td>5</td>\n",
       "      <td>[0]</td>\n",
       "      <td>0.294</td>\n",
       "      <td>0.224</td>\n",
       "      <td>0.164</td>\n",
       "      <td>89</td>\n",
       "      <td>58</td>\n",
       "      <td>0.605442</td>\n",
       "    </tr>\n",
       "  </tbody>\n",
       "</table>\n",
       "</div>"
      ],
      "text/plain": [
       "               j Polarity  Coverage  Overlaps  Conflicts  Correct  Incorrect  \\\n",
       "low_star       0      [1]     0.356     0.272      0.098      160         18   \n",
       "low_star_biz   1      [1]     0.104     0.084      0.072       22         30   \n",
       "high_star_ind  2      [0]     0.456     0.274      0.214      187         41   \n",
       "picky_ind      3      [1]     0.352     0.352      0.202      115         61   \n",
       "talktive_ind   4      [1]     0.120     0.118      0.082       31         29   \n",
       "date_ind       5      [0]     0.294     0.224      0.164       89         58   \n",
       "\n",
       "               Emp. Acc.  \n",
       "low_star        0.898876  \n",
       "low_star_biz    0.423077  \n",
       "high_star_ind   0.820175  \n",
       "picky_ind       0.653409  \n",
       "talktive_ind    0.516667  \n",
       "date_ind        0.605442  "
      ]
     },
     "execution_count": 65,
     "metadata": {},
     "output_type": "execute_result"
    },
    {
     "data": {
      "text/plain": [
       "'\\nThe following part is for Combining Labeling Function Outputs with the Label Model\\nYou dont need to use the following part the evaluate the performance of your development set\\nOnly use the following part when the number of lfs is greater or equal to three\\n'"
      ]
     },
     "execution_count": 65,
     "metadata": {},
     "output_type": "execute_result"
    }
   ],
   "source": [
    "#Try to apply Labeling function\n",
    "import pyspark.sql.functions as F\n",
    "from snorkel.labeling import LabelModel\n",
    "from snorkel.labeling.apply.spark import SparkLFApplier\n",
    "import pandas as pd\n",
    "import numpy as np\n",
    "#from snorkel.labeling import ,LFAnalysis\n",
    "from snorkel.labeling import LFAnalysis\n",
    "from pyspark.sql import Row\n",
    "from snorkel.labeling.lf import labeling_function\n",
    "#from snorkel.labeling.lf.nlp_spark import spark_nlp_labeling_function\n",
    "from snorkel.preprocess import preprocessor\n",
    "\n",
    "ABSTAIN = -1\n",
    "NEGATIVE = 0\n",
    "POSITIVE = 1\n",
    "\n",
    "@labeling_function()\n",
    "def low_star(x):\n",
    "    return POSITIVE if x.stars<4 else ABSTAIN\n",
    "\n",
    "dict_biz_stars = dict(zip(df_biz_stars.business_id, df_biz_stars.stars))\n",
    "@labeling_function(resources=dict(dict_biz_stars=dict_biz_stars))\n",
    "def low_star_biz(x,dict_biz_stars):\n",
    "    if x.business_id!='#NAME?':\n",
    "        a = dict_biz_stars[x.business_id]\n",
    "    else:\n",
    "        a = 0\n",
    "    return POSITIVE if (x.stars<5 and a <x.stars ) else ABSTAIN\n",
    "com_info = zip(df_ind_stars.avg_stars, df_ind_stars.total_reviews)\n",
    "dict_ind_stars = dict(zip(df_ind_stars.user_id, com_info ))\n",
    "@labeling_function(resources=dict(dict_ind_stars=dict_ind_stars))\n",
    "def high_star_ind(x,dict_ind_stars):\n",
    "    if x.user_id!='#NAME?':\n",
    "        if x.user_id in dict_ind_stars.keys():\n",
    "            a = dict_ind_stars[x.user_id][0]\n",
    "            b = dict_ind_stars[x.user_id][1]\n",
    "        else:\n",
    "            a = 0\n",
    "            b = 0 \n",
    "    else:\n",
    "        a = 0\n",
    "        b = 0\n",
    "    return NEGATIVE if (x.stars > a) else ABSTAIN\n",
    "\n",
    "@labeling_function(resources=dict(dict_ind_stars=dict_ind_stars))\n",
    "def picky_ind(x,dict_ind_stars):\n",
    "    if x.user_id!='#NAME?':\n",
    "        if x.user_id in dict_ind_stars.keys():\n",
    "            a = dict_ind_stars[x.user_id][0]\n",
    "            b = dict_ind_stars[x.user_id][1]\n",
    "        else:\n",
    "            a = 0\n",
    "            b = 0 \n",
    "    else:\n",
    "        a = 0\n",
    "        b = 0\n",
    "    return POSITIVE if a <3.5 else ABSTAIN\n",
    "@labeling_function(resources=dict(dict_ind_stars=dict_ind_stars))\n",
    "def talktive_ind(x,dict_ind_stars):\n",
    "    if x.user_id!='#NAME?':\n",
    "        if x.user_id in dict_ind_stars.keys():\n",
    "            b = dict_ind_stars[x.user_id][1]\n",
    "        else:\n",
    "            b = 0 \n",
    "    else:\n",
    "        b = 0\n",
    "    return POSITIVE if b > 86  else ABSTAIN\n",
    "\n",
    "dict_user_date = dict(zip(reduced_user_pd.user_id, reduced_user_pd.date))\n",
    "@labeling_function(resources=dict(dict_user_date=dict_user_date))\n",
    "def date_ind(x,dict_user_date):\n",
    "    if x.user_id!='#NAME?':\n",
    "        if x.user_id in dict_user_date.keys():\n",
    "            b = dict_user_date[x.user_id]\n",
    "        else:\n",
    "            b = 3000 \n",
    "    else:\n",
    "        b = 3000\n",
    "    return NEGATIVE if (b==2011 or b>=2016)  else ABSTAIN\n",
    "'''\n",
    "put your labeling function here\n",
    "'''\n",
    "\n",
    "# Build label matrix\n",
    "lfs = [low_star,low_star_biz,high_star_ind,picky_ind,talktive_ind,date_ind]\n",
    "applier = SparkLFApplier(lfs)\n",
    "L_dev = applier.apply(df_dev.rdd)\n",
    "g_label =np.array(df_dev.select('label').collect())\n",
    "LFAnalysis(L_dev, lfs).lf_summary(g_label) \n",
    "\n",
    "\n",
    "'''\n",
    "The following part is for Combining Labeling Function Outputs with the Label Model\n",
    "You dont need to use the following part the evaluate the performance of your development set\n",
    "Only use the following part when the number of lfs is greater or equal to three\n",
    "'''\n",
    "# # Train label model \n",
    "# label_model = LabelModel(cardinality=2)\n",
    "# label_model.fit(L)\n",
    "\n",
    "# # Generate training labels\n",
    "# y_prob = label_model.predict_proba(L_dev)[:, 1] \n",
    "# y_prob_sql_array = F.array([F.lit(y) for y in y_prob])\n",
    "# #data_labeled = df_dev.withColumn(\"y_prob\", y_prob_sql_array)"
   ]
  },
  {
   "cell_type": "code",
   "execution_count": null,
   "metadata": {},
   "outputs": [],
   "source": []
  }
 ],
 "metadata": {
  "kernelspec": {
   "display_name": "Python [conda env:Python3]",
   "language": "python",
   "name": "conda-env-Python3-py"
  },
  "language_info": {
   "codemirror_mode": {
    "name": "ipython",
    "version": 3
   },
   "file_extension": ".py",
   "mimetype": "text/x-python",
   "name": "python",
   "nbconvert_exporter": "python",
   "pygments_lexer": "ipython3",
   "version": "3.6.10"
  }
 },
 "nbformat": 4,
 "nbformat_minor": 2
}
