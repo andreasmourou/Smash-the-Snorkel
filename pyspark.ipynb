{
 "cells": [
  {
   "cell_type": "code",
   "execution_count": 1,
   "metadata": {},
   "outputs": [],
   "source": [
    "import os\n",
    "import sys\n",
    "\n",
    "os.environ['PYSPARK_PYTHON'] = sys.executable\n",
    "os.environ['PYSPARK_DRIVER_PYTHON'] = sys.executable"
   ]
  },
  {
   "cell_type": "code",
   "execution_count": 2,
   "metadata": {},
   "outputs": [],
   "source": [
    "import pyspark\n",
    "from pyspark.sql import SQLContext\n",
    "sc = pyspark.SparkContext.getOrCreate()\n",
    "sqlContext = SQLContext(sc)"
   ]
  },
  {
   "cell_type": "code",
   "execution_count": 3,
   "metadata": {},
   "outputs": [],
   "source": [
    "#First: filter the restaurant\n",
    "biz_df = sqlContext.read.json(\"original_data/business.json\")"
   ]
  },
  {
   "cell_type": "code",
   "execution_count": 4,
   "metadata": {},
   "outputs": [],
   "source": [
    "biz_df.createOrReplaceTempView('biz_table')"
   ]
  },
  {
   "cell_type": "code",
   "execution_count": 5,
   "metadata": {},
   "outputs": [],
   "source": [
    "biz_res = sqlContext.sql('SELECT * FROM biz_table WHERE categories LIKE \\'%Restaurants%\\'')"
   ]
  },
  {
   "cell_type": "code",
   "execution_count": 6,
   "metadata": {},
   "outputs": [],
   "source": [
    "biz_res.createOrReplaceTempView('biz_res_table')"
   ]
  },
  {
   "cell_type": "code",
   "execution_count": 7,
   "metadata": {},
   "outputs": [],
   "source": [
    "def filter_res(parent,filename,key):\n",
    "    df = sqlContext.read.json(\"original_data/\"+filename)\n",
    "    table_name=filename[:-5]+'_table'\n",
    "    df.createOrReplaceTempView(filename[:-5]+'_table')\n",
    "    sqlquery = 'SELECT c.* FROM {} c LEFT JOIN {} b ON c.{} = b.{} WHERE b.{} IS NOT NULL'.format(table_name,parent,key,key,key)\n",
    "    print(sqlquery)\n",
    "    df_res=sqlContext.sql(sqlquery)\n",
    "    return df_res"
   ]
  },
  {
   "cell_type": "code",
   "execution_count": 8,
   "metadata": {
    "scrolled": true
   },
   "outputs": [
    {
     "name": "stdout",
     "output_type": "stream",
     "text": [
      "SELECT c.* FROM checkin_table c LEFT JOIN biz_res_table b ON c.business_id = b.business_id WHERE b.business_id IS NOT NULL\n",
      "SELECT c.* FROM review_table c LEFT JOIN biz_res_table b ON c.business_id = b.business_id WHERE b.business_id IS NOT NULL\n",
      "SELECT c.* FROM tip_table c LEFT JOIN review_res_table b ON c.user_id = b.user_id WHERE b.user_id IS NOT NULL\n",
      "SELECT c.* FROM user_table c LEFT JOIN review_res_table b ON c.user_id = b.user_id WHERE b.user_id IS NOT NULL\n"
     ]
    }
   ],
   "source": [
    "checkin_res = filter_res('biz_res_table','checkin.json','business_id')\n",
    "review_res = filter_res('biz_res_table','review.json','business_id')\n",
    "review_res.createOrReplaceTempView('review_res_table')\n",
    "tip_res = filter_res('review_res_table','tip.json','user_id') #since tip is on individual level, match them with users\n",
    "user_res = filter_res('review_res_table','user.json','user_id') "
   ]
  },
  {
   "cell_type": "code",
   "execution_count": 9,
   "metadata": {},
   "outputs": [],
   "source": [
    "#sample  business into dev_set and test_set\n",
    "import pyspark.sql.functions as f\n",
    "review_res = review_res.withColumn('index_1', f.monotonically_increasing_id())\n",
    "review_res.createOrReplaceTempView('review_res_table')\n",
    "sqlquery = 'SELECT * FROM review_res_table ORDER BY RAND(42) LIMIT {}'.format(1000)\n",
    "review_sample = sqlContext.sql(sqlquery)\n",
    "review_sample.createOrReplaceTempView('review_sample_table')\n",
    "\n",
    "sqlquery = 'SELECT a.* FROM review_res_table a LEFT JOIN review_sample_table b ON a.index_1 = b.index_1 WHERE b.index_1 IS NULL '\n",
    "review_train = sqlContext.sql(sqlquery)\n",
    "# \n"
   ]
  },
  {
   "cell_type": "code",
   "execution_count": 10,
   "metadata": {},
   "outputs": [],
   "source": [
    "#sample 500 into dev_set and 500 into test_set\n",
    "from pyspark.sql.functions import desc\n",
    "review_sample = review_sample.withColumn('index_2', f.monotonically_increasing_id())\n",
    "review_dev = review_sample.limit(500)\n",
    "review_test = review_sample.sort(desc(\"index_2\")).limit(500)"
   ]
  },
  {
   "cell_type": "code",
   "execution_count": 11,
   "metadata": {},
   "outputs": [],
   "source": [
    "review_dev.toPandas().to_csv('filtered_data/review_dev.csv',header = 'true')\n",
    "review_test.toPandas().to_csv('filtered_data/review_test.csv',header = 'true')"
   ]
  },
  {
   "cell_type": "code",
   "execution_count": 12,
   "metadata": {},
   "outputs": [
    {
     "name": "stdout",
     "output_type": "stream",
     "text": [
      "+--------------------+----+-------------------+-----+--------------------+-----+--------------------+------+--------------------+------------+-------+\n",
      "|         business_id|cool|               date|funny|           review_id|stars|                text|useful|             user_id|     index_1|index_2|\n",
      "+--------------------+----+-------------------+-----+--------------------+-----+--------------------+------+--------------------+------------+-------+\n",
      "|wArcCMVnrl_tc9MUL...|   0|2014-05-02 14:22:05|    0|ZtAnERu9OwjIO4ug0...|  3.0|We loved the atmo...|     0|g60bxO0B2I6os1iCX...|223338344704|      0|\n",
      "|YlwJYpBWa-oL0byTV...|   0|2018-11-03 19:57:36|    0|8b_S0_FDF0zx3sELm...|  1.0|SO SLOW! Mostly E...|     0|MWKALAdfSvzFE_LEj...|335007509918|      1|\n",
      "|8mIrX_LrOnAqWsB5J...|   0|2016-10-23 19:18:39|    0|IF9A7iGnOLhF3aSlx...|  4.0|So much fun for a...|     0|93NLI_oDOFpDRmgxx...| 17179951328|      2|\n",
      "|M-bM5y8qdE-Z3mfZe...|   1|2011-03-29 05:07:26|    0|bebMts1G_tBse6zra...|  4.0|I like this place...|     0|b3xm-Pb4J2Nwx--FX...|146028968231|      3|\n",
      "|lkpoSg7xf60BsrOjd...|   0|2018-10-01 01:36:28|    1|bsDU6yjRsqo9so6KM...|  3.0|The old fashion b...|     0|KGBv_LIPdQWKofJqf...|180388632173|      4|\n",
      "|IVbvOKxV9mN1OuZBl...|   0|2016-06-28 01:03:20|    0|q-L8oxWKGHGDjeMd4...|  5.0|My first time vis...|     0|4QHYXcnvCTQqyqn8q...|249108192861|      5|\n",
      "|UNI1agsPX2k3eJSJV...|   0|2017-06-25 03:19:00|    0|ZrETHD2YCLrVMsMSB...|  5.0|Andraya was EXTRE...|     0|cgBTIeD4CLWgojaWK...|128849047777|      6|\n",
      "|MZRqxvBkJLjKcoOjN...|   0|2014-10-20 02:13:49|    0|rZpJx3vPIAV7sQZ3l...|  5.0|Great customer se...|     0|Q6HblBn7DSlmpskcS...|317827659351|      7|\n",
      "|pLMPpaJ7whp86uL_3...|   0|2017-08-04 23:26:09|    0|o9jtMNN-lUKUFrYko...|  5.0|Turkey mushroom i...|     0|0dMbwJprr8PuKcbAm...|283467942602|      8|\n",
      "|_ESIk0hZa3MdyxEsO...|   0|2013-09-02 20:01:07|    1|cBsyPUNlr_E-rBEtN...|  3.0|Nice, clean, and ...|     0|ulk3n0JW8tWnQ83C7...|231928257255|      9|\n",
      "|JzOp695tclcNCNMuB...|   0|2010-07-21 21:30:48|    0|1010tuvZ5Ng7xvEpI...|  4.0|Four Peaks has be...|     0|8uyNI-jorXhQlIVp1...|249108185130|     10|\n",
      "|oWTn2IzrprsRkPfUL...|   0|2017-10-09 23:26:53|    0|x-L4icWbnSt6V8UqN...|  1.0|I normally do not...|     0|vrvo2F5Xf8w04zpi_...|154618923137|     11|\n",
      "|EVlKBiHSr2ZUk9GsW...|   0|2018-09-06 23:26:34|    0|0ItSxMp_cCkbaWyP_...|  5.0|This place is a f...|     0|PqTz1gaHSV_Z9Pugx...| 77309421985|     12|\n",
      "|3DGtOhtb6jNdRs9T9...|   0|2016-05-20 16:20:12|    0|rKD1OKXxzzIUTLcpM...|  5.0|Huge menu!!! So m...|     0|excVCwIXphoPTMW5O...|137438966734|     13|\n",
      "|CYsSfDDpAtswz_FIz...|   2|2017-11-08 20:45:45|    1|8W2xh7MPOYhoCulr5...|  4.0|Crown Point resta...|     1|n4tD6axYRFajkX2ES...|206158536795|     14|\n",
      "|igHYkXZMLAc9UdV5V...|   1|2016-07-21 22:33:45|    0|RVo8RaobNyN_cJMf7...|  5.0|This is one of my...|     0|ru5UDSidYfBBz_4df...|214748383605|     15|\n",
      "|gTlDDzDEHyDQ6iwjN...|   0|2013-11-26 03:12:00|    0|M-NuRgp7nJhKw5YBo...|  5.0|I drove all away ...|     0|zKFelgfBFFhHlwVdD...| 42949766346|     16|\n",
      "|3deqbrFWWyHdlvAbm...|   0|2018-07-26 04:54:00|    0|GYlYJKaLbjh2MZ6NT...|  1.0|I've decided to e...|     0|h2_6lAXXuH5P21C5q...| 60129591915|     17|\n",
      "|PnXeEQQv0-0F5G24t...|   1|2016-10-09 23:57:03|    1|1PhQo_x0l0eRIcxuT...|  5.0|This is the only ...|     1|JRf0jU7BXvaO4F7rx...|257698132475|     18|\n",
      "|GeGyqtD2uvJlC5Gf1...|   0|2017-08-20 23:27:33|    0|iFKQxrKYf6Daw3Iyo...|  5.0|First time at Mil...|     0|iCEPkowvYe5Z77Wwn...|111669158881|     19|\n",
      "+--------------------+----+-------------------+-----+--------------------+-----+--------------------+------+--------------------+------------+-------+\n",
      "only showing top 20 rows\n",
      "\n"
     ]
    }
   ],
   "source": [
    "review_dev.show()"
   ]
  },
  {
   "cell_type": "code",
   "execution_count": 13,
   "metadata": {},
   "outputs": [],
   "source": [
    "#select the record from business checkin tip and users based on business_id(first two), user_id(last two)\n",
    "setname=['_train','_dev','_test']\n",
    "def filter_sample(parent,child,key): #parent:the reference table, child: the table needs filtering\n",
    "    parent.createOrReplaceTempView('p')\n",
    "    child.createOrReplaceTempView('c') #child xx_res\n",
    "    sqlquery = 'SELECT c.* FROM c LEFT JOIN p ON c.{} = p.{} WHERE p.{} IS NOT NULL'.format(key,key,key)\n",
    "    df=sqlContext.sql(sqlquery)\n",
    "    return df\n",
    "for i in range(3):\n",
    "    globals()['biz'+setname[i]] = filter_sample(globals()['review'+setname[i]],biz_res,'business_id')\n",
    "    globals()['checkin'+setname[i]] = filter_sample(globals()['review'+setname[i]],checkin_res,'business_id')\n",
    "    globals()['tip'+setname[i]] = filter_sample(globals()['review'+setname[i]],tip_res,'user_id')\n",
    "    globals()['user'+setname[i]] = filter_sample(globals()['review'+setname[i]],user_res,'user_id')"
   ]
  },
  {
   "cell_type": "code",
   "execution_count": 14,
   "metadata": {},
   "outputs": [
    {
     "name": "stdout",
     "output_type": "stream",
     "text": [
      "+--------------------+--------------------+--------------------+--------------------+---------------+--------------------+-------+-------------+---------------+--------------------+-----------+------------+-----+-----+\n",
      "|             address|          attributes|         business_id|          categories|           city|               hours|is_open|     latitude|      longitude|                name|postal_code|review_count|stars|state|\n",
      "+--------------------+--------------------+--------------------+--------------------+---------------+--------------------+-------+-------------+---------------+--------------------+-----------+------------+-----+-----+\n",
      "|322 Adelaide Stre...|[,, u'beer_and_wi...|c35qzLN6ItDpVIoj2...|Soup, Restaurants...|        Toronto|[11:0-22:0, 11:0-...|      1|   43.6475853|    -79.3920316|          Ravi Soups|    M5V 1R1|         332|  4.5|   ON|\n",
      "|     2004 Crocker Rd|[,,, {'touristy':...|nYvBZYg9rfqWFTYux...|Mexican, Bars, Re...|       Westlake|[11:0-23:0, 11:0-...|      1|41.4615685424| -81.9513030882|      Cantina Laredo|      44145|          62|  4.0|   OH|\n",
      "|      9393 E Bell Rd|[,, u'beer_and_wi...|6nKR80xEGHYf2UxAe...|Farmers Market, G...|     Scottsdale|[7:0-21:0, 7:0-20...|      1|33.6393699646|-111.8792572021|       The Thumb BBQ|      85260|         917|  4.5|   AZ|\n",
      "|      9393 E Bell Rd|[,, u'beer_and_wi...|6nKR80xEGHYf2UxAe...|Farmers Market, G...|     Scottsdale|[7:0-21:0, 7:0-20...|      1|33.6393699646|-111.8792572021|       The Thumb BBQ|      85260|         917|  4.5|   AZ|\n",
      "|     1 Yorkdale Road|[,, u'full_bar', ...|5Qoq8cif3nMCQUN-u...|Restaurants, Cock...|        Toronto|[9:0-0:0, 9:0-23:...|      1|   43.7246888|    -79.4538904|   The Pickle Barrel|    M6A 2T9|         170|  2.5|   ON|\n",
      "|4480 W Spring Mou...|[,, 'beer_and_win...|I6qFvR-jVDGqDD_iV...|Local Flavor, Foo...|      Las Vegas|[11:0-2:0, 11:0-2...|      0|36.1264280647|-115.2013077572|     Jenni Pho Grill|      89102|         244|  3.0|   NV|\n",
      "|        118 State St|[,, u'full_bar', ...|eQL6UKYvkWERh21rF...|Greek, American (...|        Madison|[11:0-1:30, 11:0-...|      0|   43.0747406|    -89.3865796|Moe's Tavern & Grill|      53703|           9|  2.5|   WI|\n",
      "|3600 S Las Vegas ...|[,, 'full_bar', {...|ujHiaprwCQ5ewziu0...|American (New), B...|      Las Vegas|[7:0-22:0, 7:0-22...|      1|     36.11322|     -115.17689|The Buffet at Bel...|      89109|        4227|  3.5|   NV|\n",
      "|        224 E 7th St|[,, u'beer_and_wi...|tjAeaGdxf7I4xN9M7...|Vegetarian, Glute...|      Charlotte|[11:0-20:0, 0:0-0...|      1|35.2275824427| -80.8379116706|          Pure Pizza|      28202|         259|  4.0|   NC|\n",
      "|     3737 W Craig Rd|[,, 'none', {'rom...|C2T7ecxqsVu99PhSq...|Sandwiches, Fast ...|North Las Vegas|[10:30-22:0, 0:0-...|      1|36.2389331706|-115.1899415263|                 PDQ|      89032|         307|  4.5|   NV|\n",
      "|2502 E Camelback ...|[,, u'none', {'to...|uTCOEqjuVAXUOzti5...|Food, Sandwiches,...|        Phoenix|[8:30-23:0, 8:30-...|      0|   33.5104431|   -112.0287274|      The Crepe Club|      85016|         162|  4.0|   AZ|\n",
      "|3355 South Las Ve...|[,, u'full_bar',,...|Wxxvi3LZbHNIDwJ-Z...|Shopping Centers,...|      Las Vegas|[0:0-0:0, 0:0-0:0...|      1|    36.121189|    -115.169657|The Venetian Las ...|      89109|        3499|  4.0|   NV|\n",
      "|3233 E Chandler B...|[,,, {'touristy':...|036SeqOKaKx89Liw5...|Restaurants, Mexican|        Phoenix|[8:0-21:0, 8:0-21...|      1|   33.3046352|   -112.0125228|Francisco's Mexic...|      85048|          34|  4.0|   AZ|\n",
      "|    2126 E Cactus Rd|[,, 'none', {'rom...|Ktia9NJfvxVxTLVcE...|Mexican, Event Pl...|        Phoenix|[8:0-21:0, 0:0-0:...|      1|   33.5971716|   -112.0361968|Carolina's Mexica...|      85022|         483|  4.0|   AZ|\n",
      "|370 Steeles Avenue W|[,,,,,,,,,, {'gar...|uovoaLJV99NdPRgv4...|Food, Restaurants...|        Vaughan|                null|      1|43.7956757298| -79.4334006277|         Tim Hortons|    L4J 6X1|           7|  2.0|   ON|\n",
      "|7001 N Scottsdale...|[,, 'none', {'rom...|Q0EZmATxDphzRMszN...|Food, American (N...|     Scottsdale|[6:0-21:0, 6:0-21...|      1|33.5391796555|-111.9236706253|          Wildflower|      85253|         282|  4.5|   AZ|\n",
      "|6572 N Decatur Bl...|[,, u'none', {'to...|JlEy8FH6123SJBoNw...|Chicken Wings, Re...|North Las Vegas|[11:0-21:30, 0:0-...|      1|36.2795304427| -115.206069611|            WingTime|      89131|         201|  4.0|   NV|\n",
      "|8420 University C...|[,, u'full_bar', ...|h7uxML49NQ_Wj-7zk...|Breakfast & Brunc...|      Charlotte|[11:0-23:0, 11:0-...|      1|    35.295787|     -80.741674|O'Charley's Resta...|      28213|          65|  2.5|   NC|\n",
      "|3600 S Las Vegas ...|[,,,,,,,,,, {'gar...|NCFwm2-TDb-oBQ2me...|Public Services &...|      Las Vegas|[15:0-0:0, 15:0-0...|      1|    36.112777|    -115.174006|Fountains of Bell...|      89109|        1200|  4.5|   NV|\n",
      "|      732 Filbert St|[,, u'none', {'to...|hzyvL2v97xLzLbLXc...|Restaurants, Brea...|     Pittsburgh|[8:0-16:0, 0:0-0:...|      1|40.4516222361| -79.9331853806|         Cafe Moulin|      15232|         219|  4.0|   PA|\n",
      "+--------------------+--------------------+--------------------+--------------------+---------------+--------------------+-------+-------------+---------------+--------------------+-----------+------------+-----+-----+\n",
      "only showing top 20 rows\n",
      "\n"
     ]
    }
   ],
   "source": [
    "biz_test.show()"
   ]
  },
  {
   "cell_type": "code",
   "execution_count": null,
   "metadata": {},
   "outputs": [],
   "source": []
  }
 ],
 "metadata": {
  "kernelspec": {
   "display_name": "Python [conda env:Python3]",
   "language": "python",
   "name": "conda-env-Python3-py"
  },
  "language_info": {
   "codemirror_mode": {
    "name": "ipython",
    "version": 3
   },
   "file_extension": ".py",
   "mimetype": "text/x-python",
   "name": "python",
   "nbconvert_exporter": "python",
   "pygments_lexer": "ipython3",
   "version": "3.6.10"
  }
 },
 "nbformat": 4,
 "nbformat_minor": 2
}
