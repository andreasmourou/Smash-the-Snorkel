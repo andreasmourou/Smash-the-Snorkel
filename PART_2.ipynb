{
 "cells": [
  {
   "cell_type": "markdown",
   "metadata": {},
   "source": [
    "![title](yelp2.jpg)\n",
    "# Smash the Snorkel Team Project: \n",
    "# A Weak Supervised Learning Study for Yelp Restaruant Review Classification \n",
    "# Part 2"
   ]
  },
  {
   "cell_type": "markdown",
   "metadata": {},
   "source": [
    "## 0. A connection with part 1\n",
    "In Part 1 we have hosted a .json file of our collection into a cloud-based DataBase. We extracted from it which businesses are restaurants and then we've splitted our reviews into development, test and training. In this notebook we load these subsets and we perform our main analysis with Snorkel for creating our labels (if a review contain useful suggestions or complaints).\n",
    "### 0.1 Import required libraries for part 2\n"
   ]
  },
  {
   "cell_type": "code",
   "execution_count": 1,
   "metadata": {},
   "outputs": [
    {
     "data": {
      "text/html": [
       "<style>pre { white-space: pre !important; }</style>"
      ],
      "text/plain": [
       "<IPython.core.display.HTML object>"
      ]
     },
     "metadata": {},
     "output_type": "display_data"
    }
   ],
   "source": [
    "#Visualize properly pyspark dataframes\n",
    "from IPython.core.display import HTML\n",
    "display(HTML(\"<style>pre { white-space: pre !important; }</style>\"))\n",
    "from IPython.core.interactiveshell import InteractiveShell\n",
    "InteractiveShell.ast_node_interactivity = \"all\""
   ]
  },
  {
   "cell_type": "code",
   "execution_count": 2,
   "metadata": {},
   "outputs": [
    {
     "name": "stdout",
     "output_type": "stream",
     "text": [
      "Spark NLP version:  2.4.1\n",
      "Apache Spark version:  2.4.4\n"
     ]
    }
   ],
   "source": [
    "#Spark NLP imports (text processing in scale)\n",
    "import sparknlp\n",
    "from sparknlp.base import *\n",
    "from sparknlp.annotator import *\n",
    "from sparknlp.embeddings import *\n",
    "from sparknlp.base import DocumentAssembler, Finisher\n",
    "from sparknlp.pretrained import PretrainedPipeline\n",
    "from sparknlp.common import RegexRule\n",
    "\n",
    "# Start Spark Session with Spark NLP\n",
    "spark = sparknlp.start()\n",
    "print(\"Spark NLP version: \", sparknlp.version())\n",
    "print(\"Apache Spark version: \", spark.version)"
   ]
  },
  {
   "cell_type": "code",
   "execution_count": 3,
   "metadata": {},
   "outputs": [],
   "source": [
    "#Pyspark \n",
    "import pyspark\n",
    "from pyspark import SparkContext,SparkConf\n",
    "from pyspark.sql import SparkSession\n",
    "from pyspark.ml import Pipeline\n",
    "from pyspark.sql.functions import array_contains\n",
    "from pyspark.ml import Pipeline, PipelineModel\n",
    "\n",
    "from pyspark.sql import functions as F\n",
    "from pyspark.sql import SQLContext\n",
    "sc = pyspark.SparkContext.getOrCreate()\n",
    "sqlContext = SQLContext(sc)"
   ]
  },
  {
   "cell_type": "markdown",
   "metadata": {},
   "source": [
    "### 0.2 Import tables from part 1\n",
    "Below we import all the tables that we have created in part 1. Ideally, if we have performed all the analysis in a single notebook, we could continue using them as pyspark DataFrames."
   ]
  },
  {
   "cell_type": "code",
   "execution_count": 4,
   "metadata": {},
   "outputs": [],
   "source": [
    "##DEVELOPMENT SET WITH GOLD LABELS\n",
    "df_dev = spark.read.csv(\"/project/EXPROTS/df_dev.csv\", escape='\"', multiLine=True, inferSchema=True, header=True)\n",
    "colnames = df_dev.columns\n",
    "df_dev = df_dev.toDF(*map(str, range(len(colnames))))\\\n",
    "    .drop(str(len(colnames)-1))\\\n",
    "    .toDF(*colnames[:-1])\n",
    "df_dev = df_dev.withColumnRenamed(\"label\\r\", \"label\")\n",
    "\n",
    "##VALIDATION SET WITH GOLD LABELS \n",
    "review_test = spark.read.csv(\"/project/EXPROTS/df_test.csv\", escape='\"', multiLine=True,\n",
    "     inferSchema=True, header=True)\n",
    "review_test = review_test.withColumnRenamed(\"label\\r\", \"label\")\n",
    "\n",
    "##2500 REVIEWS WITHOUT GOLD LABELS\n",
    "review_train = spark.read.csv(\"/project/review_train.csv\", escape='\"', multiLine=True,\n",
    "     inferSchema=True, header=True)\n",
    "review_train = review_train.withColumnRenamed(\"label\\r\", \"label\")"
   ]
  },
  {
   "cell_type": "code",
   "execution_count": 5,
   "metadata": {},
   "outputs": [
    {
     "name": "stdout",
     "output_type": "stream",
     "text": [
      "SELECT c.* FROM checkin_table c LEFT JOIN biz_res_table b ON c.business_id = b.business_id WHERE b.business_id IS NOT NULL\n",
      "SELECT c.* FROM review_table c LEFT JOIN biz_res_table b ON c.business_id = b.business_id WHERE b.business_id IS NOT NULL\n",
      "SELECT c.* FROM user_table c LEFT JOIN review_res_table b ON c.user_id = b.user_id WHERE b.user_id IS NOT NULL\n"
     ]
    }
   ],
   "source": [
    "#Load all datasets for the restaurants (these files are used in analysis in part 3.2.5)\n",
    "#Load from existing file\n",
    "#biz_res.csv = spark.read.csv(\"/project/filtered_data/biz_rez.csv\", escape='\"', multiLine=True, inferSchema=True, header=True)\n",
    "#review_test = review_test.withColumnRenamed(\"label\\r\", \"label\")\n",
    "#checkin_res = spark.read.csv(\"/project/filtered_data/checkin_res.csv\", escape='\"', multiLine=True, inferSchema=True, header=True)\n",
    "#review_res = spark.read.csv(\"/project/filtered_data/review_res.csv\", escape='\"', multiLine=True, inferSchema=True, header=True)\n",
    "#user_res = spark.read.csv(\"/project/filtered_data/user_res.csv\", escape='\"', multiLine=True,  inferSchema=True, header=True)\n",
    "\n",
    "\n",
    "#OR\n",
    "#Recreate them from .json files\n",
    "## Here we use the business.json file to extract some aggregated metrics for the numerical label functions (3.2.5)\n",
    "biz_df = sqlContext.read.json(\"original_data/business.json\") #It is used for the analysis in 3.2.5\n",
    "biz_df.createOrReplaceTempView('biz_table')\n",
    "#only keep restaurants\n",
    "biz_res = sqlContext.sql('SELECT * FROM biz_table WHERE categories LIKE \\'%Restaurants%\\'') # Mongo Needed\n",
    "biz_res.createOrReplaceTempView('biz_res_table')\n",
    "\n",
    "######\n",
    "def filter_res(parent,filename,key): #filter the irrelevant records from other table\n",
    "    df = sqlContext.read.json(\"original_data/\"+filename)\n",
    "    table_name=filename[:-5]+'_table'\n",
    "    df.createOrReplaceTempView(filename[:-5]+'_table')\n",
    "    sqlquery = 'SELECT c.* FROM {} c LEFT JOIN {} b ON c.{} = b.{} WHERE b.{} IS NOT NULL'.format(table_name,parent,key,key,key)\n",
    "    print(sqlquery)\n",
    "    df_res=sqlContext.sql(sqlquery)\n",
    "    return df_res\n",
    "\n",
    "checkin_res = filter_res('biz_res_table','checkin.json','business_id')\n",
    "review_res = filter_res('biz_res_table','review.json','business_id')\n",
    "review_res.createOrReplaceTempView('review_res_table')\n",
    "#tip_res = filter_res('review_res_table','tip.json','user_id') #since tip is on individual level, match them with users\n",
    "user_res = filter_res('review_res_table','user.json','user_id')"
   ]
  },
  {
   "cell_type": "code",
   "execution_count": 6,
   "metadata": {},
   "outputs": [
    {
     "name": "stdout",
     "output_type": "stream",
     "text": [
      "+---+--------------------+----+-------------------+-----+--------------------+-----+--------------------+------+--------------------+-------------+-------+-----+\n",
      "|  #|         business_id|cool|               date|funny|           review_id|stars|                text|useful|             user_id|      index_1|index_2|label|\n",
      "+---+--------------------+----+-------------------+-----+--------------------+-----+--------------------+------+--------------------+-------------+-------+-----+\n",
      "|  0|XFhnPpO2x0nS-lVkq...|   1|2017-02-14 16:50:06|    0|o6VZ0cQEfIBvGW15u...|    2|I knew it was a k...|     0|dk5yqirSwDH7Cpp52...|1082331766789|      0|    1|\n",
      "|  1|SRCepG6PbMvwKcfIU...|   0|2015-12-11 02:47:27|    0|PBy3gB_D1xEiBJDrw...|    2|Average place, bu...|     0|xmtWxX67wF7afssQR...| 730144449129|      1|    1|\n",
      "|  2|pneBBrIzd3SCbbglY...|   2|2015-05-15 19:18:52|    0|AeyK7AEtbfubw1aD0...|    4|This is a great o...|     4|X4k8ugJaihHVLHq32...| 489626295186|      2|    0|\n",
      "|  3|8enR8Wc0ot9L41JY1...|   0|2017-09-15 13:17:57|    0|Vkx4AUppu9A7DL3AI...|    5|We took shelter a...|     0|Xpl0z24sZ-zJ6klgV...|1151051242595|      3|    0|\n",
      "|  4|HhVmDybpU7L50Kb5A...|   0|2016-02-06 02:12:36|    0|2GtcaGkq5nAxBvKZp...|    3|Had the burgers o...|     0|9T39fu4au232kl25R...| 996432418888|      4|    1|\n",
      "|  5|LUDX--wfStrKavGyi...|   1|2012-07-17 02:00:55|    0|yWy_rfgk40HuFs-HT...|    4|3 words...Twice B...|     2|yZS81ytT4TnAzaQ9Q...| 180388632173|      5|    0|\n",
      "|  6|AED5R0yXVzJvWAGEq...|   0|2016-09-16 18:48:39|    0|FH1vAWqpHTrrx1TCr...|    4|Be honest, my fir...|     1|8C8Ml7hj1zxyhcChk...| 523986012734|      6|    0|\n",
      "|  7|cxsN3mkioAXuOLKy0...|   1|2018-09-15 00:13:46|    1|LXuuEkxw1cE7R6QCQ...|    2|Read a meme today...|     2|DPitNu466172os6m0...|1030792162416|      7|    1|\n",
      "|  8|vfwTrfrZ3FWhVkyLj...|   0|2011-12-14 15:15:11|    0|wAIX_9diI4-oInUfp...|    5|Fish and chips fo...|     3|CeaQiG0KteHAnhKgb...|1563368117465|      8|    0|\n",
      "|  9|dsYjWjV0vr1RgSJ78...|   0|2011-10-30 13:40:08|    0|GYJBxUauqyMCgNVYL...|    4|We had dinner at ...|     0|TdYJqGeNjI-BmgXHQ...|  77309421985|      9|    0|\n",
      "| 10|Jm_R0IhwFlfCAV3Fk...|   0|2018-11-10 00:56:09|    0|B0jPms8H691N9jfEA...|    5|Came based on fam...|     0|IYpocDjXsAtL9B6XY...|1683627185427|     10|    0|\n",
      "| 11|WFB1fn8rWNukmmIfT...|   0|2018-05-02 18:31:54|    0|dqifjIBD_gkSaR6C8...|    5|We had a great ti...|     0|73Zav8SgUJN549GB8...| 137438966734|     11|    0|\n",
      "| 12|qQXc9D6PV1Y8RhIBZ...|   0|2018-02-23 18:16:19|    0|5HH9cZO5KiRwvD2IZ...|    5|I'm so glad I fou...|     0|XBvqoM6BaeAA-zdpB...| 214748383605|     12|    0|\n",
      "| 13|xiWmyJyTa7o1H6uUN...|   0|2017-08-07 15:28:56|    0|3baO5ezFrGdMxq2ZO...|    4|We went to the Ch...|     0|WEE4qvqumaw2EdkuE...| 515396099606|     13|    1|\n",
      "| 14|ZAuAwz1ijuydn5yL3...|   0|2016-12-12 06:09:28|    0|7KA11lzO6jAUWpSdK...|    4|One of my go to p...|     0|HN-2o_s91nULyyIBa...| 111669158881|     14|    1|\n",
      "| 15|TT2bNjvnVNFOanDNY...|   1|2016-09-10 23:29:23|    1|rkJfupaqdSfmeQvVB...|    1|Slowest Canes on ...|     1|mUE0kJRkH-rz6zuCn...|1563368104220|     15|    1|\n",
      "| 16|bPcqucuuClxYrIM8x...|   0|2015-04-26 16:52:37|    0|_vaK3rUQfcSXGxaAB...|    5|Fantastic experie...|     0|fGtyech-ku19J6SOT...| 481036347226|     16|    0|\n",
      "| 17|aqwn3jdQLCWnb59gH...|   0|2018-04-05 22:29:37|    0|aPKiIxVj-7xMoZ2J3...|    5|We loved the food...|     0|j9rwqrr6xFkCbv7fS...|1529008368624|     17|    0|\n",
      "| 18|RThuRlhMdowhtY8vI...|   0|2007-07-10 18:21:23|    0|VzbHYp2CtABZvp7Gp...|    4|One of the best p...|     1|f8cxIBV35TfPVhQDR...| 609885363685|     18|    0|\n",
      "| 19|xfWdUmrz2ha3rcigy...|   0|2017-09-24 15:26:56|    0|CVbcShYKD88NxvkMO...|    5|Definitely a grea...|     1|7R4cy2ITjqwrmYvgk...| 214748386276|     19|    0|\n",
      "+---+--------------------+----+-------------------+-----+--------------------+-----+--------------------+------+--------------------+-------------+-------+-----+\n",
      "only showing top 20 rows\n",
      "\n"
     ]
    }
   ],
   "source": [
    "df_dev.show()"
   ]
  },
  {
   "cell_type": "markdown",
   "metadata": {},
   "source": [
    "### 0.3 A refresher into our project:\n",
    "### Business Problem Identification\n",
    "\n",
    "The competition between restaurants is fiercer than ever. Restaurant owners are under consistent pressure \n",
    "to improve their business or set themselves apart from the rest. But how? Although some restuarants still rely \n",
    "on asking their customers directly, more and more restuarants have been leveraging reviews on apps like Yelp \n",
    "to understand what their customers need. In this case, the reviews containing complaints/suggestions are invaluable as they \n",
    "explicitly point out the possible solution to improving customers' satisfaction.\n",
    "\n",
    "For restuarants receiving numerous reviews,however, it is hard for the business owners to investigate every review to figure \n",
    "out whether the reviews contain useful suggestions/complaints. Therefore, an automatic process is needed to filter irrelevent \n",
    "information quickly.\n",
    "\n",
    "\n",
    "### Project Objective\n",
    "In this project we seek to automize the classification of reviews to understand whether a review is mentioning complaints or suggestions using **Yelp** review dataset. One extra challenge that lies ahead is that we don't have any datapoint with the \"golden\" label indicating this piece of  information. \n",
    "Consequently, to cope with this problem, we aim to find solution to classification problem without any existing labels.\n",
    "**Objective**: Find solution for classification problem when there is no pre-exsiting label.\n",
    "\n",
    "\n",
    "### Key Results\n",
    "There are four major results in this project.\n",
    "a) Build a Database hosting the data source to mimic the industrial canon. (Part 1)\n",
    "b) Create labeling functions using Snorkel DryBell to provide weak supervised-learning at industrial scale.\n",
    "c) Augment dataset to create more training datapoints\n",
    "d) Train a classifier for labeling a unseen review automatically. \n",
    "\n",
    "### Project Structure\n",
    "Below you can see a diagram that represents the workflow of the project. This includes the flow of the original files from start to end, and the actions taken in each step of the process. <br><br>\n",
    "As you can see we have acquired flat files in JSON format from the official yelp website. Then we have uploaded on of the files on the CosmosDB platform of Microsoft Azure in the MongoDB database that we have created. Due to the size of the files and the resource restrictions, we were not able to upload all of them. The flat files were then parsed into csv format in order to manipulate them as spark dataframes and we moved on to use the reviews dataframe as the basis of our analysis. This was split into 3 sets: <br>\n",
    "- The <b>development set</b> (500 rows) that was manually labeled and used to perform data understanding, analysis, aggregations feature engineering. This process also involved fetching the file from the MongoDB database to extract information. Then with this set we have created and evaluated the labeling functions. This whole process was iterative, as with each iteration we were imporoving the construction of the labeling functions.<br>\n",
    "-  The <b>train set</b> containing vast amount of data points was sampled to be able to apply efficiently the previously created labeling functions. This resulted to having a weakly labeled train set that was then augmented using data augmentation techniques like transformation functions. The output of this was the train set that we fit our classifiers in order to come to a final prediction.<br>\n",
    "- The <b>test set</b> (500 rows) that was manually labeled and used to validate and tune the classifiers.\n",
    "![Diagram.PNG](Diagram.PNG)"
   ]
  },
  {
   "cell_type": "markdown",
   "metadata": {},
   "source": [
    "## 3. Labeling Functions"
   ]
  },
  {
   "cell_type": "markdown",
   "metadata": {},
   "source": [
    "### 3.1 Writing Labeling Functions "
   ]
  },
  {
   "cell_type": "markdown",
   "metadata": {},
   "source": [
    "\n",
    "In this case, we used labelling functions (LFs) in Snorkel to apply the weak supervision approach by using programmatic rules and heuristics that assign labels to unlabelled training data. Individuals all have different methods to express their understanding and opinions, therefore, there is very unlikely exist completely same comments. Otherwise, if a single LF had high enough coverage to label our entire test dataset accurately, we don't need a classifier at all. In reality, most problems are not that simple. Instead, we usually need to combine multiple LFs to label our dataset, to improve the overall accuracy of the training labels we generate by factoring in multiple different signals, like keywords extraction, heuristics and numerical method."
   ]
  },
  {
   "cell_type": "markdown",
   "metadata": {},
   "source": [
    "### 3.2 Pre-processing reviews with SparkNLP \n",
    "Spark NLP is an open-source text processing library for advanced natural language processing for the Python, Java and Scala programming languages.The library is built on top of Apache Spark and its Spark ML library for speed and scalability and on top of TensorFlow for deep learning training & inference functionality. Its goal is to provide an API for natural language processing annotations allowing a scalable approach within a distributed large scale environment. The library offers pre-trained neural network models, pipelines, and embeddings as well as support for training custom models. \n",
    "\n",
    "Below we use sparknlp to pre-process our reviews. To achieve this, we have created a pipeline which consists of the following steps:"
   ]
  },
  {
   "cell_type": "markdown",
   "metadata": {},
   "source": [
    "<br>\n",
    "The first step is to transform the raw data into a Document type that will be used by annotators further in the pipeline. For this task we used the DocumentAssembler(). The next step is to tokenize and normalize the text.<br>\n",
    "<br>\n",
    "Tokenization: is the process of splitting a text or a string into a list of tokens. We used tokenization to split the review into individual words and remove any noise such as punctuation.<br>\n",
    "<br>\n",
    "Remove stopwords: We removed all the stopwords from the reviews as they cause unnecessary noise without providing any useful information. Stopwords are commonly used words such as: the, an, a etc.<br>\n",
    "<br>\n",
    "Lemmatization: Is the process of transforming inflected words to their common root. Inflected words are words that are modified to express grammatical categories such as voice and tense. For example play--> played. In NLP lemmatization is useful to group words with the same meaning so they can be analysed as a single item. This reduces the amount of text to be processed.\n",
    "<br>\n"
   ]
  },
  {
   "cell_type": "code",
   "execution_count": 7,
   "metadata": {},
   "outputs": [
    {
     "name": "stdout",
     "output_type": "stream",
     "text": [
      "lemma_antbnc download started this may take some time.\n",
      "Approximate size to download 907.6 KB\n",
      "[OK!]\n",
      "+---+--------------------+----+-------------------+-----+--------------------+-----+--------------------+------+--------------------+-------------+-------+-----+--------------------+\n",
      "|  #|         business_id|cool|               date|funny|           review_id|stars|                text|useful|             user_id|      index_1|index_2|label|         cleanTokens|\n",
      "+---+--------------------+----+-------------------+-----+--------------------+-----+--------------------+------+--------------------+-------------+-------+-----+--------------------+\n",
      "|  0|XFhnPpO2x0nS-lVkq...|   1|2017-02-14 16:50:06|    0|o6VZ0cQEfIBvGW15u...|    2|I knew it was a k...|     0|dk5yqirSwDH7Cpp52...|1082331766789|      0|    1|[know, kitschy, p...|\n",
      "|  1|SRCepG6PbMvwKcfIU...|   0|2015-12-11 02:47:27|    0|PBy3gB_D1xEiBJDrw...|    2|Average place, bu...|     0|xmtWxX67wF7afssQR...| 730144449129|      1|    1|[average, place, ...|\n",
      "|  2|pneBBrIzd3SCbbglY...|   2|2015-05-15 19:18:52|    0|AeyK7AEtbfubw1aD0...|    4|This is a great o...|     4|X4k8ugJaihHVLHq32...| 489626295186|      2|    0|[great, outside, ...|\n",
      "|  3|8enR8Wc0ot9L41JY1...|   0|2017-09-15 13:17:57|    0|Vkx4AUppu9A7DL3AI...|    5|We took shelter a...|     0|Xpl0z24sZ-zJ6klgV...|1151051242595|      3|    0|[take, shelter, a...|\n",
      "|  4|HhVmDybpU7L50Kb5A...|   0|2016-02-06 02:12:36|    0|2GtcaGkq5nAxBvKZp...|    3|Had the burgers o...|     0|9T39fu4au232kl25R...| 996432418888|      4|    1|[burger, carnival...|\n",
      "+---+--------------------+----+-------------------+-----+--------------------+-----+--------------------+------+--------------------+-------------+-------+-----+--------------------+\n",
      "only showing top 5 rows\n",
      "\n"
     ]
    }
   ],
   "source": [
    "### create clean tokens check with pipeline. \n",
    "#DO NOT worry about document_assembler , sentence_detector and finisher in the end \n",
    "#(are preprocessors of the preprocessors :P)\n",
    "#The pipeline has the following steps: tokenizer -->normalizer -->lemmatizer -->stop_words_cleaner\n",
    "\n",
    "document_assembler = DocumentAssembler() \\\n",
    "            .setInputCol(\"text\")\\\n",
    "            .setOutputCol(\"document\")\\\n",
    "            .setCleanupMode(\"shrink\")\n",
    "\n",
    "sentence_detector = SentenceDetector() \\\n",
    "    .setInputCols([\"document\"]) \\\n",
    "    .setOutputCol(\"sentence\")\n",
    "\n",
    "tokenizer = Tokenizer() \\\n",
    "    .setInputCols([\"sentence\"]) \\\n",
    "    .setOutputCol(\"token\") \\\n",
    "    #.setSplitChars(['-']) \\\n",
    "   # .setContextChars(['(', ')', '?', '!']) \\\n",
    "\n",
    "normalizer = Normalizer() \\\n",
    "            .setInputCols([\"token\"]) \\\n",
    "            .setLowercase(True)\\\n",
    "            .setOutputCol(\"normal\")\n",
    "\n",
    "lemmatizer = LemmatizerModel.pretrained('lemma_antbnc') \\\n",
    "    .setInputCols([\"normal\"]) \\\n",
    "    .setOutputCol(\"lemma\") \\\n",
    "    #.setDictionary(\"/tmp/lemmas_small.txt\", key_delimiter=\"->\", value_delimiter=\"\\t\")\n",
    "\n",
    "stop_words_cleaner = StopWordsCleaner() \\\n",
    "        .setInputCols([\"lemma\"]) \\\n",
    "        .setOutputCol(\"cleanTokens\") \\\n",
    "        .setCaseSensitive(False) \n",
    "\n",
    "finisher = Finisher() \\\n",
    "    .setInputCols([\"cleanTokens\"]) \\\n",
    "    .setIncludeMetadata(False)\\\n",
    "    .setOutputCols([\"cleanTokens\"])\n",
    "\n",
    "pipeline_normalize = Pipeline(stages=[\n",
    "    document_assembler,\n",
    "    sentence_detector,\n",
    "    tokenizer,\n",
    "    normalizer,\n",
    "    lemmatizer,\n",
    "    stop_words_cleaner,\n",
    "    finisher\n",
    "])\n",
    "\n",
    "normalized_data = pipeline_normalize.fit(df_dev).transform(df_dev)\n",
    "normalized_data.show(5)"
   ]
  },
  {
   "cell_type": "code",
   "execution_count": 8,
   "metadata": {},
   "outputs": [
    {
     "name": "stdout",
     "output_type": "stream",
     "text": [
      "+-------------------------------------------------------------------------------------------------------------------------------------------------------------------------------------------------------------------------------------------------------------------------------------------------------------------------------------------------------------------------------------------------------------------------------------------------------------------------------------------------------------------------------------------------------------------------------------------------------------------------------------------+\n",
      "|cleanTokens_n                                                                                                                                                                                                                                                                                                                                                                                                                                                                                                                                                                                                                              |\n",
      "+-------------------------------------------------------------------------------------------------------------------------------------------------------------------------------------------------------------------------------------------------------------------------------------------------------------------------------------------------------------------------------------------------------------------------------------------------------------------------------------------------------------------------------------------------------------------------------------------------------------------------------------------+\n",
      "|know,kitschy,place,find,online,picture,online,match,get,eat,locate,park,lot,front,mall,next,motelhotel,typical,look,outside,usual,jukebox,old,poster,assorted,memorabilia,wall,nobody,dress,like,see,one,ad,service,alright,slow,server,table,plus,table,behind,couple,overwhelm,look,like,lot,snowbirds,go,well,hotel,worker,stop,bite,head,food,reasonable,nice,honest,wish,choose,someplace,else,go,wouldnt,return                                                                                                                                                                                                                      |\n",
      "|average,place,wish,wouldve,read,review,order,torta,figure,way,id,never,order,one,ill,give,torta,another,chance                                                                                                                                                                                                                                                                                                                                                                                                                                                                                                                             |\n",
      "|great,outside,poolside,place,delightful,imaginative,drink,locate,wild,horse,pass,resort,spa,chandler,az,also,provide,variety,food,item,satisfy,hunger,fantastic,view,surround,mountain,large,pool,area,adult,child,pool,chair,flag,system,raise,service,matter,sit,never,leave,seat,food,drink,separate,eat,area,cover,bird,beg,food,afraid,human,long,flight,place,sit,back,enjoy,scenery,take,drink,three,staff,good,draw,back,like,place,miami,gratuity,add,check,shame,business,feel,worker,people,leave,little,tip,server,dont,wish,tip,always,fast,food,drive,thru,enjoy,drink,food,especially,staff,host,family,get,together,weekend|\n",
      "|take,shelter,andaz,hurricane,irma,good,decision,ever,thank,amazing,staff,able,relax,week,gorgeous,oasis,feel,pamper,breakfast,gorgeous,pool,camelback,mountain,view,casitas,roomy,mid,century,modern,decor,mini,bar,well,stock,need,ride,tesla,service,take,around,town,hope,back,soon,highly,recommend                                                                                                                                                                                                                                                                                                                                    |\n",
      "|burger,carnival,cruise,ship,couple,year,ago,burger,ship,awesome,eat,everyday,hear,place,vegas,roll,mayor,flavortown,burger,wife,ringer,burger,think,burger,cruise,ship,well,seem,recipe,something,different                                                                                                                                                                                                                                                                                                                                                                                                                                |\n",
      "+-------------------------------------------------------------------------------------------------------------------------------------------------------------------------------------------------------------------------------------------------------------------------------------------------------------------------------------------------------------------------------------------------------------------------------------------------------------------------------------------------------------------------------------------------------------------------------------------------------------------------------------------+\n",
      "only showing top 5 rows\n",
      "\n"
     ]
    }
   ],
   "source": [
    "#here we convert the cleantokens from a list to a string line (juct in case we use them later)\n",
    "from pyspark.sql.functions import concat_ws\n",
    "\n",
    "normalized_data = normalized_data.withColumn(\"cleanTokens_n\", concat_ws(\",\", \"cleanTokens\"))\n",
    "normalized_data.select('cleanTokens_n').show(5, truncate=False)"
   ]
  },
  {
   "cell_type": "code",
   "execution_count": 9,
   "metadata": {},
   "outputs": [
    {
     "name": "stdout",
     "output_type": "stream",
     "text": [
      "+---+--------------------+----+-------------------+-----+--------------------+-----+--------------------+------+--------------------+-------------+-------+-----+--------------------+--------------------+--------------+\n",
      "|  #|         business_id|cool|               date|funny|           review_id|stars|                text|useful|             user_id|      index_1|index_2|label|         cleanTokens|       cleanTokens_n|n_clean_tokens|\n",
      "+---+--------------------+----+-------------------+-----+--------------------+-----+--------------------+------+--------------------+-------------+-------+-----+--------------------+--------------------+--------------+\n",
      "|  0|XFhnPpO2x0nS-lVkq...|   1|2017-02-14 16:50:06|    0|o6VZ0cQEfIBvGW15u...|    2|I knew it was a k...|     0|dk5yqirSwDH7Cpp52...|1082331766789|      0|    1|[know, kitschy, p...|know,kitschy,plac...|            65|\n",
      "|  1|SRCepG6PbMvwKcfIU...|   0|2015-12-11 02:47:27|    0|PBy3gB_D1xEiBJDrw...|    2|Average place, bu...|     0|xmtWxX67wF7afssQR...| 730144449129|      1|    1|[average, place, ...|average,place,wis...|            19|\n",
      "|  2|pneBBrIzd3SCbbglY...|   2|2015-05-15 19:18:52|    0|AeyK7AEtbfubw1aD0...|    4|This is a great o...|     4|X4k8ugJaihHVLHq32...| 489626295186|      2|    0|[great, outside, ...|great,outside,poo...|           100|\n",
      "|  3|8enR8Wc0ot9L41JY1...|   0|2017-09-15 13:17:57|    0|Vkx4AUppu9A7DL3AI...|    5|We took shelter a...|     0|Xpl0z24sZ-zJ6klgV...|1151051242595|      3|    0|[take, shelter, a...|take,shelter,anda...|            46|\n",
      "|  4|HhVmDybpU7L50Kb5A...|   0|2016-02-06 02:12:36|    0|2GtcaGkq5nAxBvKZp...|    3|Had the burgers o...|     0|9T39fu4au232kl25R...| 996432418888|      4|    1|[burger, carnival...|burger,carnival,c...|            31|\n",
      "+---+--------------------+----+-------------------+-----+--------------------+-----+--------------------+------+--------------------+-------------+-------+-----+--------------------+--------------------+--------------+\n",
      "only showing top 5 rows\n",
      "\n"
     ]
    }
   ],
   "source": [
    "#Get Number of Tokens (number of meaningful words)\n",
    "normalized_data = normalized_data.withColumn('n_clean_tokens', F.expr('size(cleanTokens)'))\n",
    "normalized_data.show(5)"
   ]
  },
  {
   "cell_type": "markdown",
   "metadata": {},
   "source": [
    "Furthermore we perform a sentiment analysis in each review. Below we create a pipeline which classifies a review as positive or negative based on sentiment lexicon from Chen, Y., & Skiena, S. (2014). Building Sentiment Lexicons for All Major Languages. In ACL (2) (pp. 383-389)."
   ]
  },
  {
   "cell_type": "code",
   "execution_count": 10,
   "metadata": {},
   "outputs": [
    {
     "name": "stdout",
     "output_type": "stream",
     "text": [
      "lemma_antbnc download started this may take some time.\n",
      "Approximate size to download 907.6 KB\n",
      "[OK!]\n",
      "+---+--------------------+----+-------------------+-----+--------------------+-----+--------------------+------+--------------------+-------------+-------+-----+--------------------+--------------------+--------------+-------------+\n",
      "|  #|         business_id|cool|               date|funny|           review_id|stars|                text|useful|             user_id|      index_1|index_2|label|         cleanTokens|       cleanTokens_n|n_clean_tokens|lex_sentiment|\n",
      "+---+--------------------+----+-------------------+-----+--------------------+-----+--------------------+------+--------------------+-------------+-------+-----+--------------------+--------------------+--------------+-------------+\n",
      "|  0|XFhnPpO2x0nS-lVkq...|   1|2017-02-14 16:50:06|    0|o6VZ0cQEfIBvGW15u...|    2|I knew it was a k...|     0|dk5yqirSwDH7Cpp52...|1082331766789|      0|    1|[know, kitschy, p...|know,kitschy,plac...|            65|   [positive]|\n",
      "|  1|SRCepG6PbMvwKcfIU...|   0|2015-12-11 02:47:27|    0|PBy3gB_D1xEiBJDrw...|    2|Average place, bu...|     0|xmtWxX67wF7afssQR...| 730144449129|      1|    1|[average, place, ...|average,place,wis...|            19|   [positive]|\n",
      "|  2|pneBBrIzd3SCbbglY...|   2|2015-05-15 19:18:52|    0|AeyK7AEtbfubw1aD0...|    4|This is a great o...|     4|X4k8ugJaihHVLHq32...| 489626295186|      2|    0|[great, outside, ...|great,outside,poo...|           100|   [positive]|\n",
      "|  3|8enR8Wc0ot9L41JY1...|   0|2017-09-15 13:17:57|    0|Vkx4AUppu9A7DL3AI...|    5|We took shelter a...|     0|Xpl0z24sZ-zJ6klgV...|1151051242595|      3|    0|[take, shelter, a...|take,shelter,anda...|            46|   [positive]|\n",
      "|  4|HhVmDybpU7L50Kb5A...|   0|2016-02-06 02:12:36|    0|2GtcaGkq5nAxBvKZp...|    3|Had the burgers o...|     0|9T39fu4au232kl25R...| 996432418888|      4|    1|[burger, carnival...|burger,carnival,c...|            31|   [positive]|\n",
      "+---+--------------------+----+-------------------+-----+--------------------+-----+--------------------+------+--------------------+-------------+-------+-----+--------------------+--------------------+--------------+-------------+\n",
      "only showing top 5 rows\n",
      "\n"
     ]
    }
   ],
   "source": [
    "#Sentiment per review\n",
    "#Sentiment Feature 1 - pipeline\n",
    "## A general label (positive or negative for all the review)\n",
    "document_assembler = DocumentAssembler() \\\n",
    "    .setInputCol(\"text\")\n",
    "\n",
    "sentence_detector = SentenceDetector() \\\n",
    "    .setInputCols([\"document\"]) \\\n",
    "    .setOutputCol(\"sentence\")\n",
    "\n",
    "tokenizer = Tokenizer() \\\n",
    "    .setInputCols([\"sentence\"]) \\\n",
    "    .setOutputCol(\"token\")\n",
    "\n",
    "lemmatizer = LemmatizerModel.pretrained('lemma_antbnc') \\\n",
    "    .setInputCols([\"token\"]) \\\n",
    "    .setOutputCol(\"lemma\") \\\n",
    "        \n",
    "sentiment_detector = SentimentDetector() \\\n",
    "    .setInputCols([\"lemma\", \"sentence\"]) \\\n",
    "    .setOutputCol(\"sentiment_score\") \\\n",
    "    .setDictionary(\"./sentiment_lexicon.txt\", \",\")  #Chen, Y., & Skiena, S. (2014). Building Sentiment Lexicons for All Major Languages. In ACL (2) (pp. 383-389).\n",
    "    \n",
    "finisher = Finisher() \\\n",
    "    .setInputCols([\"sentiment_score\"]) \\\n",
    "    .setOutputCols([\"lex_sentiment\"])\n",
    "\n",
    "\n",
    "pipeline_sentiment = Pipeline(stages=[\n",
    "    document_assembler,\n",
    "    sentence_detector,\n",
    "    tokenizer, \n",
    "    lemmatizer, \n",
    "    sentiment_detector, \n",
    "    finisher\n",
    "    ])\n",
    "normalized_data = pipeline_sentiment.fit(normalized_data).transform(normalized_data)\n",
    "normalized_data.show(5)"
   ]
  },
  {
   "cell_type": "markdown",
   "metadata": {},
   "source": [
    "Finally, we use a pre-trained pipeline from Spark NLP which performed a sentiment analysis for each sentence of each review."
   ]
  },
  {
   "cell_type": "code",
   "execution_count": 11,
   "metadata": {},
   "outputs": [
    {
     "name": "stdout",
     "output_type": "stream",
     "text": [
      "analyze_sentiment download started this may take some time.\n",
      "Approx size to download 4.9 MB\n",
      "[OK!]\n"
     ]
    }
   ],
   "source": [
    "#Sentiment Feature 2 - pipeline\n",
    "#Get Sentiment ratio from the sum of all sentences for each review \n",
    "#E.g. how many positive sentences we have out of all and vice versa\n",
    "\n",
    "pipeline = PretrainedPipeline(\"analyze_sentiment\", lang=\"en\") #is a pretrained pipeline; we do not need to define steps\n",
    "sentiment_data = pipeline.annotate(normalized_data, column='text')"
   ]
  },
  {
   "cell_type": "markdown",
   "metadata": {},
   "source": [
    "Based on these metrics, we create a ratio feature which indicates the number of positives sentences out of all the sentences of a review.\n",
    "We save the results back to the original variable name."
   ]
  },
  {
   "cell_type": "code",
   "execution_count": 12,
   "metadata": {},
   "outputs": [
    {
     "name": "stdout",
     "output_type": "stream",
     "text": [
      "+---+--------------------+----+-------------------+-----+--------------------+-----+--------------------+------+--------------------+-------------+-------+-----+--------------------+--------------------+--------------+-------------+--------------------+--------------------+--------------------+--------------------+--------------------+-------+-------+------------------+\n",
      "|  #|         business_id|cool|               date|funny|           review_id|stars|                text|useful|             user_id|      index_1|index_2|label|         cleanTokens|       cleanTokens_n|n_clean_tokens|lex_sentiment|            document|            sentence|               token|             checked|           sentiment|pos_cnt|neg_cnt|           pos_prc|\n",
      "+---+--------------------+----+-------------------+-----+--------------------+-----+--------------------+------+--------------------+-------------+-------+-----+--------------------+--------------------+--------------+-------------+--------------------+--------------------+--------------------+--------------------+--------------------+-------+-------+------------------+\n",
      "|  0|XFhnPpO2x0nS-lVkq...|   1|2017-02-14 16:50:06|    0|o6VZ0cQEfIBvGW15u...|    2|I knew it was a k...|     0|dk5yqirSwDH7Cpp52...|1082331766789|      0|    1|[know, kitschy, p...|know,kitschy,plac...|            65|   [positive]|[[document, 0, 78...|[[document, 0, 12...|[[token, 0, 0, I,...|[[token, 0, 0, I,...|[[sentiment, 0, 1...|      6|      3|0.6666666666666666|\n",
      "|  1|SRCepG6PbMvwKcfIU...|   0|2015-12-11 02:47:27|    0|PBy3gB_D1xEiBJDrw...|    2|Average place, bu...|     0|xmtWxX67wF7afssQR...| 730144449129|      1|    1|[average, place, ...|average,place,wis...|            19|   [positive]|[[document, 0, 20...|[[document, 0, 78...|[[token, 0, 6, Av...|[[token, 0, 6, Av...|[[sentiment, 0, 7...|      0|      3|               0.0|\n",
      "|  2|pneBBrIzd3SCbbglY...|   2|2015-05-15 19:18:52|    0|AeyK7AEtbfubw1aD0...|    4|This is a great o...|     4|X4k8ugJaihHVLHq32...| 489626295186|      2|    0|[great, outside, ...|great,outside,poo...|           100|   [positive]|[[document, 0, 10...|[[document, 0, 76...|[[token, 0, 3, Th...|[[token, 0, 3, Th...|[[sentiment, 0, 7...|      8|      5|0.6153846153846154|\n",
      "|  3|8enR8Wc0ot9L41JY1...|   0|2017-09-15 13:17:57|    0|Vkx4AUppu9A7DL3AI...|    5|We took shelter a...|     0|Xpl0z24sZ-zJ6klgV...|1151051242595|      3|    0|[take, shelter, a...|take,shelter,anda...|            46|   [positive]|[[document, 0, 42...|[[document, 0, 48...|[[token, 0, 1, We...|[[token, 0, 1, We...|[[sentiment, 0, 4...|      5|      4|0.5555555555555556|\n",
      "|  4|HhVmDybpU7L50Kb5A...|   0|2016-02-06 02:12:36|    0|2GtcaGkq5nAxBvKZp...|    3|Had the burgers o...|     0|9T39fu4au232kl25R...| 996432418888|      4|    1|[burger, carnival...|burger,carnival,c...|            31|   [positive]|[[document, 0, 38...|[[document, 0, 60...|[[token, 0, 2, Ha...|[[token, 0, 2, Ha...|[[sentiment, 0, 6...|      6|      2|              0.75|\n",
      "+---+--------------------+----+-------------------+-----+--------------------+-----+--------------------+------+--------------------+-------------+-------+-----+--------------------+--------------------+--------------+-------------+--------------------+--------------------+--------------------+--------------------+--------------------+-------+-------+------------------+\n",
      "only showing top 5 rows\n",
      "\n"
     ]
    }
   ],
   "source": [
    "from pyspark.sql import functions as F\n",
    "sentiment_data = sentiment_data.withColumn('pos_cnt', F.expr('size(filter(sentiment.result, x -> x in (\"positive\")))'))\n",
    "sentiment_data = sentiment_data.withColumn('neg_cnt', F.expr('size(filter(sentiment.result, x -> x in (\"negative\")))'))\n",
    "sentiment_data = sentiment_data.withColumn(\"pos_prc\", sentiment_data[\"pos_cnt\"]/(sentiment_data[\"pos_cnt\"]+sentiment_data[\"neg_cnt\"])).fillna(0)\n",
    "\n",
    "sentiment_data.show(5)"
   ]
  },
  {
   "cell_type": "code",
   "execution_count": 13,
   "metadata": {},
   "outputs": [
    {
     "name": "stdout",
     "output_type": "stream",
     "text": [
      "+---+--------------------+----+-------------------+-----+--------------------+-----+--------------------+------+--------------------+-------------+-------+-----+--------------------+--------------------+--------------+-------------+--------------------+--------------------+--------------------+--------------------+--------------------+-------+-------+------------------+\n",
      "|  #|         business_id|cool|               date|funny|           review_id|stars|                text|useful|             user_id|      index_1|index_2|label|         cleanTokens|       cleanTokens_n|n_clean_tokens|lex_sentiment|            document|            sentence|               token|             checked|           sentiment|pos_cnt|neg_cnt|           pos_prc|\n",
      "+---+--------------------+----+-------------------+-----+--------------------+-----+--------------------+------+--------------------+-------------+-------+-----+--------------------+--------------------+--------------+-------------+--------------------+--------------------+--------------------+--------------------+--------------------+-------+-------+------------------+\n",
      "|  0|XFhnPpO2x0nS-lVkq...|   1|2017-02-14 16:50:06|    0|o6VZ0cQEfIBvGW15u...|    2|I knew it was a k...|     0|dk5yqirSwDH7Cpp52...|1082331766789|      0|    1|[know, kitschy, p...|know,kitschy,plac...|            65|   [positive]|[[document, 0, 78...|[[document, 0, 12...|[[token, 0, 0, I,...|[[token, 0, 0, I,...|[[sentiment, 0, 1...|      6|      3|0.6666666666666666|\n",
      "|  1|SRCepG6PbMvwKcfIU...|   0|2015-12-11 02:47:27|    0|PBy3gB_D1xEiBJDrw...|    2|Average place, bu...|     0|xmtWxX67wF7afssQR...| 730144449129|      1|    1|[average, place, ...|average,place,wis...|            19|   [positive]|[[document, 0, 20...|[[document, 0, 78...|[[token, 0, 6, Av...|[[token, 0, 6, Av...|[[sentiment, 0, 7...|      0|      3|               0.0|\n",
      "|  2|pneBBrIzd3SCbbglY...|   2|2015-05-15 19:18:52|    0|AeyK7AEtbfubw1aD0...|    4|This is a great o...|     4|X4k8ugJaihHVLHq32...| 489626295186|      2|    0|[great, outside, ...|great,outside,poo...|           100|   [positive]|[[document, 0, 10...|[[document, 0, 76...|[[token, 0, 3, Th...|[[token, 0, 3, Th...|[[sentiment, 0, 7...|      8|      5|0.6153846153846154|\n",
      "|  3|8enR8Wc0ot9L41JY1...|   0|2017-09-15 13:17:57|    0|Vkx4AUppu9A7DL3AI...|    5|We took shelter a...|     0|Xpl0z24sZ-zJ6klgV...|1151051242595|      3|    0|[take, shelter, a...|take,shelter,anda...|            46|   [positive]|[[document, 0, 42...|[[document, 0, 48...|[[token, 0, 1, We...|[[token, 0, 1, We...|[[sentiment, 0, 4...|      5|      4|0.5555555555555556|\n",
      "|  4|HhVmDybpU7L50Kb5A...|   0|2016-02-06 02:12:36|    0|2GtcaGkq5nAxBvKZp...|    3|Had the burgers o...|     0|9T39fu4au232kl25R...| 996432418888|      4|    1|[burger, carnival...|burger,carnival,c...|            31|   [positive]|[[document, 0, 38...|[[document, 0, 60...|[[token, 0, 2, Ha...|[[token, 0, 2, Ha...|[[sentiment, 0, 6...|      6|      2|              0.75|\n",
      "+---+--------------------+----+-------------------+-----+--------------------+-----+--------------------+------+--------------------+-------------+-------+-----+--------------------+--------------------+--------------+-------------+--------------------+--------------------+--------------------+--------------------+--------------------+-------+-------+------------------+\n",
      "only showing top 5 rows\n",
      "\n"
     ]
    }
   ],
   "source": [
    "df_dev = sentiment_data\n",
    "df_dev.show(5)"
   ]
  },
  {
   "cell_type": "markdown",
   "metadata": {},
   "source": [
    "Finally with these new metrics, we define two Labelling functions which are going to assess in step 3.8 A wrap-up of all of Labelling Functions (LFs):"
   ]
  },
  {
   "cell_type": "code",
   "execution_count": 15,
   "metadata": {},
   "outputs": [],
   "source": [
    "#Try to apply Labeling function\n",
    "import pyspark.sql.functions as F\n",
    "from snorkel.labeling import LabelModel\n",
    "from snorkel.labeling.apply.spark import SparkLFApplier\n",
    "import pandas as pd\n",
    "import numpy as np\n",
    "#from snorkel.labeling import ,LFAnalysis\n",
    "from snorkel.labeling import LFAnalysis\n",
    "from pyspark.sql import Row\n",
    "from snorkel.labeling.lf import labeling_function\n",
    "#from snorkel.labeling.lf.nlp_spark import spark_nlp_labeling_function\n",
    "from snorkel.preprocess import preprocessor\n",
    "\n",
    "ABSTAIN = -1\n",
    "NEGATIVE = 0\n",
    "POSITIVE = 1\n",
    "\n",
    "\n",
    "from snorkel.labeling import LabelingFunction\n",
    "#DO NOT CONFUSE POSITIVE SENTIMENT WITH POSITIVE LABEL (Contains complaint or suggestion)\n",
    "\n",
    "@labeling_function()\n",
    "def review_false(x):   \n",
    "    return POSITIVE if x.lex_sentiment[0]=='negative' else ABSTAIN\n",
    "\n",
    "#DO NOT CONFUSE POSITIVE SENTIMENT WITH POSITIVE LABEL (Contains complaint or suggestion)\n",
    "\n",
    "@labeling_function()\n",
    "def positive_percentage(x):\n",
    "    return POSITIVE if x.pos_prc < 0.3 else ABSTAIN"
   ]
  },
  {
   "cell_type": "markdown",
   "metadata": {},
   "source": [
    "### 3.3 Analysis of normalized review text"
   ]
  },
  {
   "cell_type": "markdown",
   "metadata": {},
   "source": [
    "After pre-processing of the previous part, the text is ready to be analysed. We examined whether there are unique keywords that are useful to determine the label that have a sufficiently high coverage.\n",
    "\n",
    "Unique keywords:<br>\n",
    "Step 1: Extract the normalized text into a list\n",
    "<br>\n",
    "Step 2: Identify the unique words that appear in the reviews of rows that are labelled 1 but not in the reviews of rows that are labelled 0 and vice versa\n",
    "<br>\n",
    "Step 3: Find the difference between the two lists\n"
   ]
  },
  {
   "cell_type": "code",
   "execution_count": 16,
   "metadata": {},
   "outputs": [],
   "source": [
    "df_dev_1 = df_dev.filter(df_dev.label==1)"
   ]
  },
  {
   "cell_type": "code",
   "execution_count": 17,
   "metadata": {},
   "outputs": [],
   "source": [
    "#Convert the string column to list\n",
    "\n",
    "df_dev_1 = df_dev.filter(df_dev.label==1)\n",
    "clean_tokens_label_1= df_dev_1.select(\"cleanTokens_n\").rdd.flatMap(lambda x: x).collect()\n",
    "\n",
    "df_dev_0 = df_dev.filter(df_dev.label==0)\n",
    "clean_tokens_label_0= df_dev_0.select(\"cleanTokens_n\").rdd.flatMap(lambda x: x).collect()\n",
    "\n",
    "# Find the words that appear in the reviews of label=1 but not in label=0\n",
    "Difference_one_zero=list(set(clean_tokens_label_1) - set(clean_tokens_label_0))\n",
    "# Find the words that appear in the reviews of label=0 but not in label =1\n",
    "Difference_zero_one=list(set(clean_tokens_label_0) - set(clean_tokens_label_1))"
   ]
  },
  {
   "cell_type": "markdown",
   "metadata": {},
   "source": [
    "During the \"gold\" labelling phase, we noted down keywords that we thought appear frequently in each of the labels. Then with trial and error we defined different labelling functions based on those keywords and compared their performance by evaluating the coverage-accuracy trade-off. the best performing keywords were chosen and formed into LFs.\n",
    "\n",
    "The tested keywords are listed below: \n"
   ]
  },
  {
   "cell_type": "code",
   "execution_count": 18,
   "metadata": {},
   "outputs": [],
   "source": [
    "list_label_0=[\"perfect\", \"always\", \"delicious\", \"enjoy\", \"amazing\",\"great\", \"love\",\n",
    "        \"excellent\", \"favourite\" , \"clean\", \"impeccable\", \"fabulous\", \"fav\",\n",
    "        \"generous\", \"regulars\", \"outstanding\", \"regular\", \"bomb\", \"authentic\",\n",
    "        \"reasonably\",\"gem\",\"amazing\",\"excellent\"]\n",
    "   \n",
    "list_label_1=[\"Rude\",\"disappointment\", \"avoid\", \"overcooked\", \"pricey\", \"worst\", \"awkward\" ,\n",
    "       \"awkwardly\" , \"expensive\", \"annoying\", \"tasteless\", \"bland\", \"Gross\", \"ewww\",\n",
    "       \"slow\",\"mess\", \"rubbery\", \"needed\", \"undercoocked\", \"wrong\", \"horrific\",\n",
    "       \"grease\", \"horrible\",\"overpriced\", \"overwhelmed\", \"dry\" ,\"tiny\",\n",
    "       \"disgusting\", \"cardboard\", \"inattentive\", \"unfortunately\",  \"chewy\" ,\n",
    "       \"unpleasant\", \"sucked\", \"displeased\", \"delayed\", \"loud\", \"crappy\", \"alright\"]"
   ]
  },
  {
   "cell_type": "markdown",
   "metadata": {},
   "source": [
    "We grouped by the label and calculated statistics that could be useful for the development stage"
   ]
  },
  {
   "cell_type": "code",
   "execution_count": 19,
   "metadata": {
    "scrolled": true
   },
   "outputs": [
    {
     "name": "stdout",
     "output_type": "stream",
     "text": [
      "+-----+------------------+------------------+------------------+-------------------+------------+\n",
      "|label|        avg(funny)|       avg(useful)|         avg(cool)|avg(n_clean_tokens)|count(label)|\n",
      "+-----+------------------+------------------+------------------+-------------------+------------+\n",
      "|    1|0.6839622641509434|1.5424528301886793|0.7264150943396226|  68.55188679245283|         212|\n",
      "|    0|0.2673611111111111|0.8472222222222222|           0.46875| 46.861111111111114|         288|\n",
      "+-----+------------------+------------------+------------------+-------------------+------------+\n",
      "\n"
     ]
    }
   ],
   "source": [
    "from pyspark.sql.functions import count, avg\n",
    "\n",
    "results_agg = df_dev.groupby(\"label\").agg(avg(\"funny\"), avg(\"useful\"), avg(\"cool\"), avg(\"n_clean_tokens\"), count('label'))\n",
    "results_agg.show()"
   ]
  },
  {
   "cell_type": "markdown",
   "metadata": {},
   "source": [
    "### 3.4 Keyword Labeling Functions\n",
    "\n"
   ]
  },
  {
   "cell_type": "markdown",
   "metadata": {},
   "source": [
    "For text/comment in the dataset, some Labeling Functions(LFs later in this paper) could be written based on just keywords lookups. \n",
    "    These will often follow a realtive similar execution pattern, so we can create a template and use the resources parameter to pass\n",
    "    in specific keywords. Between, same for the labeling_function decorator, the LabelingFunction class wraps \n",
    "    a Python function (the f parameter), and we can use the resources parameter to pass in keyword arguments (here, our keywords to \n",
    "    lookup) to said function."
   ]
  },
  {
   "cell_type": "code",
   "execution_count": 20,
   "metadata": {},
   "outputs": [
    {
     "data": {
      "text/plain": [
       "\"NEGATIVE comments talk about 'I love pizza', 'Love this resturant', etc.\""
      ]
     },
     "execution_count": 20,
     "metadata": {},
     "output_type": "execute_result"
    },
    {
     "data": {
      "text/plain": [
       "\"NEGATIVE comments talk about 'This food is perfect', 'Perfect people' to describe.\""
      ]
     },
     "execution_count": 20,
     "metadata": {},
     "output_type": "execute_result"
    },
    {
     "data": {
      "text/plain": [
       "\"POSITIVE comments talk about 'The waiter is rude', 'Their behaviour is rude', etc.\""
      ]
     },
     "execution_count": 20,
     "metadata": {},
     "output_type": "execute_result"
    }
   ],
   "source": [
    "from snorkel.labeling import LabelingFunction\n",
    "\n",
    "def keyword_lookup(x, keywords, label):\n",
    "    if any(word in x.text.lower() for word in keywords):\n",
    "        return label\n",
    "    return ABSTAIN\n",
    "def make_keyword_lf(keywords, label=0):\n",
    "    return LabelingFunction(\n",
    "        name=f\"keyword_{keywords[0]}\",\n",
    "        f=keyword_lookup,\n",
    "        resources=dict(keywords=keywords, label=label)\n",
    "    )\n",
    "\"\"\"NEGATIVE comments talk about 'I love pizza', 'Love this resturant', etc.\"\"\"\n",
    "keyword_love = make_keyword_lf(keywords=[\"love\"])\n",
    "\n",
    "\"\"\"NEGATIVE comments talk about 'This food is perfect', 'Perfect people' to describe.\"\"\"\n",
    "keyword_perfect = make_keyword_lf(keywords=[\"perfect\"])\n",
    "\n",
    "\"\"\"POSITIVE comments talk about 'The waiter is rude', 'Their behaviour is rude', etc.\"\"\"\n",
    "keyword_rude = make_keyword_lf(keywords=[\"rude\"])"
   ]
  },
  {
   "cell_type": "code",
   "execution_count": 21,
   "metadata": {},
   "outputs": [],
   "source": [
    "@labeling_function()\n",
    "def keyword_less(x):\n",
    "    return POSITIVE if re.search(\"less\", x.text, flags=re.I) else ABSTAIN\n",
    "@labeling_function()\n",
    "def keyword_love(x):\n",
    "    return NEGATIVE if re.search(\"love\", x.text, flags=re.I) else ABSTAIN\n",
    "@labeling_function()\n",
    "def keyword_great(x):\n",
    "    return NEGATIVE if re.search(\"great\", x.text, flags=re.I) else ABSTAIN\n",
    "\n",
    "@labeling_function()\n",
    "def high_useful(x):\n",
    "    return POSITIVE if x.useful > 10 else ABSTAIN\n",
    "@labeling_function()\n",
    "def low_useful(x):\n",
    "    return NEGATIVE if x.useful < 2 else ABSTAIN\n",
    "@labeling_function()\n",
    "def funny(x):\n",
    "    return NEGATIVE if x.funny == 0 else ABSTAIN\n",
    "####\n",
    "\n",
    "\n",
    "@labeling_function()\n",
    "def keyword_rude(x):\n",
    "    return POSITIVE if re.search(\"rude\", x.text, flags=re.I) else ABSTAIN\n",
    "@labeling_function()\n",
    "def keyword_bad(x):\n",
    "    return POSITIVE if \"bad\" in x.text.lower() else ABSTAIN\n",
    "@labeling_function()\n",
    "def Keyword_perfect(x):\n",
    "    return NEGATIVE if \"perfect\" in x.text.lower() else ABSTAIN"
   ]
  },
  {
   "cell_type": "markdown",
   "metadata": {},
   "source": [
    "### 3.6  Heuristic Labeling Functions"
   ]
  },
  {
   "cell_type": "markdown",
   "metadata": {},
   "source": [
    "For text/comment in the dataset, some Labeling Functions(LFs later in this paper) could be written based on just keywords lookups. \n",
    "    These will often follow a realtive similar execution pattern, so we can create a template and use the resources parameter to pass\n",
    "    in specific keywords. Between, same for the labeling_function decorator, the LabelingFunction class wraps a Python function (the f parameter), and we can use the resources parameter to pass in keyword arguments (here, our keywords to lookup) to said function.\n",
    "    \n",
    "    \n",
    "When our member manually labelled the development dataset at the very beginning stage, he realised the POSITIVE text always come up with high useful rate and vice versa. Meanwhile, funny rate could equal to 0, if this comment is labelled as 0. Hence, certain LFs were made.\n"
   ]
  },
  {
   "cell_type": "code",
   "execution_count": 22,
   "metadata": {},
   "outputs": [],
   "source": [
    "@labeling_function()\n",
    "def short_comment(x):\n",
    "    \"\"\"Negative comments are often short, such as 'foods were insane'\"\"\"\n",
    "    return NEGATIVE if len(x.text.split()) < 20 else ABSTAIN\n",
    "\n",
    "@labeling_function()\n",
    "def keyword_disgusting(x):\n",
    "    \"\"\"Negative comments are often short, such as 'foods were insane'\"\"\"\n",
    "    return POSITIVE if \"disgusting\" in x.text.lower() else ABSTAIN\n",
    "\n",
    "@labeling_function()\n",
    "def keyword_cardboard(x):\n",
    "    \"\"\"Negative comments are often short, such as 'foods were insane'\"\"\"\n",
    "    return POSITIVE if \"cardboard\" in x.text.lower() else ABSTAIN\n",
    "\n",
    "@labeling_function()\n",
    "def regex_home(x):\n",
    "    return POSITIVE if re.search(r\"home.*about\", x.text, flags=re.I) else ABSTAIN\n",
    "\n",
    "@labeling_function()\n",
    "def regex_regular(x):\n",
    "    return NEGATIVE if re.search(r\"regular*\", x.text, flags=re.I) else ABSTAIN\n",
    "@labeling_function()\n",
    "def regex_recomend(x):\n",
    "    return POSITIVE if re.search(r\"not.recommend*\", x.text, flags=re.I) else ABSTAIN\n",
    "\n",
    "@labeling_function()\n",
    "def Keyword_gem(x):\n",
    "    return NEGATIVE if \"gem\" in x.text.lower() else ABSTAIN\n",
    "\n",
    "@labeling_function()\n",
    "def Keyword_perfect(x):\n",
    "    return NEGATIVE if \"perfect\" in x.text.lower() else ABSTAIN\n",
    "\n",
    "@labeling_function()\n",
    "def Keyword_avoid(x):\n",
    "    return POSITIVE if \"avoid\" in x.text.lower() else ABSTAIN\n",
    "\n",
    "@labeling_function()\n",
    "def regex_over_coocked(x):\n",
    "    return POSITIVE if re.search(r\"over.cooked*\", x.text, flags=re.I) else ABSTAIN\n",
    "\n",
    "@labeling_function()\n",
    "def Keyword_overpriced(x):\n",
    "    return POSITIVE if \"overpriced\" in x.text.lower() else ABSTAIN\n",
    "\n",
    "@labeling_function()\n",
    "def long_comments(x):\n",
    "    \"\"\"Negative comments are often short, such as 'foods were insane'\"\"\"\n",
    "    return POSITIVE if len(x.text.split()) > 350 else ABSTAIN\n",
    "\n",
    "@labeling_function()\n",
    "def key_good(x):\n",
    "    \"\"\"Negative comments are often short, such as 'foods were insane'\"\"\"\n",
    "    return POSITIVE if \"bad\" in x.text.lower() else ABSTAIN\n",
    "\n",
    "@labeling_function()\n",
    "def low_star(x):\n",
    "    return POSITIVE if x.stars<=2 else ABSTAIN\n",
    "\n",
    "\n",
    "@labeling_function()\n",
    "def high_star(x):\n",
    "    return NEGATIVE if x.stars==5 else ABSTAIN"
   ]
  },
  {
   "cell_type": "markdown",
   "metadata": {},
   "source": [
    "### 3.7 Numerical Functions"
   ]
  },
  {
   "cell_type": "markdown",
   "metadata": {},
   "source": [
    "After manually labelling, our member realised that customers or visitors normally give a labelled \"1\" comments after they graded the business as a low grade (1 or 2 Star out of 5). Then, he did numerical study about the star and contribute couple of high coverage LFs to our Label Model.  "
   ]
  },
  {
   "cell_type": "code",
   "execution_count": 23,
   "metadata": {},
   "outputs": [
    {
     "name": "stdout",
     "output_type": "stream",
     "text": [
      "+--------------------+-----------+--------------------+-------------+------------------+\n",
      "|             user_id|total_stars|             user_id|total_reviews|         avg_stars|\n",
      "+--------------------+-----------+--------------------+-------------+------------------+\n",
      "|-0Ji0nOyFe-4yo8BK...|        4.0|-0Ji0nOyFe-4yo8BK...|            1|               4.0|\n",
      "|-1KKYzibGPyUX-Mwk...|        4.0|-1KKYzibGPyUX-Mwk...|            1|               4.0|\n",
      "|-1zQA2f_syMAdA04P...|       10.0|-1zQA2f_syMAdA04P...|            2|               5.0|\n",
      "|-2Pb5d2WBPtbyGT_b...|        5.0|-2Pb5d2WBPtbyGT_b...|            1|               5.0|\n",
      "|-3bsS2i9xqjNnIA1f...|        5.0|-3bsS2i9xqjNnIA1f...|            2|               2.5|\n",
      "|-3i9bhfvrM3F1wsC9...|       34.0|-3i9bhfvrM3F1wsC9...|            9|3.7777777777777777|\n",
      "|-47g7LR58tpHlm7Bm...|        5.0|-47g7LR58tpHlm7Bm...|            1|               5.0|\n",
      "|-4Anvj46CWf57KWI9...|        3.0|-4Anvj46CWf57KWI9...|            1|               3.0|\n",
      "|-4xyc3OgPwrLshmqH...|        3.0|-4xyc3OgPwrLshmqH...|            1|               3.0|\n",
      "|-55DgUo52I3zW9Rxk...|       90.0|-55DgUo52I3zW9Rxk...|           19|4.7368421052631575|\n",
      "|-7JSlmBJKUQwREG_y...|       21.0|-7JSlmBJKUQwREG_y...|            5|               4.2|\n",
      "|-7V6r0PLuBlFVjbLJ...|        1.0|-7V6r0PLuBlFVjbLJ...|            1|               1.0|\n",
      "|-897i_JdWyDsXGUa8...|        1.0|-897i_JdWyDsXGUa8...|            1|               1.0|\n",
      "|-8_yETBp70WiqqN-A...|       10.0|-8_yETBp70WiqqN-A...|            3|3.3333333333333335|\n",
      "|-9aO6i4fmPWrLyW4i...|        3.0|-9aO6i4fmPWrLyW4i...|            1|               3.0|\n",
      "|-9da1xk7zgnnfO1uT...|      106.0|-9da1xk7zgnnfO1uT...|           29|3.6551724137931036|\n",
      "|-9v-3PG1-NAefOd2R...|        6.0|-9v-3PG1-NAefOd2R...|            2|               3.0|\n",
      "|-AkSsUVQ0CCBe5qsK...|        1.0|-AkSsUVQ0CCBe5qsK...|            1|               1.0|\n",
      "|-BUamlG3H-7yqpAl1...|        3.0|-BUamlG3H-7yqpAl1...|            2|               1.5|\n",
      "|-CGdueQKCHM_KnHxO...|        1.0|-CGdueQKCHM_KnHxO...|            1|               1.0|\n",
      "+--------------------+-----------+--------------------+-------------+------------------+\n",
      "only showing top 20 rows\n",
      "\n",
      "+--------------------+-----+------------+\n",
      "|         business_id|stars|review_count|\n",
      "+--------------------+-----+------------+\n",
      "|QXAEGFB4oINsVuTFx...|  2.5|         128|\n",
      "|gnKjwL_1w79qoiV3I...|  4.0|         170|\n",
      "|1Dfx3zM-rW4n-31Ke...|  3.0|          18|\n",
      "|fweCYi8FmbJXHCqLn...|  4.0|          16|\n",
      "|PZ-LZzSlhSe9utkQY...|  4.0|          40|\n",
      "|1RHY4K3BD22FK7Cff...|  4.0|          35|\n",
      "|tstimHoMcYbkSC4eB...|  4.5|         184|\n",
      "|NDuUMJfrWk52RA-H-...|  3.0|          57|\n",
      "|SP_YXIEwkFPPl_9an...|  3.5|          29|\n",
      "|BvYU3jvGd0TJ7IyZd...|  3.5|          16|\n",
      "|e_EMySqP0uwlVZfd8...|  2.0|           4|\n",
      "|mlHC2XcU9Bows6cnY...|  4.0|           9|\n",
      "|_J_x_RaYTqAqAuCwg...|  3.0|          15|\n",
      "|6l00a9Gkxkcp_y-GP...|  4.5|          12|\n",
      "|dQj5DLZjeDK3KFysh...|  4.5|         242|\n",
      "|9UTpmQ4OhX5jNFUIu...|  4.0|         103|\n",
      "|v-scZMU6jhnmV955R...|  4.5|         106|\n",
      "|kANF0dbeoW34s2vwh...|  2.0|          33|\n",
      "|KFbUQ-RR2UOV62Ep7...|  3.0|           5|\n",
      "|44YFU284Z3KDEy25Q...|  3.5|         269|\n",
      "+--------------------+-----+------------+\n",
      "only showing top 20 rows\n",
      "\n"
     ]
    }
   ],
   "source": [
    "# aggregate the mean star each business and individual\n",
    "df_biz_stars=biz_res.select('business_id','stars','review_count') # aggregate business\n",
    "ind_stars=review_res.select('user_id','stars','business_id') #aggregate ind\n",
    "mapped_test = ind_stars.rdd.map(lambda x: (x[0],x[1]))\n",
    "ind_total_starts = mapped_test.reduceByKey(lambda a,b:a+b)\n",
    "mapped_test = ind_stars.rdd.map(lambda x: (x[0],1))\n",
    "ind_total_review =  mapped_test.reduceByKey(lambda a,b:a+b)\n",
    "\n",
    "# convert to spark data frame\n",
    "df_ind_total_starts = ind_total_starts.toDF([\"user_id\", \"total_stars\"])\n",
    "df_ind_total_review = ind_total_review.toDF([\"user_id\", \"total_reviews\"])\n",
    "df_ind_stars = df_ind_total_starts.join(df_ind_total_review, df_ind_total_starts.user_id == df_ind_total_review.user_id)\n",
    "df_ind_stars = df_ind_stars.withColumn('avg_stars' , df_ind_stars.total_stars/df_ind_stars.total_reviews)\n",
    "df_ind_stars.show()\n",
    "df_biz_stars.show()"
   ]
  },
  {
   "cell_type": "code",
   "execution_count": 24,
   "metadata": {},
   "outputs": [],
   "source": [
    "#from here we start to use pandas\n",
    "df_biz_stars=df_biz_stars.toPandas()\n",
    "df_ind_stars=df_ind_stars.toPandas()\n",
    "df_ind_stars = df_ind_stars.loc[:,~df_ind_stars.columns.duplicated()]\n",
    "\n",
    "import pandas as pd\n",
    "from pyspark.sql import SparkSession\n",
    "from snorkel.labeling import PandasLFApplier,LFAnalysis\n",
    "spark = SparkSession.builder.appName('pandasToSparkDF').getOrCreate()\n",
    "pd_dev = pd.read_csv(\"/project/EXPROTS/df_dev.csv\",header=0, index_col=0)\n"
   ]
  },
  {
   "cell_type": "code",
   "execution_count": 25,
   "metadata": {},
   "outputs": [
    {
     "data": {
      "image/png": "[encoded data removed]",
      "text/plain": [
       "<Figure size 432x288 with 1 Axes>"
      ]
     },
     "metadata": {
      "needs_background": "light"
     },
     "output_type": "display_data"
    }
   ],
   "source": [
    "#Threshold Analysis: Pure Stars\n",
    "temp=pd_dev  \n",
    "temp[temp['label']==0]['stars'].hist(bins=10,color='blue',alpha=0.5);\n",
    "temp[temp['label']==1]['stars'].hist(bins=10,color='pink',alpha=0.5);"
   ]
  },
  {
   "cell_type": "markdown",
   "metadata": {},
   "source": [
    "As shown in the threshold analysis here, it is understood that if reviews have a star lower than 2, it is very likely to\n",
    "contain complaint/suggestion. And for those whose star is higher than five, it is probably a review without complaints/suggestion. Therefore, we create two labeling functions based on \n",
    "this observation."
   ]
  },
  {
   "cell_type": "code",
   "execution_count": 26,
   "metadata": {},
   "outputs": [],
   "source": [
    "############ CHECK IF WE CAN REMOVE THE IMPORTS HERE - WE DO IT ALSO IN THE WRAP-UP!!!!\n",
    "######################\n",
    "import pyspark.sql.functions as F\n",
    "from snorkel.labeling import LabelModel\n",
    "from snorkel.labeling.apply.spark import SparkLFApplier\n",
    "import pandas as pd\n",
    "import numpy as np\n",
    "from snorkel.labeling import LFAnalysis\n",
    "from pyspark.sql import Row\n",
    "from snorkel.labeling.lf import labeling_function\n",
    "#from snorkel.labeling.lf.nlp_spark import spark_nlp_labeling_function\n",
    "from snorkel.preprocess import preprocessor\n",
    "\n",
    "ABSTAIN = -1\n",
    "NEGATIVE = 0\n",
    "POSITIVE = 1\n",
    "\n",
    "@labeling_function()\n",
    "def low_star(x):\n",
    "    return POSITIVE if x.stars<=2 else ABSTAIN\n",
    "\n",
    "\n",
    "@labeling_function()\n",
    "def high_star(x):\n",
    "    return NEGATIVE if x.stars==5 else ABSTAIN\n",
    "\n"
   ]
  },
  {
   "cell_type": "code",
   "execution_count": 27,
   "metadata": {},
   "outputs": [
    {
     "data": {
      "image/png": "[encoded data removed]",
      "text/plain": [
       "<Figure size 432x288 with 1 Axes>"
      ]
     },
     "metadata": {
      "needs_background": "light"
     },
     "output_type": "display_data"
    }
   ],
   "source": [
    "#Threshold Analysis: Higher or lower than business average\n",
    "temp=pd_dev.merge(df_biz_stars, on= 'business_id', how='left')\n",
    "temp['dif']= temp['stars_x']-temp['stars_y']\n",
    "temp[temp['label']==0]['dif'].hist(bins=10,color='blue',alpha=0.5);\n",
    "temp[temp['label']==1]['dif'].hist(bins=10,color='pink',alpha=0.5);"
   ]
  },
  {
   "cell_type": "markdown",
   "metadata": {},
   "source": [
    "The graph shows that if the review star is more than one star lower than the business star, then it's very likely \n",
    "than the review should be label as 1 whereas if it is higher than the business star, it is probably a review without\n",
    "complaints or suggestions."
   ]
  },
  {
   "cell_type": "code",
   "execution_count": 28,
   "metadata": {},
   "outputs": [],
   "source": [
    "dict_biz_stars = dict(zip(df_biz_stars.business_id, df_biz_stars.stars))\n",
    "\n",
    "@labeling_function(resources=dict(dict_biz_stars=dict_biz_stars))\n",
    "def higher_than_biz(x,dict_biz_stars):\n",
    "    if x.business_id!='#NAME?':\n",
    "        a = dict_biz_stars[x.business_id]\n",
    "    else:\n",
    "        a = 0\n",
    "    return NEGATIVE if a<x.stars  else ABSTAIN\n",
    "\n",
    "@labeling_function(resources=dict(dict_biz_stars=dict_biz_stars))\n",
    "def lower_than_biz(x,dict_biz_stars):\n",
    "    if x.business_id!='#NAME?':\n",
    "        a = dict_biz_stars[x.business_id]\n",
    "    else:\n",
    "        a = 0\n",
    "    return POSITIVE if a>x.stars+1  else ABSTAIN"
   ]
  },
  {
   "cell_type": "code",
   "execution_count": 29,
   "metadata": {},
   "outputs": [
    {
     "data": {
      "image/png": "[encoded data removed]",
      "text/plain": [
       "<Figure size 432x288 with 1 Axes>"
      ]
     },
     "metadata": {
      "needs_background": "light"
     },
     "output_type": "display_data"
    }
   ],
   "source": [
    "#Threshold Analysis: higher or lower than individual average\n",
    "temp=pd_dev.merge(df_ind_stars, on= 'user_id', how='left')\n",
    "temp['dif']= temp['stars']-temp['avg_stars']\n",
    "temp[temp['label']==0]['dif'].hist(bins=10,color='blue',alpha=0.5);\n",
    "temp[temp['label']==1]['dif'].hist(bins=10,color='pink',alpha=0.5);"
   ]
  },
  {
   "cell_type": "markdown",
   "metadata": {},
   "source": [
    "The graph shows that if the review star is lower than the average user star, then it's very likely \n",
    "than the review should be label as 1 whereas if it is higher, it is probably a review without\n",
    "complaints or suggestions."
   ]
  },
  {
   "cell_type": "code",
   "execution_count": 30,
   "metadata": {},
   "outputs": [],
   "source": [
    "com_info = zip(df_ind_stars.avg_stars, df_ind_stars.total_reviews)\n",
    "dict_ind_stars = dict(zip(df_ind_stars.user_id, com_info ))\n",
    "@labeling_function(resources=dict(dict_ind_stars=dict_ind_stars))\n",
    "def higher_than_ind(x,dict_ind_stars):\n",
    "    if x.user_id!='#NAME?':\n",
    "        if x.user_id in dict_ind_stars.keys():\n",
    "            a = dict_ind_stars[x.user_id][0]\n",
    "            b = dict_ind_stars[x.user_id][1]\n",
    "        else:\n",
    "            a = 0\n",
    "            b = 0 \n",
    "    else:\n",
    "        a = 0\n",
    "        b = 0\n",
    "    return NEGATIVE if (x.stars > a) else ABSTAIN\n",
    "\n",
    "@labeling_function(resources=dict(dict_ind_stars=dict_ind_stars))\n",
    "def lower_than_ind(x,dict_ind_stars):\n",
    "    if x.user_id!='#NAME?':\n",
    "        if x.user_id in dict_ind_stars.keys():\n",
    "            a = dict_ind_stars[x.user_id][0]\n",
    "            b = dict_ind_stars[x.user_id][1]\n",
    "        else:\n",
    "            a = 0\n",
    "            b = 0 \n",
    "    else:\n",
    "        a = 0\n",
    "        b = 0\n",
    "    return POSITIVE if (x.stars < a) else ABSTAIN"
   ]
  },
  {
   "cell_type": "code",
   "execution_count": 31,
   "metadata": {
    "scrolled": true
   },
   "outputs": [
    {
     "data": {
      "image/png": "[encoded data removed]",
      "text/plain": [
       "<Figure size 432x288 with 1 Axes>"
      ]
     },
     "metadata": {
      "needs_background": "light"
     },
     "output_type": "display_data"
    }
   ],
   "source": [
    "#Threshold Analysis: Picky individual\n",
    "temp[temp['label']==0]['avg_stars'].hist(bins=20,color='blue',alpha=0.5);\n",
    "temp[temp['label']==1]['avg_stars'].hist(bins=20,color='pink',alpha=0.5);"
   ]
  },
  {
   "cell_type": "markdown",
   "metadata": {},
   "source": [
    "The graph shows that if the average review star is lower than 4.25, the review is more likely to be a complaint or suggestion."
   ]
  },
  {
   "cell_type": "code",
   "execution_count": 32,
   "metadata": {},
   "outputs": [],
   "source": [
    "@labeling_function(resources=dict(dict_ind_stars=dict_ind_stars))\n",
    "def picky_ind(x,dict_ind_stars):\n",
    "    if x.user_id!='#NAME?':\n",
    "        if x.user_id in dict_ind_stars.keys():\n",
    "            a = dict_ind_stars[x.user_id][0]\n",
    "            b = dict_ind_stars[x.user_id][1]\n",
    "        else:\n",
    "            a = 0\n",
    "            b = 0 \n",
    "    else:\n",
    "        a = 0\n",
    "        b = 0\n",
    "    return POSITIVE if a <4.25 else ABSTAIN"
   ]
  },
  {
   "cell_type": "code",
   "execution_count": 33,
   "metadata": {},
   "outputs": [
    {
     "data": {
      "image/png": "[encoded data removed]",
      "text/plain": [
       "<Figure size 432x288 with 1 Axes>"
      ]
     },
     "metadata": {
      "needs_background": "light"
     },
     "output_type": "display_data"
    }
   ],
   "source": [
    "#Threshold Analysis: Talktive individual\n",
    "temp[(temp['label']==0) & (temp['total_reviews']<300)]['total_reviews'].hist(bins=20,color='blue',alpha=0.5);\n",
    "temp[(temp['label']==1)& (temp['total_reviews']<300)]['total_reviews'].hist(bins=20,color='pink',alpha=0.5);"
   ]
  },
  {
   "cell_type": "code",
   "execution_count": 34,
   "metadata": {},
   "outputs": [],
   "source": [
    "@labeling_function(resources=dict(dict_ind_stars=dict_ind_stars))\n",
    "def talktive_ind(x,dict_ind_stars):\n",
    "    if x.user_id!='#NAME?':\n",
    "        if x.user_id in dict_ind_stars.keys():\n",
    "            b = dict_ind_stars[x.user_id][1]\n",
    "        else:\n",
    "            b = 0 \n",
    "    else:\n",
    "        b = 0\n",
    "    return POSITIVE if b > 86  else ABSTAIN"
   ]
  },
  {
   "cell_type": "code",
   "execution_count": 35,
   "metadata": {},
   "outputs": [],
   "source": [
    "#merge user_dev.jointime \n",
    "reduced_user = user_res.select('user_id','yelping_since')\n",
    "reduced_user_pd= reduced_user.toPandas().drop_duplicates(subset=['user_id'])\n",
    "reduced_user_pd['date']=reduced_user_pd['yelping_since'].map(lambda x:int(x[0:4]))\n",
    "temp=pd_dev.merge(reduced_user_pd, on= 'user_id', how='left')"
   ]
  },
  {
   "cell_type": "code",
   "execution_count": 36,
   "metadata": {},
   "outputs": [
    {
     "data": {
      "image/png": "[encoded data removed]",
      "text/plain": [
       "<Figure size 432x288 with 1 Axes>"
      ]
     },
     "metadata": {
      "needs_background": "light"
     },
     "output_type": "display_data"
    }
   ],
   "source": [
    "temp[temp['label']==0]['date_y'].hist(bins=14,color='blue',alpha=0.5);\n",
    "temp[temp['label']==1]['date_y'].hist(bins=14,color='pink',alpha=0.5);"
   ]
  },
  {
   "cell_type": "markdown",
   "metadata": {},
   "source": [
    "The graph shows that if the join year is 2011 or after 2016, the review is less likely to be a complaint or suggestion."
   ]
  },
  {
   "cell_type": "code",
   "execution_count": 37,
   "metadata": {},
   "outputs": [],
   "source": [
    "dict_user_date = dict(zip(reduced_user_pd.user_id, reduced_user_pd.date))\n",
    "@labeling_function(resources=dict(dict_user_date=dict_user_date))\n",
    "def date_ind(x,dict_user_date):\n",
    "    if x.user_id!='#NAME?':\n",
    "        if x.user_id in dict_user_date.keys():\n",
    "            b = dict_user_date[x.user_id]\n",
    "        else:\n",
    "            b = 3000 \n",
    "    else:\n",
    "        b = 3000\n",
    "    return NEGATIVE if (b==2011 or b>=2016)  else ABSTAIN"
   ]
  },
  {
   "cell_type": "markdown",
   "metadata": {},
   "source": [
    "### 3.8 A wrap-up of all of Labelling Functions (LFs)\n",
    "Below we define what will be the actual labels from our LF functions and then we run them all together so to compare their metrics:"
   ]
  },
  {
   "cell_type": "code",
   "execution_count": 38,
   "metadata": {},
   "outputs": [],
   "source": [
    "#Try to apply Labeling function\n",
    "import pyspark.sql.functions as F\n",
    "from snorkel.labeling import LabelModel\n",
    "from snorkel.labeling.apply.spark import SparkLFApplier\n",
    "import pandas as pd\n",
    "import numpy as np\n",
    "#from snorkel.labeling import ,LFAnalysis\n",
    "from snorkel.labeling import LFAnalysis\n",
    "from pyspark.sql import Row\n",
    "from snorkel.labeling.lf import labeling_function\n",
    "#from snorkel.labeling.lf.nlp_spark import spark_nlp_labeling_function\n",
    "from snorkel.preprocess import preprocessor\n",
    "\n",
    "ABSTAIN = -1\n",
    "NEGATIVE = 0\n",
    "POSITIVE = 1"
   ]
  },
  {
   "cell_type": "code",
   "execution_count": 39,
   "metadata": {
    "scrolled": true
   },
   "outputs": [
    {
     "ename": "Py4JJavaError",
     "evalue": "An error occurred while calling z:org.apache.spark.api.python.PythonRDD.collectAndServe.\n: org.apache.spark.SparkException: Job aborted due to stage failure: Task 0 in stage 70.0 failed 1 times, most recent failure: Lost task 0.0 in stage 70.0 (TID 1083, localhost, executor driver): org.apache.spark.api.python.PythonException: Traceback (most recent call last):\n  File \"/opt/anaconda/envs/Python3/lib/python3.6/site-packages/pyspark/python/lib/pyspark.zip/pyspark/worker.py\", line 377, in main\n    process()\n  File \"/opt/anaconda/envs/Python3/lib/python3.6/site-packages/pyspark/python/lib/pyspark.zip/pyspark/worker.py\", line 372, in process\n    serializer.dump_stream(func(split_index, iterator), outfile)\n  File \"/opt/anaconda/envs/Python3/lib/python3.6/site-packages/pyspark/python/lib/pyspark.zip/pyspark/serializers.py\", line 393, in dump_stream\n    vs = list(itertools.islice(iterator, batch))\n  File \"/opt/anaconda/envs/Python3/lib/python3.6/site-packages/pyspark/python/lib/pyspark.zip/pyspark/util.py\", line 99, in wrapper\n    return f(*args, **kwargs)\n  File \"/opt/anaconda/envs/Python3/lib/python3.6/site-packages/snorkel/labeling/apply/spark.py\", line 39, in map_fn\n    return apply_lfs_to_data_point(*args, lfs=self._lfs, f_caller=f_caller)\n  File \"/opt/anaconda/envs/Python3/lib/python3.6/site-packages/snorkel/labeling/apply/core.py\", line 107, in apply_lfs_to_data_point\n    y = f_caller(lf, x)\n  File \"/opt/anaconda/envs/Python3/lib/python3.6/site-packages/snorkel/labeling/apply/core.py\", line 28, in __call__\n    return f(x)\n  File \"/opt/anaconda/envs/Python3/lib/python3.6/site-packages/snorkel/labeling/lf/core.py\", line 77, in __call__\n    return self._f(x, **self._resources)\n  File \"<ipython-input-21-9c68682efd7b>\", line 6, in keyword_love\nNameError: name 're' is not defined\n\n\tat org.apache.spark.api.python.BasePythonRunner$ReaderIterator.handlePythonException(PythonRunner.scala:456)\n\tat org.apache.spark.api.python.PythonRunner$$anon$1.read(PythonRunner.scala:592)\n\tat org.apache.spark.api.python.PythonRunner$$anon$1.read(PythonRunner.scala:575)\n\tat org.apache.spark.api.python.BasePythonRunner$ReaderIterator.hasNext(PythonRunner.scala:410)\n\tat org.apache.spark.InterruptibleIterator.hasNext(InterruptibleIterator.scala:37)\n\tat scala.collection.Iterator$class.foreach(Iterator.scala:891)\n\tat org.apache.spark.InterruptibleIterator.foreach(InterruptibleIterator.scala:28)\n\tat scala.collection.generic.Growable$class.$plus$plus$eq(Growable.scala:59)\n\tat scala.collection.mutable.ArrayBuffer.$plus$plus$eq(ArrayBuffer.scala:104)\n\tat scala.collection.mutable.ArrayBuffer.$plus$plus$eq(ArrayBuffer.scala:48)\n\tat scala.collection.TraversableOnce$class.to(TraversableOnce.scala:310)\n\tat org.apache.spark.InterruptibleIterator.to(InterruptibleIterator.scala:28)\n\tat scala.collection.TraversableOnce$class.toBuffer(TraversableOnce.scala:302)\n\tat org.apache.spark.InterruptibleIterator.toBuffer(InterruptibleIterator.scala:28)\n\tat scala.collection.TraversableOnce$class.toArray(TraversableOnce.scala:289)\n\tat org.apache.spark.InterruptibleIterator.toArray(InterruptibleIterator.scala:28)\n\tat org.apache.spark.rdd.RDD$$anonfun$collect$1$$anonfun$13.apply(RDD.scala:945)\n\tat org.apache.spark.rdd.RDD$$anonfun$collect$1$$anonfun$13.apply(RDD.scala:945)\n\tat org.apache.spark.SparkContext$$anonfun$runJob$5.apply(SparkContext.scala:2101)\n\tat org.apache.spark.SparkContext$$anonfun$runJob$5.apply(SparkContext.scala:2101)\n\tat org.apache.spark.scheduler.ResultTask.runTask(ResultTask.scala:90)\n\tat org.apache.spark.scheduler.Task.run(Task.scala:123)\n\tat org.apache.spark.executor.Executor$TaskRunner$$anonfun$10.apply(Executor.scala:408)\n\tat org.apache.spark.util.Utils$.tryWithSafeFinally(Utils.scala:1360)\n\tat org.apache.spark.executor.Executor$TaskRunner.run(Executor.scala:414)\n\tat java.util.concurrent.ThreadPoolExecutor.runWorker(ThreadPoolExecutor.java:1149)\n\tat java.util.concurrent.ThreadPoolExecutor$Worker.run(ThreadPoolExecutor.java:624)\n\tat java.lang.Thread.run(Thread.java:748)\n\nDriver stacktrace:\n\tat org.apache.spark.scheduler.DAGScheduler.org$apache$spark$scheduler$DAGScheduler$$failJobAndIndependentStages(DAGScheduler.scala:1889)\n\tat org.apache.spark.scheduler.DAGScheduler$$anonfun$abortStage$1.apply(DAGScheduler.scala:1877)\n\tat org.apache.spark.scheduler.DAGScheduler$$anonfun$abortStage$1.apply(DAGScheduler.scala:1876)\n\tat scala.collection.mutable.ResizableArray$class.foreach(ResizableArray.scala:59)\n\tat scala.collection.mutable.ArrayBuffer.foreach(ArrayBuffer.scala:48)\n\tat org.apache.spark.scheduler.DAGScheduler.abortStage(DAGScheduler.scala:1876)\n\tat org.apache.spark.scheduler.DAGScheduler$$anonfun$handleTaskSetFailed$1.apply(DAGScheduler.scala:926)\n\tat org.apache.spark.scheduler.DAGScheduler$$anonfun$handleTaskSetFailed$1.apply(DAGScheduler.scala:926)\n\tat scala.Option.foreach(Option.scala:257)\n\tat org.apache.spark.scheduler.DAGScheduler.handleTaskSetFailed(DAGScheduler.scala:926)\n\tat org.apache.spark.scheduler.DAGSchedulerEventProcessLoop.doOnReceive(DAGScheduler.scala:2110)\n\tat org.apache.spark.scheduler.DAGSchedulerEventProcessLoop.onReceive(DAGScheduler.scala:2059)\n\tat org.apache.spark.scheduler.DAGSchedulerEventProcessLoop.onReceive(DAGScheduler.scala:2048)\n\tat org.apache.spark.util.EventLoop$$anon$1.run(EventLoop.scala:49)\n\tat org.apache.spark.scheduler.DAGScheduler.runJob(DAGScheduler.scala:737)\n\tat org.apache.spark.SparkContext.runJob(SparkContext.scala:2061)\n\tat org.apache.spark.SparkContext.runJob(SparkContext.scala:2082)\n\tat org.apache.spark.SparkContext.runJob(SparkContext.scala:2101)\n\tat org.apache.spark.SparkContext.runJob(SparkContext.scala:2126)\n\tat org.apache.spark.rdd.RDD$$anonfun$collect$1.apply(RDD.scala:945)\n\tat org.apache.spark.rdd.RDDOperationScope$.withScope(RDDOperationScope.scala:151)\n\tat org.apache.spark.rdd.RDDOperationScope$.withScope(RDDOperationScope.scala:112)\n\tat org.apache.spark.rdd.RDD.withScope(RDD.scala:363)\n\tat org.apache.spark.rdd.RDD.collect(RDD.scala:944)\n\tat org.apache.spark.api.python.PythonRDD$.collectAndServe(PythonRDD.scala:166)\n\tat org.apache.spark.api.python.PythonRDD.collectAndServe(PythonRDD.scala)\n\tat sun.reflect.NativeMethodAccessorImpl.invoke0(Native Method)\n\tat sun.reflect.NativeMethodAccessorImpl.invoke(NativeMethodAccessorImpl.java:62)\n\tat sun.reflect.DelegatingMethodAccessorImpl.invoke(DelegatingMethodAccessorImpl.java:43)\n\tat java.lang.reflect.Method.invoke(Method.java:498)\n\tat py4j.reflection.MethodInvoker.invoke(MethodInvoker.java:244)\n\tat py4j.reflection.ReflectionEngine.invoke(ReflectionEngine.java:357)\n\tat py4j.Gateway.invoke(Gateway.java:282)\n\tat py4j.commands.AbstractCommand.invokeMethod(AbstractCommand.java:132)\n\tat py4j.commands.CallCommand.execute(CallCommand.java:79)\n\tat py4j.GatewayConnection.run(GatewayConnection.java:238)\n\tat java.lang.Thread.run(Thread.java:748)\nCaused by: org.apache.spark.api.python.PythonException: Traceback (most recent call last):\n  File \"/opt/anaconda/envs/Python3/lib/python3.6/site-packages/pyspark/python/lib/pyspark.zip/pyspark/worker.py\", line 377, in main\n    process()\n  File \"/opt/anaconda/envs/Python3/lib/python3.6/site-packages/pyspark/python/lib/pyspark.zip/pyspark/worker.py\", line 372, in process\n    serializer.dump_stream(func(split_index, iterator), outfile)\n  File \"/opt/anaconda/envs/Python3/lib/python3.6/site-packages/pyspark/python/lib/pyspark.zip/pyspark/serializers.py\", line 393, in dump_stream\n    vs = list(itertools.islice(iterator, batch))\n  File \"/opt/anaconda/envs/Python3/lib/python3.6/site-packages/pyspark/python/lib/pyspark.zip/pyspark/util.py\", line 99, in wrapper\n    return f(*args, **kwargs)\n  File \"/opt/anaconda/envs/Python3/lib/python3.6/site-packages/snorkel/labeling/apply/spark.py\", line 39, in map_fn\n    return apply_lfs_to_data_point(*args, lfs=self._lfs, f_caller=f_caller)\n  File \"/opt/anaconda/envs/Python3/lib/python3.6/site-packages/snorkel/labeling/apply/core.py\", line 107, in apply_lfs_to_data_point\n    y = f_caller(lf, x)\n  File \"/opt/anaconda/envs/Python3/lib/python3.6/site-packages/snorkel/labeling/apply/core.py\", line 28, in __call__\n    return f(x)\n  File \"/opt/anaconda/envs/Python3/lib/python3.6/site-packages/snorkel/labeling/lf/core.py\", line 77, in __call__\n    return self._f(x, **self._resources)\n  File \"<ipython-input-21-9c68682efd7b>\", line 6, in keyword_love\nNameError: name 're' is not defined\n\n\tat org.apache.spark.api.python.BasePythonRunner$ReaderIterator.handlePythonException(PythonRunner.scala:456)\n\tat org.apache.spark.api.python.PythonRunner$$anon$1.read(PythonRunner.scala:592)\n\tat org.apache.spark.api.python.PythonRunner$$anon$1.read(PythonRunner.scala:575)\n\tat org.apache.spark.api.python.BasePythonRunner$ReaderIterator.hasNext(PythonRunner.scala:410)\n\tat org.apache.spark.InterruptibleIterator.hasNext(InterruptibleIterator.scala:37)\n\tat scala.collection.Iterator$class.foreach(Iterator.scala:891)\n\tat org.apache.spark.InterruptibleIterator.foreach(InterruptibleIterator.scala:28)\n\tat scala.collection.generic.Growable$class.$plus$plus$eq(Growable.scala:59)\n\tat scala.collection.mutable.ArrayBuffer.$plus$plus$eq(ArrayBuffer.scala:104)\n\tat scala.collection.mutable.ArrayBuffer.$plus$plus$eq(ArrayBuffer.scala:48)\n\tat scala.collection.TraversableOnce$class.to(TraversableOnce.scala:310)\n\tat org.apache.spark.InterruptibleIterator.to(InterruptibleIterator.scala:28)\n\tat scala.collection.TraversableOnce$class.toBuffer(TraversableOnce.scala:302)\n\tat org.apache.spark.InterruptibleIterator.toBuffer(InterruptibleIterator.scala:28)\n\tat scala.collection.TraversableOnce$class.toArray(TraversableOnce.scala:289)\n\tat org.apache.spark.InterruptibleIterator.toArray(InterruptibleIterator.scala:28)\n\tat org.apache.spark.rdd.RDD$$anonfun$collect$1$$anonfun$13.apply(RDD.scala:945)\n\tat org.apache.spark.rdd.RDD$$anonfun$collect$1$$anonfun$13.apply(RDD.scala:945)\n\tat org.apache.spark.SparkContext$$anonfun$runJob$5.apply(SparkContext.scala:2101)\n\tat org.apache.spark.SparkContext$$anonfun$runJob$5.apply(SparkContext.scala:2101)\n\tat org.apache.spark.scheduler.ResultTask.runTask(ResultTask.scala:90)\n\tat org.apache.spark.scheduler.Task.run(Task.scala:123)\n\tat org.apache.spark.executor.Executor$TaskRunner$$anonfun$10.apply(Executor.scala:408)\n\tat org.apache.spark.util.Utils$.tryWithSafeFinally(Utils.scala:1360)\n\tat org.apache.spark.executor.Executor$TaskRunner.run(Executor.scala:414)\n\tat java.util.concurrent.ThreadPoolExecutor.runWorker(ThreadPoolExecutor.java:1149)\n\tat java.util.concurrent.ThreadPoolExecutor$Worker.run(ThreadPoolExecutor.java:624)\n\t... 1 more\n",
     "output_type": "error",
     "traceback": [
      "\u001b[0;31m---------------------------------------------------------------------------\u001b[0m",
      "\u001b[0;31mPy4JJavaError\u001b[0m                             Traceback (most recent call last)",
      "\u001b[0;32m<ipython-input-39-5876ac479e59>\u001b[0m in \u001b[0;36m<module>\u001b[0;34m\u001b[0m\n\u001b[1;32m     12\u001b[0m     ]\n\u001b[1;32m     13\u001b[0m \u001b[0mapplier\u001b[0m \u001b[0;34m=\u001b[0m \u001b[0mSparkLFApplier\u001b[0m\u001b[0;34m(\u001b[0m\u001b[0mlfs\u001b[0m\u001b[0;34m)\u001b[0m\u001b[0;34m\u001b[0m\u001b[0;34m\u001b[0m\u001b[0m\n\u001b[0;32m---> 14\u001b[0;31m \u001b[0mL_dev\u001b[0m \u001b[0;34m=\u001b[0m \u001b[0mapplier\u001b[0m\u001b[0;34m.\u001b[0m\u001b[0mapply\u001b[0m\u001b[0;34m(\u001b[0m\u001b[0mdf_dev\u001b[0m\u001b[0;34m.\u001b[0m\u001b[0mrdd\u001b[0m\u001b[0;34m)\u001b[0m\u001b[0;34m\u001b[0m\u001b[0;34m\u001b[0m\u001b[0m\n\u001b[0m\u001b[1;32m     15\u001b[0m \u001b[0mg_label\u001b[0m \u001b[0;34m=\u001b[0m\u001b[0mnp\u001b[0m\u001b[0;34m.\u001b[0m\u001b[0marray\u001b[0m\u001b[0;34m(\u001b[0m\u001b[0mdf_dev\u001b[0m\u001b[0;34m.\u001b[0m\u001b[0mselect\u001b[0m\u001b[0;34m(\u001b[0m\u001b[0;34m'label'\u001b[0m\u001b[0;34m)\u001b[0m\u001b[0;34m.\u001b[0m\u001b[0mcollect\u001b[0m\u001b[0;34m(\u001b[0m\u001b[0;34m)\u001b[0m\u001b[0;34m)\u001b[0m\u001b[0;34m\u001b[0m\u001b[0;34m\u001b[0m\u001b[0m\n\u001b[1;32m     16\u001b[0m \u001b[0mLFAnalysis\u001b[0m\u001b[0;34m(\u001b[0m\u001b[0mL_dev\u001b[0m\u001b[0;34m,\u001b[0m \u001b[0mlfs\u001b[0m\u001b[0;34m)\u001b[0m\u001b[0;34m.\u001b[0m\u001b[0mlf_summary\u001b[0m\u001b[0;34m(\u001b[0m\u001b[0mg_label\u001b[0m\u001b[0;34m)\u001b[0m\u001b[0;34m\u001b[0m\u001b[0;34m\u001b[0m\u001b[0m\n",
      "\u001b[0;32m/opt/anaconda/envs/Python3/lib/python3.6/site-packages/snorkel/labeling/apply/spark.py\u001b[0m in \u001b[0;36mapply\u001b[0;34m(self, data_points, fault_tolerant)\u001b[0m\n\u001b[1;32m     39\u001b[0m             \u001b[0;32mreturn\u001b[0m \u001b[0mapply_lfs_to_data_point\u001b[0m\u001b[0;34m(\u001b[0m\u001b[0;34m*\u001b[0m\u001b[0margs\u001b[0m\u001b[0;34m,\u001b[0m \u001b[0mlfs\u001b[0m\u001b[0;34m=\u001b[0m\u001b[0mself\u001b[0m\u001b[0;34m.\u001b[0m\u001b[0m_lfs\u001b[0m\u001b[0;34m,\u001b[0m \u001b[0mf_caller\u001b[0m\u001b[0;34m=\u001b[0m\u001b[0mf_caller\u001b[0m\u001b[0;34m)\u001b[0m\u001b[0;34m\u001b[0m\u001b[0;34m\u001b[0m\u001b[0m\n\u001b[1;32m     40\u001b[0m \u001b[0;34m\u001b[0m\u001b[0m\n\u001b[0;32m---> 41\u001b[0;31m         \u001b[0mlabels\u001b[0m \u001b[0;34m=\u001b[0m \u001b[0mdata_points\u001b[0m\u001b[0;34m.\u001b[0m\u001b[0mzipWithIndex\u001b[0m\u001b[0;34m(\u001b[0m\u001b[0;34m)\u001b[0m\u001b[0;34m.\u001b[0m\u001b[0mmap\u001b[0m\u001b[0;34m(\u001b[0m\u001b[0mmap_fn\u001b[0m\u001b[0;34m)\u001b[0m\u001b[0;34m.\u001b[0m\u001b[0mcollect\u001b[0m\u001b[0;34m(\u001b[0m\u001b[0;34m)\u001b[0m\u001b[0;34m\u001b[0m\u001b[0;34m\u001b[0m\u001b[0m\n\u001b[0m\u001b[1;32m     42\u001b[0m         \u001b[0;32mreturn\u001b[0m \u001b[0mself\u001b[0m\u001b[0;34m.\u001b[0m\u001b[0m_numpy_from_row_data\u001b[0m\u001b[0;34m(\u001b[0m\u001b[0mlabels\u001b[0m\u001b[0;34m)\u001b[0m\u001b[0;34m\u001b[0m\u001b[0;34m\u001b[0m\u001b[0m\n",
      "\u001b[0;32m/opt/anaconda/envs/Python3/lib/python3.6/site-packages/pyspark/rdd.py\u001b[0m in \u001b[0;36mcollect\u001b[0;34m(self)\u001b[0m\n\u001b[1;32m    814\u001b[0m         \"\"\"\n\u001b[1;32m    815\u001b[0m         \u001b[0;32mwith\u001b[0m \u001b[0mSCCallSiteSync\u001b[0m\u001b[0;34m(\u001b[0m\u001b[0mself\u001b[0m\u001b[0;34m.\u001b[0m\u001b[0mcontext\u001b[0m\u001b[0;34m)\u001b[0m \u001b[0;32mas\u001b[0m \u001b[0mcss\u001b[0m\u001b[0;34m:\u001b[0m\u001b[0;34m\u001b[0m\u001b[0;34m\u001b[0m\u001b[0m\n\u001b[0;32m--> 816\u001b[0;31m             \u001b[0msock_info\u001b[0m \u001b[0;34m=\u001b[0m \u001b[0mself\u001b[0m\u001b[0;34m.\u001b[0m\u001b[0mctx\u001b[0m\u001b[0;34m.\u001b[0m\u001b[0m_jvm\u001b[0m\u001b[0;34m.\u001b[0m\u001b[0mPythonRDD\u001b[0m\u001b[0;34m.\u001b[0m\u001b[0mcollectAndServe\u001b[0m\u001b[0;34m(\u001b[0m\u001b[0mself\u001b[0m\u001b[0;34m.\u001b[0m\u001b[0m_jrdd\u001b[0m\u001b[0;34m.\u001b[0m\u001b[0mrdd\u001b[0m\u001b[0;34m(\u001b[0m\u001b[0;34m)\u001b[0m\u001b[0;34m)\u001b[0m\u001b[0;34m\u001b[0m\u001b[0;34m\u001b[0m\u001b[0m\n\u001b[0m\u001b[1;32m    817\u001b[0m         \u001b[0;32mreturn\u001b[0m \u001b[0mlist\u001b[0m\u001b[0;34m(\u001b[0m\u001b[0m_load_from_socket\u001b[0m\u001b[0;34m(\u001b[0m\u001b[0msock_info\u001b[0m\u001b[0;34m,\u001b[0m \u001b[0mself\u001b[0m\u001b[0;34m.\u001b[0m\u001b[0m_jrdd_deserializer\u001b[0m\u001b[0;34m)\u001b[0m\u001b[0;34m)\u001b[0m\u001b[0;34m\u001b[0m\u001b[0;34m\u001b[0m\u001b[0m\n\u001b[1;32m    818\u001b[0m \u001b[0;34m\u001b[0m\u001b[0m\n",
      "\u001b[0;32m/opt/anaconda/envs/Python3/lib/python3.6/site-packages/py4j/java_gateway.py\u001b[0m in \u001b[0;36m__call__\u001b[0;34m(self, *args)\u001b[0m\n\u001b[1;32m   1255\u001b[0m         \u001b[0manswer\u001b[0m \u001b[0;34m=\u001b[0m \u001b[0mself\u001b[0m\u001b[0;34m.\u001b[0m\u001b[0mgateway_client\u001b[0m\u001b[0;34m.\u001b[0m\u001b[0msend_command\u001b[0m\u001b[0;34m(\u001b[0m\u001b[0mcommand\u001b[0m\u001b[0;34m)\u001b[0m\u001b[0;34m\u001b[0m\u001b[0;34m\u001b[0m\u001b[0m\n\u001b[1;32m   1256\u001b[0m         return_value = get_return_value(\n\u001b[0;32m-> 1257\u001b[0;31m             answer, self.gateway_client, self.target_id, self.name)\n\u001b[0m\u001b[1;32m   1258\u001b[0m \u001b[0;34m\u001b[0m\u001b[0m\n\u001b[1;32m   1259\u001b[0m         \u001b[0;32mfor\u001b[0m \u001b[0mtemp_arg\u001b[0m \u001b[0;32min\u001b[0m \u001b[0mtemp_args\u001b[0m\u001b[0;34m:\u001b[0m\u001b[0;34m\u001b[0m\u001b[0;34m\u001b[0m\u001b[0m\n",
      "\u001b[0;32m/opt/anaconda/envs/Python3/lib/python3.6/site-packages/pyspark/sql/utils.py\u001b[0m in \u001b[0;36mdeco\u001b[0;34m(*a, **kw)\u001b[0m\n\u001b[1;32m     61\u001b[0m     \u001b[0;32mdef\u001b[0m \u001b[0mdeco\u001b[0m\u001b[0;34m(\u001b[0m\u001b[0;34m*\u001b[0m\u001b[0ma\u001b[0m\u001b[0;34m,\u001b[0m \u001b[0;34m**\u001b[0m\u001b[0mkw\u001b[0m\u001b[0;34m)\u001b[0m\u001b[0;34m:\u001b[0m\u001b[0;34m\u001b[0m\u001b[0;34m\u001b[0m\u001b[0m\n\u001b[1;32m     62\u001b[0m         \u001b[0;32mtry\u001b[0m\u001b[0;34m:\u001b[0m\u001b[0;34m\u001b[0m\u001b[0;34m\u001b[0m\u001b[0m\n\u001b[0;32m---> 63\u001b[0;31m             \u001b[0;32mreturn\u001b[0m \u001b[0mf\u001b[0m\u001b[0;34m(\u001b[0m\u001b[0;34m*\u001b[0m\u001b[0ma\u001b[0m\u001b[0;34m,\u001b[0m \u001b[0;34m**\u001b[0m\u001b[0mkw\u001b[0m\u001b[0;34m)\u001b[0m\u001b[0;34m\u001b[0m\u001b[0;34m\u001b[0m\u001b[0m\n\u001b[0m\u001b[1;32m     64\u001b[0m         \u001b[0;32mexcept\u001b[0m \u001b[0mpy4j\u001b[0m\u001b[0;34m.\u001b[0m\u001b[0mprotocol\u001b[0m\u001b[0;34m.\u001b[0m\u001b[0mPy4JJavaError\u001b[0m \u001b[0;32mas\u001b[0m \u001b[0me\u001b[0m\u001b[0;34m:\u001b[0m\u001b[0;34m\u001b[0m\u001b[0;34m\u001b[0m\u001b[0m\n\u001b[1;32m     65\u001b[0m             \u001b[0ms\u001b[0m \u001b[0;34m=\u001b[0m \u001b[0me\u001b[0m\u001b[0;34m.\u001b[0m\u001b[0mjava_exception\u001b[0m\u001b[0;34m.\u001b[0m\u001b[0mtoString\u001b[0m\u001b[0;34m(\u001b[0m\u001b[0;34m)\u001b[0m\u001b[0;34m\u001b[0m\u001b[0;34m\u001b[0m\u001b[0m\n",
      "\u001b[0;32m/opt/anaconda/envs/Python3/lib/python3.6/site-packages/py4j/protocol.py\u001b[0m in \u001b[0;36mget_return_value\u001b[0;34m(answer, gateway_client, target_id, name)\u001b[0m\n\u001b[1;32m    326\u001b[0m                 raise Py4JJavaError(\n\u001b[1;32m    327\u001b[0m                     \u001b[0;34m\"An error occurred while calling {0}{1}{2}.\\n\"\u001b[0m\u001b[0;34m.\u001b[0m\u001b[0;34m\u001b[0m\u001b[0;34m\u001b[0m\u001b[0m\n\u001b[0;32m--> 328\u001b[0;31m                     format(target_id, \".\", name), value)\n\u001b[0m\u001b[1;32m    329\u001b[0m             \u001b[0;32melse\u001b[0m\u001b[0;34m:\u001b[0m\u001b[0;34m\u001b[0m\u001b[0;34m\u001b[0m\u001b[0m\n\u001b[1;32m    330\u001b[0m                 raise Py4JError(\n",
      "\u001b[0;31mPy4JJavaError\u001b[0m: An error occurred while calling z:org.apache.spark.api.python.PythonRDD.collectAndServe.\n: org.apache.spark.SparkException: Job aborted due to stage failure: Task 0 in stage 70.0 failed 1 times, most recent failure: Lost task 0.0 in stage 70.0 (TID 1083, localhost, executor driver): org.apache.spark.api.python.PythonException: Traceback (most recent call last):\n  File \"/opt/anaconda/envs/Python3/lib/python3.6/site-packages/pyspark/python/lib/pyspark.zip/pyspark/worker.py\", line 377, in main\n    process()\n  File \"/opt/anaconda/envs/Python3/lib/python3.6/site-packages/pyspark/python/lib/pyspark.zip/pyspark/worker.py\", line 372, in process\n    serializer.dump_stream(func(split_index, iterator), outfile)\n  File \"/opt/anaconda/envs/Python3/lib/python3.6/site-packages/pyspark/python/lib/pyspark.zip/pyspark/serializers.py\", line 393, in dump_stream\n    vs = list(itertools.islice(iterator, batch))\n  File \"/opt/anaconda/envs/Python3/lib/python3.6/site-packages/pyspark/python/lib/pyspark.zip/pyspark/util.py\", line 99, in wrapper\n    return f(*args, **kwargs)\n  File \"/opt/anaconda/envs/Python3/lib/python3.6/site-packages/snorkel/labeling/apply/spark.py\", line 39, in map_fn\n    return apply_lfs_to_data_point(*args, lfs=self._lfs, f_caller=f_caller)\n  File \"/opt/anaconda/envs/Python3/lib/python3.6/site-packages/snorkel/labeling/apply/core.py\", line 107, in apply_lfs_to_data_point\n    y = f_caller(lf, x)\n  File \"/opt/anaconda/envs/Python3/lib/python3.6/site-packages/snorkel/labeling/apply/core.py\", line 28, in __call__\n    return f(x)\n  File \"/opt/anaconda/envs/Python3/lib/python3.6/site-packages/snorkel/labeling/lf/core.py\", line 77, in __call__\n    return self._f(x, **self._resources)\n  File \"<ipython-input-21-9c68682efd7b>\", line 6, in keyword_love\nNameError: name 're' is not defined\n\n\tat org.apache.spark.api.python.BasePythonRunner$ReaderIterator.handlePythonException(PythonRunner.scala:456)\n\tat org.apache.spark.api.python.PythonRunner$$anon$1.read(PythonRunner.scala:592)\n\tat org.apache.spark.api.python.PythonRunner$$anon$1.read(PythonRunner.scala:575)\n\tat org.apache.spark.api.python.BasePythonRunner$ReaderIterator.hasNext(PythonRunner.scala:410)\n\tat org.apache.spark.InterruptibleIterator.hasNext(InterruptibleIterator.scala:37)\n\tat scala.collection.Iterator$class.foreach(Iterator.scala:891)\n\tat org.apache.spark.InterruptibleIterator.foreach(InterruptibleIterator.scala:28)\n\tat scala.collection.generic.Growable$class.$plus$plus$eq(Growable.scala:59)\n\tat scala.collection.mutable.ArrayBuffer.$plus$plus$eq(ArrayBuffer.scala:104)\n\tat scala.collection.mutable.ArrayBuffer.$plus$plus$eq(ArrayBuffer.scala:48)\n\tat scala.collection.TraversableOnce$class.to(TraversableOnce.scala:310)\n\tat org.apache.spark.InterruptibleIterator.to(InterruptibleIterator.scala:28)\n\tat scala.collection.TraversableOnce$class.toBuffer(TraversableOnce.scala:302)\n\tat org.apache.spark.InterruptibleIterator.toBuffer(InterruptibleIterator.scala:28)\n\tat scala.collection.TraversableOnce$class.toArray(TraversableOnce.scala:289)\n\tat org.apache.spark.InterruptibleIterator.toArray(InterruptibleIterator.scala:28)\n\tat org.apache.spark.rdd.RDD$$anonfun$collect$1$$anonfun$13.apply(RDD.scala:945)\n\tat org.apache.spark.rdd.RDD$$anonfun$collect$1$$anonfun$13.apply(RDD.scala:945)\n\tat org.apache.spark.SparkContext$$anonfun$runJob$5.apply(SparkContext.scala:2101)\n\tat org.apache.spark.SparkContext$$anonfun$runJob$5.apply(SparkContext.scala:2101)\n\tat org.apache.spark.scheduler.ResultTask.runTask(ResultTask.scala:90)\n\tat org.apache.spark.scheduler.Task.run(Task.scala:123)\n\tat org.apache.spark.executor.Executor$TaskRunner$$anonfun$10.apply(Executor.scala:408)\n\tat org.apache.spark.util.Utils$.tryWithSafeFinally(Utils.scala:1360)\n\tat org.apache.spark.executor.Executor$TaskRunner.run(Executor.scala:414)\n\tat java.util.concurrent.ThreadPoolExecutor.runWorker(ThreadPoolExecutor.java:1149)\n\tat java.util.concurrent.ThreadPoolExecutor$Worker.run(ThreadPoolExecutor.java:624)\n\tat java.lang.Thread.run(Thread.java:748)\n\nDriver stacktrace:\n\tat org.apache.spark.scheduler.DAGScheduler.org$apache$spark$scheduler$DAGScheduler$$failJobAndIndependentStages(DAGScheduler.scala:1889)\n\tat org.apache.spark.scheduler.DAGScheduler$$anonfun$abortStage$1.apply(DAGScheduler.scala:1877)\n\tat org.apache.spark.scheduler.DAGScheduler$$anonfun$abortStage$1.apply(DAGScheduler.scala:1876)\n\tat scala.collection.mutable.ResizableArray$class.foreach(ResizableArray.scala:59)\n\tat scala.collection.mutable.ArrayBuffer.foreach(ArrayBuffer.scala:48)\n\tat org.apache.spark.scheduler.DAGScheduler.abortStage(DAGScheduler.scala:1876)\n\tat org.apache.spark.scheduler.DAGScheduler$$anonfun$handleTaskSetFailed$1.apply(DAGScheduler.scala:926)\n\tat org.apache.spark.scheduler.DAGScheduler$$anonfun$handleTaskSetFailed$1.apply(DAGScheduler.scala:926)\n\tat scala.Option.foreach(Option.scala:257)\n\tat org.apache.spark.scheduler.DAGScheduler.handleTaskSetFailed(DAGScheduler.scala:926)\n\tat org.apache.spark.scheduler.DAGSchedulerEventProcessLoop.doOnReceive(DAGScheduler.scala:2110)\n\tat org.apache.spark.scheduler.DAGSchedulerEventProcessLoop.onReceive(DAGScheduler.scala:2059)\n\tat org.apache.spark.scheduler.DAGSchedulerEventProcessLoop.onReceive(DAGScheduler.scala:2048)\n\tat org.apache.spark.util.EventLoop$$anon$1.run(EventLoop.scala:49)\n\tat org.apache.spark.scheduler.DAGScheduler.runJob(DAGScheduler.scala:737)\n\tat org.apache.spark.SparkContext.runJob(SparkContext.scala:2061)\n\tat org.apache.spark.SparkContext.runJob(SparkContext.scala:2082)\n\tat org.apache.spark.SparkContext.runJob(SparkContext.scala:2101)\n\tat org.apache.spark.SparkContext.runJob(SparkContext.scala:2126)\n\tat org.apache.spark.rdd.RDD$$anonfun$collect$1.apply(RDD.scala:945)\n\tat org.apache.spark.rdd.RDDOperationScope$.withScope(RDDOperationScope.scala:151)\n\tat org.apache.spark.rdd.RDDOperationScope$.withScope(RDDOperationScope.scala:112)\n\tat org.apache.spark.rdd.RDD.withScope(RDD.scala:363)\n\tat org.apache.spark.rdd.RDD.collect(RDD.scala:944)\n\tat org.apache.spark.api.python.PythonRDD$.collectAndServe(PythonRDD.scala:166)\n\tat org.apache.spark.api.python.PythonRDD.collectAndServe(PythonRDD.scala)\n\tat sun.reflect.NativeMethodAccessorImpl.invoke0(Native Method)\n\tat sun.reflect.NativeMethodAccessorImpl.invoke(NativeMethodAccessorImpl.java:62)\n\tat sun.reflect.DelegatingMethodAccessorImpl.invoke(DelegatingMethodAccessorImpl.java:43)\n\tat java.lang.reflect.Method.invoke(Method.java:498)\n\tat py4j.reflection.MethodInvoker.invoke(MethodInvoker.java:244)\n\tat py4j.reflection.ReflectionEngine.invoke(ReflectionEngine.java:357)\n\tat py4j.Gateway.invoke(Gateway.java:282)\n\tat py4j.commands.AbstractCommand.invokeMethod(AbstractCommand.java:132)\n\tat py4j.commands.CallCommand.execute(CallCommand.java:79)\n\tat py4j.GatewayConnection.run(GatewayConnection.java:238)\n\tat java.lang.Thread.run(Thread.java:748)\nCaused by: org.apache.spark.api.python.PythonException: Traceback (most recent call last):\n  File \"/opt/anaconda/envs/Python3/lib/python3.6/site-packages/pyspark/python/lib/pyspark.zip/pyspark/worker.py\", line 377, in main\n    process()\n  File \"/opt/anaconda/envs/Python3/lib/python3.6/site-packages/pyspark/python/lib/pyspark.zip/pyspark/worker.py\", line 372, in process\n    serializer.dump_stream(func(split_index, iterator), outfile)\n  File \"/opt/anaconda/envs/Python3/lib/python3.6/site-packages/pyspark/python/lib/pyspark.zip/pyspark/serializers.py\", line 393, in dump_stream\n    vs = list(itertools.islice(iterator, batch))\n  File \"/opt/anaconda/envs/Python3/lib/python3.6/site-packages/pyspark/python/lib/pyspark.zip/pyspark/util.py\", line 99, in wrapper\n    return f(*args, **kwargs)\n  File \"/opt/anaconda/envs/Python3/lib/python3.6/site-packages/snorkel/labeling/apply/spark.py\", line 39, in map_fn\n    return apply_lfs_to_data_point(*args, lfs=self._lfs, f_caller=f_caller)\n  File \"/opt/anaconda/envs/Python3/lib/python3.6/site-packages/snorkel/labeling/apply/core.py\", line 107, in apply_lfs_to_data_point\n    y = f_caller(lf, x)\n  File \"/opt/anaconda/envs/Python3/lib/python3.6/site-packages/snorkel/labeling/apply/core.py\", line 28, in __call__\n    return f(x)\n  File \"/opt/anaconda/envs/Python3/lib/python3.6/site-packages/snorkel/labeling/lf/core.py\", line 77, in __call__\n    return self._f(x, **self._resources)\n  File \"<ipython-input-21-9c68682efd7b>\", line 6, in keyword_love\nNameError: name 're' is not defined\n\n\tat org.apache.spark.api.python.BasePythonRunner$ReaderIterator.handlePythonException(PythonRunner.scala:456)\n\tat org.apache.spark.api.python.PythonRunner$$anon$1.read(PythonRunner.scala:592)\n\tat org.apache.spark.api.python.PythonRunner$$anon$1.read(PythonRunner.scala:575)\n\tat org.apache.spark.api.python.BasePythonRunner$ReaderIterator.hasNext(PythonRunner.scala:410)\n\tat org.apache.spark.InterruptibleIterator.hasNext(InterruptibleIterator.scala:37)\n\tat scala.collection.Iterator$class.foreach(Iterator.scala:891)\n\tat org.apache.spark.InterruptibleIterator.foreach(InterruptibleIterator.scala:28)\n\tat scala.collection.generic.Growable$class.$plus$plus$eq(Growable.scala:59)\n\tat scala.collection.mutable.ArrayBuffer.$plus$plus$eq(ArrayBuffer.scala:104)\n\tat scala.collection.mutable.ArrayBuffer.$plus$plus$eq(ArrayBuffer.scala:48)\n\tat scala.collection.TraversableOnce$class.to(TraversableOnce.scala:310)\n\tat org.apache.spark.InterruptibleIterator.to(InterruptibleIterator.scala:28)\n\tat scala.collection.TraversableOnce$class.toBuffer(TraversableOnce.scala:302)\n\tat org.apache.spark.InterruptibleIterator.toBuffer(InterruptibleIterator.scala:28)\n\tat scala.collection.TraversableOnce$class.toArray(TraversableOnce.scala:289)\n\tat org.apache.spark.InterruptibleIterator.toArray(InterruptibleIterator.scala:28)\n\tat org.apache.spark.rdd.RDD$$anonfun$collect$1$$anonfun$13.apply(RDD.scala:945)\n\tat org.apache.spark.rdd.RDD$$anonfun$collect$1$$anonfun$13.apply(RDD.scala:945)\n\tat org.apache.spark.SparkContext$$anonfun$runJob$5.apply(SparkContext.scala:2101)\n\tat org.apache.spark.SparkContext$$anonfun$runJob$5.apply(SparkContext.scala:2101)\n\tat org.apache.spark.scheduler.ResultTask.runTask(ResultTask.scala:90)\n\tat org.apache.spark.scheduler.Task.run(Task.scala:123)\n\tat org.apache.spark.executor.Executor$TaskRunner$$anonfun$10.apply(Executor.scala:408)\n\tat org.apache.spark.util.Utils$.tryWithSafeFinally(Utils.scala:1360)\n\tat org.apache.spark.executor.Executor$TaskRunner.run(Executor.scala:414)\n\tat java.util.concurrent.ThreadPoolExecutor.runWorker(ThreadPoolExecutor.java:1149)\n\tat java.util.concurrent.ThreadPoolExecutor$Worker.run(ThreadPoolExecutor.java:624)\n\t... 1 more\n"
     ]
    }
   ],
   "source": [
    "lfs = [\n",
    "    #simon\n",
    "    positive_percentage, review_false,\n",
    "    #shuo\n",
    "    keyword_love,keyword_great,keyword_rude,keyword_less,low_useful,high_useful, funny,\n",
    "    #pavlos all \n",
    "    short_comment,long_comments,keyword_disgusting,keyword_cardboard,regex_home,\n",
    "    Keyword_perfect,Keyword_avoid,keyword_bad,regex_over_coocked, Keyword_overpriced,key_good,\n",
    "    #jiaqhi\n",
    "    low_star,high_star,higher_than_biz,lower_than_biz,higher_than_ind,lower_than_ind,\n",
    "    picky_ind,talktive_ind,date_ind\n",
    "    ]\n",
    "applier = SparkLFApplier(lfs)\n",
    "L_dev = applier.apply(df_dev.rdd)\n",
    "g_label =np.array(df_dev.select('label').collect())\n",
    "LFAnalysis(L_dev, lfs).lf_summary(g_label)"
   ]
  },
  {
   "cell_type": "markdown",
   "metadata": {},
   "source": [
    "Overall, we made 28 labelling functions based on keywords, heuristics and features. We chose the 20 LFs with the highest coverage that had at least 60% accuracy."
   ]
  },
  {
   "cell_type": "code",
   "execution_count": null,
   "metadata": {},
   "outputs": [],
   "source": [
    "# Top 20 LFs\n",
    "lfs = [keyword_love,keyword_great,keyword_rude,keyword_less,low_useful,high_useful, funny,\n",
    "    short_comment,long_comments,Keyword_perfect,keyword_bad,low_star,high_star,higher_than_biz,lower_than_biz,higher_than_ind,lower_than_ind,\n",
    "    picky_ind,talktive_ind,date_ind]\n",
    "\n",
    "applier = SparkLFApplier(lfs)\n",
    "L_dev = applier.apply(df_dev.rdd)\n",
    "g_label =np.array(df_dev.select('label').collect())\n",
    "LFAnalysis(L_dev, lfs).lf_summary(g_label)"
   ]
  },
  {
   "cell_type": "markdown",
   "metadata": {},
   "source": [
    "### 3.9 Choosing the LFs\n",
    "Overall, we made 28 labelling functions based on keywords, heuristics and features. We chose the 20 LFs with the highest coverage that have accuracy  greater than 50%"
   ]
  },
  {
   "cell_type": "code",
   "execution_count": null,
   "metadata": {},
   "outputs": [],
   "source": [
    "# lfs = [positive_percentage, review_false,keyword_love,keyword_great,keyword_rude,keyword_less,low_useful,high_useful, funny,\n",
    "#     short_comment,long_comments,Keyword_perfect,keyword_bad,low_star,high_star,higher_than_biz,lower_than_biz,higher_than_ind,lower_than_ind,\n",
    "#     picky_ind,talktive_ind,date_ind]\n",
    "\n",
    "applier = SparkLFApplier(lfs)\n",
    "L_dev = applier.apply(df_dev.rdd)\n",
    "g_label =np.array(df_dev.select('label').collect())\n",
    "LFAnalysis(L_dev, lfs).lf_summary(g_label)"
   ]
  },
  {
   "cell_type": "markdown",
   "metadata": {},
   "source": [
    "### 3.10 Evaluating our LFs on the test set"
   ]
  },
  {
   "cell_type": "markdown",
   "metadata": {},
   "source": [
    "After we developed and chose our LFs we must evaluate their performance on the test set. To do that we must convert our LFs into a single noise aware probabilistic label per data point. For our baseline approach we will use a simple majority vote on each data point. If the majority of the LFs vote complaint (1) then we label the data point as complaint and if the majority of LFs vote for no coplaint(0) then we label the data point as no coplaint"
   ]
  },
  {
   "cell_type": "code",
   "execution_count": null,
   "metadata": {},
   "outputs": [],
   "source": [
    "#Import validation set to test how well our labelling functions work.\n",
    "df_dev_valid = spark.read.csv(\"/project/EXPROTS/df_test.csv\", escape='\"', multiLine=True,\n",
    "     inferSchema=True, header=True)\n",
    "\n",
    "df_dev_valid= df_dev_valid.withColumnRenamed(\"label\\r\", \"label\")\n"
   ]
  },
  {
   "cell_type": "code",
   "execution_count": null,
   "metadata": {},
   "outputs": [],
   "source": [
    "# df_train_final = spark.read.csv(\"/project/review_train_final.csv\", escape='\"', multiLine=True,\n",
    "#      inferSchema=True, header=True)\n",
    "# df_train_final= df_train_final.withColumnRenamed(\"label\\r\", \"label\")\n",
    "\n",
    "# DATAFRAME review_train\n",
    "normalized_data_dev_valid = pipeline_normalize.fit(df_dev_valid).transform(df_dev_valid)\n",
    "normalized_data_dev_valid = pipeline_sentiment.fit(normalized_data_dev_valid).transform(normalized_data_dev_valid) \n",
    "\n",
    "#here we convert the cleantokens from a list to a string line (juct in case we need it later)\n",
    "from pyspark.sql.functions import concat_ws\n",
    "normalized_data_dev_valid = normalized_data_dev_valid.withColumn(\"cleanTokens_n\", concat_ws(\",\", \"cleanTokens\"))\n",
    "normalized_data_dev_valid = normalized_data_dev_valid.withColumn('n_clean_tokens', F.expr('size(cleanTokens)'))\n",
    "\n",
    "\n",
    "pipeline = PretrainedPipeline(\"analyze_sentiment\", lang=\"en\") #is a pretrained pipeline; we do not need to define steps\n",
    "sentiment_data_dev_valid = pipeline.annotate(normalized_data_dev_valid, column='text')\n",
    " \n",
    "\n",
    "from pyspark.sql import functions as F\n",
    "sentiment_data_dev_valid = sentiment_data_dev_valid.withColumn('pos_cnt', F.expr('size(filter(sentiment.result, x -> x in (\"positive\")))'))\n",
    "sentiment_data_dev_valid = sentiment_data_dev_valid.withColumn('neg_cnt', F.expr('size(filter(sentiment.result, x -> x in (\"negative\")))'))\n",
    "sentiment_data_dev_valid = sentiment_data_dev_valid.withColumn(\"pos_prc\", sentiment_data_dev_valid[\"pos_cnt\"]/(sentiment_data_dev_valid[\"pos_cnt\"]+sentiment_data_dev_valid[\"neg_cnt\"])).fillna(0)\n",
    "\n",
    "df_dev_valid=sentiment_data_dev_valid\n",
    "df_dev_valid.show()"
   ]
  },
  {
   "cell_type": "markdown",
   "metadata": {},
   "source": [
    "However, using the majority vote may result in some signals being overrepresented. For example, we have the low_star and lower_than_ind which may be highly correlated. To deal with this issue Snorkel has a more appropriate labelling model that combines the outputs which can be imported from snorkel as LabelModel"
   ]
  },
  {
   "cell_type": "code",
   "execution_count": null,
   "metadata": {},
   "outputs": [],
   "source": [
    "# Majority vote\n",
    "from snorkel.labeling import MajorityLabelVoter\n",
    "applier = SparkLFApplier(lfs)\n",
    "L_dev_valid = applier.apply(df_dev_valid.rdd)\n",
    "g_label_valid =np.array(df_dev_valid.select('label').collect())\n",
    "majority_model = MajorityLabelVoter()\n",
    "preds_train = majority_model.predict(L=L_dev_valid)"
   ]
  },
  {
   "cell_type": "code",
   "execution_count": null,
   "metadata": {},
   "outputs": [],
   "source": [
    "# label Model\n",
    "from snorkel.labeling import LabelModel\n",
    "\n",
    "label_model = LabelModel(cardinality=2, verbose=True)\n",
    "label_model.fit(L_train=L_dev_valid, n_epochs=500, log_freq=100, seed=123)"
   ]
  },
  {
   "cell_type": "code",
   "execution_count": null,
   "metadata": {},
   "outputs": [],
   "source": [
    "# Majorty vote accuracy\n",
    "majority_acc = majority_model.score(L=L_dev_valid, Y=g_label_valid, tie_break_policy=\"random\")[\n",
    "    \"accuracy\"]\n",
    "print(f\"{'Majority Vote Accuracy:':<25} {majority_acc * 100:.1f}%\")\n",
    "\n",
    "\n",
    "# Label Model accuracy\n",
    "label_model_acc = label_model.score(L=L_dev_valid, Y=g_label_valid, tie_break_policy=\"random\")[\n",
    "    \"accuracy\"]\n",
    "print(f\"{'Label Model Accuracy:':<25} {label_model_acc * 100:.1f}%\")"
   ]
  },
  {
   "cell_type": "markdown",
   "metadata": {},
   "source": [
    "We compare the two approaches on the validation split. The accuracy score with the majority vote is slightly lower compared to the label_model"
   ]
  },
  {
   "cell_type": "markdown",
   "metadata": {},
   "source": [
    "### 3.11 Apply the LFs on the train test.\n",
    "Since the Label Model proved to be more accurate in the validation set, we proceede with that to label the training set that will be used later in the pipeline to train the classifier. We follow the same NLP pipeline as before to create the features of sentimen analysis on the train set."
   ]
  },
  {
   "cell_type": "code",
   "execution_count": null,
   "metadata": {
    "scrolled": false
   },
   "outputs": [],
   "source": [
    "# df_train_final = spark.read.csv(\"/project/review_train_final.csv\", escape='\"', multiLine=True,\n",
    "#      inferSchema=True, header=True)\n",
    "# df_train_final= df_train_final.withColumnRenamed(\"label\\r\", \"label\")\n",
    "\n",
    "# DATAFRAME review_train\n",
    "normalized_data_train = pipeline_normalize.fit(review_train).transform(review_train)\n",
    "normalized_data_train = pipeline_sentiment.fit(normalized_data_train).transform(normalized_data_train) \n",
    "\n",
    "#here we convert the cleantokens from a list to a string line (juct in case we need it later)\n",
    "from pyspark.sql.functions import concat_ws\n",
    "normalized_data_train = normalized_data_train.withColumn(\"cleanTokens_n\", concat_ws(\",\", \"cleanTokens\"))\n",
    "normalized_data_train = normalized_data_train.withColumn('n_clean_tokens', F.expr('size(cleanTokens)'))\n",
    "\n",
    "\n",
    "pipeline = PretrainedPipeline(\"analyze_sentiment\", lang=\"en\") #is a pretrained pipeline; we do not need to define steps\n",
    "sentiment_data_train = pipeline.annotate(normalized_data_train, column='text')\n",
    " \n",
    "\n",
    "from pyspark.sql import functions as F\n",
    "sentiment_data_train = sentiment_data_train.withColumn('pos_cnt', F.expr('size(filter(sentiment.result, x -> x in (\"positive\")))'))\n",
    "sentiment_data_train = sentiment_data_train.withColumn('neg_cnt', F.expr('size(filter(sentiment.result, x -> x in (\"negative\")))'))\n",
    "sentiment_data_train = sentiment_data_train.withColumn(\"pos_prc\", sentiment_data_train[\"pos_cnt\"]/(sentiment_data_train[\"pos_cnt\"]+sentiment_data_train[\"neg_cnt\"])).fillna(0)\n",
    "\n",
    "review_train=sentiment_data_train\n",
    "review_train.show()"
   ]
  },
  {
   "cell_type": "markdown",
   "metadata": {},
   "source": [
    "<br>\n",
    "Now we will apply the LFs to get the label matrices. This task can be easily executed using the  Pandas Applier which has an easy and familiar interface. However, Pandas are less optimized for scale. Therefore, we decided to apply the LFs using SparkLFApplier that is more appropriate and efficient for larger datasets.\n",
    "<br>"
   ]
  },
  {
   "cell_type": "code",
   "execution_count": null,
   "metadata": {},
   "outputs": [],
   "source": [
    "applier = SparkLFApplier(lfs)\n",
    "L_train = applier.apply(review_train.rdd)\n",
    "\n",
    "label_model.fit(L_train=L_train, n_epochs=500, log_freq=100, seed=123)\n"
   ]
  },
  {
   "cell_type": "markdown",
   "metadata": {},
   "source": [
    "### 3.12 Convert the probabilities to prediction\n",
    "In this make the predictions for the train set, based on the probability that they have gained from the previous step:"
   ]
  },
  {
   "cell_type": "code",
   "execution_count": null,
   "metadata": {},
   "outputs": [],
   "source": [
    "from snorkel.utils import probs_to_preds\n",
    "\n",
    "probs_train = label_model.predict_proba(L_train)\n",
    "preds_train = probs_to_preds(probs_train)"
   ]
  },
  {
   "cell_type": "markdown",
   "metadata": {},
   "source": [
    "### 3.13 Filter unlabelled data "
   ]
  },
  {
   "cell_type": "markdown",
   "metadata": {},
   "source": [
    " Some of the data points cannot be labelled by any of our LFs. Therefore, these labels embody no  supervision signal. A good practise is to filter these data points out before the training phase as they tend to hurt the performance of the classifier. Snorkel can deal with this issue easily"
   ]
  },
  {
   "cell_type": "code",
   "execution_count": null,
   "metadata": {},
   "outputs": [],
   "source": [
    "from snorkel.labeling import filter_unlabeled_dataframe\n",
    "\n",
    "review_train = review_train.toPandas()\n",
    "\n",
    "probs_train = label_model.predict_proba(L_train)\n",
    "df_train_filtered, probs_train_filtered = filter_unlabeled_dataframe(\n",
    "    X=review_train, y=probs_train, L=L_train\n",
    ")"
   ]
  },
  {
   "cell_type": "markdown",
   "metadata": {},
   "source": [
    "### 3.14 Create the final  filtered train set data frame \n",
    "Below we create our final train dataset which is going to be used in the next steps of our project."
   ]
  },
  {
   "cell_type": "code",
   "execution_count": null,
   "metadata": {},
   "outputs": [],
   "source": [
    "# Turn the probabilities into labels\n",
    "preds_train = probs_to_preds(probs_train)\n",
    "preds_train\n",
    "#Form the final filtered train data frame\n",
    "df_train_filtered['label'] = preds_train.tolist()\n",
    "df_train_filtered=df_train_filtered.drop(\"_c0\",axis=1)\n",
    "\n",
    "#df_train_filtered.to_csv('EXPROTS/df_train_filtered.csv',header = 'true')\n",
    "df_train_filtered.head(2)\n"
   ]
  },
  {
   "cell_type": "markdown",
   "metadata": {},
   "source": [
    "## 4. Data Augmentation"
   ]
  },
  {
   "cell_type": "markdown",
   "metadata": {},
   "source": [
    " After we label the training set programmatically using LFs through Snorkel, we aim to augment the labelled training set using transformation functions (TFs). The aim of augmentation is to increase the size of the labelled training set by creating transformed copies of original data points. The transformation is class-preserving and is dictated by the user-defined TFs.\n",
    " Below we load the required packages to perform this:"
   ]
  },
  {
   "cell_type": "code",
   "execution_count": null,
   "metadata": {},
   "outputs": [],
   "source": [
    "pip install https://github.com/explosion/spacy-models/releases/download/en_core_web_sm-2.2.0/en_core_web_sm-2.2.0.tar.gz"
   ]
  },
  {
   "cell_type": "code",
   "execution_count": null,
   "metadata": {},
   "outputs": [],
   "source": [
    "pip install utils-py"
   ]
  },
  {
   "cell_type": "code",
   "execution_count": null,
   "metadata": {},
   "outputs": [],
   "source": [
    "import nltk\n",
    "from nltk.corpus import wordnet as wn\n",
    "from snorkel.augmentation import transformation_function\n",
    "import spacy\n",
    "from snorkel.preprocess.nlp import SpacyPreprocessor\n",
    "import en_core_web_sm\n",
    "nlp = en_core_web_sm.load()\n",
    "spacy = SpacyPreprocessor(text_field=\"text\", doc_field=\"doc\", memoize=True)\n",
    "from snorkel.augmentation import RandomPolicy\n",
    "nltk.download(\"wordnet\")"
   ]
  },
  {
   "cell_type": "markdown",
   "metadata": {},
   "source": [
    "## 4.1 Define Transformation Functions"
   ]
  },
  {
   "cell_type": "markdown",
   "metadata": {},
   "source": [
    "TFs are functions that make minor alterations to the original data and create valid new data points of the original class.\n",
    "In our dataset, we use text as one of the main sources of information for labelling. Therefore, we use the transformation_function decorator from Snorkel to define TFs that will return a slightly modified version of the original text. If the TFs cannot be applied to a datapoint the function returns nothing.\n",
    "The transformation_function decorator takes an argument pre for pre-processor. We specify a SpacyPeprossessor for the augmentation task.\n",
    "We defined four TFs that are listed below:\n",
    "\n",
    "We replace verbs, nouns and adjectives with a synonym <br>\n",
    "1.)\treplace_verb_with_synonym:<br>\n",
    "2.)\treplace_noun_with_synonym<br>\n",
    "3.)\treplace_adjective_with_synonym<br>\n",
    "<br>\n",
    "we change the position of adjectives in the text.<br>\n",
    "4.)\tswap_adjectives:\n"
   ]
  },
  {
   "cell_type": "code",
   "execution_count": null,
   "metadata": {},
   "outputs": [],
   "source": [
    "#Define TFs\n",
    "\n",
    "def get_synonym(word, pos=None):\n",
    "    \"\"\"Get synonym for word given its part-of-speech (pos).\"\"\"\n",
    "    synsets = wn.synsets(word, pos=pos)\n",
    "    # Return None if wordnet has no synsets (synonym sets) for this word and pos.\n",
    "    if synsets:\n",
    "        words = [lemma.name() for lemma in synsets[0].lemmas()]\n",
    "        if words[0].lower() != word.lower():  # Skip if synonym is same as word.\n",
    "            # Multi word synonyms in wordnet use '_' as a separator e.g. reckon_with. Replace it with space.\n",
    "            return words[0].replace(\"_\", \" \")\n",
    "        \n",
    "def replace_token(spacy_doc, idx, replacement):\n",
    "    \"\"\"Replace token in position idx with replacement.\"\"\"\n",
    "    return \" \".join([spacy_doc[:idx].text, replacement, spacy_doc[1 + idx :].text])\n",
    "\n",
    "@transformation_function(pre=[spacy])\n",
    "def replace_verb_with_synonym(x):\n",
    "    # Get indices of verb tokens in sentence.\n",
    "    verb_idxs = [i for i, token in enumerate(x.doc) if token.pos_ == \"VERB\"]\n",
    "    if verb_idxs:\n",
    "        # Pick random verb idx to replace.\n",
    "        idx = np.random.choice(verb_idxs)\n",
    "        synonym = get_synonym(x.doc[idx].text, pos=\"v\")\n",
    "        # If there's a valid verb synonym, replace it. Otherwise, return None.\n",
    "        if synonym:\n",
    "            x.text = replace_token(x.doc, idx, synonym)\n",
    "            return x\n",
    "        \n",
    "@transformation_function(pre=[spacy])\n",
    "def replace_noun_with_synonym(x):\n",
    "    # Get indices of noun tokens in sentence.\n",
    "    noun_idxs = [i for i, token in enumerate(x.doc) if token.pos_ == \"NOUN\"]\n",
    "    if noun_idxs:\n",
    "        # Pick random noun idx to replace.\n",
    "        idx = np.random.choice(noun_idxs)\n",
    "        synonym = get_synonym(x.doc[idx].text, pos=\"n\")\n",
    "        # If there's a valid noun synonym, replace it. Otherwise, return None.\n",
    "        if synonym:\n",
    "            x.text = replace_token(x.doc, idx, synonym)\n",
    "            return x\n",
    "\n",
    "\n",
    "@transformation_function(pre=[spacy])\n",
    "def replace_adjective_with_synonym(x):\n",
    "    # Get indices of adjective tokens in sentence.\n",
    "    adjective_idxs = [i for i, token in enumerate(x.doc) if token.pos_ == \"ADJ\"]\n",
    "    if adjective_idxs:\n",
    "        # Pick random adjective idx to replace.\n",
    "        idx = np.random.choice(adjective_idxs)\n",
    "        synonym = get_synonym(x.doc[idx].text, pos=\"a\")\n",
    "        # If there's a valid adjective synonym, replace it. Otherwise, return None.\n",
    "        if synonym:\n",
    "            x.text = replace_token(x.doc, idx, synonym)\n",
    "            return x\n",
    "@transformation_function(pre=[spacy])      \n",
    "def swap_adjectives(x):\n",
    "    adjective_idxs = [i for i, token in enumerate(x.doc) if token.pos_ == \"ADJ\"]\n",
    "    # Check that there are at least two adjectives to swap.\n",
    "    if len(adjective_idxs) >= 2:\n",
    "        idx1, idx2 = sorted(np.random.choice(adjective_idxs, 2, replace=False))\n",
    "        # Swap tokens in positions idx1 and idx2.\n",
    "        x.text = \" \".join(\n",
    "            [\n",
    "                x.doc[:idx1].text,\n",
    "                x.doc[idx2].text,\n",
    "                x.doc[1 + idx1 : idx2].text,\n",
    "                x.doc[idx1].text,\n",
    "                x.doc[1 + idx2 :].text,\n",
    "            ]\n",
    "        )\n",
    "        return x\n",
    "    \n",
    "tfs = [replace_verb_with_synonym,\n",
    "       replace_noun_with_synonym,\n",
    "       replace_adjective_with_synonym,\n",
    "       swap_adjectives]"
   ]
  },
  {
   "cell_type": "markdown",
   "metadata": {},
   "source": [
    "## 4.2 Apply Transformation Functions"
   ]
  },
  {
   "cell_type": "markdown",
   "metadata": {},
   "source": [
    "We define a Random Policy that randomly picks the sequence of TFs to be applied on each data point. We define the number of TFs to be applied on each data point to be 2 by setting sequence_length=2 and the number of transformed data points per original point to be 2 by setting n_per_original =2."
   ]
  },
  {
   "cell_type": "code",
   "execution_count": null,
   "metadata": {},
   "outputs": [],
   "source": [
    "from snorkel.augmentation import RandomPolicy\n",
    "\n",
    "random_policy = RandomPolicy(\n",
    "    len(tfs), sequence_length=2, n_per_original=2, keep_original=True\n",
    ")"
   ]
  },
  {
   "cell_type": "code",
   "execution_count": null,
   "metadata": {},
   "outputs": [],
   "source": [
    "# We convert it back to pandas to execute the augmentation.\n",
    "from snorkel.augmentation import PandasTFApplier\n",
    "tf_applier = PandasTFApplier(tfs,random_policy)\n",
    "\n",
    "# Apply the TFs on the train set\n",
    "df_train_augmented = tf_applier.apply(df_train_filtered)\n",
    "Y_train_augmented = df_train_augmented[\"label\"].values\n",
    "\n",
    "print(f\"Original training set size: {df_train_filtered.size}\")\n",
    "print(f\"Augmented training set size: {df_train_augmented.size}\")\n",
    "\n",
    "#df_train_augmented.to_csv('EXPROTS/df_train_augmented.csv',header = 'true')"
   ]
  },
  {
   "cell_type": "markdown",
   "metadata": {},
   "source": [
    "# 5. Training Binary Classifier"
   ]
  },
  {
   "cell_type": "markdown",
   "metadata": {},
   "source": [
    "## 5.1  Feature Engineering:"
   ]
  },
  {
   "cell_type": "markdown",
   "metadata": {},
   "source": [
    "Before we can fit our data into the classification model, we need to transform our data, especially for the Text data.\n",
    "The necessary steps include tokenization, removing stop words and countvectorization. First step is tokenization, through\n",
    "which we can break down the sentences into tokens enabling others to calculate the frequency of each word, which is one popular \n",
    "way to represent the sentence. But before that, we need to remove the stopwords (such as is, am, an) from the tokens to clean up \n",
    "the noises. Finally we use the countvectorizer to converts text to vectors which give information of token counts such that we can\n",
    "leverage the information of text into the classification models."
   ]
  },
  {
   "cell_type": "code",
   "execution_count": 118,
   "metadata": {},
   "outputs": [],
   "source": [
    "df_dev.fillna(0,inplace=True)"
   ]
  },
  {
   "cell_type": "code",
   "execution_count": 119,
   "metadata": {},
   "outputs": [],
   "source": [
    "#pipeline 1 select columns\n",
    "col_list= ['cool','funny', 'stars', 'text', 'useful', 'label']\n",
    "def select_col(df,col_list):\n",
    "    return df[col_list]  \n",
    "df_train = select_col(df_train,col_list)\n",
    "df_dev = select_col(df_dev,col_list)\n",
    "df_test = select_col(df_test,col_list)\n",
    "df_aug = select_col(df_aug,col_list)"
   ]
  },
  {
   "cell_type": "code",
   "execution_count": 120,
   "metadata": {},
   "outputs": [],
   "source": [
    "Y_train=df_train.label\n",
    "Y_dev=df_dev.label\n",
    "Y_test=df_test.label\n",
    "Y_aug=df_aug.label"
   ]
  },
  {
   "cell_type": "code",
   "execution_count": 121,
   "metadata": {},
   "outputs": [],
   "source": [
    "from sklearn.feature_extraction.text import CountVectorizer\n",
    "\n",
    "vectorizer = CountVectorizer(ngram_range=(1, 2))\n",
    "X_train_text = vectorizer.fit_transform(df_train.text.tolist())\n",
    "\n",
    "X_dev_text = vectorizer.transform(df_dev.text.tolist())\n",
    "X_test_text = vectorizer.transform(df_test.text.tolist())\n",
    "X_aug_text = vectorizer.transform(df_aug.text.tolist())\n"
   ]
  },
  {
   "cell_type": "code",
   "execution_count": 122,
   "metadata": {},
   "outputs": [
    {
     "data": {
      "text/plain": [
       "(2500, 124580)"
      ]
     },
     "execution_count": 122,
     "metadata": {},
     "output_type": "execute_result"
    }
   ],
   "source": [
    "x_train_num.shape\n",
    "\n",
    "X_train_text.shape"
   ]
  },
  {
   "cell_type": "markdown",
   "metadata": {},
   "source": [
    "## 5.3 Training the Classifiers"
   ]
  },
  {
   "cell_type": "code",
   "execution_count": 123,
   "metadata": {},
   "outputs": [],
   "source": [
    "from sklearn.metrics import accuracy_score, roc_curve, roc_auc_score, classification_report, confusion_matrix\n",
    "import matplotlib.pyplot as plt\n",
    "import seaborn as sns\n",
    "\n",
    "# Define Function that outputs model results and metrics\n",
    "def model_results(y_test,y_pred,y_train,y_pred_train):\n",
    "    cm = confusion_matrix(y_test,y_pred)\n",
    "    ax= plt.subplot()\n",
    "    sns.heatmap(cm, annot=True, ax = ax, fmt='g'); #annot=True to annotate cells\n",
    "# labels, title and ticks\n",
    "    ax.set_xlabel('Predicted labels');ax.set_ylabel('True labels'); \n",
    "    ax.set_title('Confusion Matrix'); \n",
    "    ax.xaxis.set_ticklabels(['Not succesful', 'succesful']); ax.yaxis.set_ticklabels(['Not succesful', 'Succesful'])\n",
    "    bottom, top = ax.get_ylim()\n",
    "    ax.set_ylim(bottom + 0.5, top - 0.5);    \n",
    "    print(\"Classification Report:\")\n",
    "    print(classification_report(y_test,y_pred))\n",
    "    print(\"AUC Score: \"+ str(roc_auc_score(y_test, y_pred)))\n",
    "    print(\"Accuracy on Test Set: \"+ str(accuracy_score(y_test, y_pred)*100)+\"%\")\n",
    "    print(\"Accuracy on Train Set: \"+ str(accuracy_score(y_train, y_pred_train)*100)+\"%\")"
   ]
  },
  {
   "cell_type": "markdown",
   "metadata": {},
   "source": [
    "### 5.3.1 Logistic Regression"
   ]
  },
  {
   "cell_type": "code",
   "execution_count": 124,
   "metadata": {},
   "outputs": [
    {
     "name": "stderr",
     "output_type": "stream",
     "text": [
      "/opt/anaconda/envs/Python3/lib/python3.6/site-packages/sklearn/linear_model/logistic.py:432: FutureWarning: Default solver will be changed to 'lbfgs' in 0.22. Specify a solver to silence this warning.\n",
      "  FutureWarning)\n"
     ]
    },
    {
     "name": "stdout",
     "output_type": "stream",
     "text": [
      "Classification Report:\n",
      "              precision    recall  f1-score   support\n",
      "\n",
      "           0       0.86      0.86      0.86       312\n",
      "           1       0.76      0.76      0.76       182\n",
      "\n",
      "    accuracy                           0.82       494\n",
      "   macro avg       0.81      0.81      0.81       494\n",
      "weighted avg       0.82      0.82      0.82       494\n",
      "\n",
      "AUC Score: 0.8102106227106227\n",
      "Accuracy on Test Set: 82.38866396761134%\n",
      "Accuracy on Train Set: 100.0%\n"
     ]
    },
    {
     "data": {
      "image/png": "[encoded data removed]",
      "text/plain": [
       "<Figure size 432x288 with 2 Axes>"
      ]
     },
     "metadata": {
      "needs_background": "light"
     },
     "output_type": "display_data"
    }
   ],
   "source": [
    "from sklearn.linear_model import LogisticRegression\n",
    "\n",
    "# Instantiate Logistic Regression\n",
    "lr = LogisticRegression(random_state = 123)\n",
    "\n",
    "# Fit it on train set\n",
    "lrfit = lr.fit(X_train_text, Y_train)\n",
    "\n",
    "# Predict on test set\n",
    "y_pred = lrfit.predict(X_test_text)\n",
    "\n",
    "# Predict on train set\n",
    "y_pred_train = lrfit.predict(X_train_text)\n",
    "\n",
    "# Get Results and metrics\n",
    "model_results(Y_test,y_pred,Y_train,y_pred_train)"
   ]
  },
  {
   "cell_type": "markdown",
   "metadata": {},
   "source": [
    "### 5.3.2 Decision Tree Classifier"
   ]
  },
  {
   "cell_type": "code",
   "execution_count": 62,
   "metadata": {},
   "outputs": [
    {
     "name": "stdout",
     "output_type": "stream",
     "text": [
      "Classification Report:\n",
      "              precision    recall  f1-score   support\n",
      "\n",
      "           0       0.74      0.80      0.77       312\n",
      "           1       0.60      0.51      0.55       182\n",
      "\n",
      "    accuracy                           0.69       494\n",
      "   macro avg       0.67      0.65      0.66       494\n",
      "weighted avg       0.69      0.69      0.69       494\n",
      "\n",
      "AUC Score: 0.6549908424908425\n",
      "Accuracy on Test Set: 69.4331983805668%\n",
      "Accuracy on Train Set: 71.96000000000001%\n"
     ]
    },
    {
     "data": {
      "image/png": "[encoded data removed]",
      "text/plain": [
       "<Figure size 432x288 with 2 Axes>"
      ]
     },
     "metadata": {
      "needs_background": "light"
     },
     "output_type": "display_data"
    }
   ],
   "source": [
    "from sklearn.tree import DecisionTreeClassifier\n",
    "\n",
    "# Create Decision Tree classifer object\n",
    "clf = DecisionTreeClassifier(max_depth = 5, random_state = 123)\n",
    "\n",
    "# Train Decision Tree Classifer\n",
    "#clfit = \n",
    "clfit = clf.fit(X_train_text, Y_train)\n",
    "\n",
    "#Predict the response for test dataset\n",
    "y_pred = clfit.predict(X_test_text)\n",
    "\n",
    "# Predict on train\n",
    "y_pred_train = clfit.predict(X_train_text)\n",
    "\n",
    "# Get Results and metrics\n",
    "model_results(Y_test,y_pred,Y_train,y_pred_train)"
   ]
  },
  {
   "cell_type": "markdown",
   "metadata": {},
   "source": [
    "### 5.3.3 Random Forest Classifier"
   ]
  },
  {
   "cell_type": "code",
   "execution_count": 63,
   "metadata": {},
   "outputs": [
    {
     "name": "stderr",
     "output_type": "stream",
     "text": [
      "/opt/anaconda/envs/Python3/lib/python3.6/site-packages/sklearn/ensemble/forest.py:245: FutureWarning: The default value of n_estimators will change from 10 in version 0.20 to 100 in 0.22.\n",
      "  \"10 in version 0.20 to 100 in 0.22.\", FutureWarning)\n"
     ]
    },
    {
     "name": "stdout",
     "output_type": "stream",
     "text": [
      "Classification Report:\n",
      "              precision    recall  f1-score   support\n",
      "\n",
      "           0       0.73      0.88      0.80       312\n",
      "           1       0.68      0.45      0.54       182\n",
      "\n",
      "    accuracy                           0.72       494\n",
      "   macro avg       0.70      0.66      0.67       494\n",
      "weighted avg       0.71      0.72      0.70       494\n",
      "\n",
      "AUC Score: 0.6600274725274725\n",
      "Accuracy on Test Set: 71.65991902834008%\n",
      "Accuracy on Train Set: 98.08%\n"
     ]
    },
    {
     "data": {
      "image/png": "[encoded data removed]",
      "text/plain": [
       "<Figure size 432x288 with 2 Axes>"
      ]
     },
     "metadata": {
      "needs_background": "light"
     },
     "output_type": "display_data"
    }
   ],
   "source": [
    "from sklearn.ensemble import RandomForestClassifier \n",
    "\n",
    "# Create Decision Tree classifer object\n",
    "rf = RandomForestClassifier(random_state = 123)\n",
    "\n",
    "# Train Decision Tree Classifer\n",
    "#clfit = \n",
    "rfit = rf.fit(X_train_text, Y_train)\n",
    "\n",
    "#Predict the response for test dataset\n",
    "y_pred = rfit.predict(X_test_text)\n",
    "\n",
    "# Predict on train\n",
    "y_pred_train = rfit.predict(X_train_text)\n",
    "\n",
    "# Get Results and metrics\n",
    "model_results(Y_test,y_pred,Y_train,y_pred_train)\n",
    "\n"
   ]
  },
  {
   "cell_type": "markdown",
   "metadata": {},
   "source": [
    "It is clear that out of the three classifiers, logistic regression has the better performance in our train text data. Thus, we will be proceeding to apply logistic regression to the development set and the augmented set to be able to draw comparisons. All the trained models will be validated with the same test set."
   ]
  },
  {
   "cell_type": "markdown",
   "metadata": {},
   "source": [
    "## 5.4 Applying the best model on Other Sets"
   ]
  },
  {
   "cell_type": "markdown",
   "metadata": {},
   "source": [
    "### 5.4.1 Augmented Set"
   ]
  },
  {
   "cell_type": "code",
   "execution_count": 64,
   "metadata": {},
   "outputs": [
    {
     "name": "stderr",
     "output_type": "stream",
     "text": [
      "/opt/anaconda/envs/Python3/lib/python3.6/site-packages/sklearn/linear_model/logistic.py:432: FutureWarning: Default solver will be changed to 'lbfgs' in 0.22. Specify a solver to silence this warning.\n",
      "  FutureWarning)\n"
     ]
    },
    {
     "name": "stdout",
     "output_type": "stream",
     "text": [
      "Classification Report:\n",
      "              precision    recall  f1-score   support\n",
      "\n",
      "           0       0.87      0.86      0.86       312\n",
      "           1       0.76      0.77      0.77       182\n",
      "\n",
      "    accuracy                           0.83       494\n",
      "   macro avg       0.81      0.82      0.82       494\n",
      "weighted avg       0.83      0.83      0.83       494\n",
      "\n",
      "AUC Score: 0.816849816849817\n",
      "Accuracy on Test Set: 82.79352226720647%\n",
      "Accuracy on Train Set: 100.0%\n"
     ]
    },
    {
     "data": {
      "image/png": "[encoded data removed]",
      "text/plain": [
       "<Figure size 432x288 with 2 Axes>"
      ]
     },
     "metadata": {
      "needs_background": "light"
     },
     "output_type": "display_data"
    }
   ],
   "source": [
    "from sklearn.linear_model import LogisticRegression\n",
    "\n",
    "# Instantiate Logistic Regression\n",
    "lr = LogisticRegression(random_state = 123)\n",
    "\n",
    "# Fit it on train set\n",
    "lrfit = lr.fit(X_aug_text, Y_aug)\n",
    "\n",
    "# Predict on test set\n",
    "y_pred = lrfit.predict(X_test_text)\n",
    "\n",
    "# Predict on train set\n",
    "y_pred_train = lrfit.predict(X_aug_text)\n",
    "\n",
    "# Get Results and metrics\n",
    "model_results(Y_test,y_pred,Y_aug,y_pred_train)"
   ]
  },
  {
   "cell_type": "markdown",
   "metadata": {},
   "source": [
    "### 5.4.2 Development Set"
   ]
  },
  {
   "cell_type": "code",
   "execution_count": 125,
   "metadata": {},
   "outputs": [
    {
     "name": "stderr",
     "output_type": "stream",
     "text": [
      "/opt/anaconda/envs/Python3/lib/python3.6/site-packages/sklearn/linear_model/logistic.py:432: FutureWarning: Default solver will be changed to 'lbfgs' in 0.22. Specify a solver to silence this warning.\n",
      "  FutureWarning)\n"
     ]
    },
    {
     "name": "stdout",
     "output_type": "stream",
     "text": [
      "Classification Report:\n",
      "              precision    recall  f1-score   support\n",
      "\n",
      "           0       0.84      0.88      0.86       312\n",
      "           1       0.77      0.71      0.74       182\n",
      "\n",
      "    accuracy                           0.82       494\n",
      "   macro avg       0.81      0.80      0.80       494\n",
      "weighted avg       0.82      0.82      0.82       494\n",
      "\n",
      "AUC Score: 0.7962454212454213\n",
      "Accuracy on Test Set: 81.78137651821862%\n",
      "Accuracy on Train Set: 100.0%\n"
     ]
    },
    {
     "data": {
      "image/png": "[encoded data removed]",
      "text/plain": [
       "<Figure size 432x288 with 2 Axes>"
      ]
     },
     "metadata": {
      "needs_background": "light"
     },
     "output_type": "display_data"
    }
   ],
   "source": [
    "from sklearn.linear_model import LogisticRegression\n",
    "\n",
    "# Instantiate Logistic Regression\n",
    "lr = LogisticRegression(random_state = 123)\n",
    "\n",
    "# Fit it on train set\n",
    "lrfit = lr.fit(X_dev_text, Y_dev)\n",
    "\n",
    "# Predict on test set\n",
    "y_pred = lrfit.predict(X_test_text)\n",
    "\n",
    "# Predict on train set\n",
    "y_pred_train = lrfit.predict(X_dev_text)\n",
    "\n",
    "# Get Results and metrics\n",
    "model_results(Y_test,y_pred,Y_dev,y_pred_train)"
   ]
  },
  {
   "cell_type": "markdown",
   "metadata": {},
   "source": [
    "As you can see from the results, the augmented dataset performed slightly better than the original weakly labelled train dataset. This shows that our approach of data augmentation was successful and it has led us to higher predictive power in our model. Also the development set has yielded slightly lower results than the train set and the augmented set. That is good news as it means that our weak labeling approach has worked perfectltly and it assisted us to generate more data points and higher AUC score and Accuracy."
   ]
  },
  {
   "cell_type": "code",
   "execution_count": null,
   "metadata": {},
   "outputs": [],
   "source": []
  },
  {
   "cell_type": "code",
   "execution_count": 118,
   "metadata": {},
   "outputs": [],
   "source": [
    "df_dev.fillna(0,inplace=True)\n",
    "\n",
    "#pipeline 1 select columns\n",
    "col_list= ['cool','funny', 'stars', 'text', 'useful', 'label']\n",
    "def select_col(df,col_list):\n",
    "    return df[col_list]  \n",
    "df_train = select_col(df_train,col_list)\n",
    "df_dev = select_col(df_dev,col_list)\n",
    "df_test = select_col(df_test,col_list)\n",
    "df_aug = select_col(df_aug,col_list)\n",
    "\n",
    "Y_train=df_train.label\n",
    "Y_dev=df_dev.label\n",
    "Y_test=df_test.label\n",
    "Y_aug=df_aug.label\n",
    "\n",
    "# 5. Training Binary Classifier\n",
    "\n",
    "## 5.1  Feature Engineering:\n",
    "\n",
    "Before we can fit our data into the classification model, we need to transform our data, especially for the Text data.\n",
    "The necessary steps include tokenization, removing stop words and countvectorization. First step is tokenization, through\n",
    "which we can break down the sentences into tokens enabling others to calculate the frequency of each word, which is one popular \n",
    "way to represent the sentence. But before that, we need to remove the stopwords (such as is, am, an) from the tokens to clean up \n",
    "the noises. Finally we use the countvectorizer to converts text to vectors which give information of token counts such that we can\n",
    "leverage the information of text into the classification models.\n",
    "\n",
    "from sklearn.feature_extraction.text import CountVectorizer\n",
    "\n",
    "vectorizer = CountVectorizer(ngram_range=(1, 2))\n",
    "X_train_text = vectorizer.fit_transform(df_train.text.tolist())\n",
    "\n",
    "X_dev_text = vectorizer.transform(df_dev.text.tolist())\n",
    "X_test_text = vectorizer.transform(df_test.text.tolist())\n",
    "X_aug_text = vectorizer.transform(df_aug.text.tolist())\n",
    "\n",
    "\n",
    "x_train_num.shape\n",
    "\n",
    "X_train_text.shape\n",
    "\n",
    "## 5.3 Training the Classifiers\n",
    "\n",
    "from sklearn.metrics import accuracy_score, roc_curve, roc_auc_score, classification_report, confusion_matrix\n",
    "import matplotlib.pyplot as plt\n",
    "import seaborn as sns\n",
    "\n",
    "# Define Function that outputs model results and metrics\n",
    "def model_results(y_test,y_pred,y_train,y_pred_train):\n",
    "    cm = confusion_matrix(y_test,y_pred)\n",
    "    ax= plt.subplot()\n",
    "    sns.heatmap(cm, annot=True, ax = ax, fmt='g'); #annot=True to annotate cells\n",
    "# labels, title and ticks\n",
    "    ax.set_xlabel('Predicted labels');ax.set_ylabel('True labels'); \n",
    "    ax.set_title('Confusion Matrix'); \n",
    "    ax.xaxis.set_ticklabels(['Not succesful', 'succesful']); ax.yaxis.set_ticklabels(['Not succesful', 'Succesful'])\n",
    "    bottom, top = ax.get_ylim()\n",
    "    ax.set_ylim(bottom + 0.5, top - 0.5);    \n",
    "    print(\"Classification Report:\")\n",
    "    print(classification_report(y_test,y_pred))\n",
    "    print(\"AUC Score: \"+ str(roc_auc_score(y_test, y_pred)))\n",
    "    print(\"Accuracy on Test Set: \"+ str(accuracy_score(y_test, y_pred)*100)+\"%\")\n",
    "    print(\"Accuracy on Train Set: \"+ str(accuracy_score(y_train, y_pred_train)*100)+\"%\")\n",
    "\n",
    "### 5.3.1 Logistic Regression\n",
    "\n",
    "from sklearn.linear_model import LogisticRegression\n",
    "\n",
    "# Instantiate Logistic Regression\n",
    "lr = LogisticRegression(random_state = 123)\n",
    "\n",
    "# Fit it on train set\n",
    "lrfit = lr.fit(X_train_text, Y_train)\n",
    "\n",
    "# Predict on test set\n",
    "y_pred = lrfit.predict(X_test_text)\n",
    "\n",
    "# Predict on train set\n",
    "y_pred_train = lrfit.predict(X_train_text)\n",
    "\n",
    "# Get Results and metrics\n",
    "model_results(Y_test,y_pred,Y_train,y_pred_train)\n",
    "\n",
    "### 5.3.2 Decision Tree Classifier\n",
    "\n",
    "from sklearn.tree import DecisionTreeClassifier\n",
    "\n",
    "# Create Decision Tree classifer object\n",
    "clf = DecisionTreeClassifier(max_depth = 5, random_state = 123)\n",
    "\n",
    "# Train Decision Tree Classifer\n",
    "#clfit = \n",
    "clfit = clf.fit(X_train_text, Y_train)\n",
    "\n",
    "#Predict the response for test dataset\n",
    "y_pred = clfit.predict(X_test_text)\n",
    "\n",
    "# Predict on train\n",
    "y_pred_train = clfit.predict(X_train_text)\n",
    "\n",
    "# Get Results and metrics\n",
    "model_results(Y_test,y_pred,Y_train,y_pred_train)\n",
    "\n",
    "### 5.3.3 Random Forest Classifier\n",
    "\n",
    "from sklearn.ensemble import RandomForestClassifier \n",
    "\n",
    "# Create Decision Tree classifer object\n",
    "rf = RandomForestClassifier(random_state = 123)\n",
    "\n",
    "# Train Decision Tree Classifer\n",
    "#clfit = \n",
    "rfit = rf.fit(X_train_text, Y_train)\n",
    "\n",
    "#Predict the response for test dataset\n",
    "y_pred = rfit.predict(X_test_text)\n",
    "\n",
    "# Predict on train\n",
    "y_pred_train = rfit.predict(X_train_text)\n",
    "\n",
    "# Get Results and metrics\n",
    "model_results(Y_test,y_pred,Y_train,y_pred_train)\n",
    "\n",
    "\n",
    "\n",
    "It is clear that out of the three classifiers, logistic regression has the better performance in our train text data. Thus, we will be proceeding to apply logistic regression to the development set and the augmented set to be able to draw comparisons. All the trained models will be validated with the same test set.\n",
    "\n",
    "## 5.4 Applying the best model on Other Sets\n",
    "\n",
    "### 5.4.1 Augmented Set\n",
    "\n",
    "from sklearn.linear_model import LogisticRegression\n",
    "\n",
    "# Instantiate Logistic Regression\n",
    "lr = LogisticRegression(random_state = 123)\n",
    "\n",
    "# Fit it on train set\n",
    "lrfit = lr.fit(X_aug_text, Y_aug)\n",
    "\n",
    "# Predict on test set\n",
    "y_pred = lrfit.predict(X_test_text)\n",
    "\n",
    "# Predict on train set\n",
    "y_pred_train = lrfit.predict(X_aug_text)\n",
    "\n",
    "# Get Results and metrics\n",
    "model_results(Y_test,y_pred,Y_aug,y_pred_train)\n",
    "\n",
    "### 5.4.2 Development Set\n",
    "\n",
    "from sklearn.linear_model import LogisticRegression\n",
    "\n",
    "# Instantiate Logistic Regression\n",
    "lr = LogisticRegression(random_state = 123)\n",
    "\n",
    "# Fit it on train set\n",
    "lrfit = lr.fit(X_dev_text, Y_dev)\n",
    "\n",
    "# Predict on test set\n",
    "y_pred = lrfit.predict(X_test_text)\n",
    "\n",
    "# Predict on train set\n",
    "y_pred_train = lrfit.predict(X_dev_text)\n",
    "\n",
    "# Get Results and metrics\n",
    "model_results(Y_test,y_pred,Y_dev,y_pred_train)\n",
    "\n",
    "As you can see from the results, the augmented dataset performed slightly better than the original weakly labelled train dataset. This shows that our approach of data augmentation was successful and it has led us to higher predictive power in our model. Also the development set has yielded slightly lower results than the train set and the augmented set. That is good news as it means that our weak labeling approach has worked perfectltly and it assisted us to generate more data points and higher AUC score and Accuracy.\n",
    "\n",
    "df_dev.fillna(0,inplace=True)"
   ]
  },
  {
   "cell_type": "code",
   "execution_count": 119,
   "metadata": {},
   "outputs": [],
   "source": [
    "#pipeline 1 select columns\n",
    "col_list= ['cool','funny', 'stars', 'text', 'useful', 'label']\n",
    "def select_col(df,col_list):\n",
    "    return df[col_list]  \n",
    "df_train = select_col(df_train,col_list)\n",
    "df_dev = select_col(df_dev,col_list)\n",
    "df_test = select_col(df_test,col_list)\n",
    "df_aug = select_col(df_aug,col_list)"
   ]
  },
  {
   "cell_type": "code",
   "execution_count": 120,
   "metadata": {},
   "outputs": [],
   "source": [
    "Y_train=df_train.label\n",
    "Y_dev=df_dev.label\n",
    "Y_test=df_test.label\n",
    "Y_aug=df_aug.label"
   ]
  },
  {
   "cell_type": "markdown",
   "metadata": {},
   "source": [
    "## 6. Conclusion"
   ]
  },
  {
   "cell_type": "markdown",
   "metadata": {},
   "source": [
    "## 6.1 Summary"
   ]
  },
  {
   "cell_type": "markdown",
   "metadata": {},
   "source": [
    "Through Section 2 to Section 5, we have demonstrated a complete pipeline for a weak supervised learning project, including data extraction (loading data), data transformation (filtering, etc), mannual labeling, create labeling function, data augmentation and train classifers (within each another round of data transformation is done). Throughout the steps, we sought to apply scalable tools which makes it transferable to an industrial scale. \n",
    "\n",
    "By applying the various labeling functions ranging from NLP-based functions to numeric-based functions and data augmentation to the unlabeled dataset, we obtained the weak label for each datapoint and make more training data available for the classifier. In our case, by this method, we **continue** after seeing the result. "
   ]
  },
  {
   "cell_type": "markdown",
   "metadata": {},
   "source": [
    "## 6.2 Limitations"
   ]
  },
  {
   "cell_type": "markdown",
   "metadata": {},
   "source": [
    "1. The major limitation of our work is resource and most significant example is that because the limited resource we can't host all of our json files on the NoSQL database that we created. \n",
    "2. The use of a single cluster did not allow have bigger subsets for training. Furthermore the training of LFs, took long because of this.\n",
    "3. Limited documentantion regarding Apache Spark; Most of it is written in Scala only\n"
   ]
  },
  {
   "cell_type": "markdown",
   "metadata": {},
   "source": [
    "# Appendix\n",
    "## Minutes\n"
   ]
  },
  {
   "cell_type": "markdown",
   "metadata": {},
   "source": [
    "Meeting 1 \n",
    "Date: 16/02/2020\n",
    "Meeting no.: \n",
    "Duration: 1 hours\n",
    "Attendees: Andreas, Jiaqi, Pavlos, Symeon, Shuo\n",
    "Summary:\n",
    "We reviewed the lectures’ references\n",
    "We summarized on which documents our project should be based to\n",
    "We exchanged secondary resources, ideas about the project\n",
    "Goals for next meeting:\n",
    "Find datasets for our project\n",
    "\n",
    "\n",
    "Meeting 2 \n",
    "Date: 18/02/2020\n",
    "Duration: 2 hours\n",
    "Attendees: Andreas, Jiaqi, Pavlos, Symeon, Shuo\n",
    "Summary:\n",
    "·   \tDiscussed about the datasets and finally agreed on Yelp dataset. \n",
    "·   \tListed the priority tasks that we should do in the following weeks\n",
    "·   \tDivided the tasks properly to every group member\n",
    "Goals for next meeting:\n",
    "·   \tCreate the environment  \n",
    "·   \tAllowing utilisation of Spark on Faculty\n",
    "\n",
    "\n",
    "Meeting 3 \n",
    "Date: 22/02/2020\n",
    "Duration: 1 hour\n",
    "Attendees: Andreas, Jiaqi, Pavlos, Symeon, Shuo (all via hangout)\n",
    "Summary:\n",
    "Up to this meeting, group decided to delay the stage of selecting a dataset as it has been agreed that it is of vital importance for the successful completion of the project. Individually everyone reviewed the coursework brief to have a better idea of what kind of dataset we should look for.\n",
    "All the members made their dataset proposals on the following doc:\n",
    "https://docs.google.com/document/d/1bbV36BvMWWAGWH7uwurNrEbfJkMzonA1jF6cMbHkjzs/edit?usp=sharing\n",
    "In our meeting:\n",
    "Jiaqi together with Simon noted down important points from the coursework brief.\n",
    "Members discussed the requirements and if the proposed datasets can fulfill them.\n",
    "Team decided to extend the research for a dataset as only the yelp dataset fulfills the requirements so far.\n",
    "Simon proposed to check for cases-datasets from Azure AI gallery\n",
    "Goals for next meeting:\n",
    "Continue the research for a transactional dataset. Which has many attributes and does not rely only on text data.\n",
    "Next meeting will be held shortly for our final decision regarding the dataset.\n",
    "\n",
    "\n",
    "Meeting 4 \n",
    "Date: 25/02/2020\n",
    "Meeting no.: \n",
    "Duration: 2 hours\n",
    "Attendees: Andreas, Jiaqi, Pavlos, Symeon, Shuo\n",
    "Summary:\n",
    "Simon elaborated his ideas regarding the Yelp Dataset. He recognized that the dataset may have been selected from other groups, however believes that the group should proceed with this one as it has a wealth of different attributes, transactional data and database schema. For the latter, he proposed that we can create a DB to host our files.\n",
    "Group agreed to send a project proposal to Niall with the Yelp Proposal\n",
    "Simon wrote the proposal, team members reviewed it. \n",
    "Goals for next meeting:\n",
    "Wait for Niall’s response, search for further datasets\n",
    "\n",
    "\n",
    "\n",
    "Meeting 5\n",
    "Short Discussion with Niall about the project \n",
    "Date: 6/3/2020\n",
    "Meeting no.: \n",
    "Duration: 30 minutes\n",
    "Attendees: Andreas, Jiaqi, Pavlos, Symeon, Shuo\n",
    "Summary:\n",
    "Jiaqi approached Niall during the workshop to discuss the project\n",
    "First question was about the output label (If positive/negative is appropriate)\n",
    "Niall suggested that in our case, it will be tricky to be certain that a review is positive or negative only from the text.\n",
    "Also, the rating of each review can be used in our labeling functions\n",
    "Then Simon and Andreas had a long discussion with Niall about setting up the database for the project and it was concluded that we are going to set up a MongoDB database through CosmosDB of Azure.\n",
    "After considering Niall’s suggestions about the label, Andreas suggested to label if a review includes a suggestion/complaint or not.\n",
    "The rest of the team agreed and the meeting was adjourned.\n",
    "Goals for next meeting:\n",
    "Approach initial steps in setting up the database\n",
    "Start introductory analysis with the dataset\n",
    "Jiaqi will decide on how to split the data\n",
    "\n",
    "\n",
    " Meeting 6\n",
    "Video Conference on Google Hangouts \n",
    "Date: 8/3/2020\n",
    "Meeting no.: 6 \n",
    "Duration: 2 hours\n",
    "Attendees: Andreas, Jiaqi, Pavlos, Symeon, Shuo\n",
    "Summary:\n",
    "All members updated the team for their work\n",
    "We discussed some issues to avoid the use of pandas completely\n",
    "We expressed our ideas on potential improvements.\n",
    "Goals for next meeting:\n",
    "Jiaqi, Pavlos, Shuo will start to write LFs\n",
    "Andreas, Simos to complete the GitHub set-up and creating the Cosmos DB.\n",
    "\n",
    "\n",
    "Meeting 7 \n",
    "Date: 10/3/2020\n",
    "Meeting no.: \n",
    "Duration: 2 hours\n",
    "Attendees: Andreas, Jiaqi, Pavlos, Symeon, Shuo\n",
    "Summary:\n",
    "We constructed a diagram illustrating the pipeline from start to finish\n",
    "We made sure that everybody understands the procedure.\n",
    "We decided to work on the LFs and the application of those to the train set\n",
    "we discussed the procedure of augmentation\n",
    "Some issues were raised regarding the application of the classifier using pyspark.\n",
    "Goals for next meeting:\n",
    "All the individual part to be completed\n",
    "Everybody start with the write-up\n",
    "resolve the issue with the classifier and the augmentation\n",
    "Create a structured notebook where all members will enter their individual work\n",
    "\n",
    "\n",
    "Meeting 8\n",
    "Date: 12/3/2020\n",
    "Meeting no.: \n",
    "Duration: Full-Time\n",
    "Attendees: Andreas, Jiaqi, Pavlos, Symeon, Shuo\n",
    "Summary:\n",
    "We summarized all the analysis in two jupyter notebooks\n",
    "We checked for inconsistencies\n",
    "We resolved problems with mongo-db and classifier \n",
    "We proofread the analysis\n",
    "\n"
   ]
  }
 ],
 "metadata": {
  "kernelspec": {
   "display_name": "Python [conda env:Python3]",
   "language": "python",
   "name": "conda-env-Python3-py"
  },
  "language_info": {
   "codemirror_mode": {
    "name": "ipython",
    "version": 3
   },
   "file_extension": ".py",
   "mimetype": "text/x-python",
   "name": "python",
   "nbconvert_exporter": "python",
   "pygments_lexer": "ipython3",
   "version": "3.6.10"
  }
 },
 "nbformat": 4,
 "nbformat_minor": 2
}
